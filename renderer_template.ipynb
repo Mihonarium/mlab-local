{
 "cells": [
  {
   "cell_type": "markdown",
   "metadata": {
    "id": "6zXCW1PL4fav",
    "pycharm": {
     "name": "#%% md\n"
    }
   },
   "source": [
    "### Introduction"
   ]
  },
  {
   "cell_type": "markdown",
   "metadata": {
    "id": "_UHAO2mcuL89",
    "pycharm": {
     "name": "#%% md\n"
    }
   },
   "source": [
    "To warm up in PyTorch, we're making a pretty project with lots of batched linear operations: Triangle Rendering!"
   ]
  },
  {
   "cell_type": "markdown",
   "metadata": {
    "id": "YpJwBawLuh8r",
    "pycharm": {
     "name": "#%% md\n"
    }
   },
   "source": [
    "We'll actually start with doing a bit of rendering from 2d to 1d to simplify (instead of 3d to 2d). After that, we're going to render a binary 'is there a triangle at this pixel?' for one triangle, render all the triangles at once in a batch, and then combine them, and then more than just binary 'is there a triangle?'.\n",
    "\n",
    "\n",
    "Here's our model of the world: the \"camera\" is a point with a grid of lines pointing out of it - each of these corresponds to one pixel in the camera's image. Out there are a bunch of triangles, each specified by three points. In order to find the color of each pixel, we'll check whether the line coming from the camera intersects with the area of any of the the triangles. Then we can color the pixel based on some information about that triangle that the line hit."
   ]
  },
  {
   "cell_type": "markdown",
   "metadata": {
    "pycharm": {
     "name": "#%% md\n"
    }
   },
   "source": [
    "<img src=\"../../.images/ray_tracing.png\" width=\"400\" />"
   ]
  },
  {
   "cell_type": "code",
   "execution_count": 1,
   "metadata": {},
   "outputs": [
    {
     "name": "stdout",
     "output_type": "stream",
     "text": [
      "Collecting gin-config\n",
      "  Cloning https://github.com/google/gin-config.git (to revision e518c4ec7755a3e5da973e894ab23cc80c6665ed) to /tmp/pip-install-ouf3w2ao/gin-config_74a64207db1e4edea97d2c7c8e3f01d3\n",
      "  Running command git clone --filter=blob:none --quiet https://github.com/google/gin-config.git /tmp/pip-install-ouf3w2ao/gin-config_74a64207db1e4edea97d2c7c8e3f01d3\n",
      "  Running command git rev-parse -q --verify 'sha^e518c4ec7755a3e5da973e894ab23cc80c6665ed'\n",
      "  Running command git fetch -q https://github.com/google/gin-config.git e518c4ec7755a3e5da973e894ab23cc80c6665ed\n",
      "  Running command git checkout -q e518c4ec7755a3e5da973e894ab23cc80c6665ed\n",
      "  Resolved https://github.com/google/gin-config.git to commit e518c4ec7755a3e5da973e894ab23cc80c6665ed\n",
      "  Preparing metadata (setup.py) ... \u001b[?25ldone\n",
      "\u001b[?25hCollecting jupyterlab==3.2.5\n",
      "  Downloading jupyterlab-3.2.5-py3-none-any.whl (8.6 MB)\n",
      "\u001b[2K     \u001b[90m━━━━━━━━━━━━━━━━━━━━━━━━━━━━━━━━━━━━━━━━\u001b[0m \u001b[32m8.6/8.6 MB\u001b[0m \u001b[31m87.2 MB/s\u001b[0m eta \u001b[36m0:00:00\u001b[0m:00:01\u001b[0m00:01\u001b[0m\n",
      "\u001b[?25hRequirement already satisfied: torch in /usr/local/lib/python3.9/dist-packages (from -r ../../requirements.txt (line 2)) (1.12.0+cu116)\n",
      "Collecting torchtyping\n",
      "  Downloading torchtyping-0.1.4-py3-none-any.whl (17 kB)\n",
      "Collecting einops\n",
      "  Downloading einops-0.6.0-py3-none-any.whl (41 kB)\n",
      "\u001b[2K     \u001b[90m━━━━━━━━━━━━━━━━━━━━━━━━━━━━━━━━━━━━━━━━\u001b[0m \u001b[32m41.6/41.6 kB\u001b[0m \u001b[31m12.1 MB/s\u001b[0m eta \u001b[36m0:00:00\u001b[0m\n",
      "\u001b[?25hRequirement already satisfied: torchvision in /usr/local/lib/python3.9/dist-packages (from -r ../../requirements.txt (line 5)) (0.13.0+cu116)\n",
      "Collecting torchtext\n",
      "  Downloading torchtext-0.14.0-cp39-cp39-manylinux1_x86_64.whl (2.0 MB)\n",
      "\u001b[2K     \u001b[90m━━━━━━━━━━━━━━━━━━━━━━━━━━━━━━━━━━━━━━━━\u001b[0m \u001b[32m2.0/2.0 MB\u001b[0m \u001b[31m90.5 MB/s\u001b[0m eta \u001b[36m0:00:00\u001b[0m\n",
      "\u001b[?25hRequirement already satisfied: numpy in /usr/local/lib/python3.9/dist-packages (from -r ../../requirements.txt (line 7)) (1.23.1)\n",
      "Requirement already satisfied: transformers in /usr/local/lib/python3.9/dist-packages (from -r ../../requirements.txt (line 8)) (4.20.1)\n",
      "Requirement already satisfied: sentencepiece in /usr/local/lib/python3.9/dist-packages (from -r ../../requirements.txt (line 9)) (0.1.96)\n",
      "Requirement already satisfied: unidecode in /usr/lib/python3/dist-packages (from -r ../../requirements.txt (line 10)) (1.1.1)\n",
      "Collecting jupyter_kernel_gateway\n",
      "  Downloading jupyter_kernel_gateway-2.5.1-py3-none-any.whl (46 kB)\n",
      "\u001b[2K     \u001b[90m━━━━━━━━━━━━━━━━━━━━━━━━━━━━━━━━━━━━━━━━\u001b[0m \u001b[32m46.9/46.9 kB\u001b[0m \u001b[31m13.1 MB/s\u001b[0m eta \u001b[36m0:00:00\u001b[0m\n",
      "\u001b[?25hRequirement already satisfied: ipykernel in /usr/local/lib/python3.9/dist-packages (from -r ../../requirements.txt (line 12)) (6.15.1)\n",
      "Collecting gin-config\n",
      "  Downloading gin_config-0.5.0-py3-none-any.whl (61 kB)\n",
      "\u001b[2K     \u001b[90m━━━━━━━━━━━━━━━━━━━━━━━━━━━━━━━━━━━━━━━━\u001b[0m \u001b[32m61.3/61.3 kB\u001b[0m \u001b[31m17.5 MB/s\u001b[0m eta \u001b[36m0:00:00\u001b[0m\n",
      "\u001b[?25hCollecting web-pdb\n",
      "  Downloading web_pdb-1.5.7-py2.py3-none-any.whl (206 kB)\n",
      "\u001b[2K     \u001b[90m━━━━━━━━━━━━━━━━━━━━━━━━━━━━━━━━━━━━━━\u001b[0m \u001b[32m206.7/206.7 kB\u001b[0m \u001b[31m46.9 MB/s\u001b[0m eta \u001b[36m0:00:00\u001b[0m\n",
      "\u001b[?25hCollecting pytest\n",
      "  Downloading pytest-7.2.0-py3-none-any.whl (316 kB)\n",
      "\u001b[2K     \u001b[90m━━━━━━━━━━━━━━━━━━━━━━━━━━━━━━━━━━━━━━\u001b[0m \u001b[32m316.8/316.8 kB\u001b[0m \u001b[31m54.8 MB/s\u001b[0m eta \u001b[36m0:00:00\u001b[0m\n",
      "\u001b[?25hRequirement already satisfied: matplotlib in /usr/local/lib/python3.9/dist-packages (from -r ../../requirements.txt (line 16)) (3.5.2)\n",
      "Collecting plotly\n",
      "  Downloading plotly-5.11.0-py2.py3-none-any.whl (15.3 MB)\n",
      "\u001b[2K     \u001b[90m━━━━━━━━━━━━━━━━━━━━━━━━━━━━━━━━━━━━━━━━\u001b[0m \u001b[32m15.3/15.3 MB\u001b[0m \u001b[31m72.0 MB/s\u001b[0m eta \u001b[36m0:00:00\u001b[0m00:01\u001b[0m00:01\u001b[0m\n",
      "\u001b[?25hCollecting sklearn\n",
      "  Downloading sklearn-0.0.post1.tar.gz (3.6 kB)\n",
      "  Preparing metadata (setup.py) ... \u001b[?25ldone\n",
      "\u001b[?25hCollecting black\n",
      "  Downloading black-22.10.0-cp39-cp39-manylinux_2_17_x86_64.manylinux2014_x86_64.whl (1.5 MB)\n",
      "\u001b[2K     \u001b[90m━━━━━━━━━━━━━━━━━━━━━━━━━━━━━━━━━━━━━━━━\u001b[0m \u001b[32m1.5/1.5 MB\u001b[0m \u001b[31m91.6 MB/s\u001b[0m eta \u001b[36m0:00:00\u001b[0m\n",
      "\u001b[?25hCollecting comet_ml\n",
      "  Downloading comet_ml-3.31.18-py3-none-any.whl (441 kB)\n",
      "\u001b[2K     \u001b[90m━━━━━━━━━━━━━━━━━━━━━━━━━━━━━━━━━━━━━━\u001b[0m \u001b[32m441.8/441.8 kB\u001b[0m \u001b[31m64.6 MB/s\u001b[0m eta \u001b[36m0:00:00\u001b[0m\n",
      "\u001b[?25hCollecting mediapy\n",
      "  Downloading mediapy-1.1.2-py3-none-any.whl (24 kB)\n",
      "Collecting numpy-stl\n",
      "  Downloading numpy_stl-2.17.1-py3-none-any.whl (18 kB)\n",
      "Collecting traitlets==5.1.1\n",
      "  Downloading traitlets-5.1.1-py3-none-any.whl (102 kB)\n",
      "\u001b[2K     \u001b[90m━━━━━━━━━━━━━━━━━━━━━━━━━━━━━━━━━━━━━━\u001b[0m \u001b[32m102.0/102.0 kB\u001b[0m \u001b[31m28.6 MB/s\u001b[0m eta \u001b[36m0:00:00\u001b[0m\n",
      "\u001b[?25hRequirement already satisfied: packaging in /usr/local/lib/python3.9/dist-packages (from jupyterlab==3.2.5->-r ../../requirements.txt (line 1)) (21.3)\n",
      "Requirement already satisfied: jupyterlab-server~=2.3 in /usr/local/lib/python3.9/dist-packages (from jupyterlab==3.2.5->-r ../../requirements.txt (line 1)) (2.15.0)\n",
      "Requirement already satisfied: ipython in /usr/local/lib/python3.9/dist-packages (from jupyterlab==3.2.5->-r ../../requirements.txt (line 1)) (8.4.0)\n",
      "Requirement already satisfied: jupyter-server~=1.4 in /usr/local/lib/python3.9/dist-packages (from jupyterlab==3.2.5->-r ../../requirements.txt (line 1)) (1.18.1)\n",
      "Requirement already satisfied: tornado>=6.1.0 in /usr/local/lib/python3.9/dist-packages (from jupyterlab==3.2.5->-r ../../requirements.txt (line 1)) (6.2)\n",
      "Requirement already satisfied: nbclassic~=0.2 in /usr/local/lib/python3.9/dist-packages (from jupyterlab==3.2.5->-r ../../requirements.txt (line 1)) (0.4.3)\n",
      "Requirement already satisfied: jupyter-core in /usr/local/lib/python3.9/dist-packages (from jupyterlab==3.2.5->-r ../../requirements.txt (line 1)) (4.11.1)\n",
      "Requirement already satisfied: jinja2>=2.1 in /usr/local/lib/python3.9/dist-packages (from jupyterlab==3.2.5->-r ../../requirements.txt (line 1)) (3.1.2)\n",
      "Requirement already satisfied: typing-extensions in /usr/local/lib/python3.9/dist-packages (from torch->-r ../../requirements.txt (line 2)) (4.3.0)\n",
      "Collecting typeguard>=2.11.1\n",
      "  Downloading typeguard-2.13.3-py3-none-any.whl (17 kB)\n",
      "Requirement already satisfied: pillow!=8.3.*,>=5.3.0 in /usr/local/lib/python3.9/dist-packages (from torchvision->-r ../../requirements.txt (line 5)) (9.2.0)\n",
      "Requirement already satisfied: requests in /usr/local/lib/python3.9/dist-packages (from torchvision->-r ../../requirements.txt (line 5)) (2.28.1)\n",
      "Collecting torchtext\n",
      "  Downloading torchtext-0.13.1-cp39-cp39-manylinux1_x86_64.whl (1.9 MB)\n",
      "\u001b[2K     \u001b[90m━━━━━━━━━━━━━━━━━━━━━━━━━━━━━━━━━━━━━━━━\u001b[0m \u001b[32m1.9/1.9 MB\u001b[0m \u001b[31m92.9 MB/s\u001b[0m eta \u001b[36m0:00:00\u001b[0m\n",
      "\u001b[?25h  Downloading torchtext-0.13.0-cp39-cp39-manylinux1_x86_64.whl (1.9 MB)\n",
      "\u001b[2K     \u001b[90m━━━━━━━━━━━━━━━━━━━━━━━━━━━━━━━━━━━━━━━━\u001b[0m \u001b[32m1.9/1.9 MB\u001b[0m \u001b[31m100.2 MB/s\u001b[0m eta \u001b[36m0:00:00\u001b[0m\n",
      "\u001b[?25hRequirement already satisfied: tqdm in /usr/local/lib/python3.9/dist-packages (from torchtext->-r ../../requirements.txt (line 6)) (4.64.0)\n",
      "Requirement already satisfied: tokenizers!=0.11.3,<0.13,>=0.11.1 in /usr/local/lib/python3.9/dist-packages (from transformers->-r ../../requirements.txt (line 8)) (0.12.1)\n",
      "Requirement already satisfied: huggingface-hub<1.0,>=0.1.0 in /usr/local/lib/python3.9/dist-packages (from transformers->-r ../../requirements.txt (line 8)) (0.8.1)\n",
      "Requirement already satisfied: regex!=2019.12.17 in /usr/local/lib/python3.9/dist-packages (from transformers->-r ../../requirements.txt (line 8)) (2022.7.9)\n",
      "Requirement already satisfied: filelock in /usr/local/lib/python3.9/dist-packages (from transformers->-r ../../requirements.txt (line 8)) (3.7.1)\n",
      "Requirement already satisfied: pyyaml>=5.1 in /usr/local/lib/python3.9/dist-packages (from transformers->-r ../../requirements.txt (line 8)) (5.4.1)\n",
      "Requirement already satisfied: notebook<7.0,>=5.7.6 in /usr/local/lib/python3.9/dist-packages (from jupyter_kernel_gateway->-r ../../requirements.txt (line 11)) (6.4.12)\n",
      "Requirement already satisfied: jupyter-client>=5.2.0 in /usr/local/lib/python3.9/dist-packages (from jupyter_kernel_gateway->-r ../../requirements.txt (line 11)) (7.3.4)\n",
      "Requirement already satisfied: debugpy>=1.0 in /usr/local/lib/python3.9/dist-packages (from ipykernel->-r ../../requirements.txt (line 12)) (1.6.2)\n",
      "Requirement already satisfied: matplotlib-inline>=0.1 in /usr/local/lib/python3.9/dist-packages (from ipykernel->-r ../../requirements.txt (line 12)) (0.1.3)\n",
      "Requirement already satisfied: pyzmq>=17 in /usr/local/lib/python3.9/dist-packages (from ipykernel->-r ../../requirements.txt (line 12)) (23.2.0)\n",
      "Requirement already satisfied: psutil in /usr/local/lib/python3.9/dist-packages (from ipykernel->-r ../../requirements.txt (line 12)) (5.9.1)\n",
      "Requirement already satisfied: nest-asyncio in /usr/local/lib/python3.9/dist-packages (from ipykernel->-r ../../requirements.txt (line 12)) (1.5.5)\n",
      "Collecting asyncore-wsgi>=0.0.4\n",
      "  Downloading asyncore_wsgi-0.0.10-py2.py3-none-any.whl (10 kB)\n",
      "Collecting bottle==0.12.19\n",
      "  Downloading bottle-0.12.19-py3-none-any.whl (89 kB)\n",
      "\u001b[2K     \u001b[90m━━━━━━━━━━━━━━━━━━━━━━━━━━━━━━━━━━━━━━━━\u001b[0m \u001b[32m89.6/89.6 kB\u001b[0m \u001b[31m22.6 MB/s\u001b[0m eta \u001b[36m0:00:00\u001b[0m\n",
      "\u001b[?25hCollecting attrs>=19.2.0\n",
      "  Downloading attrs-22.1.0-py2.py3-none-any.whl (58 kB)\n",
      "\u001b[2K     \u001b[90m━━━━━━━━━━━━━━━━━━━━━━━━━━━━━━━━━━━━━━━━\u001b[0m \u001b[32m58.8/58.8 kB\u001b[0m \u001b[31m15.6 MB/s\u001b[0m eta \u001b[36m0:00:00\u001b[0m\n",
      "\u001b[?25hCollecting pluggy<2.0,>=0.12\n",
      "  Downloading pluggy-1.0.0-py2.py3-none-any.whl (13 kB)\n",
      "Collecting iniconfig\n",
      "  Downloading iniconfig-1.1.1-py2.py3-none-any.whl (5.0 kB)\n",
      "Collecting tomli>=1.0.0\n",
      "  Downloading tomli-2.0.1-py3-none-any.whl (12 kB)\n",
      "Collecting exceptiongroup>=1.0.0rc8\n",
      "  Downloading exceptiongroup-1.0.4-py3-none-any.whl (14 kB)\n",
      "Requirement already satisfied: fonttools>=4.22.0 in /usr/local/lib/python3.9/dist-packages (from matplotlib->-r ../../requirements.txt (line 16)) (4.34.4)\n",
      "Requirement already satisfied: pyparsing>=2.2.1 in /usr/local/lib/python3.9/dist-packages (from matplotlib->-r ../../requirements.txt (line 16)) (3.0.9)\n",
      "Requirement already satisfied: kiwisolver>=1.0.1 in /usr/local/lib/python3.9/dist-packages (from matplotlib->-r ../../requirements.txt (line 16)) (1.4.3)\n",
      "Requirement already satisfied: cycler>=0.10 in /usr/local/lib/python3.9/dist-packages (from matplotlib->-r ../../requirements.txt (line 16)) (0.11.0)\n",
      "Requirement already satisfied: python-dateutil>=2.7 in /usr/local/lib/python3.9/dist-packages (from matplotlib->-r ../../requirements.txt (line 16)) (2.8.2)\n",
      "Collecting tenacity>=6.2.0\n",
      "  Downloading tenacity-8.1.0-py3-none-any.whl (23 kB)\n",
      "Collecting pathspec>=0.9.0\n",
      "  Downloading pathspec-0.10.2-py3-none-any.whl (28 kB)\n",
      "Collecting mypy-extensions>=0.4.3\n",
      "  Downloading mypy_extensions-0.4.3-py2.py3-none-any.whl (4.5 kB)\n",
      "Collecting platformdirs>=2\n",
      "  Downloading platformdirs-2.5.4-py3-none-any.whl (14 kB)\n",
      "Requirement already satisfied: click>=8.0.0 in /usr/local/lib/python3.9/dist-packages (from black->-r ../../requirements.txt (line 19)) (8.1.3)\n",
      "Collecting dulwich!=0.20.33,>=0.20.6\n",
      "  Downloading dulwich-0.20.50-cp39-cp39-manylinux_2_17_x86_64.manylinux2014_x86_64.whl (499 kB)\n",
      "\u001b[2K     \u001b[90m━━━━━━━━━━━━━━━━━━━━━━━━━━━━━━━━━━━━━━\u001b[0m \u001b[32m499.4/499.4 kB\u001b[0m \u001b[31m66.4 MB/s\u001b[0m eta \u001b[36m0:00:00\u001b[0m\n",
      "\u001b[?25hRequirement already satisfied: jsonschema!=3.1.0,>=2.6.0 in /usr/local/lib/python3.9/dist-packages (from comet_ml->-r ../../requirements.txt (line 20)) (4.7.2)\n",
      "Collecting wurlitzer>=1.0.2\n",
      "  Downloading wurlitzer-3.0.2-py3-none-any.whl (7.3 kB)\n",
      "Requirement already satisfied: six in /usr/lib/python3/dist-packages (from comet_ml->-r ../../requirements.txt (line 20)) (1.14.0)\n",
      "Collecting semantic-version>=2.8.0\n",
      "  Downloading semantic_version-2.10.0-py2.py3-none-any.whl (15 kB)\n",
      "Requirement already satisfied: wrapt>=1.11.2 in /usr/local/lib/python3.9/dist-packages (from comet_ml->-r ../../requirements.txt (line 20)) (1.14.1)\n",
      "Collecting simplejson\n",
      "  Downloading simplejson-3.18.0-cp39-cp39-manylinux_2_5_x86_64.manylinux1_x86_64.manylinux_2_12_x86_64.manylinux2010_x86_64.whl (142 kB)\n",
      "\u001b[2K     \u001b[90m━━━━━━━━━━━━━━━━━━━━━━━━━━━━━━━━━━━━━━\u001b[0m \u001b[32m142.5/142.5 kB\u001b[0m \u001b[31m33.5 MB/s\u001b[0m eta \u001b[36m0:00:00\u001b[0m\n",
      "\u001b[?25hRequirement already satisfied: websocket-client<1.4.0,>=0.55.0 in /usr/local/lib/python3.9/dist-packages (from comet_ml->-r ../../requirements.txt (line 20)) (0.57.0)\n",
      "Requirement already satisfied: requests-toolbelt>=0.8.0 in /usr/local/lib/python3.9/dist-packages (from comet_ml->-r ../../requirements.txt (line 20)) (0.9.1)\n",
      "Collecting everett[ini]>=1.0.1\n",
      "  Downloading everett-3.1.0-py2.py3-none-any.whl (35 kB)\n",
      "Collecting sentry-sdk>=1.1.0\n",
      "  Downloading sentry_sdk-1.11.0-py2.py3-none-any.whl (168 kB)\n",
      "\u001b[2K     \u001b[90m━━━━━━━━━━━━━━━━━━━━━━━━━━━━━━━━━━━━━━\u001b[0m \u001b[32m168.9/168.9 kB\u001b[0m \u001b[31m40.2 MB/s\u001b[0m eta \u001b[36m0:00:00\u001b[0m\n",
      "\u001b[?25hRequirement already satisfied: python-utils>=1.6.2 in /usr/local/lib/python3.9/dist-packages (from numpy-stl->-r ../../requirements.txt (line 22)) (3.3.3)\n",
      "Requirement already satisfied: urllib3>=1.25 in /usr/local/lib/python3.9/dist-packages (from dulwich!=0.20.33,>=0.20.6->comet_ml->-r ../../requirements.txt (line 20)) (1.26.10)\n",
      "Collecting configobj\n",
      "  Downloading configobj-5.0.6.tar.gz (33 kB)\n",
      "  Preparing metadata (setup.py) ... \u001b[?25ldone\n",
      "\u001b[?25hRequirement already satisfied: pexpect>4.3 in /usr/local/lib/python3.9/dist-packages (from ipython->jupyterlab==3.2.5->-r ../../requirements.txt (line 1)) (4.8.0)\n",
      "Requirement already satisfied: decorator in /usr/local/lib/python3.9/dist-packages (from ipython->jupyterlab==3.2.5->-r ../../requirements.txt (line 1)) (5.1.1)\n",
      "Requirement already satisfied: jedi>=0.16 in /usr/local/lib/python3.9/dist-packages (from ipython->jupyterlab==3.2.5->-r ../../requirements.txt (line 1)) (0.18.1)\n",
      "Requirement already satisfied: stack-data in /usr/local/lib/python3.9/dist-packages (from ipython->jupyterlab==3.2.5->-r ../../requirements.txt (line 1)) (0.3.0)\n",
      "Requirement already satisfied: backcall in /usr/local/lib/python3.9/dist-packages (from ipython->jupyterlab==3.2.5->-r ../../requirements.txt (line 1)) (0.2.0)\n",
      "Requirement already satisfied: prompt-toolkit!=3.0.0,!=3.0.1,<3.1.0,>=2.0.0 in /usr/local/lib/python3.9/dist-packages (from ipython->jupyterlab==3.2.5->-r ../../requirements.txt (line 1)) (3.0.30)\n",
      "Requirement already satisfied: pygments>=2.4.0 in /usr/local/lib/python3.9/dist-packages (from ipython->jupyterlab==3.2.5->-r ../../requirements.txt (line 1)) (2.12.0)\n",
      "Requirement already satisfied: setuptools>=18.5 in /usr/local/lib/python3.9/dist-packages (from ipython->jupyterlab==3.2.5->-r ../../requirements.txt (line 1)) (63.1.0)\n",
      "Requirement already satisfied: pickleshare in /usr/local/lib/python3.9/dist-packages (from ipython->jupyterlab==3.2.5->-r ../../requirements.txt (line 1)) (0.7.5)\n",
      "Requirement already satisfied: MarkupSafe>=2.0 in /usr/local/lib/python3.9/dist-packages (from jinja2>=2.1->jupyterlab==3.2.5->-r ../../requirements.txt (line 1)) (2.1.1)\n",
      "Requirement already satisfied: pyrsistent!=0.17.0,!=0.17.1,!=0.17.2,>=0.14.0 in /usr/local/lib/python3.9/dist-packages (from jsonschema!=3.1.0,>=2.6.0->comet_ml->-r ../../requirements.txt (line 20)) (0.18.1)\n",
      "Requirement already satisfied: entrypoints in /usr/local/lib/python3.9/dist-packages (from jupyter-client>=5.2.0->jupyter_kernel_gateway->-r ../../requirements.txt (line 11)) (0.4)\n",
      "Requirement already satisfied: argon2-cffi in /usr/local/lib/python3.9/dist-packages (from jupyter-server~=1.4->jupyterlab==3.2.5->-r ../../requirements.txt (line 1)) (21.3.0)\n",
      "Requirement already satisfied: nbconvert>=6.4.4 in /usr/local/lib/python3.9/dist-packages (from jupyter-server~=1.4->jupyterlab==3.2.5->-r ../../requirements.txt (line 1)) (6.5.0)\n",
      "Requirement already satisfied: nbformat>=5.2.0 in /usr/local/lib/python3.9/dist-packages (from jupyter-server~=1.4->jupyterlab==3.2.5->-r ../../requirements.txt (line 1)) (5.4.0)\n",
      "Requirement already satisfied: prometheus-client in /usr/local/lib/python3.9/dist-packages (from jupyter-server~=1.4->jupyterlab==3.2.5->-r ../../requirements.txt (line 1)) (0.9.0)\n",
      "Requirement already satisfied: anyio<4,>=3.1.0 in /usr/local/lib/python3.9/dist-packages (from jupyter-server~=1.4->jupyterlab==3.2.5->-r ../../requirements.txt (line 1)) (3.6.1)\n",
      "Requirement already satisfied: Send2Trash in /usr/local/lib/python3.9/dist-packages (from jupyter-server~=1.4->jupyterlab==3.2.5->-r ../../requirements.txt (line 1)) (1.8.0)\n",
      "Requirement already satisfied: terminado>=0.8.3 in /usr/local/lib/python3.9/dist-packages (from jupyter-server~=1.4->jupyterlab==3.2.5->-r ../../requirements.txt (line 1)) (0.15.0)\n",
      "Requirement already satisfied: importlib-metadata>=3.6 in /usr/local/lib/python3.9/dist-packages (from jupyterlab-server~=2.3->jupyterlab==3.2.5->-r ../../requirements.txt (line 1)) (4.12.0)\n",
      "Requirement already satisfied: babel in /usr/lib/python3/dist-packages (from jupyterlab-server~=2.3->jupyterlab==3.2.5->-r ../../requirements.txt (line 1)) (2.6.0)\n",
      "Requirement already satisfied: json5 in /usr/local/lib/python3.9/dist-packages (from jupyterlab-server~=2.3->jupyterlab==3.2.5->-r ../../requirements.txt (line 1)) (0.9.8)\n",
      "Requirement already satisfied: ipython-genutils in /usr/local/lib/python3.9/dist-packages (from nbclassic~=0.2->jupyterlab==3.2.5->-r ../../requirements.txt (line 1)) (0.2.0)\n",
      "Requirement already satisfied: notebook-shim>=0.1.0 in /usr/local/lib/python3.9/dist-packages (from nbclassic~=0.2->jupyterlab==3.2.5->-r ../../requirements.txt (line 1)) (0.1.0)\n",
      "Requirement already satisfied: charset-normalizer<3,>=2 in /usr/local/lib/python3.9/dist-packages (from requests->torchvision->-r ../../requirements.txt (line 5)) (2.1.0)\n",
      "Requirement already satisfied: idna<4,>=2.5 in /usr/lib/python3/dist-packages (from requests->torchvision->-r ../../requirements.txt (line 5)) (2.8)\n",
      "Requirement already satisfied: certifi>=2017.4.17 in /usr/lib/python3/dist-packages (from requests->torchvision->-r ../../requirements.txt (line 5)) (2019.11.28)\n",
      "Collecting urllib3>=1.25\n",
      "  Downloading urllib3-1.26.12-py2.py3-none-any.whl (140 kB)\n",
      "\u001b[2K     \u001b[90m━━━━━━━━━━━━━━━━━━━━━━━━━━━━━━━━━━━━━━\u001b[0m \u001b[32m140.4/140.4 kB\u001b[0m \u001b[31m38.2 MB/s\u001b[0m eta \u001b[36m0:00:00\u001b[0m\n",
      "\u001b[?25hRequirement already satisfied: sniffio>=1.1 in /usr/local/lib/python3.9/dist-packages (from anyio<4,>=3.1.0->jupyter-server~=1.4->jupyterlab==3.2.5->-r ../../requirements.txt (line 1)) (1.2.0)\n",
      "Requirement already satisfied: zipp>=0.5 in /usr/local/lib/python3.9/dist-packages (from importlib-metadata>=3.6->jupyterlab-server~=2.3->jupyterlab==3.2.5->-r ../../requirements.txt (line 1)) (3.8.1)\n",
      "Requirement already satisfied: parso<0.9.0,>=0.8.0 in /usr/local/lib/python3.9/dist-packages (from jedi>=0.16->ipython->jupyterlab==3.2.5->-r ../../requirements.txt (line 1)) (0.8.3)\n",
      "Requirement already satisfied: defusedxml in /usr/local/lib/python3.9/dist-packages (from nbconvert>=6.4.4->jupyter-server~=1.4->jupyterlab==3.2.5->-r ../../requirements.txt (line 1)) (0.7.1)\n",
      "Requirement already satisfied: beautifulsoup4 in /usr/local/lib/python3.9/dist-packages (from nbconvert>=6.4.4->jupyter-server~=1.4->jupyterlab==3.2.5->-r ../../requirements.txt (line 1)) (4.11.1)\n",
      "Requirement already satisfied: pandocfilters>=1.4.1 in /usr/local/lib/python3.9/dist-packages (from nbconvert>=6.4.4->jupyter-server~=1.4->jupyterlab==3.2.5->-r ../../requirements.txt (line 1)) (1.5.0)\n",
      "Requirement already satisfied: jupyterlab-pygments in /usr/local/lib/python3.9/dist-packages (from nbconvert>=6.4.4->jupyter-server~=1.4->jupyterlab==3.2.5->-r ../../requirements.txt (line 1)) (0.2.2)\n",
      "Requirement already satisfied: bleach in /usr/local/lib/python3.9/dist-packages (from nbconvert>=6.4.4->jupyter-server~=1.4->jupyterlab==3.2.5->-r ../../requirements.txt (line 1)) (5.0.1)\n",
      "Requirement already satisfied: nbclient>=0.5.0 in /usr/local/lib/python3.9/dist-packages (from nbconvert>=6.4.4->jupyter-server~=1.4->jupyterlab==3.2.5->-r ../../requirements.txt (line 1)) (0.6.6)\n",
      "Requirement already satisfied: mistune<2,>=0.8.1 in /usr/local/lib/python3.9/dist-packages (from nbconvert>=6.4.4->jupyter-server~=1.4->jupyterlab==3.2.5->-r ../../requirements.txt (line 1)) (0.8.4)\n",
      "Requirement already satisfied: tinycss2 in /usr/local/lib/python3.9/dist-packages (from nbconvert>=6.4.4->jupyter-server~=1.4->jupyterlab==3.2.5->-r ../../requirements.txt (line 1)) (1.1.1)\n",
      "Requirement already satisfied: fastjsonschema in /usr/local/lib/python3.9/dist-packages (from nbformat>=5.2.0->jupyter-server~=1.4->jupyterlab==3.2.5->-r ../../requirements.txt (line 1)) (2.15.3)\n",
      "Requirement already satisfied: ptyprocess>=0.5 in /usr/local/lib/python3.9/dist-packages (from pexpect>4.3->ipython->jupyterlab==3.2.5->-r ../../requirements.txt (line 1)) (0.7.0)\n",
      "Requirement already satisfied: wcwidth in /usr/local/lib/python3.9/dist-packages (from prompt-toolkit!=3.0.0,!=3.0.1,<3.1.0,>=2.0.0->ipython->jupyterlab==3.2.5->-r ../../requirements.txt (line 1)) (0.2.5)\n",
      "Requirement already satisfied: argon2-cffi-bindings in /usr/local/lib/python3.9/dist-packages (from argon2-cffi->jupyter-server~=1.4->jupyterlab==3.2.5->-r ../../requirements.txt (line 1)) (21.2.0)\n",
      "Requirement already satisfied: asttokens in /usr/local/lib/python3.9/dist-packages (from stack-data->ipython->jupyterlab==3.2.5->-r ../../requirements.txt (line 1)) (2.0.5)\n",
      "Requirement already satisfied: executing in /usr/local/lib/python3.9/dist-packages (from stack-data->ipython->jupyterlab==3.2.5->-r ../../requirements.txt (line 1)) (0.8.3)\n",
      "Requirement already satisfied: pure-eval in /usr/local/lib/python3.9/dist-packages (from stack-data->ipython->jupyterlab==3.2.5->-r ../../requirements.txt (line 1)) (0.2.2)\n",
      "Collecting nbclient>=0.5.0\n",
      "  Downloading nbclient-0.7.0-py3-none-any.whl (71 kB)\n",
      "\u001b[2K     \u001b[90m━━━━━━━━━━━━━━━━━━━━━━━━━━━━━━━━━━━━━━━━\u001b[0m \u001b[32m71.9/71.9 kB\u001b[0m \u001b[31m22.6 MB/s\u001b[0m eta \u001b[36m0:00:00\u001b[0m\n",
      "\u001b[?25h  Downloading nbclient-0.6.8-py3-none-any.whl (71 kB)\n",
      "\u001b[2K     \u001b[90m━━━━━━━━━━━━━━━━━━━━━━━━━━━━━━━━━━━━━━━━\u001b[0m \u001b[32m71.8/71.8 kB\u001b[0m \u001b[31m20.7 MB/s\u001b[0m eta \u001b[36m0:00:00\u001b[0m\n",
      "\u001b[?25h  Downloading nbclient-0.6.7-py3-none-any.whl (71 kB)\n",
      "\u001b[2K     \u001b[90m━━━━━━━━━━━━━━━━━━━━━━━━━━━━━━━━━━━━━━━━\u001b[0m \u001b[32m71.8/71.8 kB\u001b[0m \u001b[31m22.8 MB/s\u001b[0m eta \u001b[36m0:00:00\u001b[0m\n",
      "\u001b[?25h  Downloading nbclient-0.6.5-py3-none-any.whl (71 kB)\n",
      "\u001b[2K     \u001b[90m━━━━━━━━━━━━━━━━━━━━━━━━━━━━━━━━━━━━━━━━\u001b[0m \u001b[32m71.8/71.8 kB\u001b[0m \u001b[31m22.7 MB/s\u001b[0m eta \u001b[36m0:00:00\u001b[0m\n",
      "\u001b[?25h  Downloading nbclient-0.6.4-py3-none-any.whl (71 kB)\n",
      "\u001b[2K     \u001b[90m━━━━━━━━━━━━━━━━━━━━━━━━━━━━━━━━━━━━━━━━\u001b[0m \u001b[32m71.8/71.8 kB\u001b[0m \u001b[31m21.5 MB/s\u001b[0m eta \u001b[36m0:00:00\u001b[0m\n",
      "\u001b[?25h  Downloading nbclient-0.6.3-py3-none-any.whl (71 kB)\n",
      "\u001b[2K     \u001b[90m━━━━━━━━━━━━━━━━━━━━━━━━━━━━━━━━━━━━━━━━\u001b[0m \u001b[32m71.5/71.5 kB\u001b[0m \u001b[31m21.7 MB/s\u001b[0m eta \u001b[36m0:00:00\u001b[0m\n",
      "\u001b[?25hRequirement already satisfied: cffi>=1.0.1 in /usr/local/lib/python3.9/dist-packages (from argon2-cffi-bindings->argon2-cffi->jupyter-server~=1.4->jupyterlab==3.2.5->-r ../../requirements.txt (line 1)) (1.15.1)\n",
      "Requirement already satisfied: soupsieve>1.2 in /usr/local/lib/python3.9/dist-packages (from beautifulsoup4->nbconvert>=6.4.4->jupyter-server~=1.4->jupyterlab==3.2.5->-r ../../requirements.txt (line 1)) (2.3.2.post1)\n",
      "Requirement already satisfied: webencodings in /usr/local/lib/python3.9/dist-packages (from bleach->nbconvert>=6.4.4->jupyter-server~=1.4->jupyterlab==3.2.5->-r ../../requirements.txt (line 1)) (0.5.1)\n",
      "Requirement already satisfied: pycparser in /usr/local/lib/python3.9/dist-packages (from cffi>=1.0.1->argon2-cffi-bindings->argon2-cffi->jupyter-server~=1.4->jupyterlab==3.2.5->-r ../../requirements.txt (line 1)) (2.21)\n",
      "Building wheels for collected packages: gin-config, sklearn, configobj\n",
      "  Building wheel for gin-config (setup.py) ... \u001b[?25ldone\n",
      "\u001b[?25h  Created wheel for gin-config: filename=gin_config-0.4.1-py3-none-any.whl size=59142 sha256=39995e722e1681856dabe1c04abed5926b5b4777d2a0191829ad22eeeda29e4e\n",
      "  Stored in directory: /root/.cache/pip/wheels/25/17/e8/9ffbafc4cf11ead19b8f598af861f4f721cbe3eedfd79e894d\n",
      "  Building wheel for sklearn (setup.py) ... \u001b[?25ldone\n",
      "\u001b[?25h  Created wheel for sklearn: filename=sklearn-0.0.post1-py3-none-any.whl size=2936 sha256=ae906b832ea1320cb2ba5f6f4d49a0e9f6def7a2b6bfb2b6eccbbe10ac0b0c2a\n",
      "  Stored in directory: /root/.cache/pip/wheels/f8/e0/3d/9d0c2020c44a519b9f02ab4fa6d2a4a996c98d79ab2f569fa1\n",
      "  Building wheel for configobj (setup.py) ... \u001b[?25ldone\n",
      "\u001b[?25h  Created wheel for configobj: filename=configobj-5.0.6-py3-none-any.whl size=34527 sha256=c1544c69c076da69699333c9b362540554247ccf312edd2963de9f4925d412d0\n",
      "  Stored in directory: /root/.cache/pip/wheels/4b/35/53/dfa4d3a4196794cb0a777a97c68dcf02b073d33de9c135d72a\n",
      "Successfully built gin-config sklearn configobj\n",
      "Installing collected packages: sklearn, mypy-extensions, iniconfig, gin-config, everett, bottle, asyncore-wsgi, wurlitzer, web-pdb, urllib3, typeguard, traitlets, tomli, tenacity, simplejson, semantic-version, pluggy, platformdirs, pathspec, numpy-stl, exceptiongroup, einops, configobj, attrs, torchtyping, sentry-sdk, pytest, plotly, dulwich, black, torchtext, nbclient, mediapy, comet_ml, jupyter_kernel_gateway, jupyterlab\n",
      "  Attempting uninstall: urllib3\n",
      "    Found existing installation: urllib3 1.26.10\n",
      "    Uninstalling urllib3-1.26.10:\n",
      "      Successfully uninstalled urllib3-1.26.10\n",
      "  Attempting uninstall: traitlets\n",
      "    Found existing installation: traitlets 5.3.0\n",
      "    Uninstalling traitlets-5.3.0:\n",
      "      Successfully uninstalled traitlets-5.3.0\n",
      "  Attempting uninstall: attrs\n",
      "    Found existing installation: attrs 18.2.0\n",
      "    Uninstalling attrs-18.2.0:\n",
      "      Successfully uninstalled attrs-18.2.0\n",
      "  Attempting uninstall: nbclient\n",
      "    Found existing installation: nbclient 0.6.6\n",
      "    Uninstalling nbclient-0.6.6:\n",
      "      Successfully uninstalled nbclient-0.6.6\n",
      "  Attempting uninstall: jupyterlab\n",
      "    Found existing installation: jupyterlab 3.4.3\n",
      "    Uninstalling jupyterlab-3.4.3:\n",
      "      Successfully uninstalled jupyterlab-3.4.3\n",
      "\u001b[31mERROR: pip's dependency resolver does not currently take into account all the packages that are installed. This behaviour is the source of the following dependency conflicts.\n",
      "gradient 2.0.5 requires attrs<=19, but you have attrs 22.1.0 which is incompatible.\u001b[0m\u001b[31m\n",
      "\u001b[0mSuccessfully installed asyncore-wsgi-0.0.10 attrs-22.1.0 black-22.10.0 bottle-0.12.19 comet_ml-3.31.18 configobj-5.0.6 dulwich-0.20.50 einops-0.6.0 everett-3.1.0 exceptiongroup-1.0.4 gin-config-0.4.1 iniconfig-1.1.1 jupyter_kernel_gateway-2.5.1 jupyterlab-3.2.5 mediapy-1.1.2 mypy-extensions-0.4.3 nbclient-0.6.3 numpy-stl-2.17.1 pathspec-0.10.2 platformdirs-2.5.4 plotly-5.11.0 pluggy-1.0.0 pytest-7.2.0 semantic-version-2.10.0 sentry-sdk-1.11.0 simplejson-3.18.0 sklearn-0.0.post1 tenacity-8.1.0 tomli-2.0.1 torchtext-0.13.0 torchtyping-0.1.4 traitlets-5.1.1 typeguard-2.13.3 urllib3-1.26.12 web-pdb-1.5.7 wurlitzer-3.0.2\n",
      "\u001b[33mWARNING: Running pip as the 'root' user can result in broken permissions and conflicting behaviour with the system package manager. It is recommended to use a virtual environment instead: https://pip.pypa.io/warnings/venv\u001b[0m\u001b[33m\n",
      "\u001b[0m"
     ]
    }
   ],
   "source": [
    "!pip install -r ../../requirements.txt"
   ]
  },
  {
   "cell_type": "markdown",
   "metadata": {
    "pycharm": {
     "name": "#%% md\n"
    }
   },
   "source": [
    "### Before we render 2d images, lets render 1d images\n",
    "\n",
    "Here, instead of checking whether a 2d grid of rays intersects with triangles, we will check whether a 1d fan of rays intersects with lines.\n",
    "\n",
    "We will use 3 dimensions, but the last dimension will always be 0 for now. Let's have our camera at (0,0,0), and its rays will be ```((0,0,0), (1, -1, 0)), ((0,0,0), (1, -0.9, 0)), ((0,0,0), (1, -0.8, 0))```, etc.\n",
    "\n",
    "Make the function\n",
    "```\n",
    "make_rays_1d(width_pixels: int, fov_ratio) ->\n",
    "FloatTensor[width_pixels (number of rays), 2 (origin and direction), 3 (scalars per point)]\n",
    "```\n",
    "that creates rays going from the camera (origin) in each pixel direction. fov_ratio means \"how far to the left/right can I see 1 unit away from the camera?\". At fov_ratio=1, you can see 1-unit to the left at 1 unit away, and so on.\n",
    "\n",
    "Once you think you've made it correctly, run the `render_lines_with_pyplot` function we provide on your rays tensor with 10 rays and an fov_ratio of 10. Note that you should convert from origin and direction to lines segments with start points and endpoints for `render_lines_with_pyplot`. It won't make any difference here because the origin is at (0, 0, 0), but it's good to be in habit of using the correct units/types. It should look like this: \n",
    "\n",
    "<img src=\"../../.images/rays_1d.png\" width=\"400\" />"
   ]
  },
  {
   "cell_type": "code",
   "execution_count": 2,
   "metadata": {
    "pycharm": {
     "name": "#%%\n"
    }
   },
   "outputs": [],
   "source": [
    "import torch as t\n",
    "import einops\n",
    "from mpl_toolkits.mplot3d.axes3d import Axes3D\n",
    "import matplotlib.pyplot as plt\n",
    "from ipywidgets import interact\n",
    "\n",
    "def render_lines_with_pyplot(lines):\n",
    "    fig, ax = plt.subplots(subplot_kw={'projection': '3d'})\n",
    "\n",
    "    for line in lines:\n",
    "        # dimension ordering is so ray fan displays nicely while having dim 0 be depth, 1 width, 2 height\n",
    "        ax.plot(line[:,1].numpy(), line[:,0].numpy(), line[:,2].numpy())\n",
    "\n",
    "    plt.show()"
   ]
  },
  {
   "cell_type": "code",
   "execution_count": 3,
   "metadata": {},
   "outputs": [
    {
     "data": {
      "text/plain": [
       "tensor([-10.0000,  -7.7778,  -5.5556,  -3.3333,  -1.1111,   1.1111,   3.3333,\n",
       "          5.5556,   7.7778,  10.0000])"
      ]
     },
     "execution_count": 3,
     "metadata": {},
     "output_type": "execute_result"
    }
   ],
   "source": [
    "W = 10\n",
    "rays = t.zeros(W, 2, 3)\n",
    "rays[:, 1, 0] = 1\n",
    "fov_ratio = 10\n",
    "rays[:, 1, 1] = t.linspace(-fov_ratio, fov_ratio, W)\n",
    "t.linspace(-fov_ratio, fov_ratio, W)"
   ]
  },
  {
   "cell_type": "code",
   "execution_count": 4,
   "metadata": {
    "pycharm": {
     "name": "#%%\n"
    }
   },
   "outputs": [],
   "source": [
    "def make_rays_1d(W, fov_ratio):\n",
    "    rays = t.zeros(W, 2, 3)\n",
    "    rays[:, 1, 0] = 1\n",
    "    rays[:, 1, 1] = t.linspace(-fov_ratio, fov_ratio, W)\n",
    "    return rays"
   ]
  },
  {
   "cell_type": "code",
   "execution_count": 5,
   "metadata": {},
   "outputs": [
    {
     "data": {
      "image/png": "[encoded data removed]",
      "text/plain": [
       "<Figure size 432x288 with 1 Axes>"
      ]
     },
     "metadata": {
      "needs_background": "light"
     },
     "output_type": "display_data"
    }
   ],
   "source": [
    "render_lines_with_pyplot(make_rays_1d(10, 10))"
   ]
  },
  {
   "cell_type": "markdown",
   "metadata": {
    "id": "51HDx1Q95HZF",
    "pycharm": {
     "name": "#%% md\n"
    }
   },
   "source": [
    "### Now let's check whether our camera rays intersect with our object lines\n",
    "\n",
    "This has two steps: find the point where the two (infinite euclidean) lines intersect by solving a linear equation, and then check whether that point is inside the line segment and the ray.\n",
    "\n",
    "\n",
    "Our camera ray is defined by the origin $O$ and direction $D$ and our object line is defined by points $L_1$ and $L_2$.\n",
    "\n",
    "We can write the equations for all points on the camera ray as $R(u)=O +u D$ for $u \\in [0, \\infty)$ and on the object line as $O(v)=L_1+v(L_2 - L_1)$ for $v \\in [0, 1]$."
   ]
  },
  {
   "cell_type": "code",
   "execution_count": 6,
   "metadata": {
    "cellView": "form",
    "colab": {
     "base_uri": "https://localhost:8080/",
     "height": 329,
     "referenced_widgets": [
      "26c0bd673e414b0895f444edb4298fe1",
      "d4ae62ec4f174d88b11ef2ba15979db5",
      "a9c8e243c1af43f6abaf53f993b17895",
      "388ef05fb9454299bc7a28ef9dc0362d",
      "6e711a41b4ed423e98809810085d5a48",
      "139321ff654e428bbd1b1e8b7796ff79",
      "14bbbd03fa524f03822f6691dcd4f2b3",
      "9af2af3a6a464ab4883be2f869b05cee",
      "3e47bd09924e447fb15c26b78503086f",
      "4efccee3c8f64234bb7e795e0592b51c"
     ]
    },
    "id": "08jyVsa6TUAc",
    "outputId": "af54d7a7-0a70-4977-a04d-e3eee9ceafcf",
    "pycharm": {
     "name": "#%%\n"
    },
    "scrolled": true
   },
   "outputs": [
    {
     "data": {
      "application/vnd.jupyter.widget-view+json": {
       "model_id": "a966a34afd684c78a3936cadaf83ab1b",
       "version_major": 2,
       "version_minor": 0
      },
      "text/plain": [
       "interactive(children=(FloatSlider(value=0.0, description='v', max=2.0, min=-2.0), IntSlider(value=5, descripti…"
      ]
     },
     "metadata": {},
     "output_type": "display_data"
    }
   ],
   "source": [
    "@interact\n",
    "def line(v=(-2.0, 2.0), seed=(0, 10)):\n",
    "    t.manual_seed(seed)\n",
    "    L_1 = t.randn(2)\n",
    "    L_2 = t.randn(2)\n",
    "    P = lambda v : L_1 + v * (L_2 - L_1)\n",
    "    x, y = zip(P(-2), P(2))\n",
    "    plt.plot(x, y, 'g-')\n",
    "    plt.plot(*L_1, 'ro', markersize=12)\n",
    "    plt.plot(*L_2, 'ro', markersize=12)\n",
    "    plt.plot(P(v)[0], P(v)[1], '*', markersize=12)"
   ]
  },
  {
   "cell_type": "markdown",
   "metadata": {
    "pycharm": {
     "name": "#%% md\n"
    }
   },
   "source": [
    "Setting the line equations from above equal:\n",
    "$$\n",
    "\\begin{align*}\n",
    "O + u D &= L_1 + v(L_2 - L_1) \\\\\n",
    "u D - v(L_2 - L_1) &= L_1 - O  \\\\\n",
    "\\begin{pmatrix}\n",
    "D_x & (L_1 - L_2)_x \\\\\n",
    "D_y & (L_1 - L_2)_y \\\\\n",
    "\\end{pmatrix}\n",
    "\\begin{pmatrix}\n",
    "u \\\\\n",
    "v \\\\\n",
    "\\end{pmatrix}\n",
    "&= \n",
    "\\begin{pmatrix}\n",
    "(L_1 - O)_x \\\\\n",
    "(L_1 - O)_y \\\\\n",
    "\\end{pmatrix}\n",
    "\\end{align*}\n",
    "$$\n",
    "\n",
    "Once we've found values of $u$ and $v$ which satisfy this equation (if any, the lines could be parallel) we just need to check that $u \\geq 0$ and $v \\in [0, 1]$.\n",
    "\n",
    "Here are some objects:"
   ]
  },
  {
   "cell_type": "code",
   "execution_count": 7,
   "metadata": {
    "pycharm": {
     "name": "#%%\n"
    }
   },
   "outputs": [
    {
     "data": {
      "text/plain": [
       "torch.Size([3, 2, 3])"
      ]
     },
     "execution_count": 7,
     "metadata": {},
     "output_type": "execute_result"
    }
   ],
   "source": [
    "def get_objects(n, seed=8):\n",
    "    t.manual_seed(seed)\n",
    "    xys = t.rand(n, 2, 2)\n",
    "    xys[:,:,1]-=0.5\n",
    "    xys[:,:,1]*=10\n",
    "    return t.cat([xys, t.zeros(n, 2, 1)], dim=2)\n",
    "\n",
    "objects = get_objects(3)\n",
    "\n",
    "objects.size()"
   ]
  },
  {
   "cell_type": "code",
   "execution_count": 8,
   "metadata": {},
   "outputs": [
    {
     "data": {
      "text/plain": [
       "(tensor([[  1.0000, -10.0000,   0.0000],\n",
       "         [  1.0000,  -7.7778,   0.0000],\n",
       "         [  1.0000,  -5.5556,   0.0000],\n",
       "         [  1.0000,  -3.3333,   0.0000],\n",
       "         [  1.0000,  -1.1111,   0.0000],\n",
       "         [  1.0000,   1.1111,   0.0000],\n",
       "         [  1.0000,   3.3333,   0.0000],\n",
       "         [  1.0000,   5.5556,   0.0000],\n",
       "         [  1.0000,   7.7778,   0.0000],\n",
       "         [  1.0000,  10.0000,   0.0000]]),\n",
       " torch.Size([10, 2, 3]),\n",
       " torch.Size([10, 2, 3]))"
      ]
     },
     "execution_count": 8,
     "metadata": {},
     "output_type": "execute_result"
    }
   ],
   "source": [
    "rays = make_rays_1d(10, 10.)\n",
    "rays[:, 0] + rays[:, 1], rays.size(), t.stack((rays[:, 0], rays[:, 0] + rays[:, 1]), dim=1).size()"
   ]
  },
  {
   "cell_type": "markdown",
   "metadata": {
    "pycharm": {
     "name": "#%% md\n"
    }
   },
   "source": [
    "Render the camera lines from earlier together with the object lines using the `render_lines_with_pyplot`. This can be done in one line of code."
   ]
  },
  {
   "cell_type": "code",
   "execution_count": 9,
   "metadata": {
    "pycharm": {
     "name": "#%%\n"
    }
   },
   "outputs": [
    {
     "data": {
      "image/png": "[encoded data removed]",
      "text/plain": [
       "<Figure size 432x288 with 1 Axes>"
      ]
     },
     "metadata": {
      "needs_background": "light"
     },
     "output_type": "display_data"
    }
   ],
   "source": [
    "render_lines_with_pyplot(t.cat([make_rays_1d(10, 10), objects], dim=0))"
   ]
  },
  {
   "cell_type": "markdown",
   "metadata": {
    "pycharm": {
     "name": "#%% md\n"
    }
   },
   "source": [
    "Using `torch.linalg.solve` and `torch.stack`, write the function\n",
    "```\n",
    "intersect_ray_1d(ray, obj) -> bool\n",
    "```\n",
    "which returns true if the ray and object intersect.\n",
    "\n",
    "Keep in mind that your code only needs to work when then the z-dim is 0 (you can also assume that rays and objects aren't parallel).\n",
    "\n",
    "Sanity check your function on a few rays using the image you made above as a reference. Pick a ray and an object that, based on the image, look like they should intersect and a pair that shouldn't, and confirm that your function agrees."
   ]
  },
  {
   "cell_type": "code",
   "execution_count": 10,
   "metadata": {},
   "outputs": [
    {
     "data": {
      "text/plain": [
       "(tensor([  1., -10.,   0.]),\n",
       " tensor([[-0.3485,  5.4877,  0.0000],\n",
       "         [-0.3853,  6.3026,  0.0000],\n",
       "         [-0.3396, -5.5873,  0.0000]]),\n",
       " tensor([[ 0.5979,  3.4530,  0.0000],\n",
       "         [ 0.5138,  1.4435,  0.0000],\n",
       "         [ 0.5785, -3.7819,  0.0000]]))"
      ]
     },
     "execution_count": 10,
     "metadata": {},
     "output_type": "execute_result"
    }
   ],
   "source": [
    "rays[0, 1], objects[:, 0] - objects[:, 1],  objects[:, 0] - rays[0, 0]"
   ]
  },
  {
   "cell_type": "code",
   "execution_count": 11,
   "metadata": {},
   "outputs": [
    {
     "data": {
      "text/plain": [
       "tensor([[  1.0000, -10.0000],\n",
       "        [ -0.3485,   5.4877]])"
      ]
     },
     "execution_count": 11,
     "metadata": {},
     "output_type": "execute_result"
    }
   ],
   "source": [
    "t.stack([rays[0, 1, :2].repeat(3, 1), objects[:, 0, :2] - objects[:, 1, :2]], dim=1)[0]"
   ]
  },
  {
   "cell_type": "code",
   "execution_count": 12,
   "metadata": {},
   "outputs": [
    {
     "data": {
      "text/plain": [
       "tensor([[ 2.2391,  4.7095],\n",
       "        [ 1.5487,  2.6863],\n",
       "        [ 0.5027, -0.2229]])"
      ]
     },
     "execution_count": 12,
     "metadata": {},
     "output_type": "execute_result"
    }
   ],
   "source": [
    "ray_sols = t.linalg.solve(t.stack([einops.repeat(rays[0, 1, :2], 'd -> b d', b=objects.size(dim=0)), objects[:, 0, :2] - objects[:, 1, :2]], dim=2), (objects[:, 0, :2] - rays[0, 0, :2]))\n",
    "ray_sols"
   ]
  },
  {
   "cell_type": "code",
   "execution_count": 13,
   "metadata": {},
   "outputs": [
    {
     "data": {
      "text/plain": [
       "tensor([[ True,  True],\n",
       "        [ True,  True],\n",
       "        [ True, False]])"
      ]
     },
     "execution_count": 13,
     "metadata": {},
     "output_type": "execute_result"
    }
   ],
   "source": [
    "(ray_sols >= t.Tensor([0, 0]))"
   ]
  },
  {
   "cell_type": "code",
   "execution_count": 14,
   "metadata": {},
   "outputs": [
    {
     "data": {
      "text/plain": [
       "tensor([ 4.7095,  2.6863, -0.2229])"
      ]
     },
     "execution_count": 14,
     "metadata": {},
     "output_type": "execute_result"
    }
   ],
   "source": [
    "ray_sols[:, 1]"
   ]
  },
  {
   "cell_type": "code",
   "execution_count": 15,
   "metadata": {},
   "outputs": [
    {
     "data": {
      "text/plain": [
       "(tensor([ True,  True, False]), tensor([False, False,  True]))"
      ]
     },
     "execution_count": 15,
     "metadata": {},
     "output_type": "execute_result"
    }
   ],
   "source": [
    "((ray_sols >= t.Tensor([0, 0])).min(dim=1).values, (ray_sols[:, 1] <= 1))"
   ]
  },
  {
   "cell_type": "code",
   "execution_count": 16,
   "metadata": {},
   "outputs": [
    {
     "data": {
      "text/plain": [
       "tensor([  1., -10.])"
      ]
     },
     "execution_count": 16,
     "metadata": {},
     "output_type": "execute_result"
    }
   ],
   "source": [
    "rays[0, 1, :2]"
   ]
  },
  {
   "cell_type": "code",
   "execution_count": 17,
   "metadata": {},
   "outputs": [
    {
     "data": {
      "text/plain": [
       "tensor([[  1., -10.],\n",
       "        [  1., -10.],\n",
       "        [  1., -10.]])"
      ]
     },
     "execution_count": 17,
     "metadata": {},
     "output_type": "execute_result"
    }
   ],
   "source": [
    "einops.repeat(rays[0, 1, :2], 'd -> b d', b=objects.size(dim=0))"
   ]
  },
  {
   "cell_type": "code",
   "execution_count": 18,
   "metadata": {},
   "outputs": [
    {
     "data": {
      "text/plain": [
       "tensor([2.2391, 4.7095])"
      ]
     },
     "execution_count": 18,
     "metadata": {},
     "output_type": "execute_result"
    }
   ],
   "source": [
    "t.linalg.solve(t.stack([rays[0, 1, :2], objects[0, 0, :2] - objects[0, 1, :2]], dim=1), (objects[0, 0, :2] - rays[0, 0, :2]))"
   ]
  },
  {
   "cell_type": "code",
   "execution_count": 19,
   "metadata": {},
   "outputs": [
    {
     "data": {
      "text/plain": [
       "tensor([[  1.0000,  -0.3485],\n",
       "        [-10.0000,   5.4877]])"
      ]
     },
     "execution_count": 19,
     "metadata": {},
     "output_type": "execute_result"
    }
   ],
   "source": [
    "t.stack([rays[0, 1, :2], objects[0, 0, :2] - objects[0, 1, :2]], dim=1)"
   ]
  },
  {
   "cell_type": "code",
   "execution_count": 20,
   "metadata": {},
   "outputs": [
    {
     "data": {
      "text/plain": [
       "(tensor([[  1., -10.],\n",
       "         [  1., -10.],\n",
       "         [  1., -10.]]),\n",
       " tensor([[-0.3485,  5.4877],\n",
       "         [-0.3853,  6.3026],\n",
       "         [-0.3396, -5.5873]]),\n",
       " tensor([[  1.0000,  -0.3485],\n",
       "         [-10.0000,   5.4877]]))"
      ]
     },
     "execution_count": 20,
     "metadata": {},
     "output_type": "execute_result"
    }
   ],
   "source": [
    "rays[0, 1, :2].repeat(3, 1),  objects[:, 0, :2] - objects[:, 1, :2], t.stack([rays[0, 1, :2].repeat(3, 1), objects[:, 0, :2] - objects[:, 1, :2]], dim=2)[0]"
   ]
  },
  {
   "cell_type": "code",
   "execution_count": 21,
   "metadata": {},
   "outputs": [
    {
     "data": {
      "text/plain": [
       "(tensor([[  1.0000, -10.0000,   0.0000],\n",
       "         [  1.0000,  -7.7778,   0.0000],\n",
       "         [  1.0000,  -5.5556,   0.0000],\n",
       "         [  1.0000,  -3.3333,   0.0000],\n",
       "         [  1.0000,  -1.1111,   0.0000],\n",
       "         [  1.0000,   1.1111,   0.0000],\n",
       "         [  1.0000,   3.3333,   0.0000],\n",
       "         [  1.0000,   5.5556,   0.0000],\n",
       "         [  1.0000,   7.7778,   0.0000],\n",
       "         [  1.0000,  10.0000,   0.0000]]),\n",
       " tensor([[  1.0000,   1.0000,   1.0000,   1.0000,   1.0000,   1.0000,   1.0000,\n",
       "            1.0000,   1.0000,   1.0000],\n",
       "         [-10.0000,  -7.7778,  -5.5556,  -3.3333,  -1.1111,   1.1111,   3.3333,\n",
       "            5.5556,   7.7778,  10.0000],\n",
       "         [  0.0000,   0.0000,   0.0000,   0.0000,   0.0000,   0.0000,   0.0000,\n",
       "            0.0000,   0.0000,   0.0000]]))"
      ]
     },
     "execution_count": 21,
     "metadata": {},
     "output_type": "execute_result"
    }
   ],
   "source": [
    "rays[:, 1], rays[:, 1].rot90(dims=[0,1], k=-1).flip(dims=[1])"
   ]
  },
  {
   "cell_type": "code",
   "execution_count": 22,
   "metadata": {
    "pycharm": {
     "name": "#%%\n"
    }
   },
   "outputs": [],
   "source": [
    "def intersect_ray_1d(rays, objs):\n",
    "    results = []\n",
    "    for i,x in enumerate(rays):\n",
    "        ray_sols = t.linalg.solve(t.stack([einops.repeat(rays[i, 1, :2], 'd -> b d', b=objects.size(dim=0)), objects[:, 0, :2] - objects[:, 1, :2]], dim=2), (objects[:, 0, :2] - rays[i, 0, :2]))\n",
    "        results.append(((ray_sols >= t.Tensor([0, 0])).min(dim=1).values * (ray_sols[:, 1] <= 1)).max())\n",
    "    return t.stack(results)"
   ]
  },
  {
   "cell_type": "code",
   "execution_count": 23,
   "metadata": {},
   "outputs": [
    {
     "data": {
      "text/plain": [
       "tensor([False, False,  True,  True,  True,  True,  True,  True, False, False])"
      ]
     },
     "execution_count": 23,
     "metadata": {},
     "output_type": "execute_result"
    }
   ],
   "source": [
    "intersect_ray_1d(rays, objects)"
   ]
  },
  {
   "cell_type": "markdown",
   "metadata": {
    "pycharm": {
     "name": "#%% md\n"
    }
   },
   "source": [
    "Now let's batch process rays and objects with the function \n",
    "```\n",
    "intersect_rays_1d(rays, objs) -> BoolTensor[num rays]\n",
    "```\n",
    "Where the output is true if there is some object which intersects with that ray. You'll probably want to use `einops.repeat`. This should look very similar to the non-batch version. If you'd like, you can also modify your non-batch function to handle either case."
   ]
  },
  {
   "cell_type": "code",
   "execution_count": 24,
   "metadata": {
    "pycharm": {
     "name": "#%%\n"
    }
   },
   "outputs": [],
   "source": [
    "def intersect_rays_1d(rays, objs):\n",
    "    results = []\n",
    "    for i,x in enumerate(rays):\n",
    "        ray_sols = t.linalg.solve(t.stack([einops.repeat(rays[i, 1, :2], 'd -> b d', b=objects.size(dim=0)), objects[:, 0, :2] - objects[:, 1, :2]], dim=2), (objects[:, 0, :2] - rays[i, 0, :2]))\n",
    "        results.append(((ray_sols >= t.Tensor([0, 0])).min(dim=1).values * (ray_sols[:, 1] <= 1)).max())\n",
    "    return t.stack(results)"
   ]
  },
  {
   "cell_type": "code",
   "execution_count": 25,
   "metadata": {},
   "outputs": [
    {
     "data": {
      "text/plain": [
       "tensor([False, False,  True,  True,  True,  True,  True,  True, False, False])"
      ]
     },
     "execution_count": 25,
     "metadata": {},
     "output_type": "execute_result"
    }
   ],
   "source": [
    "rays1 = rays[..., :2]\n",
    "objs1 = objects[..., :2]\n",
    "\n",
    "\n",
    "rays1 = einops.repeat(rays1, 'n_r p d -> n_r n_o p d', n_o=objs1.size(0))\n",
    "objs1 = einops.repeat(objs1, 'n_o p d -> n_r n_o p d', n_r=rays1.size(0))\n",
    "\n",
    "O = rays1[:, :, 0]\n",
    "D = rays1[:, :, 1]\n",
    "\n",
    "L1 = objs1[:, :, 0]\n",
    "L2 = objs1[:, :, 1]\n",
    "\n",
    "A = t.stack([D, L1-L2], dim=-1)\n",
    "B = L1-O\n",
    "solutions = t.linalg.solve(A, B)\n",
    "u = solutions[..., 0]\n",
    "v = solutions[..., 1]\n",
    "((u >= 0) & (v >= 0) & (v <= 1)).any(dim=-1)"
   ]
  },
  {
   "cell_type": "code",
   "execution_count": 26,
   "metadata": {},
   "outputs": [],
   "source": [
    "def intersect_ray_1d(rays, objs):\n",
    "    # code works for single ray/object or batch\n",
    "    rays = rays[..., :2]\n",
    "    objs = objs[..., :2]\n",
    "    \n",
    "    if rays.ndim == 2:\n",
    "        rays = rays.unsqueeze(0)\n",
    "    if objs.ndim == 2:\n",
    "        objs = objs.unsqueeze(0)\n",
    "\n",
    "    rays = einops.repeat(rays, 'n_r p d -> n_r n_o p d', n_o=objs.size(0))\n",
    "    objs = einops.repeat(objs, 'n_o p d -> n_r n_o p d', n_r=rays.size(0))\n",
    "\n",
    "    O = rays[:, :, 0]\n",
    "    D = rays[:, :, 1]\n",
    "\n",
    "    L_1 = objs[:, :, 0]\n",
    "    L_2 = objs[:, :, 1]\n",
    "\n",
    "    A = t.stack([D, L_1 - L_2], dim=-1)\n",
    "    B = L_1 - O\n",
    "\n",
    "    sol = t.linalg.solve(A, B)\n",
    "    u = sol[..., 0]\n",
    "    v = sol[..., 1]\n",
    "\n",
    "    return ((u >= 0) & (v >= 0) & (v <= 1)).any(axis=-1)"
   ]
  },
  {
   "cell_type": "code",
   "execution_count": 27,
   "metadata": {
    "pycharm": {
     "name": "#%%\n"
    }
   },
   "outputs": [],
   "source": [
    "# With the rays and objects generated initially, this function should output\n",
    "# tensor([False, False,  True,  True,  True,  True,  True,  True, False, False])\n",
    "# See your image with rays and objects above to check this makes sense."
   ]
  },
  {
   "cell_type": "markdown",
   "metadata": {
    "pycharm": {
     "name": "#%% md\n"
    }
   },
   "source": [
    "### Now, lets generate a 2d grid of camera rays (back to 2d images)\n",
    "\n",
    "Make a function\n",
    "\n",
    "```\n",
    "make_rays_2d(width_pixels: int, height_pixels: int, h_aspect_ratio = 0.3, w_aspect_ratio = 0.3)\n",
    "->\n",
    "FloatTensor[width_pixels * height_pixels (number of rays), 2 (origin and direction), 3 (scalars per point)]\n",
    "```\n",
    "that creates rays going from the camera (origin) in each pixel direction. w_aspect_ratio means \"how far left/right can the camera see on a screen placed 1 unit away from it?\". at w_aspect_ratio=1, it can see 1 unit left and 1 unit right at 1 unit away. h_aspect_ratio is the analogous measure for up/down.\n",
    "\n",
    "Once you think you've made it correctly, run the `render_lines_with_pyplot` function we provide on your lines tensor. It should look like a bunch of evenly spaced lines in a pyramid."
   ]
  },
  {
   "cell_type": "code",
   "execution_count": 28,
   "metadata": {},
   "outputs": [
    {
     "data": {
      "text/plain": [
       "torch.Size([10, 2, 3])"
      ]
     },
     "execution_count": 28,
     "metadata": {},
     "output_type": "execute_result"
    }
   ],
   "source": [
    "rays.size()"
   ]
  },
  {
   "cell_type": "code",
   "execution_count": 29,
   "metadata": {
    "pycharm": {
     "name": "#%%\n"
    }
   },
   "outputs": [],
   "source": [
    "def make_rays_2d(W, H, width_scale=0.3, height_scale=0.3):\n",
    "    rays = t.zeros(W, 2, 3)\n",
    "    rays[:, 1, 0] = 1\n",
    "    rays[:, 1, 1] = t.linspace(-width_scale, width_scale, W)\n",
    "    rays = einops.repeat(rays, 'w o_d v -> w h o_d v', h=H).clone()\n",
    "    h_rays = einops.repeat(t.linspace(-height_scale, height_scale, H), 'h -> w h', w=W)\n",
    "    rays[:, :, 1, 2] = h_rays\n",
    "    rays = einops.rearrange(rays, 'w h o_d v -> (w h) o_d v').clone()\n",
    "    return rays"
   ]
  },
  {
   "cell_type": "code",
   "execution_count": 30,
   "metadata": {},
   "outputs": [
    {
     "data": {
      "image/png": "[encoded data removed]",
      "text/plain": [
       "<Figure size 432x288 with 1 Axes>"
      ]
     },
     "metadata": {
      "needs_background": "light"
     },
     "output_type": "display_data"
    },
    {
     "data": {
      "text/plain": [
       "tensor([[[ 0.,  0.,  0.],\n",
       "         [ 1., -2., -2.]],\n",
       "\n",
       "        [[ 0.,  0.,  0.],\n",
       "         [ 1., -2., -1.]],\n",
       "\n",
       "        [[ 0.,  0.,  0.],\n",
       "         [ 1., -2.,  0.]],\n",
       "\n",
       "        [[ 0.,  0.,  0.],\n",
       "         [ 1., -2.,  1.]],\n",
       "\n",
       "        [[ 0.,  0.,  0.],\n",
       "         [ 1., -2.,  2.]],\n",
       "\n",
       "        [[ 0.,  0.,  0.],\n",
       "         [ 1.,  0., -2.]],\n",
       "\n",
       "        [[ 0.,  0.,  0.],\n",
       "         [ 1.,  0., -1.]],\n",
       "\n",
       "        [[ 0.,  0.,  0.],\n",
       "         [ 1.,  0.,  0.]],\n",
       "\n",
       "        [[ 0.,  0.,  0.],\n",
       "         [ 1.,  0.,  1.]],\n",
       "\n",
       "        [[ 0.,  0.,  0.],\n",
       "         [ 1.,  0.,  2.]],\n",
       "\n",
       "        [[ 0.,  0.,  0.],\n",
       "         [ 1.,  2., -2.]],\n",
       "\n",
       "        [[ 0.,  0.,  0.],\n",
       "         [ 1.,  2., -1.]],\n",
       "\n",
       "        [[ 0.,  0.,  0.],\n",
       "         [ 1.,  2.,  0.]],\n",
       "\n",
       "        [[ 0.,  0.,  0.],\n",
       "         [ 1.,  2.,  1.]],\n",
       "\n",
       "        [[ 0.,  0.,  0.],\n",
       "         [ 1.,  2.,  2.]]])"
      ]
     },
     "execution_count": 30,
     "metadata": {},
     "output_type": "execute_result"
    }
   ],
   "source": [
    "render_lines_with_pyplot(make_rays_2d(3, 5, 2, 2))\n",
    "make_rays_2d(3, 5, 2, 2)"
   ]
  },
  {
   "cell_type": "markdown",
   "metadata": {
    "id": "uQVLO5tiyLvO",
    "pycharm": {
     "name": "#%% md\n"
    }
   },
   "source": [
    "### Triangle coordinates"
   ]
  },
  {
   "cell_type": "markdown",
   "metadata": {
    "id": "UdToDGks6sLf",
    "pycharm": {
     "name": "#%% md\n"
    }
   },
   "source": [
    "Analogously to a line, the area inside a triangle can be defined by three (non-colinear) points $A$, $B$ and $C$, and can be written algebraically as:\n",
    "\n",
    "$$P(w, u, v) = wA + uB + vC$$\n",
    "$$s.t.$$\n",
    "$$0 \\leq w,u,v$$\n",
    "$$w + u + v = 1$$\n",
    "\n",
    "Or equivalently:\n",
    "\n",
    "$$P(u, v) = (1 - u - v)A + uB + vC =$$\n",
    "$$P(u, v) = A + u(B - A) + v(C - A)$$\n",
    "$$s.t.$$\n",
    "$$0 \\leq u,v$$\n",
    "$$u + v \\leq 1$$\n",
    "\n",
    "These $u, v$ are called \"barycentric coordinates\"."
   ]
  },
  {
   "cell_type": "markdown",
   "metadata": {
    "id": "TsCCe0Q29vhi",
    "pycharm": {
     "name": "#%% md\n"
    }
   },
   "source": [
    "If we remove the bounds on $u$ and $v$, we get an equation for the plane containing the triangle."
   ]
  },
  {
   "cell_type": "code",
   "execution_count": 31,
   "metadata": {
    "cellView": "form",
    "colab": {
     "base_uri": "https://localhost:8080/",
     "height": 361,
     "referenced_widgets": [
      "45473181d7aa4f2eb4d345447a15ce2d",
      "723f0d9002e4469aa8b4d9ff2876afd6",
      "9b678cc13068422f9fec58a7a1373f87",
      "313ea93631664c49bd6b24b2bde060a8",
      "7c9b97928cbf48db93accfa02dcd46b3",
      "f3c253cfa803478d88400377b7d08643",
      "7c853b82c1d547e591e215c190186416",
      "4ccf0ea370d4499ba54b1f6edc27d9b0",
      "13367c1e56214d8da030d678dad65b76",
      "91ec1b66751247c2a3137258ffbc915d",
      "1af49b03019040f08def559c89a56d6d",
      "b6da1ec793b64fa6a677c63775d74bfd",
      "5f17463600024991b1061318ffb273eb"
     ]
    },
    "id": "8NMyl7tFYAnz",
    "outputId": "7424bea1-faa1-4f2f-d56c-f6896fb69ca0",
    "pycharm": {
     "name": "#%%\n"
    }
   },
   "outputs": [
    {
     "data": {
      "application/vnd.jupyter.widget-view+json": {
       "model_id": "53829d5bc4cb4c6598b8d5e07373336d",
       "version_major": 2,
       "version_minor": 0
      },
      "text/plain": [
       "interactive(children=(FloatSlider(value=0.5, description='u', max=2.0, min=-1.0), FloatSlider(value=0.5, descr…"
      ]
     },
     "metadata": {},
     "output_type": "display_data"
    }
   ],
   "source": [
    "one_triangle = t.Tensor([[0, 0, 0], [3, 0.5, 0], [2, 3, 0]])\n",
    "\n",
    "@interact\n",
    "def triangle(u=(-1.0, 2.0), v=(-1.0, 2.0)):\n",
    "    A = one_triangle[0] + 1\n",
    "    B = one_triangle[1]\n",
    "    C = one_triangle[2]\n",
    "    for p in (A, B, C):\n",
    "        plt.plot(p[0], p[1], 'ro', markersize=12)\n",
    "    for p, q in ((A,B),(B,C),(C,A)):\n",
    "        x, y, _ = zip(p, q)\n",
    "        plt.plot(x, y, 'g-')\n",
    "    P = A + u*(B-A) + v*(C-A)\n",
    "    plt.plot(P[0], P[1], '*', markersize=12)\n"
   ]
  },
  {
   "cell_type": "markdown",
   "metadata": {
    "id": "FYo4onl50S5h",
    "pycharm": {
     "name": "#%% md\n"
    }
   },
   "source": [
    "### Triangle-ray intersection"
   ]
  },
  {
   "cell_type": "markdown",
   "metadata": {
    "id": "gcCugBpj-XDl",
    "pycharm": {
     "name": "#%% md\n"
    }
   },
   "source": [
    "We'll consider a ray (not a line segment) with origin $O$ and direction $D$.\n",
    "Our intersection algorithm will  consist of two steps:\n",
    "* Finding the intersection between the line and the plane containing the triangle, by solving the equation $P(s) = P(u, v)$;\n",
    "* Checking if $u$ and $v$ are within the bounds of the triangle."
   ]
  },
  {
   "cell_type": "markdown",
   "metadata": {
    "id": "7_ukdzr9-ylQ",
    "pycharm": {
     "name": "#%% md\n"
    }
   },
   "source": [
    "Expanding the equation $P(s) = P(u, v)$, we have:"
   ]
  },
  {
   "cell_type": "markdown",
   "metadata": {
    "id": "BNnthX7u_Hv5",
    "pycharm": {
     "name": "#%% md\n"
    }
   },
   "source": [
    "$$O + sD = A + u(B - A) + v(C - A) \\Rightarrow$$\n",
    "\n",
    "$$\n",
    "\\begin{gather*}\n",
    "\\Rightarrow\n",
    "\\begin{pmatrix}\n",
    "-D & (B - A) & (C - A) \\\\\n",
    "\\end{pmatrix}\n",
    "\\begin{pmatrix}\n",
    "s \\\\\n",
    "u \\\\\n",
    "v \n",
    "\\end{pmatrix}\n",
    "=\n",
    "\\begin{pmatrix}\n",
    "(O - A)\n",
    "\\end{pmatrix}\n",
    "\\Rightarrow\n",
    "\\end{gather*}\n",
    "$$$$\\begin{gather*}\n",
    "\\Rightarrow\n",
    "\\begin{pmatrix}\n",
    "-D_x & (B - A)_x & (C - A)_x \\\\\n",
    "-D_y & (B - A)_y & (C - A)_y \\\\\n",
    "-D_z & (B - A)_z & (C - A)_z \\\\\n",
    "\\end{pmatrix}\n",
    "\\begin{pmatrix}\n",
    "s \\\\\n",
    "u \\\\\n",
    "v \n",
    "\\end{pmatrix}\n",
    "=\n",
    "\\begin{pmatrix}\n",
    "(O - A)_x \\\\\n",
    "(O - A)_y \\\\\n",
    "(O - A)_z \\\\\n",
    "\\end{pmatrix}\n",
    "\\end{gather*}\n",
    "\n",
    "$$"
   ]
  },
  {
   "cell_type": "markdown",
   "metadata": {
    "id": "vMh5p1LKEwh1",
    "pycharm": {
     "name": "#%% md\n"
    }
   },
   "source": [
    "We can therefore find the coordinates `s`, `u`, `v` of the intersection point by solving the linear system above."
   ]
  },
  {
   "cell_type": "code",
   "execution_count": 32,
   "metadata": {
    "id": "OyjOGJQD1cwG",
    "pycharm": {
     "name": "#%%\n"
    }
   },
   "outputs": [],
   "source": [
    "import numpy as np\n",
    "import torch as t\n",
    "import matplotlib.pyplot as plt"
   ]
  },
  {
   "cell_type": "markdown",
   "metadata": {
    "id": "9nhRK9aL4CxA",
    "pycharm": {
     "name": "#%% md\n"
    }
   },
   "source": [
    "Again using `torch.linalg.solve` and `torch.stack`, write a function `triangle_line_intersects(A, B, C, O, D)` that receives a single triangle's vertices `A`, `B`, `C`; a line's point `O` and direction `D` (all as torch tensors of shape `[3]`); and returns a boolean value as to whether they intersect or not. This can be done reasonably in two lines of code."
   ]
  },
  {
   "cell_type": "code",
   "execution_count": 33,
   "metadata": {
    "id": "hogYxNAnC2wc",
    "pycharm": {
     "name": "#%%\n"
    }
   },
   "outputs": [],
   "source": [
    "def triangle_line_intersects(A, B, C, O, D):\n",
    "    #if (A-O) * (D-O) == 0 and (B-O) * (D-O) and (C-O) * (D-O)\n",
    "    #    return t.Tensor(False)\n",
    "    s, u, v = t.linalg.solve(t.stack([-D, (B-A), (C-A)], dim=-1), O-A)\n",
    "    return u >= 0 and v >= 0 and u+v <= 1 and s >= 0"
   ]
  },
  {
   "cell_type": "code",
   "execution_count": 34,
   "metadata": {},
   "outputs": [
    {
     "ename": "_LinAlgError",
     "evalue": "linalg.solve: The diagonal element 3 is zero, the solve could not be completed because the input matrix is singular.",
     "output_type": "error",
     "traceback": [
      "\u001b[0;31m---------------------------------------------------------------------------\u001b[0m",
      "\u001b[0;31m_LinAlgError\u001b[0m                              Traceback (most recent call last)",
      "Input \u001b[0;32mIn [34]\u001b[0m, in \u001b[0;36m<cell line: 7>\u001b[0;34m()\u001b[0m\n\u001b[1;32m      5\u001b[0m O \u001b[38;5;241m=\u001b[39m t\u001b[38;5;241m.\u001b[39mTensor([\u001b[38;5;241m0\u001b[39m, \u001b[38;5;241m0\u001b[39m, \u001b[38;5;241m0\u001b[39m])\n\u001b[1;32m      6\u001b[0m D \u001b[38;5;241m=\u001b[39m t\u001b[38;5;241m.\u001b[39mTensor([\u001b[38;5;241m0\u001b[39m, \u001b[38;5;241m1\u001b[39m, \u001b[38;5;241m0\u001b[39m])\n\u001b[0;32m----> 7\u001b[0m u_v \u001b[38;5;241m=\u001b[39m \u001b[43mt\u001b[49m\u001b[38;5;241;43m.\u001b[39;49m\u001b[43mlinalg\u001b[49m\u001b[38;5;241;43m.\u001b[39;49m\u001b[43msolve\u001b[49m\u001b[43m(\u001b[49m\u001b[43mt\u001b[49m\u001b[38;5;241;43m.\u001b[39;49m\u001b[43mstack\u001b[49m\u001b[43m(\u001b[49m\u001b[43m[\u001b[49m\u001b[38;5;241;43m-\u001b[39;49m\u001b[43mD\u001b[49m\u001b[43m,\u001b[49m\u001b[43m \u001b[49m\u001b[43m(\u001b[49m\u001b[43mB\u001b[49m\u001b[38;5;241;43m-\u001b[39;49m\u001b[43mA\u001b[49m\u001b[43m)\u001b[49m\u001b[43m,\u001b[49m\u001b[43m \u001b[49m\u001b[43m(\u001b[49m\u001b[43mC\u001b[49m\u001b[38;5;241;43m-\u001b[39;49m\u001b[43mA\u001b[49m\u001b[43m)\u001b[49m\u001b[43m]\u001b[49m\u001b[43m,\u001b[49m\u001b[43m \u001b[49m\u001b[43mdim\u001b[49m\u001b[38;5;241;43m=\u001b[39;49m\u001b[38;5;241;43m-\u001b[39;49m\u001b[38;5;241;43m1\u001b[39;49m\u001b[43m)\u001b[49m\u001b[43m,\u001b[49m\u001b[43m \u001b[49m\u001b[43mO\u001b[49m\u001b[38;5;241;43m-\u001b[39;49m\u001b[43mA\u001b[49m\u001b[43m)\u001b[49m\n\u001b[1;32m      8\u001b[0m (u_v[\u001b[38;5;241m1\u001b[39m:] \u001b[38;5;241m>\u001b[39m\u001b[38;5;241m=\u001b[39m \u001b[38;5;241m0\u001b[39m)\u001b[38;5;241m.\u001b[39mall() \u001b[38;5;129;01mand\u001b[39;00m u_v[\u001b[38;5;241m1\u001b[39m:]\u001b[38;5;241m.\u001b[39msum() \u001b[38;5;241m<\u001b[39m\u001b[38;5;241m=\u001b[39m \u001b[38;5;241m1\u001b[39m \u001b[38;5;129;01mand\u001b[39;00m (u_v[\u001b[38;5;241m0\u001b[39m] \u001b[38;5;241m>\u001b[39m\u001b[38;5;241m=\u001b[39m \u001b[38;5;241m0\u001b[39m)\n",
      "\u001b[0;31m_LinAlgError\u001b[0m: linalg.solve: The diagonal element 3 is zero, the solve could not be completed because the input matrix is singular."
     ]
    }
   ],
   "source": [
    "triangle = t.Tensor([[1, 1, 1], [1, 0, 3], [1, 3, 3]])\n",
    "A = triangle[0]\n",
    "B = triangle[1]\n",
    "C = triangle[2]\n",
    "O = t.Tensor([0, 0, 0])\n",
    "D = t.Tensor([0, 1, 0])\n",
    "u_v = t.linalg.solve(t.stack([-D, (B-A), (C-A)], dim=-1), O-A)\n",
    "(u_v[1:] >= 0).all() and u_v[1:].sum() <= 1 and (u_v[0] >= 0)"
   ]
  },
  {
   "cell_type": "code",
   "execution_count": null,
   "metadata": {},
   "outputs": [],
   "source": []
  },
  {
   "cell_type": "markdown",
   "metadata": {
    "id": "VJ06CLjRDfXj",
    "pycharm": {
     "name": "#%% md\n"
    }
   },
   "source": [
    "*Optional: the suggested implementation will fail if the line is parallel to the triangle's plane. Think of simple ways for making an implementation that covers this case.*"
   ]
  },
  {
   "cell_type": "markdown",
   "metadata": {
    "id": "IKKniUtAHImG",
    "pycharm": {
     "name": "#%% md\n"
    }
   },
   "source": [
    "### Camera"
   ]
  },
  {
   "cell_type": "markdown",
   "metadata": {
    "id": "UVPdeP6VHKxl",
    "pycharm": {
     "name": "#%% md\n"
    }
   },
   "source": [
    "To define our field of vision, we will use the abstraction of a `Camera`, defining the origin and direction of the light rays, and a viewport resolution."
   ]
  },
  {
   "cell_type": "code",
   "execution_count": 164,
   "metadata": {
    "id": "nUb565XPIUV7",
    "pycharm": {
     "name": "#%%\n"
    }
   },
   "outputs": [],
   "source": [
    "def normalize(x):\n",
    "  return x / t.sqrt(t.sum(x**2, dim=-1, keepdim=True))\n",
    "\n",
    "def _get_rotation(forward, device=\"cpu\"):\n",
    "  forward = normalize(forward)\n",
    "  right = t.cross(t.tensor([0.0, 1.0, 0.0]).to(device), forward)\n",
    "  up = t.cross(forward, right)\n",
    "  R = normalize(t.stack([right, up, forward], axis=0))\n",
    "  def rotate(x):\n",
    "    return t.einsum('ij,...i->...j', R, x)\n",
    "  return rotate\n",
    "\n",
    "class Camera:\n",
    "  def __init__(self, *, origin=None, direction=None, target=None, height=60, width=50, device=\"cpu\"):\n",
    "    if origin is None:\n",
    "      origin = t.zeros(3)\n",
    "    if direction is None:\n",
    "       direction = t.tensor([0.0, 0.0, 1.0])\n",
    "    if target is not None:\n",
    "      direction = target - origin\n",
    "    \n",
    "    self.device=device\n",
    "    self.origin = origin.to(device)\n",
    "    self.height = height\n",
    "    self.width = width\n",
    "    direction = direction.to(device)\n",
    "    self.direction = normalize(direction).to(device)\n",
    "    self.target = target.to(device)\n",
    "    self.x_angle = np.pi / 4\n",
    "\n",
    "  def pixel_rays(self, origins=None):\n",
    "    H = self.height\n",
    "    W = self.width\n",
    "    x_bound = np.tan(self.x_angle / 2)\n",
    "    y_bound = H/W * x_bound\n",
    "    device = self.device\n",
    "    if origins is None:\n",
    "        viewport_grid = t.ones(H, W, 3).to(device)\n",
    "        viewport_grid[t.arange(H), :, 1] = t.linspace(-y_bound, y_bound, H)[:, None].to(device)\n",
    "        viewport_grid[:, t.arange(W), 0] = t.linspace(-x_bound, x_bound, W).to(device)\n",
    "        D = _get_rotation(self.direction, device=device)(viewport_grid)\n",
    "        D = normalize(D)\n",
    "        return D\n",
    "    origins.to(device)\n",
    "    O = origins.size(0)\n",
    "    viewport_grid = t.ones(H, W, 3).to(device)\n",
    "    viewport_grid[t.arange(H), :, 1] = t.linspace(-y_bound, y_bound, H)[:, None].to(device)\n",
    "    viewport_grid[:, t.arange(W), 0] = t.linspace(-x_bound, x_bound, W).to(device)\n",
    "    D = t.stack([normalize(_get_rotation(self.target - origin, device=device)(viewport_grid)) for origin in origins])\n",
    "    return D"
   ]
  },
  {
   "cell_type": "markdown",
   "metadata": {
    "id": "_wLkaUCeygNu",
    "pycharm": {
     "name": "#%% md\n"
    }
   },
   "source": [
    "### Single-triangle rendering"
   ]
  },
  {
   "cell_type": "markdown",
   "metadata": {
    "id": "_9YzvbdmqpMD",
    "pycharm": {
     "name": "#%% md\n"
    }
   },
   "source": [
    "For raytracing a triangle, we will simply check for triangle-line intersections for all light rays at once."
   ]
  },
  {
   "cell_type": "markdown",
   "metadata": {
    "id": "7xInR0Zyg-1q",
    "pycharm": {
     "name": "#%% md\n"
    }
   },
   "source": [
    "Implement a function `raytrace_triangle(triangle, camera)` that receives a `triangle` (a tensor of size `[3, 3]`) and a `camera` object, and returns a tensor with each entry corresponding to the presence of a triangle on that pixel (1 if there is a triangle, and 0 otherwise). Use a single batch call to `torch.linalg.solve`. Visualize the result with `plt.imshow`.\n",
    "* Your function is expected to look similar to `triangle_line_intersects`, with some preprocessing and postprocessing around the call to `solve`.\n",
    "* It is suggested to use `einops.reshape` and `einops.repeat` to process tensor shapes.\n"
   ]
  },
  {
   "cell_type": "code",
   "execution_count": 96,
   "metadata": {},
   "outputs": [],
   "source": [
    "c = Camera()\n",
    "p_rays = einops.rearrange(c.pixel_rays(), 'h w v -> (h w) v')\n",
    "O = einops.repeat(c.origin, 'v -> b v', b=c.height*c.width)\n",
    "D = p_rays\n",
    "T = einops.repeat(triangle, 'd v -> d b v', b=c.height*c.width)\n",
    "s, u, v = einops.rearrange(t.linalg.solve(t.stack([-D, (T[1]-T[0]), (T[2]-T[0])], dim=-1), O-T[0]), 'b s_u_v -> s_u_v b')"
   ]
  },
  {
   "cell_type": "code",
   "execution_count": 97,
   "metadata": {
    "colab": {
     "base_uri": "https://localhost:8080/",
     "height": 282
    },
    "id": "6jb_3fD4yvwK",
    "outputId": "ac7f3a46-bc5c-4dfa-fc23-516867cff7db",
    "pycharm": {
     "name": "#%%\n"
    }
   },
   "outputs": [],
   "source": [
    "def raytrace_triangle(triangle, c):\n",
    "    D = einops.rearrange(c.pixel_rays(), 'h w v -> (h w) v')\n",
    "    O = einops.repeat(c.origin, 'v -> b v', b=c.height*c.width)\n",
    "    T = einops.repeat(triangle, 'd v -> d b v', b=c.height*c.width)\n",
    "    s, u, v = einops.rearrange(t.linalg.solve(t.stack([-D, (T[1]-T[0]), (T[2]-T[0])], dim=-1), O-T[0]), 'b s_u_v -> s_u_v b')\n",
    "    return einops.rearrange((u >= 0) * (v >= 0) * (u+v <= 1) * (s >= 0), '(h w) -> h w', h=c.height, w=c.width)"
   ]
  },
  {
   "cell_type": "code",
   "execution_count": 98,
   "metadata": {},
   "outputs": [
    {
     "data": {
      "text/plain": [
       "<matplotlib.image.AxesImage at 0x7f77c29617c0>"
      ]
     },
     "execution_count": 98,
     "metadata": {},
     "output_type": "execute_result"
    },
    {
     "data": {
      "image/png": "[encoded data removed]",
      "text/plain": [
       "<Figure size 432x288 with 1 Axes>"
      ]
     },
     "metadata": {
      "needs_background": "light"
     },
     "output_type": "display_data"
    }
   ],
   "source": [
    "\n",
    "point = t.tensor([0.0, 0.0, 3.0])\n",
    "camera = Camera(direction=point)\n",
    "triangle = point + t.tensor([[0, 0, 0.0], [0, 1, 0.0], [1, 1, 0.0]])\n",
    "view = raytrace_triangle(triangle, camera)\n",
    "plt.imshow(view, origin='lower')"
   ]
  },
  {
   "cell_type": "markdown",
   "metadata": {
    "id": "QQeBGJqnyks-",
    "pycharm": {
     "name": "#%% md\n"
    },
    "tags": []
   },
   "source": [
    "### Mesh rendering"
   ]
  },
  {
   "cell_type": "markdown",
   "metadata": {
    "id": "liPQYuIXrBi5",
    "pycharm": {
     "name": "#%% md\n"
    }
   },
   "source": [
    "For raytracing a mesh, we will find the intersection points for all pixel rays and all triangles at once."
   ]
  },
  {
   "cell_type": "code",
   "execution_count": 99,
   "metadata": {
    "id": "kh2jwuFD8UhR",
    "pycharm": {
     "name": "#%%\n"
    }
   },
   "outputs": [
    {
     "name": "stdout",
     "output_type": "stream",
     "text": [
      "\u001b[33mWARNING: Running pip as the 'root' user can result in broken permissions and conflicting behaviour with the system package manager. It is recommended to use a virtual environment instead: https://pip.pypa.io/warnings/venv\u001b[0m\u001b[33m\n",
      "\u001b[0m"
     ]
    }
   ],
   "source": [
    "!pip install -q numpy-stl"
   ]
  },
  {
   "cell_type": "code",
   "execution_count": 100,
   "metadata": {
    "id": "Y6o_jBB-d5CW",
    "pycharm": {
     "name": "#%%\n"
    }
   },
   "outputs": [],
   "source": [
    "!wget -O pikachu-flowalistik.STL -q https://cdn.thingiverse.com/assets/80/10/f0/76/fb/pikachu_1gen_flowalistik.STL"
   ]
  },
  {
   "cell_type": "code",
   "execution_count": 101,
   "metadata": {
    "id": "wZXIGaQF8WzZ",
    "pycharm": {
     "name": "#%%\n"
    }
   },
   "outputs": [],
   "source": [
    "from stl import mesh\n",
    "model = mesh.Mesh.from_file('pikachu-flowalistik.STL')\n",
    "triangles = t.tensor(model.vectors.copy())\n",
    "triangles[:, :, [2, 0, 1]] = triangles.clone()\n",
    "\n",
    "# center the mesh at (0, 0, 0)\n",
    "mesh_center = triangles.mean(dim=(0, 1))\n",
    "triangles -= mesh_center"
   ]
  },
  {
   "cell_type": "markdown",
   "metadata": {
    "id": "JF8eKuDffeL3",
    "pycharm": {
     "name": "#%% md\n"
    }
   },
   "source": [
    "Step: implement a function `raytrace_mesh(triangles, camera)` that receives the `triangles` of a mesh (a tensor of size `[T, 3, 3]`) and a `camera` object, and returns a tensor with the distance to the mesh at that pixel (let the distance be infinite if there is no intersection); Use a single batch call to `torch.linalg.solve`. Visualize the result with `plt.imshow`.\n",
    "* Your function is expected to look similar to `raytrace_triangle`.\n",
    "* Target the camera towards (0, 0, 0) which is the average position of all triangle vertices due to the centering code in the cell above.\n",
    "\n",
    "You might end up getting errors like 'the solve could not be completed because the input matrix is singular' on this next part or later if the camera position happens to produce a ray which is parallel to a triangle.\n",
    "Don't worry about this unless it comes up. You can fix this issue by checking which matrices are singular, replacing these matrices with the identity, and then requiring that the matrix was non-singular for there to be an intersection. (Hint: how can you cheaply check if a matrix is singular?)"
   ]
  },
  {
   "cell_type": "code",
   "execution_count": 102,
   "metadata": {},
   "outputs": [
    {
     "data": {
      "text/plain": [
       "tensor([inf])"
      ]
     },
     "execution_count": 102,
     "metadata": {},
     "output_type": "execute_result"
    }
   ],
   "source": [
    "t.Tensor([1.1]) * t.Tensor([True]) / t.Tensor([False])"
   ]
  },
  {
   "cell_type": "code",
   "execution_count": 107,
   "metadata": {
    "colab": {
     "base_uri": "https://localhost:8080/",
     "height": 282
    },
    "id": "04mpRA0HVDKg",
    "outputId": "fbea0d03-9d4f-46ee-9062-8bbbe02d71c9",
    "pycharm": {
     "name": "#%%\n"
    }
   },
   "outputs": [],
   "source": [
    "def raytrace_mesh(triangles, c):\n",
    "    triangles = triangles.to(c.device)\n",
    "    t_size = triangles.size(0)\n",
    "    D = einops.repeat(c.pixel_rays(), 'h w v -> (h w t) v', t=t_size)\n",
    "    O = einops.repeat(c.origin, 'v -> (h w t) v', h=c.height, w=c.width, t=t_size)\n",
    "    T = einops.repeat(triangles, 't d v -> d (h w t) v', h=c.height, w=c.width)\n",
    "    s, u, v = einops.rearrange(t.linalg.solve(t.stack([-D, (T[1]-T[0]), (T[2]-T[0])], dim=-1), O-T[0]), 'b s_u_v -> s_u_v b')\n",
    "    # print((s / (~((u >= 0) * (v >= 0) * (u+v <= 1) * (s >= 0)))))\n",
    "    # print(~((u >= 0) * (v >= 0) * (u+v <= 1) * (s >= 0)))\n",
    "    return einops.reduce((s / ((u >= 0) * (v >= 0) * (u+v <= 1) * (s >= 0))).abs(), '(h w t) -> h w', 'min', h=c.height, w=c.width, t=t_size)"
   ]
  },
  {
   "cell_type": "code",
   "execution_count": 108,
   "metadata": {},
   "outputs": [
    {
     "data": {
      "text/plain": [
       "<matplotlib.image.AxesImage at 0x7f776bf9e070>"
      ]
     },
     "execution_count": 108,
     "metadata": {},
     "output_type": "execute_result"
    },
    {
     "data": {
      "image/png": "[encoded data removed]",
      "text/plain": [
       "<Figure size 432x288 with 2 Axes>"
      ]
     },
     "metadata": {
      "needs_background": "light"
     },
     "output_type": "display_data"
    }
   ],
   "source": [
    "origin = t.tensor([-70, 20, 20])\n",
    "device = t.device(\"cuda:0\" if t.cuda.is_available() else \"cpu\")\n",
    "camera = Camera(origin=origin, target=t.zeros(3), height=180, width=120, device=device)\n",
    "\n",
    "fig, axes = plt.subplots(1, 2)\n",
    "axes = axes.flatten()\n",
    "dists = raytrace_mesh(triangles, camera)\n",
    "intersects = t.isfinite(dists)\n",
    "dists = dists.to(\"cpu\")\n",
    "intersects = intersects.to(\"cpu\")\n",
    "axes[0].imshow(intersects, origin='lower')\n",
    "axes[1].imshow(dists, origin='lower')"
   ]
  },
  {
   "cell_type": "code",
   "execution_count": 106,
   "metadata": {},
   "outputs": [
    {
     "data": {
      "text/plain": [
       "False"
      ]
     },
     "execution_count": 106,
     "metadata": {},
     "output_type": "execute_result"
    }
   ],
   "source": [
    "dists.is_cuda"
   ]
  },
  {
   "cell_type": "markdown",
   "metadata": {
    "id": "k185npong5e3",
    "pycharm": {
     "name": "#%% md\n"
    }
   },
   "source": [
    "### Vectorizing it further"
   ]
  },
  {
   "cell_type": "code",
   "execution_count": null,
   "metadata": {
    "id": "iVIpJWLHH-eC",
    "pycharm": {
     "name": "#%%\n"
    }
   },
   "outputs": [],
   "source": [
    "!pip install -q mediapy"
   ]
  },
  {
   "cell_type": "code",
   "execution_count": null,
   "metadata": {
    "id": "tgKEyzL6HxtM",
    "pycharm": {
     "name": "#%%\n"
    }
   },
   "outputs": [],
   "source": [
    "from PIL import Image\n",
    "import mediapy as media"
   ]
  },
  {
   "cell_type": "markdown",
   "metadata": {
    "id": "t0HSO-YLg8o1",
    "pycharm": {
     "name": "#%% md\n"
    }
   },
   "source": [
    "We can just keep vectorizing! We will now make a video rotating around our model mesh."
   ]
  },
  {
   "cell_type": "markdown",
   "metadata": {
    "id": "2jac2UU5hy4s",
    "pycharm": {
     "name": "#%% md\n"
    }
   },
   "source": [
    "Write a function `multirender_mesh(triangles, camera, origins)`, behaving similar to `render_mesh`, with the change that it accepts a parameter `origins`, corresponding to different positions of the camera, and returns the distances to the model for each origin and pixel. Use a single call to `torch.linalg.solve`. Use this function to make a video rotating around the model. You can use [media.show_video](https://google.github.io/mediapy/#mediapy.show_video) to display the video in a notebook. The easiest way to do this is probably to render each frame with matplotlib to an image file, load each image file using `Image`, and then pass all the images to `media.show_video`. \n",
    "\n",
    "This might end up taking a while to run. Be careful not to use too much RAM! \n",
    "\n",
    "_Optional: run the rendering on the GPU and try to make it faster. Also consider playing around with other meshes._"
   ]
  },
  {
   "cell_type": "code",
   "execution_count": 165,
   "metadata": {
    "colab": {
     "base_uri": "https://localhost:8080/"
    },
    "id": "LQejj4CT7Eb9",
    "outputId": "6ce38b54-8fe6-4415-c11a-a18d2bb71556",
    "pycharm": {
     "name": "#%%\n"
    }
   },
   "outputs": [],
   "source": [
    "def multirender_mesh(triangles, c, origins):\n",
    "    triangles = triangles.to(c.device)\n",
    "    origins = origins.to(c.device)\n",
    "    t_size = triangles.size(0)\n",
    "    o_size = origins.size(0)\n",
    "    print(c.pixel_rays(origins=origins).size())\n",
    "    D = einops.repeat(c.pixel_rays(origins=origins), 'o h w v -> (h w t o) v', t=t_size, o=o_size)\n",
    "    O = einops.repeat(origins, 'o v -> (h w t o) v', h=c.height, w=c.width, t=t_size, o=o_size)\n",
    "    print(o_size, t_size, c.height, c.width)\n",
    "    T = einops.repeat(triangles, 't d v -> d (h w t o) v', h=c.height, w=c.width, o=o_size)\n",
    "    s, u, v = einops.rearrange(t.linalg.solve(t.stack([-D, (T[1]-T[0]), (T[2]-T[0])], dim=-1), O-T[0]), 'b s_u_v -> s_u_v b')\n",
    "    # print((s / (~((u >= 0) * (v >= 0) * (u+v <= 1) * (s >= 0)))))\n",
    "    # print(~((u >= 0) * (v >= 0) * (u+v <= 1) * (s >= 0)))\n",
    "    return einops.reduce((s / ((u >= 0) * (v >= 0) * (u+v <= 1) * (s >= 0))).abs(), '(h w t o) -> o h w', 'min', h=c.height, w=c.width, t=t_size, o=o_size)"
   ]
  },
  {
   "cell_type": "code",
   "execution_count": 202,
   "metadata": {},
   "outputs": [
    {
     "name": "stdout",
     "output_type": "stream",
     "text": [
      "torch.Size([45, 50, 60, 3])\n",
      "45 412 50 60\n"
     ]
    },
    {
     "data": {
      "text/plain": [
       "<matplotlib.image.AxesImage at 0x7f774ce337c0>"
      ]
     },
     "execution_count": 202,
     "metadata": {},
     "output_type": "execute_result"
    },
    {
     "data": {
      "image/png": "[encoded data removed]",
      "text/plain": [
       "<Figure size 432x288 with 2 Axes>"
      ]
     },
     "metadata": {
      "needs_background": "light"
     },
     "output_type": "display_data"
    }
   ],
   "source": [
    "origin = t.tensor([-70, 20, 20])\n",
    "# origins = einops.repeat(origin, 'v -> o v', o=30).clone()\n",
    "# origins[:, 2] = t.linspace(50, -50, 30)\n",
    "# origins[:, 0] = t.sqrt(((t.zeros(30) + 50) - origins[:, 2]).pow(2))\n",
    "#device = t.device(\"cuda:0\" if t.cuda.is_available() else \"cpu\")\n",
    "nO = 45\n",
    "origins = [\n",
    "    t.tensor([-40.00001 * np.cos(a), 30.01, -100.001 * np.sin(a)]).float()\n",
    "    for a in np.linspace(0, 2 * np.pi, nO)\n",
    "]\n",
    "origins = t.stack(origins)\n",
    "device = \"cpu\"\n",
    "camera = Camera(origin=origin, target=t.zeros(3), height=50, width=60, device=device)\n",
    "\n",
    "fig, axes = plt.subplots(1, 2)\n",
    "axes = axes.flatten()\n",
    "dists = multirender_mesh(triangles, camera, origins)\n",
    "intersects = t.isfinite(dists)\n",
    "dists = dists.to(\"cpu\")\n",
    "intersects = intersects.to(\"cpu\")\n",
    "axes[0].imshow(intersects[0], origin='lower')\n",
    "axes[1].imshow(dists[0], origin='lower')"
   ]
  },
  {
   "cell_type": "code",
   "execution_count": 203,
   "metadata": {},
   "outputs": [
    {
     "data": {
      "text/html": [
       "<table class=\"show_videos\" style=\"border-spacing:0px;\"><tr><td style=\"padding:1px;\"><video controls width=\"275\" height=\"231\" style=\"object-fit:cover;\" loop autoplay>\n",
       "      <source src=\"data:video/mp4;base64,AAAAIGZ0eXBpc29tAAACAGlzb21pc28yYXZjMW1wNDEAAAAIZnJlZQABl1BtZGF0AAACfgYF//963EXpvebZSLeWLNgg2SPu73gyNjQgLSBjb3JlIDE1NSByMjkxNyAwYTg0ZDk4IC0gSC4yNjQvTVBFRy00IEFWQyBjb2RlYyAtIENvcHlsZWZ0IDIwMDMtMjAxOCAtIGh0dHA6Ly93d3cudmlkZW9sYW4ub3JnL3gyNjQuaHRtbCAtIG9wdGlvbnM6IGNhYmFjPTEgcmVmPTMgZGVibG9jaz0xOjA6MCBhbmFseXNlPTB4MToweDExMSBtZT1oZXggc3VibWU9NyBwc3k9MSBwc3lfcmQ9MS4wMDowLjAwIG1peGVkX3JlZj0xIG1lX3JhbmdlPTE2IGNocm9tYV9tZT0xIHRyZWxsaXM9MSA4eDhkY3Q9MCBjcW09MCBkZWFkem9uZT0yMSwxMSBmYXN0X3Bza2lwPTEgY2hyb21hX3FwX29mZnNldD00IHRocmVhZHM9NyBsb29rYWhlYWRfdGhyZWFkcz0xIHNsaWNlZF90aHJlYWRzPTAgbnI9MCBkZWNpbWF0ZT0xIGludGVybGFjZWQ9MCBibHVyYXlfY29tcGF0PTAgY29uc3RyYWluZWRfaW50cmE9MCBiZnJhbWVzPTMgYl9weXJhbWlkPTIgYl9hZGFwdD0xIGJfYmlhcz0wIGRpcmVjdD0xIHdlaWdodGI9MSBvcGVuX2dvcD0wIHdlaWdodHA9MiBrZXlpbnQ9MjUwIGtleWludF9taW49MTUgc2NlbmVjdXQ9NDAgaW50cmFfcmVmcmVzaD0wIHJjPWNxcCBtYnRyZWU9MCBxcD0yMCBpcF9yYXRpbz0xLjQwIHBiX3JhdGlvPTEuMzAgYXE9MACAAAAPFmWIhAD//vOb4FM+hV/Nv/3G8KsmCmcRfn/rCn1773a4Cy0IiOlje3VBLWqCI/iPkSt8//tcRESzCSuPpgHy0ipURvGwOqGKy9sQ8ZtT7fCjPD/KCy2VWKNcBJNCPUTgE8ciPVT1v9fSuNu8cQv6P0x+XlPMq3BaSRChULryesbM6zf9iGkPbOZKRf4WSS2l7vxpm7qaQUG931gCn95k+T7SSX52ugCstYmTBwoi0vjHUN4Vb300Ai7cn4MLvvjJFQO+kmwk1TMhYwdckdNSbRmM7/sB7Q8tTv763noytOZkQA1FvkVUpXyJZ5h/vmeP83JoTGMQjlHyJPKb9U1AHQsLCsDnjUxRVEgpqJ7CWTZpjxtnMuTomK26ikyB+mBh4KUQNn396YCWgEwn4Zt+uxSjxDEatMeuKVbL6hvDHhxTb+u9R9+md+cfJNv04uhYvnhhRLAuQ6nCkGg5NDhZidFMlsZKUYRmkt2eYJZJ4RG7Z150mXdWly3shvm7bqMH0zXxWSPYQYHrwvIlIYV7kVV6LDObjogyl+oCMs9ngb+T+3bXY4zVex2KyaEWX5PRjQ1SUlrKNlLtoNONsdk2qGHOZhHPPjdP3pkmtcgS1VqkicKc2yrmynz68fa2C0dLxTWDc/lx1UGaP6gOjl63biv/w58J3dIPoBNcwjqGhbnKgqeBbUH00hE2W0rw3qjvKq20yTH4qVVbXTuoXOIIIE87NBKlQukho6gTZdxTbdUfiXCxslCVhdqBQ+S3iIWJif2btmmzhO7irXcjVzW1e2XGXylQv1u2Nm7Do8HP7KJXltlteXhenQWgV21kII9D4aZzNpSQrNTDgJBuLIAWfAhOjQmJLRq6U+rbMkRFciSz3cdfMk76DpTGnAJ5TfJ+agXLrnb/gAfWIKOesjJDjcv7wtmllcO2byKMdnE7I8ICy7FEVasQ2bfA0+wk4t9SYAY0jxS93lrukpp+Y3UJnFIgbR16HrxBLRVi5zoa4TFtwyFVxW8FzeyRuqrzs14HPyao/bapAGxke1q+Gd6jwBnZ4yi7VYK9oW+iij662vaS94bY4qewWQgLu1+gNH95kSXNS7ODPf4QTmoRox2xTORCbDSPaEFYc/dpznTNLT4FekExkU1PVAxr9UDIup2QAbOr+XSBBv6LZdQ1wfos6IYzu+Wxl7V8sm2F8x4mHdrjiGqFIejbkPNYxWKJZdIoUj7OQZaGJx1xy/rJQ5o6+aGAYnrzhW5FxQpptBEfQpqLyJAqakNQgWp34tcgFBnFhah/p17lAkrABjG+4CQen/iaEbNNrQ0J96N6CNp0oWpS68vWOo4Z79d1mvQ0F35sh4LqYObg62R/t1tjh7Hm+/gKHqp883HlCkkM5NInNyBmvwKLoAPPQfwLNn/vk2k/6VllkQYwNPiJOw4zY4irSRtWCS0SYP1/R8DLpUwnczTi2+yjyWxBsW+WEKBshus902J8H7OkKHNem+D0NhQPA5Q+INd31LBjzJT8veUY2yKktW+l1M1ZycgAUQb51O/uP8Kt/dwYtI+y8RtsAF6fW+SyrZRKVoqF20rV/ia60wfZzuIsMWWATJObTzOMD4rXUC+2PUeOX4J6P1kmgfmC0Whpw/Z7qc68wvnGlA35GIHI/Zf0/0q2Mfs+UspGjoubPYbNX9JoZJbUf6MlOrWTDDfApqOZ7OdlLQ7PH8Q4Olxxni0L75q43LXbJ76fjNAS9tUWYjTxBmz04UzNS7YIcb6T4opFNnmS/8u1CzN30PkYUuzVl4r0rvh581gNMvJP/ZKLsENgTR49E7Q52zq79LWT/dLRGT2A7htWr5mwo7ztYQXN/bf8umFDMIrNIGY92lrMcg9d27WnGat67Bh7cu8yL0s/gahx3A8cFrHMW0LaGsE8s/phIehhYxAhE2dLkM+IC1K8jNLPsvAxrYf+L86bf76ob/Q/8+PxBDirY90+PBTBRNCOb+BOWLlbRBNWfpaCq3S98zE9KBWXbrfMM6hOT5Xwq0kn6F0YWA9gJD8j+GVShmmLkx9jV9FIiRxpNJjNQiS6cyw2avMFaUU70ELBVXT9XpuVmCyanabn8qocP/vt7z1YbYtJHvz+R+pq7ResT/zFvzckxilX7LPxKyFmbqYle0azoKnMIRoune7nmokgFsGGgqWss7zbgY+B8S3UTgu9/b8jk5cP3BFM8VEq+NiLrQVUd35sGdoaM8ljkoGu1xTXGM49Vew1a/tqZAFVzGw3/MdPKY/LHryv3RB146G1Co8UqUVapzXntEN9DZlRewCoG+4+fuvsI8MCTjUH3SZWBZf1m67IXfkpZlgsdBSDojHCwaKjjZWLO5cw3egnxSMBO/JoBcp8W8wVnWJAqHTNUZxnvJB0THe49VrJnQ/FPOqow6/pxMLjrz0AvhSRhxpW1y136Yr67poxIPw90g+VEzKaLJqpehI616n7IeyolPIxKZrqCQ4EqIRAjHWdm1n6K8E4K94ENKjg6A/RCDeNoujll4HZC88daIQcrIYFsFwVD9Sy15+9/jWuBzKJnBoSgk7OsD79P0L/+Pi0TNg1DLpv4qt3sre4gZqsEEBiMSww9fOwW9xJv2N3r3VfM3HX7Ha55acDvCTHq+v3t2rsA73fpetC0hKXPEoRQfmWGURL3XZQ2F0cqADwePGdUFAobQbmCYLZ4n6qEniDhQMmAx4Mf4fmXPk19sAqQcM7V+oL0IjTjKqfzjdGYWNp5JVt2QfgqYIZ8G3pBAuOTeGd/8am0ro0fGoEKmVq2uum3uf9UHb7LDLtIdMxpdpfonDKrc7jRfZsMgTgZiyrB17xap+EKSSjHDLF+EVG/lw/QW9pLM+eLeIZGwPNa5QClPT+b44LgZ1HNUsGqU8J1QmgRgXhkHdLMhCQnvshd/b2y7bnXi+a5unoLZFdBpuT7M1vsVwxV0OoiKBhsY1ODKKlyoMrcVFnOrNJCJ1I2+Ar9pPWi5vQ2aNf8pSh7Vc7Q8M4+OTHdT0gHSmjD7LOj5/yKcTWi1irsM1vTHplKQLjWmIHH8/HdyLKgH7jXPU0MrORfQRrnExCbKRGC0cV6KcLZdDvwzxwhwohIdSrbso+4On4kZGKbYglxbkK0mU4JW80bdgyENL1P/7k072lJyA0qRoIgJZy8kbJLPZ0DCBzRY6Qa+9MI3DO6b+S0Q+D3kyQrGXKzyxMWF33pKAVuJ5d0//nXOH05V7rVzKJZ+4sFXvv/H9wGYYdaSDXcdVvUJem9PpkcejoZUm088NmQQYQR0+7c1rbJ4iZAgvUIrnXfrSeSUs4p4WxPrsFL/X0kCQayPKGMB028oOAEN53TGtvIH+e5EhI6XsC76YdU0kwpbm0nE8YGr8Wi1oOfENOz9Y/OAXNqR3OjFC3v4bT+nDMouW9E0GSixAfrTzJqiCmFFqwb8FrrVrM7TXHIvzlVqMmNZG4RMoJtlgA5IzLbbXUA6LUIx4bQ9GZlZBSAx2/ezA2oYuWXzCisOP/Q3gOIr+22IE6kErkRZHcHzfV/gv5UskHeqLmVt87QgeXlOBeLHoZAIOU+hFPLjYBFkBR4G0QCIPYB8DqR6r8LUoqQZ1gIHJuK2+RdWg0ZdGhQ4miIi1BgPN2ZSpkSxGzUqTazJy5O6xVf+vgpJ1HW4nlL5n+hSTl3/BCLQFboVyU5iqV7aBfYTR2ul6wF9Cr2sR+zA0PCcrEziP/qYjm0fd2o66LqxfibHrx2mjrMqWkF/MZ7HqF4gW7cyHQHORoGHc9KUupEE4P0N+w9ViFl94Rmyh/iqBF90XKFcBj0907jC/6W1wpwMdkRius38Jt/jkkkjRX3hC5/fLJJ1aO8Ix4yYnnLig0ljKEwoW6wjHW+KR2uZINW5M3UKB+YoE0JKaNfawiecbnv8deAL4cO7QaoUEueSTCTTnl7diArjN8lfFAK0h9YRZUCkIaQACqi9PEmKrlAzC/DdcX1gXKSDZOWwf+gHBRL5AXtzgHNRz2EZi/3tWQZCKGqDpn74ybGnSQommNpkTAGbfrh8UpXo2vdCwXHysTtCOE+Uzqw0RhyWtu490FTZSVjuSWTbVD+IHkZtLb/nkSrd7ModxvPFCm5gekiNoiOS+nTJGzudinPXPOTlf3gvLHOJ4NiLbs2xOOqXQaMq+j2/F7JDkC/f4pH+fIp9SGsXhmdPN0jIp3ikOQJXU27bRb6AwNpCQ/PJ+qDGIF3emK/ZFPUgmcJhVMWBZKGUxSwDXMkVYrM783Rif9OXK87XDEt31nRTn3wiS2tgvruzRjhDRLwvi+ntlzlCFFYBm6kHaOks/TyBxkdmcfhE5YCeyVAEacGiyq797us+7i4VltlyaZTaLySRXz99rwuC2H4k9yF0YAtF4pNPZ4DWBNCJOye4a5HEcZB5y+dzY7WN29z7xiBAquTSG3VrDBpOKjvX8sxZFbFj99cOH/gfi5W0I5a0rJcDqw9PpMOX/x1RQMhAvCmx+kIMOkXUFMdZJ8FWHBSH8/6KVYr+Nn8v/6c3vtqZ3XFbVJ4N/D+EpBNMRIyAGPqPe9CEsL+c+mCzm5aqjv+WRDdx2dMV8TCBDh4XeL4eNz9j6uIn7eMXzlQSu2njM2SSRodSBhp3rr91v2bqVgYlUl27MboIHAV5gecgB8jUWqZqbiNKxzmNH5vMPrLY67aQHtgWgrpEjBO0UeZjPPCi8zVz8bT+aLGTb8f8HUpNgwHTX/PWsuRAUE0YSAFPOiuTfu2U/Y8P4tvT2LX0nLPFIXmPEjHchMq/Dxtp6AZAASsWrQigo7xvrreEyZKbNGL4jPl8L57KiYj1RtjmMfo8hAfhny2FmY3LZTNYcuC0hLJ8GQ8pzHCUw6UEx9eRb60/wAsUTZAdpb6Di8ZqYaSYR7evAl6DVJpjpFxk8oAuQ/6pQe3309ACIuSCa0/HeHAjW9OMKkzTrOLp/f4wsiuZuq0XUD89G1BL2q6XWZsA0q5kFKV9qyIc/ZX+eD4RD4s/SmBYI6jwEZ8OMM8nzmJllg1K2+pdW0nuO1r5aG+t0lNid/K09wVczk+5heZ/IfJYfJDJCS4vTT8GquMY19kfdtseo1mY+5+dThkQFi8QBSJXkBe1Zew4m7i7uYMX3mDZP/GOxFVf2w9rGKLalwBVnyD45HZcggox0AAAlQQZohbH/4aKg8jO+1HmhG8n6eGXm47QFyfnqs9kfNvKl0R3JSVYcThdVYgl/4EPOFl3/QhG9O+ZblaPYvIEMx9/HZGzyhFJ0tTDycu3p8uXcKzJg1BXw7vX3VXKLaXutaG4yyEZGI9dKWY6xW3c8T8No2WUvxNE1GeoMNWRXlr9oKo87AglcIatKfyTMxS+4H6NRrVmbR+JyJmRi9zk/Sljd//+c87vSs//xGwLhI0YN6nem/JtOXvx9MJJPlmtCOtXRcjuPpGkkZpcyOkwOcsFST+NvzDXHXKPz8jazZn1p5Hp7LNJ04NeNXU8Vd78CpUPXU9e3v391uWvc400X5FXf7rEzf4v1HNCpKNEhjM8T1hgZUnGiT4XdJQCCW1mWsL0fBTP4io9R6aG/svSpcWYN0yl9o9kc3VrE2usNklkwDfIa5e21KGpZwHjYY8BdV48QjOfoJghYd4hYTf/2OCL2oGcWuseDrs1A3K3dyDi9IcNJZzANd+VUAkwSV/41Ar6nPpAUJ+TDT2u62rXMfK0vaB6/dIrj9bQUm5q26thJQNg0avVO4zimZEcEwq6DFPxPwe6yLfk957l4HTMoMzxEtCH7/6FT7CaQwKw0Ndciy4lNgf5f61aW1OtZkGcqsWBEE0qXvuoBCYvd7qodOl5oTpRMUmN0WljuSxPG5CMCMyZK+GTe77zFWJLQNn2vyqdodPA9f+Wr2EZTNPjgfsloN0maqXnHTmS20FF8+85zC8rwhzNJLQosaf5PYvwRgAN25Hy+q6zxTAt8cl56bRNKJAhETBbfoL83J/QY72vv80j/i/RwYbHNPQGesU4tCiXA9vRkggdHMf5qBBLGv2L08A9Vq+E9tbyyo0kB/kqjiP41ufMRJYLr1/QEnwuWVT5dfiBAgm8ptj6F2TN4AcCycRxFTGyA5YvjRxTptA0uzNNCqNFlvk+aqLd/rUkPu63vJbLTZDDIgzD6v0m3+z0y+x7iwWDhl2sw8vsrnG9LLVDjNct143WU+3mRk1gJr66J6OsRrcgw+cXqyLSPUgWmW2mVhQEpnb0Zdqxk8lmpViXABkFlrYGKWE5hV+FJ3gNohxQ59o4KdMxiHZDv2EU+CUn0twui30urfk8mF8aGnNtmgu5MLLZB0uHW7+Qw1y/EDLG29JpDUou27Gr4yaybdnNeIFP1ke+PlRZQoQYY4oGgNV5wJIMmo4ufo3o+88nfJgQkaDhGxCnNPQ12DQo1PYS/HwuknP0XPV7jlp0WCW8KrYKhRfL1+fywLod5RiIYFSy/ZIn4xmBeURyKRaPwzksjrB5bxpyp30Jxg1BYHuHvkjq9Y4t9fMkOph36BG9bWdICzo2dKJz0DBCIqi2p/kzBmyJzWSyOiD8Bk36dss8skbfo/hAcGnEP7BAl3F6WisZbVkbxPT7z+x8hxpww6mgDqHFlS6UTIsE4ZlZJ+HXVhr+ANU0uV7bnZ8OwiNn62RGc0ljtWt3vGbsfzTEd0DDSH14aMq+yP+CLwKT8vdjjzkO+KWYbxM3mLwdN8Kg2/FrdYjr7cOC5R+Dn2UbGZHt6+URw5qKzf85nONNsvzc9FcuaIiXOxjBVM+Dg3hH4a6V/yQ/iHuW7qDhC0rG376/KETeCrGMqKNKJBgXAsO5a+0xBBMBMCGVGPs25ZS9hHaU+qfinkWqZDe4Kn/EigWL94Zll+i8MRUrCaGAGySt0+mCTHE0Ud9OEHYcFMxyhLuCU+zNYKJDPbuGGaNF1jQ6P2oW1IGFBT7xmOgOzxBiY7NBLcws+HHf0hegT8Q0DdviAyifcg0btkJ2ypAtP6MxsRwWCj+O4Cb8Qyy+SDLHgM02QMUo+ZAgNQ260O0vBMxhBpkqSk+cJocYKbyf3/23ppmASu+kOOpvoL8VIcIxUULBh2OUwLZlIciaaUbbeV2135ST1Kk7ie5rgGKx/Tq6MLbaAPF9VF+1PlVfnWmDklNw2VU+2eMawDtqz6tvxoem4tgYVrIiLv3+LCxx5AsT+PAmHulYTf2CU9QfBbrL7N1pBpCAfPpe+/FtPKpUF/VhcI1YPCdx1SYw8EycIuGlwmPBnsdhFgcdvO1BGH9G1c4Ia4dUZFd16ivpAcK+QIbT/fzGjOd4TD2xVZIMdYa8YWIo4G+zv6XXmBWMuI4lOTKLMuaiJXzgfPQAMHjd/PIcPdg5cw7YWuH+t2vN6VIGsVibsF/1wBa+b5+qOps42j+U3aTnfRT+WyvHZbntSFkCLBDAKoN8wlaxV/J70ydiIwRqJ4ovnyVdDv6DZXrtE/PVgkxl11MaCUyOofbq/nbZIe5YTzqcBjKwE4nve7+RJ7xTlt3MAL8DPfTUPX9e9khW1qm6863PylNCGlKW/2oJUHINnhzw3jst074r2wYV2JVLoW3RuhiR6f5PWiy5T7qIy/UVepx68nauSImA2H3P08RfWKaPLrhB7R+dZddn7flRfhy1tjrzCgXZVlhjE16W/9nPUQQ2BSIEfEKmQ1FrXrjx+GSXJZ2Mj9zZ7XmLs5oj3UFwnPj8TPRgkfiAErRHF5cNyN8h+OwjOSddWHFfLY5SrHKMqly2nmqjzRZtyBYHUcszKE8CSDaWxx1WEFHcA18/4P4BH2KG6fMO/5TN69SdLJROxV2CecXHX5S3dogyXdcvE+d/Ai0kCkn7tmWhWEyhJHbzIWlGcb6rDTREWIqL0+Odwl59PDOQC/yh8tPk/pTNpBwL5bG83rYVG+e1SzHAmunkwJjE+hhnWr1CszJoRdVkBD6VgpnFyKPfLlxhIxhlzwQhQ/zhyFKk+lsqTZ+QLigZSnBp2Rb5sn56s9LWMToURpT9tYfEEavKMxsM6Y9STSsky4cB/dwp+oKz+M2SWOds8zP+Y6U0WpnfZb5zow0gQpouJqXm6qbZ/as7Prh+LYX1sEQHS2e+wFYgGKts/bnNAqvfwyNU93HOZAwh0UA/RrTi5bln/53hnC0oDz7ruXT0+A1PVA4LaBvAxLrhXWf9fs4mSCX1/5D3/g8kTUpzfZsHftOLzv2kbglShZhgwjQyRWfAxnQyk/w1On93RKcFmRf4qiqhysup6POpw4DOPPz0N7hwUFO0qF+7VZ7InVz8Io94TeYy7De11Bu1qYwrpyJEO9TfcVGc6uSIEiDcV8AB4YUeQXK9hDo72/EWl0nt36pIAAABAtQZpFPCGTKYf//f9/a5pwFNMpWp3tUlpVrau3c/aB5SFciamAGFO9qkJIJlss8TRtJKNhW+HblvqkwA1uSL0bZgnIDuGKpjUpJJkGPlVXiqwu309BSLRp0y/oFa8PQM1ByINqgbTi6yzzPpkXocg8E1KG47za52Ga56sA2YE5FpWaugPk0ZLFqpavIcHwr4qEzos52YXKRh9zESAU6bfLHC82ZTfvBlhgA9mgFO9vGS5FN5JMziZJNmFkK/1zvIqcxqSLyVODW0klleXiq/ww11rndLKalAcxQ0XvILlIpcxD+gHQCN42kpkKIFXWglnRYz41xMr8GjGSFbnQP0wcyqqU7Io32EDiaHlKQAPA4LEQwRpqTSM1JVGxq0uksinf19u5bZhnnpHMsFFknwQVugNTekn2yoU8qgOwWH7gjFTE9VwAyImI7+vzoUvWXVzu1NlIBQfQgc6z7yqKkLyIIBD8ByqMUPbsvmbEFP5pxhT+DC1EvHJtMKvLqhhE8/n2VHbCDv8ABkNRSEqLBB5XaqHJTm24Cevymr7/aJQ2o7l9qg5UyxTuzX0lsA1rXIVeznrKazaBHfuXsjSs5OGIzlIvHeeflkpNOIpqltgcjnmvf8WBTUsjACcnE0HdTHJ30QfNUPbbUYR2SCNYzQZbebgriiQuIj0zUV+A+/TND4uzTan+FxoplBhOs34eo94WDDsTzc28HJ0QKckebX/8Qzt8JIIQ+7NEzNbJL+Hrg6e10EfDdn5hnVds/9iDsO0F1JGmKswaGaVPPiVlmZZ38O380ji2ZA8rOWMT0pu2mBNjf655yTZw09dQEw51r7sC7nlGXzAtmt9rHIO02/738ckdSFNZH4KNPaVJkKhFztUuOvpRgQSPuhPi8q8e9Oi/6VCxoMJn9P+NrNwsTbExLaLMNqBco9Gke66rKSXrh2ANi9fF8R5HxgxQG/WaqSdhL1M9dTBswd1UDsppI6G9pGIYWMbgVtGnhnAkRst/VKQK+wPsYl1NtRYeDLV6xRrGyav0ejyLCKLK6iZL55WEC4tfZqnc5a2rmxFQH02dtkzljdl38y42m3yFErGUYGfj+6as0NU0bqEclV9NfOdU4QWqRxxJlVKWU2tb0DAzi6oFIGNBv/ql/QVVvp1YMfVBRZYRlcorhIV7DmD0anR4i/mXMVKRzpGURfzmkxt1cULrWqJUbAg+TPfNYOOGkohhz0BffnNcd6q/BRmnRiY8a03ZCrDx9rxPMVmhRQz7Pb5wpJu6c5e7gh0S9dulKEjI3sfgFrW+n2z/DXQY1oYq2B1Tun+R6f8w5RQQ1VoK5aBiG1T3U4ZF2400ek7IoBze4kGX+h0AmGJiZ170niQCW67lrMiHLAN+ooT8njyjSsqg1N6Iv7GXaDYygu/Upcp8S7//HmLxGfMOYd0W2BpoV1whxtkYczN+z+y8dg1n9oeN4kPocchRbBxFkjkyTQ67GT3/J5yCspZmyZun2Zw3ll/COKbTEIlmoxaZgThYRv49Y72srMGFKhnmzc0pxB0plqlyR1fkQ9w9OOM8qiY5ig5xfdm4jRV15tDR73iSNGATikY7ScExYJMxvOIaCyZ5QIO7+jXMzpHpJ4CAuWBxjht2nVEOqVUOmCFWCZA7xaH4HD+35GL0yHefpfutIL4/CLuQU/a/NvNLabeoFLGnPbsXKOpTveJBp+kUSmsDnd2AFpWONcHx8vRW4imjB/wCH/YWJFqVF5WbyH5+YpZqIC4ys8TyKzwm87yuQjpEbmz0GtOGPp3nBU6QxMzODpAUikpMbIWYzxh5lmx4IMbwPZDng8H4BAyLFIx0t9rxyAN1OvpDqVERT7JaY9z2PHvA+/+/PqnpERDGYD3jIIPkxNOlCDV9z2gRXiM/8prx+wmJHZdShkRLpR18OEX3KkhnA28VfUAAn/2yWP1vGbQ6FpdSQsrFRKDKmIFw0dYtQU1BAKsIZC2UjgSYS5tH64QF0lINjVASNunggyCOdWCbm80s04832JaHJRqYAUVRmq9zFaCi5Cvx3oXZdc8ztQ/RAlBhPtfq0JhwEejYfko7UgBEKeast5SnF/KfFeUC2Bl0FihV4xIeM6QdBFBuqmKcdVjgOrWP9RPkqxKCGLeVrSdgZOkoyvuMHmTlS8NjNzau+MmUHPqd4nPj2AbZSomPNkldPNo3I0ztD24dYhHYLcTIMKiGH5hf4aoZVLGwr1zweURSpVwa65GUy2q7eFPSWsCjPPIgM9xSCO5x3dq2dTsZorvRkjNoEl9nAsFRIUpe79Qv1RnKH6MFnhVxdP/qkSTsPZ2yl5ex79z55w2nXq7rBqhXgGtZEWA59BF0bK0a8PWa7Xe/R+5c2I+nwRCUFygieWo8PZbmQoYNcffhFVgalujll6aR1nSokbdEBEVZ2IDWcYWQAVvtB+y39gl//53F+FLOG6oAWK2Txk++ZA4rH7E8SwBONFq5rNpIvNvJEHO1BgWaye+sF/TEmAqQIZrCEtULX36ZX+cTXfxa4I0Bnw+SYNS/NVY6Ad0+hR7wGr1raqTwgLqQOWbfC/9kam3sK9Dv6kr4Hf3Fs/rf/mgwyhulRKfzKtxF1Dl3BnTh+Ym2zDxU1zTCgrQ9k9trtHpU6A5WKZm4T0GO9vixQzN4DASX4jWQfsKwWJ9r1zRqiwRuBRcjIiEQJgnkEhbBGL0ual+DH5GufJSW1rHfuV+edxXBUqejeVNtiQhH84amJvMV3/JhpgVUMpELhGhU6+qoWsBdhLAcoi/LBmC/AEOZSOXI+DfbCzsU55a5/Gikbtu88+GAWVdqgO59EryWx9ut974XLNc0DfEcBD0iGg7+DaL5OcVsPnO6ZZYl/wlt+flHj953128Jbt6zaHiBA/drv63LrXEht7+5BzYGYxrRIshzDNspsqvpoU840FjfJSkJNf9T1eJ11p6h2iI0fymGZtSgWbgoXmLisPGj7BJEB9NNK+gZE5g0Vu+YHyF3bpN+OCvSFuhxLZMNw3l9oa1cqGQ0QsfEH58qHOdVdUTDUI/xe2ZgpGId81/lTLYRO5qvCXP3ar8audgUPn9E638aIa9g1/EmZTRnWXyWHpc/mVKaasqoBgX4LLPVk9WQPH5krfOlqi3ua+UUsfNwAuEWNS+hK86Qab9gSGpb0sdvwjnliRN2ivAFIZCUSmkA0135gojPyaMPIPlkRCcChwXOLmgXcQ+j7lfphGkfZhrl86x3le7wVk95WojA4vJEowkqPQohojU9yYT3CJsxcWdFuk4gXMShQunKuvG17+Ujg14HZXGe9ynJLLMGjlYTTiCcMkcCsxEPKzHu+E6O0f2qbM+mprgfWCv8JJHhGmB8YReALvFXEdfbouj5q1L1SRX0Lm/jYaws9+sGY1ujRpN/YqHs0ShC0hjNSnIOyKlWsdbmadvo79N/3Gxkjy3tfWyQ+wiFzEh3C8AzdjYwGdL1RYpTZOWcIDgNunt+2z/h7/pcwuoLZgN2SAjA8A3wr/t4bIPs+M9V4rrn6em+emNv01yai6ZayUpXzIg27xYRqQu1W850vhIIRQ7jQtCloQNbucqodcbG+TUWb1Mi8EcjeGR1MGl67Jiz48jrpWS5NkbcDMlz8rfwm+J1QKwF8MToFf/gLPvn2/tYDGQhVcUGQNFsRhT1EGA3S39dx39fHosGIQrlmADXBMrtyHMVFhUkHE2KVVbKutCai3zgbBmfIXQ3O/ixOia/VCTjJdizHtz+6CWD7mlkxLxIpLFrJGZwEDoFDmNkS/I4YkRUqRmB4Z2vUFpR3hZp2mYPGpAYqfqx/zoP8O+Cb+1sbIosACiF5WVyEBOze1CEBjtBJ7gTo9sYjeyxB+YU0/LzhXmRq3E5pRFKD8ptQfA5v1xTcDx96IB7UlY5WcSuCIpmtfN8rKPXpwNAh67B5LYKIHNj1tkOOiqZgWxCrmYfpsV19FFETGZr+nPpwWn48/T5Jbtyg07FyzdplZ7WoDIwN1H07tf+RCfopYaIx22HWRkNfF1RzkYSf+tFmFjLoW+wNN7JhNDK0iNDlaBczbQ59JX4p+yJQ8zAQRbqLnRBGeRSGtxjHRlQqGLNEZInNaUCyRr7lwFi4cHTHHpGEhIaSYB7CmYdLeLjRr0oFfzShQjGXUHdrTiBDXuNjF/r/gNVCPS4ASkfEIsntj8Ask17RwpDLvLWvP3IibGryOV+bb8rTeq+udAX1DjZdZWhiBwjU1e7unQR/tNVXUtSP14OYlTNsA8RUqGH0NMqArM4d7oIOGDqm+LQVlgNEJlXjE+k4BBLDqDq0W+ojnKK1DiKrMV8I6HaO5a5Q+/NWF+gaexVV/Ngj+pu/e+aSJk9uOQ1pXbQr7sehsyRyX6TgsoBU9EosSusTnM2hT2rJQ/XTORvzP2JWJIqdwYcCbChaR0FksRGjPuGrsePxjCBVL+Ia66UH90GZXP7QndH++KgSQUlIT4FWj7jWU4BJj+3Nm8vY5fweYbydAOvPuF1L8wJ1GWmXR6fR4KQNoIpD16PsQOpZbd2fEGoHzKCGZ63vAdsDYn9CCLVKysVPtcLUJNEdV3jHljdu/N3G5o3ki/+5D/sHkNAhQ1R1V3rhzvWcAcxnYBOEm9aVfuk0OYQ5pUKuLtdl8qT7qBj/UTB2mUkZz7FDfXxJyxsWsB1hUrQdwdbeKKy8D14wP+6yqjDHXNvwvNgHBLO7AUAOxsVTdQRpZ6cXgNbLAWQZgkvBrjw0J9/iR2jyE0nL9oO6toEwqyT+8J1bNo835pjGn0WW+sBD6G9XoNLJUzumcGEBtTq9Q+wl+juGb2ikvXxPNO5npG96Y7rXgVF5JujxI2RB0sMS4rOU/+Mr+qndVeq8kFwwE4W3gg7M3FrO5/AH3zh9D6aBaZUfqPyDLURW7erNLZVyggK9Zw0o+/WsWUOPu08c1tlJzAcELrbATQVvtVUBLhDnLokWnj1tO7JEkM7B/4Jl0WdbitkvIlZQFPyXy5myONU8+Lr4qIMSUT09Hqt9O2LZx3AJrXXBMh+DRAsgn50BwU6PCtTiUzmgm3o7dLQ4NYhkmIOo8UiEUXtdqbgUDiwkjTcFX7Ucnc2oqldmvRX9l6n/uRkgmFvtFYWlYyLthxiAFs8Q2JZSF0DWSPLD9Tx2+pKDB7Gp2gtDwlK6CcilZvzIWT2nyyuT4BOAln5T+/ZRKzWMnxS3VxpQ4jWTnG3JwZQsFR4wRTnieHEqvQAEdBDEW+tcABhic2X0Y5GhonvSIoGgQZBoscqPiDmD1tYq8oIqZ4Hlze5IXrzcikqEp5w19nNwP2glO9kvpJ66F/zo+MMs3XFQxtMm6n7OtKa72WiW+OjP425LyP2Y9qbDJtWlDe/DUgEDEODOr1JrK/NoMuFvQ5tcbwKXtbRDeqDXVasZuMoi8aKgqthT2lBbRxjc99BgalvU09JPI6ljZJ2dHYeI3SUemNvzjbSHjqHZDv235BU/Hq71WBk2y1Bwls8lc0wQx7G3Hj3wlqVL9QEQzDz1O8cUyTmcV4SgQAACu9BnmNqU9eam4ueO/1IVe70GNFYn/nSuyeI6AzpS0xklng1tmd08qRVdCplGL0Q3c5LMM/8M7Y+eHCUf9czX/Vu8OHZ2NPLUUVd2kvOaCDBbUAHkEvAsfNDkCsIrCM3pUzWQgIOnZgxb3kMqRDzq17Z+cBnj2HkkkLZ3JaK6qulVTelI7Dfl5q5K9WPvzlShIrXQzQqc9u0i/0s+e7mmsU9XXcb5G4Xh9vx9aupekrz/kC/fYnzROqmLBOGtTWbpB4d8h0B5US/wvHGC3lP/IsKtgFfJ4ow0jrWQHm+x+RcMWjHefuc0A/hDTNHuoc350phUR+N23yx4AtBMhciLlCUpjm7deW+gu0SO3ettXF2sg7ZA6Wv/gIwzL2ki92NxC1KidEKs/whpCaOgdQVHpexjPc0Zx81j88TJPae6nCLABc3Z1YVerGpBLYCj3wf71YZ2cFaRZTcfPEwbjlMxyZn3m29Fkf3NAPJXK3acED2H5slfTKw6+OSgD5y4/t2KbCGCgh0SCdIillGpfcLc21Fv0yUBccInvp52ddspOZNqx2JtzKvFBcVX1I///OLkUe7PynwIvkvIXvepbxw0vQmkaQ7WVwfYvLu/vVhlemmv6P5fO92JGx4PmYtEbc7xMrJ6eYdCX5cJ+HQFaAfu99Rvm1+wWtw+z9xsi7bbcQry73TnKW0Kncbu5ar9HFiJgzZ9VXF/Xa/wviVdUkn6iMJNd6lAx9jU9oiezwVTnJcYascF2VLR8GmtOSnCq/bziLPRwqqJkND5V7OBNgQXqVZW/3GkljWgMVgic+xO6mlVU+ofMNQits9AIPdhRYWl3LwnKxe1RvIZPcigMnKNQIP34xmGb51L35EpDEw2vgCtfTDjG8WATBYPLON5AcMK9X5Yhi9ZvhXXqTmp5aE1j5DnKE6YUhPxmHZcKQ2gU5+pmIlPBbFY4zXZSL8TnKYOJ3ymxiqUSj1/b555/X0AiEykjHRIeUtPnmKFOFwvIaHptGX/FS8JbAAZrK90HFfHwreMK400t/zm2knzUjWIjPiW/Z1G5ud4jL94vNaIwlg5WKyQuKR4tRyj5fI8d80nwYNqRH+AtYRAB541VIcs/9XKYDufslQD4gS+3zjTk2R/yW00mTMBxldgRHm7jh2gGPECLpA5u9cNFUAWfNIfe5ZcKxtCkGBvb3kv/JXET7NDjiUazdhhzXU1OPTuT7qrbll9k8UDdzYvXLBiF5dqO8GuYgZAHoRK2M5PEp593uOYBlTWEqlxMliVsJHSV9rNlsiksfbuQOa1LIAPrAgYyfn2dKGXi5iRUgu+UsCghsY4b5HZedbBo8Cn9ekyx6wQM87CBCLu2RfappLOidreYwqGziPR6TLBlho7rb2Wvih3P+gLPFQngl1OBKKCfHhfbLzVNt+bG+gqqrQsrvGzxOyCt5LRpcUSFlV9HWJ14rBByaCjtVPODpjb7fLQ0F/gvyPu5uEuWOBb/L+Uses5En7ferxVqCgmxaXNxKabw9ZSA4GrqUuiq00Izt1Ox+bIcCkrGTbFIm+hFoC9cx3ETem38v40Izbe+hRz1kQoYHdCZzW2vKKklhD2bLjV3hqK6UIKzSBS/P4saUXqJlU3xLwnS+WIjUDDkJ9FVW4aoyHBVBK1vojhmT8tMMUMjzl4kU1N5VYYopd/E0VMUv9cl3XrxU7hPgOSTr91IS9WQ7khH/3yzi8DCfbaMqh5J6EYCnkR44dOlqzQVdQj3oXh7uLqd7ECCxdlYesuR9ee2FLM2Alzp/D7GHAfTpH5puCk+uZNlfGudmXvEJ59F+KZjfao8eHalRJ+pneSK+7HaGz47RHWwVUSZZTQuKBc+W+t3DWJ7EqJIHX4tcrN5217EhukX/XVDwkIK7JXGc51yi7LJJe9sLZKNGr9b5mbZi8BHrBOomZafg/SuVoL2rnkSe0a1fNrauIgs2C4TkMTPIFWMi+4j2iyXh27SLuhdC7NSVQ5XQZnqDKVef03hGg/aNDM3RC/jtQuH4+y+rr7MK7tZWKzeVRxs4dzL5asKxcu19Jk3HkeR6wOpLQRUw6vrD0Jiq4RC+9q0yacA/PkvnVi4v4K9KxCIIQ7J2HwolMADNnUCsrBH3gs+HdN4TSyMw8DfQk0vHzIcJeOEVMRIfVieGKvMhZjJRo/inVWj5+UbhcCnjtn6MRUH8Fe3JFtPgOeO9uX4vkxq8H4yOsyz178Mh+MFu+MscikS29uLyqdm/8XOml7hFfoAGUd+opROAv7W7m6V72xxpH4poZLx9Sm1CAVSwuFKWcBdSdK4D5HgZnn1U9AqD7dThPy270lwK6S4P6gr30h+R9DlHaQM4aas9lapuUcW6AhTeAh3QhLfiEfEQcriPTuK+LhA/wt8Vg4GcqbWbEJL7JGsIvkXb7LUi/6eLAlzNCsMeKh3Q+bDjoPzBMKBYHaJLgHBkvIRneGNo2XKkeeN5Ex8gKysN7cx0sTW4GKudxbzYdBi0jM6t2L7q5nZwEJEDMPJxaC8LsO+zQpGj90ca9O+mz6Ml1TAdY0pRyNAvkJbNPRfmZjAzFqzsXkZOkzymT1wo3M0A461wCFMIlv2KG9+vKHMlLALIXvj/+BAyQ0dmUDvFUkNrixPNaBeDWvxdLm6FVP0wlD0YxIR+Fs0Lr93mzkC0kWHqzA/2ucyCdTjz2zJQlsO+mwlnNSL/ADiRZ70mU3e4f9VgJ/Ba4KsX/vCA2hiC+OBz48lkHGQ8W0HwozHxfdmDbe24NhvWXzP/H6bACziJm2rOV6qQdJdEX3vfQdtTdgivAct25Lz4/izZilCxNXe5AWf935AqMZyGB4S/vIEnvLKkWdqg5YmUtephThRUiSoWU6q9f+0DhOJb2Oas9MjehOyP4dk29k0d0nufjX8aysYIdGHmfTFRGYUz3QgK9TaUwQqbZ7J9F5O3mwSnr5rHHJOoT4FUL3jFq1ehEwzkChZrY8vdQ0CUeV7p9M4jWOZIOghG/GjKhmReFdNbBATnstMWS/5/7/CNuZpLI1Nd6QDdaHbuj9VUZ0aSGFWr/bXLa14XN1OMxlJICrTQIFTl3kmwJ4hPCKyfaar15ZCXOjTsPMyKvh4gFwk8T9WSHmRuLZPHoSkBChrshq8UjZ+VY2t5BeZgmvRAI6T/0j4NuT6j/Cm5ukdORBYx8SRzZB1kemhK2MIMWZ1DEO19wt2JVhTGoDUxYMy8KlcXJGKZ34fmlnrnECpQy9cRRGr4ydsR0VzU1zeGpHNAqYfy3reTe6tYhYMwgW19fjTQBzU0q3shPw3hbNil+Y+QIlOyKt9MfqTuzedo9xcCwtDgHOJSvIO+UtPmcKj4KU1KxnZDYwTICycYR9fU+2ntjDvfU1+OFsHtDIDkk7tcSqIraUVaBytvgf9S55WqvOVFmUZv/ujNq4js73phClGgb8OOgZJg1F8QX1lDSzMTNIKygHiV3+/KEDNucnKpHMm3i3sJ5H3BHOCZnvcEvrhl1f3N85FW7Qg0Dw2okd0LS//zEs2xA/rKTwg00hRjM0cCHNS22kGkKHz8fQ7smD0JBB5+/FmLuL9h1iIcZr0rtJQnc//aGU7zh7q3BCzSMw3BxjQkbzcLPKsnmn9UXhfZAjYB1b3O8irAa3JHk2kmI8RvX7eNumxhsvkuPbMnJGvMnWiD941odpNAvTxSlDKNe5YiHgj0LullPei0NEzdPkG3h5JDiuxWuxYllJcF6p2TIOCAAAAivAZ6CdEn/k1Ipf4D3sn//Wg/2JNB2GrUd/NA16siHgP22h/oKfiSZmv8p6emiwnvn6av7W/Pp9JuK5J5bkV2Er6z25s/Mq7l5Jy83NJqEo9SHeCc4lD5MYqLcCeHDGRgUbwZdHnhkpkOC/b6FxFVc40wzjsIdL2CabD7yv3Yk+Gpcjax9r7kW7PJNxNlWHX1YFIm4HVZFh+2e3Hok8bmnD7B8SRUTxUWoT+koNB/+wz4qz+jzHfrlh9l18XJbzBhaTlR7ytZZtPpCd69H/KBgDRM2S/jk7QOv0fKbwG8cFXcsEEjzWPUHNm/q0u9bQ3umoIU6Mrm5F1UdWpxy0pXnUgEKnsNuYfDzo0fHCtrZZbhzRp7BLCIcOq4+8khSnxN0o6HaRkCBky3vL1CX0GqTurzcw2M65jlyjHVBBN175gt4YIjS3EIk7GeJru0Xgrz+ehAucsy1xBjcnyNASM/2zjHDzViZMDR+ZongoZmQCjA4CaWCm1/xGJYoVjuR1hiURq9YHkZ53ROOkPcDcDWbyTsbMx+H4kpj3NmO+CCt5M6lehjZujJLpe0qFTbTgFDVw3t5SBuVVaTBTrgU4c6B+lqEuB6b4dOKt0IfGm4AROb1Vi/1Xl5E8HBgjhR6zERR94YDu2IwnozuAx0H/iBOs+Gksy1fOarffL5Dojar8HG90Y+3X1alGsSJNdGy0zNqU/AqWy/Edi5ClrX92ubzVvNbY4NXUnKKQ4rsOoIMCAp+ZuxLT1Ygg9S2T2PGlP7Xfw4WbNF/YHIAoxhNlLTPoO7qBoThQh83SC7Is1thZLg3V2kulg+XnuBy7sW3NhS39iROW9oeyPJFPfR/kXGFn24E/mfY+ds9M0FHE7S6grQsUUQkPX2xL97p2Fwe6E4xys6fW9o/Gav4WtBk3o6Yds5fQgiOrcgMmB5ngAqeD828tgsPZBIRyrhN1YbYanjzQuCSICRqdZeSrwD+E3bJXvJqWkcZvZmCk31E4U1mfH4fnAblR1YEfQBxxCasR0aqrqjehIryL7T6T/16ziHo6+hzlDPI2x4dz1KbrVu6esfGDpG5w7fk8+ZxOAEiMOoQ3In6wjzrCfUieZGmJUhYn1+LfespcjPtcpNCw4/QUNElIOHALEQX32NZJ4c04P3ga3k/er2YLe7Us+KOD0QxQZDpBa/rkX6iCGZp1YuzzF085GYHX8G6BFLNgLIj3n+BoMdVUJ0aXG/oFgNC7GoklSS3COE2B9s2Ijm3OU63wY3OLbbm4CyeD4h8dQU1COlKGnfNn1HjbxlnQCsqltyJZr1U/jqbHySeZ21IjigacuMlp+SDNr9I5qEArE9EI3v7Ezqxam/IKMX/HV3ui465v6F2zm7p0wloHr7ZjYyOEdgLqcC18otilENffEDPYucx3OtwzCEkxMGkWj00ZFZe7fhMiE9trxBPe+gh8z1/BqsyKBInu6COerdg3S0m4LGa9nBqDkdW7inhu8vHeIWlNXC2ceE8HCIwFQMiX8OGAFWmKY5wHcx1atY8evmnk0OKYChR7yHfEkmJaEvW3Gntm6UsQYYpj1lwVu+pZBA77cUqwlfbuQyvFQQc6XBf1Zhx0N0RRg5QmyDtyinTLsclKw4VJ53gOWx4hyd+B+4axvAdBE6MWH1PpTQXU2xj4gHiVFW4AvTyF2PbrwGC69CILfWungu9E86NyJCQMaDVpnTF5OjrJ80Q08nVbRQ6vyRg7nqM5EH7xAinMwV93ezY/W1HVl4IV3xtSWcuAngcRkI04yn47FFCqWU0w+1WrElkJGDJr41yzDUu6SgXgZYhNOpp+MOKJJQwhDPYMkk4PEMO/pHzPuwzA2lIx+2nVKW5nO44g2X8q4fsU9HSDbdI6eg8hGD/6hnONlfzSXNtMVcqlbDD9j4mw9f7U0DGL7nUpdxumcLBumCFro3NQZOATeEYLsujaymgC6x8l2yMdSmpXhgt/fscIhKWRuW2Lq7H52F+efuTAJNYIyHakT+29dSIPsacN/vZ6blLdtrsj1g/+ARy9iF2Qjpbpf0SubyrbljauU1hHQAotUtuRtBaqf8nFnFBFveeQHPbYvp+vG2wKezWxKIt1VgPbCwrfvr/H6/IMa8fr1fm51OGi2YhOuGX0OHBp/OytlNmFOIYnLZ1evDIHiXiOJQduoGfkJRnwbTZNLf8OSXSMbAd4zxVGLOVwJ/9YaGxjjp8OBedWMbYkuwvlFm3eO37z1G4XpEFX95vy14u4BxSU99lBmgPk1+U8pL2UWMuMo6iEMrIlGTLHR5pgAtOdR9s1pjI0L2IDJZhnqmhN43tBfQCxw64C9+DqzQcrKMePI5yuTDdeLF0RfOFwv2hfcfDJ3WS/4RVTTc0KyE2g2/qgBAgmROOPGyDRAXQ0ExpZLm+EaL7LVJnuPqKaEKOUFAQH+cNlmG3ZXtF6wNAyE8t31YSxNVjV/PnmDkmBqam9brplvu0o1w7mCqA3qldEFTCUSSjoGatzwPCyc1zrKkh/en6NvLeTzyudJ/wet9ggZw5HZn4H98Mo+yC0EslUFUYIlVZ83QYDANASGDsKpRNwxV0MO/cpM4pcrIKPf0qqxFkSnEmBc1XQRNH6VzFpdWbw11CmR3c6joyuIiSdolue6pG0onTgYpL8N4dAvM6bJ6TbfseB5M26Cnei0xFvIZKyrR2qG18xA2tTDEdm1o42ZBl0D/01csv9Z2lVwTmHfLvVoXK0GmNOc+6wMnxABsRZhl4jR8SdziVGRgS5FznJYXy90y3p3s3dMCaBLCTONFNKGfF/GjyJCHw1IEQs54EHdJ9Ud6X6qHgeWSfRSkp5ObEuMSSUlLaYjL+6umu2JL+Rwb0re9Q80MZgoa9zmAoKGgdpXNY0omFhWqRUuaATqpsK6JFF7QsQ1CAMzScDgj14DWEvVkN73UIccQnYw6Vk6a2O1NRRQNqQlwDdQOsWVua5veBAAAHDAGehGpJ/3OfW0jN3yHRv5e9GbSqpnS/vwj1hVszoo9dfY6KEK5mCfE092lAs6yApqi7ib3r7NozWU3wJVMzgAddpn7GU5bXS1tjSaBBxWDZxYODjjr+YJjUEi12FxlzZxdVbNqViM6NMAmKouARHyhlY1XF45r1WrQ3s95Nl56zQycPVRmFoUg6pTbz17uq+WTZ5ohgb4yW9qCW/hzxd9W2rDWD3vgjUm5g5aald5a8eY1iYtAcGUlwD0jc3OPkPMUiH8nj65PSyXremkLK56jL9iZduexpYAQQFFQFalyMEyKJf7hZ5Hzw/gLcr6op0ubfv3Qa4i3YDu+WW623rAsh48Nz5gHMaAMUk+Wyu2x11lJYKMYorDde7wSrbiiQpmSl5zP/WtF/1eJ2uUtSfpw3VNEQxsRyBhUQ0D1MyGDn5oakInEzi49uI5asgaIZdVV8B2eDEWXln8gKXcuPAKcBsXvr1njUP0gT12ebgyjCJMAb20Cev0G8MoQoMbLA+f8aQsgXYLHOiUeZofIgW3bYUw209cy/YMpm++2KdRr3+IygqmfU93sZlQP68smtC6ga1QZgx61QapCSaZZU/nHVDgGO/7wbwVk6w29iweplbRfB0vw/Ad921Paq30fuLx3defcbHmw4O8WRiBmD5YDt8kxw+HknMuhr9Qos8GnjvzYEnC/hNM9jfW8doySTMYfOKKhagUWwqzKKDwsow+nj7V3SLH1WNDbPVunitq6Mn3DMbC6x3RDbetr3qfFdxHso8UMYBt+x11WoGWON+eLR1RIkX33Mk/ExBB/SJRdSeXxuba6cTYds5jOeVMmwMg3uAvzbTqbeAnOvi5N7sW/mejn42pXFJ6Hcd1rFCYr4a8SBqGFalpmtR7WOOJvMaNSh/pnqcBkBiJJ7s3LMdMCJBXwDJ2zHzX/AzCWvdO+fAOScNT0aALLy5j8X6ZNHQixO9+tZDEvbYQpkCmMVmb0bz0PinktXiQJogqG2a9Hszi47B5iI7EjUdVZcO3PXOMBNWICflcr37PAPLjcJaXyu/CERsXmhFLKNjYa5h4gsfM7J4pmN+JHL8FvlmrofM0EhLIuP2Xl7FEXyb+N9Jo1p987C6O7h/nIwv/kOAWKOm9JfvZDp79+B8qqP8yOJ3DdFwm0n1jkpTiW+9LE3wys3JwQIGRgunho7guR67p1Z7/RksLB+oh5pwb/fVwL8FOvtfFsEqKrwQ/8QvemYWHGR3/s0ugXBQp5LjtlQG98bFYFHDRdhsdWjRlEy87lc/M4PdWJiu8TvpYzKj17VQYrOIMJZ5FKQJcpnnmeoVX5M+EZCh5SPH6gwTnoMWLkFll0pZcqJrTSFmAz8ya7ITOn+BwQDbZ/4KGyh0niBq3QZLRiVHuh3/NUxWgSoRLWPDeps6qDXNPJrpilsijMgfr/dNKbfh6TuuAvlPZR/9VC5uPzrRgOWn815tqEosG03C9CBqLyOdngT8oiJHHutavbOxxuhHc5uqf+S9C0Iq9NI2/c4qGsgeDk1cgDvdLLGrc5zf1qZdnHFm5Wse5w/0Wh5lJxYSItPGzPE3PK9TN5mKLf1CeBuTU46pp16KgKW9dA3p+2c4VgqrU+0YIFE46gW27NSmOH3ctbLVO85epU2R3I3HxTLPv1CD6lIJxzgy7IhDuzDaTwX+JVZ+1YFA4qthFeAI+YeR7ExzlEkKcyI92mTmyjhqZm4KFo2yIVC4wvo2Woxb6S7tFjz5lvYnm6Suezk1RqE9TkIru70bjmU0FK8H0HzbUGKI91Eegb8ncJAWXEJSme64R3H7qQDOZjPzIl9cEoXYaiTdBPDUY8og1dIz58gayOSaIKJYWQnfT2oPHktnGM36vlQscrJG98vjel2904w9kJTpTOBRcaHq0LwRLq/hwpbtfrAIIXhd1Ez45PL5CRzGHtm3b+CWr+9JdcSxi2D5UAU/0v/0mu3gMzezmscs+Mxf5+q+gDQoIqXq6udF/5Qvo7PckvuwdaTEiX9SRavX9TPr4Zfwe2YVMueCCbZYS39FolwCXMLAuMZ7wj0UBN9poxhaCNIAV+w3uFymCS/299sPZk/IlKRJITf5cyyOReuANoiRiKvd0zyP82+o5FwhkiANzo74nc4BkmFjWUShDZ3SyLgX20qv03yg4yTVsaevzyN3VXPz+aXlFsEH0HrzkVF0bAFPxo4p27A5n+X/F3jLqM1lLpvcULV1yQ+OYxctGBZ2OSoNGFsrnP1AAI6wAUifwmkZ6h/c6V209raaUbCjKDWButtdiSx87ESWCl6kC50dSuIzdiCTsKXRE52vAIQCUH6cq5HlJBsKhI0n17Wm4pIaBo14+4Zf+0kA7GWFIFq8SYTzl6utfh4NGeo3zUM5pjt8GkZ+38iGfYKwKCw/8EAAAzUQZqJSahBaJlMD//n6+/tc2XWYKViDvapJowpUJTJMi+dG9EOISlFjyYMRDbcYiVJ9599CnfPHrhsI+GCfIwPosjACXn4Bl7v7r+/49apeuRaJrpWA6fZOcsM4MCJLgtw5RNODUMpI+LbSoTgxlwEXpKsG4lUyaI3/8ZgHhoNI/jwJa5ptPyPm/Nzq4VHLmoH0wD4v+LLiuDfL2Pq1hUaWkCyMUElV/qIhgYYKrWVUIQUBrkoPoO8clmVVQ7eyuiPVYr1f84PH+d3yJk5Zha0lQPxZvujVnrTmgapqQRCLQCi2WckJmXFhcTBBXHZF8roqWEJAXmAgSmPONhaE9hNqY8Fzf/7CVTpkNZoIecPxW2pIxTZOBhaUXkR2BRMeQG4e5O4Hoq+0lotpUOvrC7Vl9nHgOAel1uXE+wSHMqMhGZr+SjaPyPptO7BmaEOfAYtiDQ6R0STUiuCAa8WSX0eO9dp7g/qZ8Hd/WiG/Dsth5Kyhae5B3/V1LbOmwfBeW5tYrtWNA/+9qECe5kOFDH+VCd+RFN/BFFyP//15X6/DuMarfUP+mSvZDI5vfbw5vVsFU8U+wFs9bGoFtdbrM5pM7yNoE807oJ3u+gC5pXsUpXl0d8tXXKQYFw6B9aIBywtcTbLUpbeTU9WbyoiDAnueEHylBtAS+57dccxmBCyGymI2um25sW4DB+WqpWM/Jo8JTs5+IyATG2LgkgJjUlQAA4i2iM6kuWLflsDYwE7yqxIlE+a1XDU8SXXesqVEINdtonMfX2rhtKXYXezybIlZrJMx0QuPJtrTfXbui7fViOgjOdbrg8O5q2htzZ+LysSuJ085BH3Dg+XFU5/2oFiyLowoS461ojYd5SyNI1GZJX7DhSB6MMK6lNO5F/e9xrp+CoCbN+JcO32M7p0tZG52VqjzFXbMUG6GSo3dLJe+X4iE60JnP692mGfSPqNyRB5vedb0BZw3LA/VNGLoT73WjyfOQYP1BjnlcKvOcmpNf7EN5z7kVAHg1asH8X0fvEETJNHpPqDE4kjvvV4NkPYcIQ35autonGPxTr4TT0jFzLNoT5Hv7C+JUfYo88QYM4whT+s1byamuaeeTOAeMcG/n3VlsBE/0FIuzf7cPjheV4rM8oN3lb4YlvDCf3HwJA1RVFc9uUSZc2xeEo3cPoXy6UADEh8QYtWIxJQu7SjN0WytMfbKMFvzKh5tu6vL0Hyip1qMbSNqsMrR01HOvv+qr3CRxPviqZ1f3CLLMvBDnwryMkBQgNkcYKxNfi1mKbjQny4WWhNmtPCA4RXrUn7Sb4ldGE33ny8NHH/UqSlW0C3yAwcqiUfANX2uJVD5XMySdD1/0e+y9KDS/HVMHkz6uvYHHL4Fbqf7Mw0cmTduy7n6prGPDZ+biMSubJvEzdxUzpCzod8RzTFbM+Ci6MhJUuwZc+3EGgHg2YNyNwU6sGn12CyGMGk18scrKnRIf7TmeXVYgCTfdcKxA1pf7Lztrc4kdjtavLPwJ/chLnj6/ebJUScCk4mGm8LELxKW2QGMekMZJmA47jC5bQtc8sPxqSBiWQ3LZd3BPdRvto5FkhpEQuECGhKH79f6XQXOOtMhB2Yfy8CR+iWrSp/5MRylwVhkD/5TQA4eGbvbeFY0hsROV6oXTVuivrJiYDvuHbP9bcPVkhozw8Idts0uXcU7WBe5QaLCUqlVHrqmKkRByWQzuZyUAtak06yXxaSCDtg2igKdgV+L9C/QcNzGSOfzq2ZmhZBp7FqWHKs9J81v6h7eiRvTTst/C5RqA9McqdQfvu3Z5Q7buYaU47zzy6lgqMeFa2d74a4ALGA0WowBv7GVSkSytLLJJKifn4HSL2PrKSchQfsQJAxc4a2lGF+9LW30GnA2M74ZK+7unBnlBtDyueGYBnyu5gfnxxXkcIWexukN77XiPd1BQJFmgAUqrpcMSoTeKj9FqHweqTAA38FaXX4XJpj5iEDOzgCwI4T2EtBa0Fhw8q6lAywSIYlH5cmgl7vnzvlpYDTP9p+/VTSSwGDpyWLkKbdhTSoRpwKVXoDhrl1S+HPHG87GukJjmE/mZSVaAIhAUAyhrOacHMUq7tqgoWy3uV9AxCqv77eSQQ0mTTgX8ZhdcMWjgpuYK5wbjVRXB/asXpKXPP3/3g0ilPyUk9mcRW28NJ9mMrWEPo9kMZsfYNOg7OHxqQapuNPVMTnWN82uGzEZZ3D9exeVNa0PK313pPOHYzIfY+JTH+8R9HqLzgrFdHEMah0CZpFcxH2nEyt+6S4Shm7u3MXEeH5odSo0+GwM/3bLGcKDJEEwHRLQaFTGZ89ywHEGGo0edZch8IDyNVIcuFIAPLwn5TNNTiKVFmXBGKREQl6vPGTufiZu/8R7QvFbkT919Lv5U5xmVckL3AlwN+Fq/Po61Dqup19hB3MPYX49HERAbILBYm9XDYjyNNhhIyPv1r1t4dqIwhd00CSOcVdezoSFIeP33q/st4w+EnGBIHT+h7xaFDMgkjJSTA646I5AKkT9qqwmoFiMrMCrNGzs0K2Zr3XQkTcf9G0ZKbiCjXNhUzPCG7q6e4SC5BzHFcyfA7HgZNCql92GNUISHy0OerIlMviPiGeDKm5oAXFHbHpxCWnjFY20TQOCEbHFIug2D9BSaNkfanl1L+weUX19ZHrK7l16j9Rl5b8H3VW4thUGKIA2gUVBTf/shZyWguIFKqoNG1Za6Vo70GxBxGK6oMjrX7ctXvw+fk1NHlaIwo39QmtBF7wambODwkCr8Glc72CirGQyyNSHdBrLkOobiyXmTbiH/TUGtMRpP+vc5Y9LzuQbtzvc2lxyP12kisnZfnTC60nNJ5pRnUoN+xy6jDOxxuk5toCYhUYRzAr3x8TWLnJNQVO7yh6ABad9Ad5aT8XqJnYY3zQUtBRn+Eexdz8SgzINSDg4YrE+A6h4gHWWn3HfmPLRXOyPOnE4Kirqr5/BAzvGAUJ4H0P1ZutJBU2vd6jUsQWlxD6zNEElW+EDK2nEI0uHtQkf+pylSrisP/AC1ZUcy8pjQAuqGNe7nUNlqfyGO+ZqanhaQi5RsfZ4Y5eU+Tak9QyUgOglyZGJVo8UCMvnxK+CrZxPz2eTazx0K6zLkVLCyMZqCSIH6O22VBauZUoT9hUJftU2r41/ppxTu+WzgGlPEIgO09G3j26C7GLSv/SWjNDPlIJuIQ5s/m+8W8UG96i/IwN6mgvmtrOt0+N6sar/debkVy23jbLKtK1IbL7OJPzGgxe8eYkxATE0Uwu8TTeVHS16Nh0Mgj9M/VNmUIQqD0MovH1NY97ZIFxD5T4E75fMiv+QyWTi5kacU1fx40dI29v8pjfPXenfz+URVMoP2L3hPClg38xb83W/0DFkfwtC/6JuOHUyI77h6TUr9oBkwBeiAiWd3CQjwLwHuXA533eCwxc+7cQ/5ps+YmhC1NS2+5HRaThQD1sI31osXAgFDl3JZciH4h0iNBU84Lgm9bM845GQmc2aArbjam3sWfqxIwdmCnd+Z8zZCc8pX9s7M5WWctyQXVXwOD0d3FJ1L9XywQZwNBf8eXJ7Qo4AO8PmKod+kTYiTN+ynk7g4iIaHYaCkS09asUF52U1kZl06fiHlqVlCt6EYPsvAbv7xyBP1hdoesRhkuYh1j/jCb//9ypuxB6HnljsRoeuQ7XJdyHlIsYI/tpDjrtL3GeElRCZvxjxywwsfocXs30lV8trCp0KXNj4J/RQe5lgDkuNXFSyPphsWm9id7nbZgG9QP6+hzGQdRQwmcwOSNHtMKIRYy6AMliUA51fSUZR88MmSc/g8P/R4fUvziX3dKjvNK8QTv8eLwU6wTAWHwVNishFaZn6irf2QdC19FY+OPeaSBmMi7ZD+XA65mHvdAkjc26k2fsEsoaI4PBXMDN6To449zaVV1nSMaMFtNvKyqYhDqPvVa7+wLj01h/B/ydzjVJlIdLAWaHEGN0llGV8L6kYHJPsPvRmiPgKkuWtD9XGIIzpFyp8sQ9mz2dV7AHpS2Nl+ON4AFCcckGdUydVKyQMAHtwl1434v+HKIQTKiqfNQurA4Uo4OaSokyck7gCkb2U8kpwLQ3hxk+RTB3XFIIP239I9wTWmWFMurn4+adTyqGrS1bk5CPYYh8xtOT+ZD+psMQc0QRVyVRk87drNGR/VJmf4qQjmznNpGw9wJNOwAuC4ivYY06klN9aQJ7pp+mmwt7Rv2ywTMv56WCPqSksRp2xCIxBaoLbuj/RRKCxFj87buq4+EEYXt0stzKVx05WcigmymJI9MUXZQ0fxYRkw8JeTMTMzWlkTBG0rvaH2rKecHPjptLidxSQ2gNrukKhIiKCT7GKL2P7YKreNVc5+kzi8DoipHzn+EAAAd6QZ6nRREtf2ZekspcEy9/+/wJpMLJxWtaUKn5jsveFKBTLfGoBI19Ls/wLbNOrMXd6DW713no2Zihomo5O85hUMXGjqWJjjFfukKlmzlg0mazDmu6CDqLlr7ZwZSxW11QEPrbGtSa1kNrERbrOfVLyoQL4NoqmyAdtnbpYuCLgd92jcz7CaJTkJEhR//04mjBO4fTd6Y5VQsO+J6QzrEl+YsOUtGu15CkiS36r9v+oh1xIgBG08dbhejhrW+oIMXx7XnAo2fzz2iEUYIaNzLs9rQtVhzeVjGy3+dPUOeoLVfA3wPurjDjUKEk4K0gaRgQzXS1ABgg6JFj8woEl0kFNwzqn+psxAQdThpZyORBseej5wZfRxgjXZrkMViXy7KV0iUB1SRwMe9DrnK3ckBicRjJKBtZ8BmmDH7hwmQxO/6sS5ugZZGgB5kEFDDOsQKXP2lkbuXqrsEK0pR6nK0FgD4RgpV/xuGp+GBfC0UMoI3qwn7pjKKBFxpCQXmXu9mUCsbfzRuPhB0xM5nH91GHIpnAc/gxFlTMAQsHEU7yX36gVPG5tGYCpuJ18GBOUDa3XZmQ8/+FlVNa7zvP8otjZg9QdqdxDH5K6ET6KZTuz8/8rbi3IrKDf//4EdH8W0pKlLMP9KXx3FzQPIL8KEy41ayecxOFx/ofaideE/lUbHQO+hIjoTl1H2T26PCL9Wp7SAOvcu6anB3L6E1xdsxbsnIvQDis2xUqpGc4ORG4j5g7FzD20HoU7EY2Ep+ooh1GZ9S1Q0dyUTkIHynsTtkKkXwMONKmDKwyT73fpZoV1Ae2ocCcz5CAG1eJKXz/3UqCLWJu/ysUa1ep1fn6RV4MN7Mx2dL4299CQ5K8LWudTFLxzC7qOraq+BG8wrze7PSYJXB6ZSjR+MiuG8tqVitc7Dt8YzVf4g/8+P/4ZM6QiiqpGjA0bruzsV3BzUhkDeM9LDoPxu0AZ1HHJziIsJ7rurCgzEBDubrwKvVk0JaSCKaPtWY6K1jNkiby+JrMR1pQVPB92PQtAqiI84+4X+kGl3oNkOfG5j/uiWE41Vu6Hs/Da7BENr7UEDRsJEPnCuPmazoMJYqjv9e/OwOvn6vVpGQFrVF6OWmAiDckqdE9NVnkL2RSetoVFmCl0+YHKjTa1IWQzgxKb3sh2DQJSRbZi65z81heD0DeDBPs+MVu7bSS2IUFiG5xrGWM9kiRgUR2IhbVdcHhNwjZp5pcQli4nRSmfHanuwXOUv+CSP/Dneab/rzlirHvR7a1fl6urwWw3vLy/Dk0sQ5x0xtM3Og3vDeFFWqItKMdVEfix1vDLOjzw0Ek9EW2EpkINVWByo6uLySVkodLMu7tTkaINR1t/J8U7KTphpDg9zL2FuVpcka+EFAVdRgXG2kd8inxWxLsXbGxjzFBnuQkIZVGdfMZDFySAXly0gaNBAFb/gmcr5DPl/kbaw9jsVUkjUInTDl+zN7jP8ikvHJkh/SklbgKA1rS6ZEFFihsOLj1ToAzY9KVydGG138mHNjbT04yhSV3d+mPd7cXpyjaDOeLiV1xn/U5ff4v1RTcRJdiRiAOpI6pyqvnddEfpLfNI7B1ZY+eJd9TVczzqNEguSyCkFp2zaAuT1N9+W2+/y9WUsXN/aqFKnBpuL3MjlSSMjAo7nBqxE1AdxH4pq/1nRb4Ge1z3umIFbsQHHl4yxwxhEneAM0AYU33qIHEJd4wKJ3u85YnyKm9KSxB6bQH2jDJg8OvuglwWj2VkP/jQcjmHnWENQQHNiuWfGaoF0YHgbgdBBDsV19d/6LHuYFwzERnYNvFvKgDYb748G5OcLzYgICpamoi0MahLYu89gGlZliDgvK0mRvFp0aKknyhCJhybOK30YHb2LhHyB54dxksHP5YrVmdg255k2WWNVrrxNpo7EzLCtTB9UEblH/VwkdC7A5xrTWXPDVIXbB3P1rRKaXF4kPfXpMyfRXOVYTPDjLBEbJLwKVxOjg6SLht2fu9J1mch6tlcyg/MRbp58nhc0HZt2XGDXoT4+eEb0EZ1YOcwpZLGjAN2E98cK/dTL0Q7mhGIHHeoG5x7v63NtxWt5tmSKM07PyTgLi8RR0PAC9js9a49i9dqCDY+mHprhtyZZEar0+01Q0vdYPCkBG/g+NLYVWIrg5ztLwhCgbIEAfXE40K8DumvicRLnei1WU1I+y3eKougllb1mkgXj7jRB1UGL+75oSj2webWlQW+1uH7yZsZLfZSxM1579ppikQ7nBDStvHQDAlBxOhDUPoi4R48+JSS7qB4380s+3ujhreo7bUBzJW0ksatTBtgLdogVReTimMu7kKGk4ncll7bWMT5umOVvLGUhuQddSb7boGyeqQlwjk3zWtb0+oLyWs3XGgzNOecqtJ6LzNpvTcWFICMfnWwTco/lC7k05VU+/2E3jrR5OMg6xLffliZp+3rVzWZ/uojNAvs505X/xYY7bHdFhmGUDux6tAcK8PYStgyvEH/pLw5bLD6QaYQGEFOT7mlGs467mbbzUtVpBy+ASW/L2GtrsnOwytqP69AAAFiAGexnRJ/2YZ6qqlP/5VvNi9J8tQiMv3U7Qqh0jBSiVbfX81sLZJKgwLDTcYIrWGPEqT/RI9UCbT1ER6Q9JM82Z2QU25RMV0oGrlrI1iq1pLrgapKB3ASuRGGwXcUOjccJBh9EWiQUdZh35m+HhYWHPyeehfmm/NrIHxhP4kYtjc48EE6b1OHM0f0aOEek3mcCbilnAQ4YZOSg1k4uUdE4lacGUaqT9JT2Nq+Nj4Oq3yzDo65uxEMnKeIbc1ZkVrnnHoat2rBOaLugw25qfisBtI/81fZ+gKVuHlUt3wTCx3QKanrG6zP09MMxZvhvPOnYoBYfi1Wdkhtf3zkGMAibsEYso7XxCaW03flmIYyGR86D3Hv8IaYum/8Nal7yOAt9eLzPNHUvX5mE18qBmT1V1BH6XKGLP2HGzKcUPg1TLxcrXmk9OW/oL4LUxAhVB75nspr77L9aRIueMXwXFib6TvRx/PCdpvUPmHkI8C6ucElfLNZOgD7CkANYrAl69zs6QwbrLWAOG5MWm1333+w54TlK4YX8UA8zNIkGSh4w+FhKsAvyPV6xOz2S+L8KbOriAxL9NQD3+VsXOnb6qotXbWVGYT5l5t+VNa5QfA1I81rEj4PmVu68LhQBDgr/YNmVcRMOgxD2fjr0JX92xRUNfeMGlDiIGfj3ZX5hNfPmNzJJAqOig7H6RYMfJDfVFXodEbZ/mddig9XTIRHFgyAeJFd2R+Y4X9JlTF54NdAEqKUPR5auel2pOAyJXWGQVyxyv9P8RH0xAGAojnJBZRafpM9VfbXKvm4LUnHpVhPAOiGwzMBUKx+M7l2oysQlgOQW0ptLQv4kfNBlsKA6THh6WMPjwGrQPP43ivhEpLLmTbxvyMeVdPjrOlEDxIB1/8mo8pm57HRCxyLsJMEX9hxGEAsubPVpb3jAJtXvM2A9QHaoNSwG/3PUYHX1MPlrVlsDR4LCc+h/NeeNHsyUbnC4NDaSNljNbP4IHqDblCBn9JBudwzAR8ncQOClhWBFlogidO3BSInyM9xor2+hF1utJAJi9j7euh+KZb4+0oIbUO7yyEjWc4dW0i8RJZ8DziNmFjO6tNe9qWI1uCjbvd04ay5HS5IdM/1257uUTeQsG7D+CgxCXRyqWRcmQssKVPNRzZG6vmVnoe+FQdhfgD5t1PERr87Gqi1KummY09saQI+Q45ZNsOT5MuNfvZrh6+70Pwe4itj+eJj+xiC5QT7J0qCH4MYN9cg716SwG5RVCoGLbIGxh8Rr+Jbmeev7rxSyz9mbU4h+hlyo3EtXkRv5FRsPTve3zr3+wqlPwg7SBv5o26IZAnpP9a56tbXemRRl+DXDm8mCltyGNs9u7QH/jMsgKB40KeMJxhNxJAuG8eYCY64jtPgy64NqYzzmtUrdDnVNCeMPfLj5IFUwRpuLN4egdO97uWXLtfsF1WUy/QLyvEos5T36LiqVvxTID4ubnLOGopHDiDlKw9i8R7uj9rWPLr9l4mqWOeYBYkWgNmGqjQ6RL4D2R6kXsmKY99DmAQVVAJqBuKhoRIQOpxRZeZ6xCHv/0tX+LEPeHrQMmwxoHF1atQwiVC2biJ9noXuROfnA8BoUaJ8ZuCxOWyVQr7FdOX2853tItIlo01jyJMTIb7q+PjxwGTfJvt3+rXCqLfVyVgMIE7iOZNoJKjjthB9/SoCmQV3kx7yx6g/kAgKPKhzGXT0G84loSKbq0tIBCxn7gT5Ljpxm0m14mdJy22eQ7H06ItmVcFm8TOlPT9P/Uv8FGfwg8ghyZjHzB7MRaYBB2QzCBu8rob7FTDPYVGW2vZ8R8jKolsUklO1EIGYY791vnRqYAACniX3PWrwEwNomfQGWATw9IzayDuUpqeQyhNyufHeAAABTIBnshqSf9bzggZW88m94G44CRpcOAkkIbDH+FhbFquxPzs1vfD71ObTMB0/U1W5D+2WDnxHXcWkHi8TyP/x6UC9ybfWv/F9o71UellD5OCgUsa8+lhq20/51m/WAaW3aeCkKo0OoC66MgIlftUJka8RUh3xOJl10qrD872MafUnZpZ6xtBIvc61q2Lzr5cLVH9UhCRSWjtAgA92YVzQYhrBPQY82uMEKfs0fhNAqcDe1c+8wYZmjMLQJ5r01UBA2+IcY+zwOEn8blLYmjwlUeV83HJsFmjrZNvV7GhFRc/OfzXpSudf1KXpSd/FvjQ/KI5JpGVRkLbfpXyVWMpNCUENNehz5+bzO0UR8HOYbeQnG8JWraFJ0hwNwwFGe4cd5yRxALZeUT9jrFbRO6B28mQ2c3N1lSf0+L/zg5iOwiNqHarrLk5v7GxsMQZuejD86C55yaoSxLxTxw3KnN9UmyJ2BLVe/fqr80rzizN9wdwuBNdtsH8687ZTvnmPasTgo3JhtI//WIVafhgpsZw7+z8MQbl5EUP3D/86Dxifzxb8SamH7UlD02jlJFYDZcx8cqKzImTpZSRUJ8MxbHPskIxizb+DuvyVnKXzBGLCTvFsuDQ7EK5M8iqHd0JYKNbmJ9GLiZ+MrBZFGH2rUZvNPqzfswylUrWBKwBM6VG/Q4vPfJ0kMGtss/8MrmSgaMWWvs7IpW8QbYsi4qtv9o43Y4v+GIxnz91LFgw7/OFBmFJIPC0xrqlKMisOvstXvZgh4BMabsCAxSU/ePfdNrpO3Kn+jGwUyCm+AI/KV0pfiRESS6bTGAXJ3PbJ9B4ANd7Ys+aspObTX1do+XeeLa5uDmoaeJp7bR2xMS+2amSVPBmrJDMBecxNq0/ZH3ir1nrnk0T4r6z7PzCOIOx2xx1463GODR5NSWIG17hHZV3minIIO4alBZRA+bjLsGiu85zhT9TxBCpSFARt20xmcgKNjftGgV5yMGv2FvvvuWPmydzXJK5Z/ALcm67XLrmWCBt4lchmVpVvgAyDAcb7NfEF6tlcegxX4BBEuwuXHJZ2b1OIQ5S7ISf+9cjLybpZBpp7mkZPDANC58cas3qLsVvKYl+wYAeI5R/TuWKwb1PcaQZmBausTW0tzt/HPPKOD9QRCcDQee/6UYT2F6cQkQoHVC2ZDwNANhM2c/QIwW8xnY7nVZoLcycrZ1tAXPH9dOv6PNGqCpq9zFEZzjUD8qasoOPr7HybvMeyZCr3bqfnVO2AwtTkNdfyQNyh5I8eDR1ou7T6oi/TwK7fYxVaIUJGeqN1Dh2jGXZWJfIRd+n67egZlVigCW4Mb9rRKM+orv3f7UbHHwaAfATta6mokey6Dos6znCRGQ5Nbm5fe5baLO58MqXInqM9pq6LqdElc8rIniwTw2Xgb3LDdRYv+pm9iIn/1tfoBhGLoPkMgL2k142NJIng8LgTMkpPyFcy9QGtjvNvsVaCy4XoaLCXnnGiqUm7RDRzeeTywn8Qkvuvv7Yl0g+CXnu14mpznvKr1dX4kPceQwXhrDdW40MORDOZ6hriPYsK3MCnCrNxIpR1dt+Ef1morQOQwQ9S338bC6oAlgdFfiX4TX37lQKCMR12xqw1eMkdHBNI2mVOl/8QIL0gF0wi3xr3BMqT9CeJ85oTkMDBDx0Cw3deMNQWbPKLfRWSxW+BMykmlWhxFcPV1DcA8rhyUeOHdEdzXaWeNNtkkQWNQ1KiVshv06g804iWXOorAjZG1ec2rqMgL8GgyMSCOhKAAAMJ0GazUmoQWyZTA//5VVUv04R7pZcQaNVtwm6cbh3YKnlKsHs+n4Urr//KMHL6JHCT+pKqgoi83HZEKs27TCG5nGEW6uT33H4umB7ygmWXBELo20Etw+ZARWjJoKF6C6GbHn4Xj8FdP1sNSOcM9QjF/xTNvuSdWJulNgQfuUKGKhn23HutDdOPHmv/U1AiiIDWuONQ3gFR6rOt+HDY5KJEEEkyiMmPbWiAAaECRYMBzqItxY/FMiR5lUWhMmgGBOiqZ3Tt+hv4yZGPvziEVwLYb8JabHJdVYsA5BJYIpNMvBd2hAIiIj0jhRE1DOwDuB2E8ytHXctsBrnTzWyb0aFJi5onX/lPrzB3iWaCuBkEtBWtf/8wu6kYwjxXkjEfyDU48uggCYM6/lcBl2hPi9QrzMIRCYBHasKD/aVtfS9QhjN9x1i/Bl/Sq+PIM9dheyo6a4YOj8YM5/sRUJwovDmmSx0BNzoc0gISrJUuxc+7RdSL6c4qRtdgL1yabF3Uex8X6f6e1uBKrl2+ChnCQbl9Ik8u3ZuF+n0GOkWpXzcXgXl2mUDS3Y+eNdwPIJ4nk/YETuz5JGXPDG3YYF28A7QlhW6oNWxC7z75t/nkMJy/TsUUGhRvE5jk+GDfKwG0e8yn6TRBK4zWC+Nv8ho2ixrWT+zwpAuHYgK6RT/24VwesqNloLxFffsodWWu6gv29roVeReImjI0L82ya3SNqsqcIMYJudZpHDYFXu8qkI+Z8hXCGuK3JNkU32YhQ+PTFr8qA5MamMpvsh120T69FhPfKSL/LoY2y1xzV/QD1DXP6t5HNBqbQJP6WiA3AAbVK6RNsgnMw2F0bCGHes+69XRbtbPUwGbXY4E+EyTnJ2Ws+KEexcfQp2KYWDWaXpRR5CK08pP72phr0BLqMn4LTS99B8jcBk6hBf5Ptc9AsQOVusQEO/hcnZE5GGbWFhJuCzyYUCewh2++HQZw8AfzBmbkbbvOkLStlE52cO0d2ZuZT7rztM+Dq+6uvje6yyk8SZZRt4SQyCvoNfldHAA8i6JmoPXjuaokkb0YZ/Uo/NgOjTKD+WhTAQERTQpEPNBFNY46QRfPm9Gi6t2v385Q/kQjMAtEfqAwSSqkK6y5ZUuTVIe+Vq3HzDJjLZ6RkfCw85Sr/hsZYZx/6E5MjpdtxVklrMC8fhyUa9x9/vqAQ71chPFaWDgLdqJGPl6zWyBLyYqIzCrDdWHHMNeL+MA8IXL21sS8lxk/B50CmNDf1wkUYLnNYfUmK/LciLywbcKhVNrjjvdCpRh33jycYawHb4JCfVumbnEvgRchwkKDA1lykTMgqKWr/6Am3PWDSGYnXUe7srma+Uf6TXmvQNgCEOldry3P5x5gCmxgaShfPdz1e6OVuySJNLUmQxzIOtyAk8syMzmizSOxqfWtPiQ1XGvaYGI5zdcNASAPrNKREaZJ5gtVqhHkg+wrnyUic5SllGcMlYGRvn04kmC+2LxYUjpb8KLcYG/hs/TK8YE/nCScJFltI9zKjC5ak/8IGisa609fueFJp9TbZaVvy5z6549uF+cczx+UGXQn+vpl4hqWxto2UU6T/wB/laevY6LFCnuhHdmwtyeZoD4IOVolU9I6LcLv1IVnApSVTNoUIKBbMYxVGbH+A3ExNuAEPjqD1dMD7MFvPs2Mz3o0rHj4vRa4Pw80sPl4RLwOQkXb5JUZ7btn+eaPPJ09CpDh/jpDBcmwz8SNoqNFnze15ebDytumUfan5xwHMhfNjebqLDs25Qr+vI2kzKysBCPlvLIoBB2DONdODLEjrMcPwEIzIBvbmbAkAak12KyWafZ8d6IwhuLsSf4qhDRiG/onj4r87YEz0vlEvEjsBRf+V0VsY4/NPlK6Q2Vsrwowvkzw5BAFXn8H8UTKzKzNSTISDSoXr7bnIaAtMdWuifKlCf6z3WXRB6wolCeT6IhWwL/tbK0VVlXf6MX9GVjzvSA6OKR6lDNr1WBevoP9pImTi+lRPq3eeC0/YkdkI7Jj1lg0XvPVtak3TS2mLLT/JxcZynvSW0wNY2dFqdkJr4QhsXVpCwlg+kD2BQCLlGqQIPNtVvI0nZ9or2y7oqYhGtz3oPZtJyd1t8CuCK8Rt98oErK8K4ULrlWyJh7X3VCEGd3eShsZGoI/Gn3czXDCA9WSXaP/zKkP9+wVz4aiYORRXQMCiAg2WMQmJXn9IpZ4ZJ+cpPgHIH3P4pxjlTgEPiErUr4/rWqYBesjT634fBa/eBQr0PdvjD9GXgwK68u96XGy+wMQwFtx4ojPWZxQilV8TbWVZtM426PDv0ZsHjJ04KgZPHViOMll1wutWMi2GntwHwhyBH/Sf/fHlPCVwKEwClwTe6WrGqfa7b/hD3sKrsu9qXwTn8LNS0jmc3jXNYFFYBuG7ZJFqF2OfGLdwdbaYXhZHphvknj/ibxx6NwGWS/pG7OQ5oV7tWNNCo9Ja28BR4eX3gFopx4jiUkbe1oQAktIaDbxFfoUI8za4wbpI1luSHu1IOkiptJIJ+95dQgzfiljyNVIdFmiYeeenjeBM9alsMeDw0k9/wMiZBCKRbDct2yhUMjKlmO5p/ckLlf68tMLBpceb82uLOxrGmsDqRyKDoy5Uull/yh8FRtFWRdkJQ7xJwcNMr5mCMLA5dwt0bqY6pRuxFD9SVc7mUxtItpedHrpbjQtkOBbN2C0Io77NheCWN4UEuEvnuxpOKPRbTmruo2IB3favraQVIox3RPJKEWD6wUNVe/ktBcGyLGUtX04jYSSuv0PBDvxWMxvmPAOaM+fEteigQonmcNY3lUw5aOiJ3P2v1Jyjz4oabfe6Ht04POHTwpDoEBCMNxQYYues4btevbC9+AAfhvezyOTq9YyKIGVomZ2mvauTRnYdpiU/5zE6prsAP2Vjwgmm3f/mgDp5YvYccYPTTP63f0JfT6w9BvcrwMb3Sdt4zqksLEbDKE1jrifICajPJY3kpzU+KxZyMIu2reOe6cNI77ZKoVp0535ex0YZlnZvIMIxwxExcPcxHUJSU6LYH/0O3Cx7DVtYIT61cJhXish9TmkBPumx4nIpU6jPEHFJbU+f4yZV56nS1I07/yCtvKxS4a3DzMBvTaXX/w8dbJ0msjbrWWxXgvykLVxRpXCg6EarexduQzpftE2+0w637zB7BJFqZgT1/1hYta2JG5/FwERBbJ0hR+H73zeBcfWNXrzaBGNXiFTCgfq/JE+vqRjZc/2uDlXln1lPnDO8twb7zQk7b6EJapaVNn02Kj5ez/08n2pnuT9W5tUZsBMoBSn/rQ2ZtTsTwfzLDtYUYojSNqDYaAxPZdFNLSbFHxFHgF0Tf57gQZb6oUV/940D4rvVh1V9dkb3LKebHP3vIEojR5TuaekTjQG2x/F6fnNnfr1Lu3emKrfevUEEO9NNj26Zoy+qVCFWyfx1P8bxGQyEK4Zib4k6SQQBMQMrdcZ2139wPS9Jj/z48PXlxUI6i+3ZqY1I5FYtc7kDS0aXZ4j5e6Lvo3CQrwTG2EVn38BYEXjhYPPzlg96uYSehtb6hKQe6W57D2zrCpd6B8EFIsqyx5AtuddB0MaH2P6j3czFJb8W1oOi+xf54xYFAQg0XUWl3f5Ri3kElRmiRwD3Vb9WVHwk/2osJja9wjoppamj1H4IcruxsB33QSk9/BqD3qfmECZyDsHRci/djHEtEeic0lnQ/ggTV9+8xgtC/DIpfXGS47/iKG4KBwdoS4hCU6h+qAcXipMlem2ODbc/60nio1krJ3TuDBDOICxfPVV5ybWEs8U/HvoQep+98O6v3Nt6xBwCdIQXYenKGY8qiyTNdc6V1S5ueVwXZbnuvskHPbpK2Ee+khGaUp3OeklewkRS5YI6g2bSYvSrAWaQEYlazccX5i/Un+W93hk5r6KTH24ddhL7a2KI8uMZHo88MLK+y1uU//fXw0sng3deHK+75WLBVQFiC9hYZNH40oGQKh+WVg0MylS4pHctuCxEK7caYSM/Mzqp0Y8ww3mHP3BWBBaG9lXidfnwIkAucWruEYucojLsnBjAzKyrgbgGxtHMnRgjDdFTnLx78crKw5jASUeCOaB8PvI3oNNPcQ4Lsy83LkDp4ttz+5UFtjO5ydak3fc70/p2KQenwzdQAABnRBnutFFS1/Thp3KFgJMthMRxvWrXvaO5CtnvD5ys8RLS8nUN1pSCrFULMhzVNmHi1jUjPLeBijWQZOB/nez85+VE1iU/vRDKIKVBSDG7t0xqqOYJ8xo+C/VMVJ72MphiNvrouYcKLIKzsf0LpccGga9lEik8j6CQKUD4FDsGwJ1KY/ZY6+Q8IYzYAqoJVW6tJtzyOzsUwHGwpSza4X5ui+p0GSpOSQU1LRv/aMAfM7RX/zzEhpwjdVh/Uy01JbUfjxlK9ik/0KuS9LRrUy6zeAaFmhseTW92eYXYbVuAwXgwfMe0mm1ySoinqcGwJi9eEcr8bqAUHWlP8pgChiFwLGkxhnR6G5UIC/qR3qAooBqOjVBGxk/nBhv1y/cgjauQpqZtEuOKru7oYf9TTkcMtJSxWetSDwzGne7ONhYWe1m8PLtgW0hLvJvtnPiLPMtaBXapfbfZBKCTQUCQb/QX+bz4Q7kNaQKU3E4UT8s39i43aVa5mlb4IeyG0veqAJ1fe5VJW2jbHKv5HQV/+FezQQqgMoyvaLunXS18iD2QP6gePHgD2om8g40zvx4zUq+Yv5wFJ7UBUeQPrtZLmbwoMKecMoG/zkZXeWXOeE/yPzO536pbQboN1zkgFkAqk9gC3pRtUBtzrnatHoOzc9I9di2O0ociB0h85PB68klHrTI8zR9epcjGHBe8vxgvcCPVqYmVUQxyZNxPK8KzqAsjWhDKA5JThaw+Pl4HKSBy8nwqc2QGfewyNommJKgnphvGKqO8RZ5+EAgZLKk+I3QzVfJCCu/hn3E7y/WsZ/V7YKrhGdWQqgQ/XWlMH/+kygFiXAELQDFhHz8JCudIp++zlbbpt7PGvFuev0CjK4WnTRlIu4mFedNtuvvCzeJVqxW1WfHf3KOTZLgTplAYeiEOVI1tJirWnW+4NLdtpNFSNhtC8+Kdvl0FmVpNp9oK3yZMnkocp3Y4UFQiio6wFGH4VxVt9WIm62oKpch40JqsSoHsmpsEMEOAyZbnK96LDmTnkfwPIVR7vFdSlK9+0LNu8uUty3B4Afs3S1twZ6lD8/RJo4j9+tCnRjdxIswAE9cju6dd/uziZonUABQHQUGKJHfT7wVXlA4+3wsaNFXjxlb0tNxGF5OpSjeXV/laAreYuu5iqZkw9pLu9eEwQKbHjuCDD3ID5fSTqqhJa3y89xjTESs7Q6u7A137yDrctvV5mDsRU40btvPPemdM1BrpFROH0SSgF5xxzPssldr1ecBgNfJAWMZsa744gNBAuSmfw8OEOV+Zny+mdaufD48R3prafoBBxxnoN+h7tq44vx7D5kk8CfkcCbjsjJQEXnMo0w+iXTpALlKcuxXX12SgCfsyndttXvkB0xW0p1ujqrdtJBsJ1YrNA36fqPEGDr+aF4rwEbMd3OEBuq93/XO2HzrZThsoYVPV+6auUGf/ewWnVrAGtjmBMwzgQiid4AtakteV38FoVj/+yNxU1j0uyLDy/heQ50z4TQhkl03p4hcP+Lj5m+hMiwdPfy6HM6sHcEuUeGz/OOC+J08W8RLh5DjXEosrsT6bzRDsSj/MWO1TJcEZcGYNI8Tg5flQKO0aVlDH5JVRucU+4CjUh7FJMrNnA4TvbaARhR4ZFQiTZwi/OPqmbowbZjjaZ2rmpqayT4vszTrZHe69Lmv66PXEU8XMkqlW4b7f3HW/ijtKUf4Nv2rOFjrlg8ZRbbHcNG4XJbVsnubedcR54cKoKvL0XwmjY1HJ5+Nl8DvipBiE5k/bDHbCSjKyTp2uIwxpX6W3MrpuPrVbwC/FI6MRj8fsD36i0agDaTMpfFSUEu5Zx1jey2gEx7VWYFVYxD2AO/7j4VcZe/QgK8ghh2cQlkOXEOCRAoHAL9yjJLkmpxGajCIA+UNdXlvIxxjxqzdEZosEPqAG6da0xp8QXM6BL73zjiRwnBfCxhmxO0aPfAWJq2YRoFwGga7d7q3mnkaCD8pCGuDEcJvFsX3e4bai+TRa8BeQhO/zTf8s7x3zf+QWhYk5D0S6n9WuzFq3ye96RulqFdCwnhCrisuJm3fzWAFDTQqy+++sSOY749y4CrEAP+ht5hc1PH3x47LqbosCIL4wH1mhxYFfO395akX6q/YwZuSHOrncSJ5bWRTbZUSpyRNku0czhd90TPuXQwoLtmIT29cFHPio8Fwq8228c3PGhniZzRhwAABEwBnwp0Sf9VkV2VOCGDL1m+H95uC7u0ZGGKWscTZ64ZFYySZpwGOOWCkilG8h3haTmJ9rvlNDn2ZK1B/PoCVG1OpYMIO1rlBYypzbzcnIQKJ3i/NaustDQCAzxt8OgBmflh4N9xdsppOeNR+bjNaB/9EsHYJ/SxzcAOveB+/zqgrkQ2lGF3D6ToW/C13/1ArJPIjntbbTuJ7mIqB5XoyduVLyamiejJvAyC8H1bk3pqe4TUanD//MLPQAkuJxdJ3qx5Uz2c3CU7vZGMlOX3TirVEW2D7ePPgMk6XQDpuSwfClE20CVUzd6Xa4vs5dmeTLWozowjmm8SFZspi6mblDzSCksCFrHIlViHxQka6smQ2d06qgRGX/KvK9HZhmgN07p9thfdz/rcQRvlGU724SLv26At44U2OaSYo4y/D+O131H7WGoccbxXF1rd9mDIXWm7HkZBE1gZeSOjFqk7O2O8kGAbCJ7ekIwK3HXicfhGWoofrfg+mqOkzwti/Kp+kfdDOHBX9F7Yf5zobVMqhsDI8vs6yyqZrnIznUEhV1FA7hQE8KQs2giqZ/o5fmPuHQfYT33kahg+LaIqomucc3iUZVTE1knTRlUo+SRPdBqWSiY3ch0DAGr5wE6huWS5dtILVIkpVadnVDhJHH1kebdZHmuWtaWHXWQmTinY8punH2TeX5NfCRTpmfe8ZvSlMXcwwtwGjCNZTIBeJD+QFN9WpD+6ILR0Rx3q2pA5YVny+JKwCJbY/Td0L21ZSyhjZdiak3bCLY3VYINsYaF+sQcnFLSZWoxNViB1j5/3DsitDiXVU2OjKrhbQA9TtGP3zYu2y9u5um7+YdUj4hWQVYy5HPKFwlfksmnzfK0ZqJMGtXDE22r0WLWVOfPh7yzbp/xxr9sGwvMmfDlei9MCmesxnc6gx+/mm26YDo6h0OwhhTSNc8F8aCz1Og6wTDmG7uRD7Nrrv7r8N2BMaV5pwaZyTF13asUEg6AyK9L9PXiuPOfeS4SYq+/247Wnd48iAjFkZ+dSZqfMjftlGoDtbF3TAP5g4KnKmMFo04V8etR27IatwBMGVWntARQJ40PAOlOw5AqzhoMw7ymiNEAy7xtkP0ytxTt/bAMYG2hIZPm4p5KiraLa5GRSVfyDvGTZwgThPxwRQoP9YtN+eJLCHbHKc79Jq3Qb3xgAhdd/s4mKaP4dIXTpWAN1L5nrmtukzU8GuosrTDXLBFBEbB7JxR6MEfg1tJCzYFOcD5yUML9DbdMlVbk0czztuy4ZVUhm54WUND99gKk2+vJdYIcEM/XdQvPM6mpeF9JXdLNrJdn9QyTa2salkApYQFhe67y64oEIZtvOGcfGg/0aTLR6RttcZQKa/49TahkmlOwRowSfV0nm/0e32t6LnX9gKnSsJIaSg4/vveRsKCgLTRo5R60C+BNl/96f+DY2DUsLrSx5Ax3DtQ5P6sCClmby4AAABB4BnwxqSf9SAdjladuvlW5toXGvRMOYE5Rv/36ugIeTFNl3jkmgQZ0SDyVLBbFdqPWo/CSiYOMS+nVk07X8zdArmae95JbjCI93BqLbXWX01+WbmhQPI9XJy+QWHVvOi5DVQGyxn8IdL1TNyfjb6LTBEMHwcgQKpeR1qh0TpZ7S536En7R9OyB2HTEwKOOMywpnUDVdrJY9l7Yculj8kXR7QqVIOYwpTp0LAXMVr1kUdBhgmtmaXdQM4SgV4N153BTbMxOcajHpCy3Ddj8YJ4/AM9yRY112+f1s6jeEuHk474CPD9zEtS/6w+YCfH4P/4J4hXadJ6lmo3jUGp8KtrxiYDQxrQgmOiG9z3RAwrhB8Idf57zw7kwtp4jvmzRQw4rYC8mWSSUdQGCWnPktF15LuLrWREH/UA9k3H5masidko2DieWSDXOeD6313fA+z8ipnQfJPrpuRu7sIOgYXIQMFw8mur9VZFZy5Cyq74oqv4G4Ct022LWgZ+84sU5V9SbzIfKyYUexKB+oL+mHASm4PYRhEmp5cCUOyM5l/x/OX01Sc8RNYLoKCMeb/t+6XKZ+7KO6Xk84JDixmY6PGX1CcxZCU/0ctRYlhR4NrdXiXcT4KEzYFBq6bhs1B8laSNdEWLCxcr8ClLThc54nsLv5ZfFUP1YYEEn5RGpZKLzF9wJCrNGhd7qM8CoE50kbuuJwvESN9WkMqWUfJ+fx11lfiLjx4VkLh3WlIPUbOM9WL7Gyv+YX+aKkZF1q/+Do0xsCN1clXwgFgGTGUA1zpMKhxPqmo81j+d04WoqEd1XprjBT9MFrC/UHkjzE0cxAE7aVPxvQ9Hy6mV2sPngsIyjIN2SNMXgJ89DdWLPxaQi2fcyNfy7H2q+0JA1mZIPAhMiOPk643Teh6qT9znFTOn1msnH3XEGuPfcY8ZRwytnEQRjgcsjITBXWpRYNAG1qMUenzhkC55VHOZRJLP/J8NAGunxB/wbUe/Psil2vsylwoydLPM43zTs03Nigtu7RFNd8B6o26Acz7d05fxti2dKwSDmS5U+OLzcbNgZNKhdYjg0+obydXr9TW3AwjalgXhfx4koUJCiG76BbbE3sxYB++Pg+5CPITlvnr5WU0s1V8I0PyxB+ZWfezHQVO2PFSLtn5FvJnfo59MPgb5LChUCHib6bqM6ChJUFvZPFg4jSOclNo3heBOaXHTxDgzVwWHNrPlvPoB6/TpGZwrHCAqhK4dnsg93nq3GkNTTG00Aw6XKSiJ4KD2KM6YoQSHL/LFaDukT0JY+H8OJaxqN4rNoJosR3aTf66/buRBsRFeIK67Fw1zyEC5ogTCiJh0iIuUrKJ26RCHZJEmJMlUNnpjj+bh5A2JT0XC8M29D1WZN19SkCioCTEx5Qz0EQUX53AAAO4UGbEUmoQWyZTA//5+kx8vSeSaqpaPbFAvNtyjsgnrJQaHWIfiFrcUnoqvEqqkZT+St7dlumrpCVcoFGLHwH+YRDI/ET6E78ZFKaNNNGpQa1XBNUeMUWJrRtI94U87+dD0AeC7eyGJ4FqJ/KFI7zZGd9FBruHcecT77DtJtElg+YKAgHfHt/1R5OBKk91/nKCX35PnOlx4FdlVwYNlIg8QlYi8c6jpa0+lUb9knz/HcEde6xyaPDfDFuis62wxmUsG08OrVgqj0Jm9W6YfjM+aQwMV+VTRrUEqaf89PC0CgsR20oHpDs5aI1PTD+7wGZSprWPWOpR3OiVlUSMrHLYt5W6B8QAHeEYstZNw/EPTdvEZ12tE6CBGKrQoUDs+JIhLkMPbEl0f5sDLgZnjm3Z4m781/LCxgxjyhk50Di48l6gqGx40GjJTBX/f6+zKLmIWbRdesDgj5BZE1wof8uxa1UZ32+I76kD5k0rFpQjVx/PMBlHNlFqtX8sHBbEH04hAivGY+tyG/mj+oC3ZrWcUT0xwGqoHg6CbnTv/AiYxWUVN8PzdNHkWLcierakF0AZ6oXERQV70n6pk8coFMDzsly7nf9WlVTpebjSbsNtCJIYATS/SOwg1K8kukYkKpE8fidGEnweiNFlTa/qHhPTAuRPWHJnpTFrdDcS7BTmq0N9FAWmDsFfF2Kmgwi47QAX3kqE2TQ/xpRZAC1QRNnqCapw45eYOJuTswLfFHBKf1DbIz+efguFdf49hhNX6W3ZxuPK3GOE99JOqn7yl3wmFVAruFOMDhTgdM6+pQZvstlx/9RlzPR8Rz+cPRFPt6VmIKdxB+QirQDPSrswilCZ9Te5N3ElQRrWfdzaUGcpK/lwXjLm/acOHa11Tzt2YbGoPGZgRJTsNYMyGyNhh9tfnjqrB279HAtjdVrudUe0jSI9UZ7Zs1RMdXWWE7ZEqb4tQ95tC+ql1D00zgCCiFrBPHhnJvgkaqXcIhlUi161ZZ6cLAxbyU0bUIGIA2HMSZ617xl+cn2ivF4/0CHM/cuMdkEWFBuW4IAUtEM9Y01J6MsCX7d4SbG7bJ2wy/MeKQ9AUxHsnE8gdqeRrGIWec7zvCsjNh8Ik6Sr+IFjjGVc18m+CF9YeoqagkCkfDajRX2/h54CMsRfSECy2OTDDqRS5n/23Y9JcL6+t8V5UB+zzb54k9PmMh9ISOQ3pq01/lpwkljrOnR5L0W0GAidrM2pxFghyzIX/cFNOQIapK5gp8/4jX+8gZCc3MdcPfCJNn8x7LZYjtGfev0CN0qeC4ZnyN91Fwx6baeqB0Lc7dA/18XZH0rO+2Hs/oSDDAS055VRjXK+1bCB/adqhGrVPliHJSA09Thgrym+tVyv4+IDHwxy/SI+x1EK2+Ii6suqBxp7vhk54KXMcQg7VhPSgY+XN5ing2WZM5XssSiY81n1QRoyEZ1g4VjFXOsMq7j5WmoouGOEnqs3C599qqYMiyzyqoGCfdXDjbeW6Gd7VYtzc0tq9Pfe+f//MInOOaz9XijHMdVmMkwGQkjXvVd4wPAJmaJxK3NgJEjySjS6kTPPWW/2PkR5M89HM6a7jJGrvIBvww+mIFunVz5ixtpb65QZyoBEBD7lpJKqxzp+pMIoFloWXchPtq5nDFYGGPZwUisQRKyAybInoeKsC8b6GtfFejLAxmW9Oy4Fvohs9sYEV5dxFnH//00AVD+ferDQEASF7eyoTaKpD0iwdSMrTS6NPsHaDZkYFxrj7cs9yF17v29GkjqWeoUeD7E5s0N1EXAimPhzYhTOulwRX2nlSDGkrEdxBEc690AL/koff37W6hnlIMPCMjuawDQQ/TaXTJnWa4sUh63EvYJ8vzhGRgYirfr/zb37CqL2/OgVqZWibnHB3K+suC3tLCVkEtM0azWNvthQwpPLa88xDSFnoIfySK9oEqzTqTunuekul0qjRuX03STzwBAn1kVUkde5Ip4QftQ4dGRLsust2Y7N7KQoos1yinS8jTZbA23m3mGIMo22ILyzUtruLqJtLfoPJ2FG4F0ubrhTMat/s8bV3ig2pVkR2w756Q0q+YeVoVlGXXCy+NqrmxhPSsCNFeVEpKFA+sGX//C0N8ZaiMvGUly2Dkt1+qlASXlJhiHLbdkf0vLNy9kQDP4Q3eQLqbX0Qx+bnM+MqTt1v7VGcGE/aXli+EE3HgC3vj7EfvxTJ+/U72/ERj6k3aw2ocP2E+XxaRfQ0/nblyOE1fdHbaXM70KSZagt5SDZg7wNUsJNM5MgbHThGlPhpvqHADxw6wLilTqtL6yLw/K6qm1vTVP6VvllXqfq2tENc4SHewEDxkwZevPGi2y8rVI+58k8/Htliri19p25kyWOKiADQ0QtQcj+aif+Js3z3VyU8N0suxL2S5/LMyUEDchG421FAshRhZJ4BIQdBJxgI6KHVIB/s6IB/JimWl1gNcUG5gcaFVvy2ut/7hAPeGhEJBbYx/3JRz7dD49GuFjaVQMmxLR4I3Btw+LMDwVxFG4MydfcUpc5HfB8s+EIfqE3gtuH2hdj1Vts5IsId/QScDjDS37tbo2DbYgm27r+IQjnEPcjBrDfKo8jRKegvBzvg3cL7BrjpgyfYznH0TMyzXTWYeypsbO+pzv0Xi9nXevNfrVau1TBA0ILd4JtwEa5zO4z1pJgSgh2WQzXRriJXoXuZPt4lvy98WrNbd9/C+b12A10rwEQwBQbddS5fCzDWpKRQLwTtHXwH9SnTj75mIGN/W3YsXMKaKQ98LiJeJBdog9+qVaXdDynHDVxOnyGAWiEBpfE0elFOUgvfEtmFvbrQVMqIWHqhjBfasSPjZv/ZHlVVUEAriK6JqD5Je5zJJDUutu7mkQZxG4l7uS/AakEFAcyHlV0eQuCC+N/4WcynoNQWYA3Jpa9FDWxFC6YFcmCMZEdPGZvXEnHn8g2VTzGjU0ypgmbrVnf2mkKHjHHSA0Ea7KmGTCdLfglcWcOIX6c4C1F3YOTJpYDGCrBqtgZxqcHQn0LYjs3AXeajd5+c7+xMomMl1r0D0xJzfAcvUE+iftA1Kk7obGBvxcnMrCdNNY1gcOxD76rOWG2BisXo+8g8s6Nei7fmXePSo9z4jgVniNOpBQZEzlZEELI69Pxp1/ZJoeFpRWIGxAPuMutsGnHX7L/P9F5vSE2KTrGq18CYlagrr/lLN94t0PflKvuLyUZlbV1NWRDXINNxP0c+WiqgeGZlH51yuibvOGhqIHt4ca8VLzJlDZR4cyO4PndZPDcVZCb/vOePZmK5tcQvPgjyv0SyTqHW4M2BnEKviAaiiRCQzaZ7Xkf3PLV4ym2aIDly9L+fMKKJs5jRI+ygn/TjoxAdySYvocbzPPsl+C4r/a2ug4AAADAvFRGSKb6Qjitn4es4NEH+ZJNO2kQSACVc2OXYMaEDBzh0zsL6g8oBeyqjgMEg0nAUnVmE3gD0Pyza+9xyuyGoTq+YjcTrMk6Z5beblYMvLzFrCtxD+gYINmYsB4tXCG1lbgoLOlZAhplIf5ZlGVQrGFFfCRfs7hSN/feHOEfcl6RUhEMm2fv2LxxL95bQvEN3bncqC9GaEyAJN9mw0ecvJq20i17rlh7OfvAL8IcqdJqG8KhwqVT5hieHJ/q/nLN58OPiFjPvE5NDOeIkqo5MSAN//hb0SvUmrjEwbkgafUn8rQUv9eprLEA+SiUZkur62R0WRJuDTt2IaF0TN8XozDKHFJzce0yQpE+pk6t6IIQK3bydSGMWVfnYC4nMtMMlKgaUY97joN3xiCoipZ7j+bh/9O+MT8GwERbiGf7FVjMgrv/T3NFQx9/Du9dExBgjTclLczZB98sz2ZVr6ACC1bA7HE1s5ZhsChXpbUNbJteRqw+Q0X9nkmYXhxEH04IkZ5YR+6WDyeZsWme71qj/X/g94D3P76HzJ/adJ/tdu4y32HlbfOXaeD6lYwipH+C3zDtYWKL3vyDmtd+FiL5FLC9rPwdsp1Qaib0ufGDWGBwiG1vgs7knq1Y9UhLsJNQuM85djXIbLmzcB10tVvFlavYqHtV7QxGYbG3qwY9DvMBItJmtOBAuMdA5uHf+6GzR0tpsOz81a4Xv2YucNxSiRapPrw4W7lSzs7qhjNhkNVmFCTX2EYqOVe3R8HFdXJD8w5q8ZtKu4E83c3p5p5mc+lNcFk5J/hsHGCtjbtRoNYpQ+EssZeK7knWIGRBbm6F40WfdD2HvUuDoRNyNghiZ5avsYM7fmtavZL2nK14mWFX7DZsi23BbZNCYWdhEKs2F6GX4uFMLCrngrk4GSzsgrjyXHra6x9rTiGGOTm4Tnz8dDcyHsNadW2UfFiWJC3bH04mGGu2afNtN6k46YpVrcd4567iAeI1Ata8y1CrVXURW22JgLMthrkc2EOmE198LEKWaWJ5HsRgWYxeuOBRugyCJd67cWZbnJCHC4R+PuiHzOXyiESC79b4NfwHAbKNWVg0JBYW/v/A+asn9on3Zg7qNeTKILXiKR90TJ/0wtdR6PrFB1ACvlI161gM26TrVSzfc1GISWxF4r7+Q9+95fVhwoC20m65Yc0Ad4jft6EorYUKoDjrs8CViyeQ2ZXY5xcMl2mM4FU3HLWp0ytrnzZntXsjL2v/zv0Fy4tYEQkdLzvIumaNqKDiLTDe3e5UUYbhPDLHU88IJ3sp26tL/hXWAZcpgkgTSk6M/Fk/f9XsXHZcTanABsB6/eVgsxPHqSZ1XsBLvDDsaiTh2sOjQ0RKJCkFPaliIMh9msecP5L84xvvtvalmrEgZvZ1Q5ZaPFDTIvm6sCRko1xk2NQnmiXiKFJ2WZ9yVCrjU6mIGYr4NaU0zvIj+4TZlTjfg3+uLMkgFySd+d6gcLp9tru9YbJaFlesn2eQFXrmDulNrhdtFMyQBijph53NvqUoVqFSSqAHPAoFDCpMb4Ywp5PFFJPQoF//5R21WzQUZR2ZV2Ye3ODqdwPazIztiCwCbQt1e08VROQ7Prx8iheANSKvFfw5RWw9cZooqJA3BfI/dIJxYiPJIhwNJhzo+HMoViggHgig9vnsEvcy18J94nJAAAJhkGfL0UVLX9ogbLOIdc1DDi4lP/8R/AmFcsvjjn8SQQiEVlAsGCOZ1+nYCRNq9cpAU5NNcJRYI4mTEMA5GBiceJ7zgPXOlrRW0OGQhpOJiL0TDibuQCJ7LzXKLxGqxhfMqyuji7Ctb8KphljqM0ARhrG1S1zqHQ5LzBERpTHUjdNL1Fjbp8ralMrktCkhIyDY2czDbNfbSXvxCPTzSmulBHN0gpjCkivZ/VTP6HQG6AyTJ7ff0wojc8Yhcuq8mZtccEujjLGUNZcuL6SbKNOR7YwjLRThw8+scNxPc1R6nfmRapyvdF+Kqu2bPl1aTJRJMheldww6AOe9dGoiEpt+L3Y9vz7nVtG9uY0pa61Hz+6KD/Au0spUZ0lFRdBvTEsHYMgVBn9cLhocPYHNnXEz51vgSVKPy/5vWIdHy8UduT8zHZRXNj4sSFmpmIlbovicZqt4TDWtHzis8Mj4hFm4Mc0JvaMgYFmDaCfnhY1gkhEXUptMgQSKF28h+VoaVTcoKrQY3aX5TNi6FIKl372J+zgPO9KZzjjqnIoUIJm/bzneHxbBlJosHtjidmeqVHuSwTHjiewlG8DKHeQthcVEPaPz0L4Luzv80v1oGnQCbe2vkV5c2Z6/K92GXksoyKE1z3tZRqv7/pxWfQ+t3hCj/Ju0I7c9gXW/5QE7Ss7pRKpQ+cZ5gqApDOVQOVOBNCfrhr4TrzANvswjr0M94EcCGpWGpC4BbWuSud92zeuZqLitBCcSXHIu/9BBDGTjD3sh0y2XVh0HhriUKSJ/INrC+2QsS536ADp30cO1MvIDKWYhuc19O8IRfOoLibLdcfvn7xw0H3BKH83V0agCHom0U8pxszIVsTiono/LrgdBtb0Mjt+pBhgDWGgEtvzEYdCGEs1ptOIEA4fj+yx4WY2vROqjktQRMwJPx2peO0rrna5V9IL9MP2r9h+c+x2I78n+JMFbJxadKOxSMaaetxF3Cu4ZYjmGS5FQLTFVRdUd4mxDcup2h6JRqqOhU+4PtMhK09AGg56ctKImr0v9t31Anezw6bgNQhjwf+WegSrCzx6YMCFRvrkz/VLvVQGIyK588WFpcXkaILGrEZrfGGJbtxtdtNXzQmss/zYVqVoyhRDnZSkGZnAXSQvGBxljxlNj279zpgrZazHdYFrr7onVOntneAUojMxSUg4r3I2+1R3XqIxqqgffLMx0HL5pjF0fvPqb5TtY97Ji/8hsak2KpyV42rBkSG/OQb/56n8RBfCi8tdTh61WC+mMUTX0rWlwyOtWLDZ/cvs5adJo5iqdT/5TkQ2TbPp8h+2CyrCszP5zvKO4suF7iZOe64BOVE25cIHYvRdrxEtK846YzFMVFkJuvrgtaq896IL3HffywqEGeb1waQ67xihjX8v64v3oGaHJS0e6pOx1HMhkMUQd+WDmTdiDtQDY4FQo9jIpLWvkw4kfoQbei8gwyVuLR5ndQDlJjXXpqLLZLXhi7/WHmKHTy4bIDTPyb4TXq/4VYDDrtBVMGS7O1f1CvcEnzoadjFnjAYnx4yIOhLo7KBcWrA5IkC25CcQKgEwCdD8goIvHSHGvOZITNR53OKTgLpihGZ1zmAYybTeNfBt+SINFN81nnc0HuRQf6PRhpY4uznKGMm59sFfYHwav2j/58k0aFAsaAuHc+WqI2+cHN/oPLN9IzwIPPuWd/pwpGnkmXWvFXPcik+fJU2kU2I9E5G1/jl5t3LOfJaMqOCmdqilDiz/zXeKRcM+WVNhCe1ln27tE/+Mox/SBVREmfRyNTKvZzTLWcJMKDu/W0wTaTtn0+19zADG8Cdsjyd/KSXsa2ZjdjW2FyGFlubjAna3qHzfocjVN5Kv4H7v1tOYLb8VM1V4Gs+TM1kXKAYciOjn3TLrTvGcKd7rsN47+dlWeM2sox9hwX2F/mxBGe7ubZD4EOpc9EXCYS9nTURZPPDBOLu/tNFtIxb/sg+sWbLOBwDMqv1R6DjUdqbkF6tuaJ3iWjqNKJJo3IqqQQmmLPjCTUQkAxOnwHv0MwAvye3hNJoUUukVwT6XUnNm39zht20DhwU6s9AXHz3JJWCzblZCNA9QUMqCJD2v9K7/MBtI2odR84cNIp517cOjuAv7la83Xn+YDxoacCa5v5MA9jKgMjrQS0hh4kfqvPxJgmWvlBWF0xk1yKuQ86CMIaPzzTvScum2IoLppc6HpDbdfgE5D3UfyOGkc+XWSisitxNQBNJ/TDli2mKq0pLLybWjPBVbkm6NDn5eYSoR9CTAg0OvALwJ+SkLpbB4BVrzuxW89AMeX56dPazwh6LwAcWSlweL9u4Q1GAPbiC/+ixKevwmnwdO2fPCS0I2CeoEC4JUa0d4jI4IeugTa+JF3kduzffHkUkjfiwVDp6FrSNAr5THV9Z5k53OJ7qy7PI8MBV9clssK3jllC3yQvTe5euhMiwuC/rtlUjGgZJMCz264zr+bguCOFDtA0sQNdeAtIqF9yK4xPuD7BIM7oYTWD4m9k+DkRNTawC6FC6Lk9dk3qkod4r3LMYi74AduP2LhF1awgvM36cMgSZbtJeFMEl2E9DYb2HIy9GknJkXuS8VCGp2yizSCKBtcsFLY8+w72lqi1G6SzFyX1AaIvOrjsE0fI50YMdF5zJ4beSP9CIN+fQYBwKYDUFY8eOX4qob4hjJNZ+BlezwyEr6k8vRMP0D8Mxtsl7RAZfzZA+ktTM1URC3IPSRQik8MlkjNBSRXDBSwxTiJXQTQnB0+UAmy98cYy8nxv7eFuMxy+CKASFRqLmWZbEs2razlxwWzuKpt8KFlGwMUxWFbvGyG5ivCQUwrEj8Nxr1WK9mL4IXvJ4tPOsbRMfmu3yfgdAfKyHdfxD8px5J6cGPzhUYxFp1v6KMwcA7CTzrFBXUl8kr6Rr472yNYBiAY4nf+cdxAZlp0od+SIwsxlLPnC8Ncwkb7ysdnouH3nd3pki2Ij/Vs73JFJ5enzPiVB3oZrwThGPXtkSNTiyVYscGxVnn5hA7dt5xwfA/ocMC4j6MXHlhPTNATmgBR+WA+G8Uu43/gjsYFQQmyoAP+lqigRGiEwDSkiC2llepWl2ZVIcjNJxYI2gv9rvHHqzXVas+WWzcdrDhQGXi6fF4SZlb6e0SdjGVx/gVshrfRY/Tz9ZNFOEo2VAlpSVS7O/1lLdeS8hxcelI/WSh/qyjol95D2pBVvL2ZEc294l/bBdCnQWWn7vVQV3zsIoameNSGucLXTihAAAGHwGfTnRJ/1qqiRvg7cmu3TjH7aqyGn8pnD2tksZalbHjdRPMHTEPHNjEEKyf4ZiOgpvAoC7tMVxe5FXhKt1jg+kiO0b9eEfdlrmQnTFH5hG3VvwGNwjJVBkd0xenO16h/yR9lqRk5eILreZqYSOl2CVpiQPa8XR8McGR9VDpN5Ev5nf4iRsq+/hmpgW8SzfvsZI67fsTDVQM4ul1CVoLed6fL1Wn0RhAdttk624zJrFAgvXRZ2TknInz+zYxRDl2CrRuRcOlpY6kfxlUODZsk0N7DUa7l8jzPBq4jBeDupCZPSaAVkqrL1p0jBIMbVDPZkShDK6esv6mQWZZMa/1NP4H0FDR6kaz8ZHpA+YMzhY3SvtRBUalMnh9TzgqyYOANxvbmgHZBKPq4Nz6pdMZX7NlkuR+bbnJGgTalpWu6xKiZ16rGbXOlmMZOjUhdJwG6W90W88JzvIq9uUOZ10mWnjFtzBL6LSdapYnuleo7iGuy5oqgIBn0NicBslwzMImSaFEWEobDqk7X7zBTvFrTq/FwwLr/8njgCF/EqLs3ucT33I3m0hK2RRkec+tEZFFL8k1U78W+LvmzLJLoPYxKwtZUdB9DbcDoOv6pnH65hVO8yfu/F/nr7A5hoUtcEYll8RFr011Ef0+SU0ko2M2gpmxlx9jufwmMaz8RqIcL6ZHKwS2z5sx01UulVD+BZCMclg5TMxI98XMxAWk516+x6ELVo3QrSNho4uWih/ad5GWufeeTgF+vyd9HLqrWH3ZD7vcQ3RUmVQRXueRJxp+EVLAJ2zfj+ZL1sz69kV5yv3g+Wg96SJ14L8pQwbWOc3OQRywJ48w8UCrpFScXgMldl9IAeLAg0Bl1JPRYSoyZfAus0ePU9gQY8Y5gYlXXVlUvO8bLOaIl/7yOF3FwcfT5npKvpXeqQY4E5TN+wnY3V7gMbkMPldmQYIkyxizLINSMGGh1MzAIHU1HfcLW07P1mAo+0HyvO+Dfb7FDM2jKBuTIkKJRoD3NQbGI3KZ/ehW/Yhb85jy65T/KOOQAwtnZ1IarclQY4Sv3EVsDs/9cSiMtsN9SAYpMfONVMMJPtzfWVZ6fX5iWClRGL9YBnnU2HYJV9IlCvWU0nLIWEGsBRkrHmfU27CYYPWYLRBmKLeegxZPrOY8HYgVHlx1lTgPU5mdg/U0pYpx04nKFgrEI0njCLMBHmcYVUx9C3QjXs5HI+dQVisPsKOkc42u0EYL9lKTC4eeKBQrjPJasA5U86FER1ju2eGBI6BDTEf6SczVQMNSflLja/6Z37hTyOyp9czWq1IOyHFv28xZtCJJFJMcmcDOi+Z8iZ6iOkIdewAQArcR5dYZiJ5tyYFo3fyjgZVqqQy5WCDEULV9YXlkvcJdvmHqwOFKnRTia8qqfA9fygUgFQirdcMaieSwxNa8JuWn/0L77FZHPw66b+gSPelmwWd6BW2SloU5RxXIkMQod7le022jyCD+B4W6ek4KugbIL7gMhe1KQm3mjPsg47wap2fYgQFdH2WJHvtneN6GPgFzIv6tgbW2jNX/OYdz2KOqiXQ4MFQUQybcnUBrn0Z0Zx4KfRosyreGU11ZfsX5bJ7NdBXdRTbxMQ/Vr8mTfR5ljZarkjc/YdXMtL/rrw/CiGBl0cUB9+BUpx8YmqKKVGmwwGbaIBG4srjJOQmfTUQTsIZ+e/cBEpbBKFwEGp6mJ6ZAMrW3I2P/+fcY4QgqfVL6ctpVqSIxuqmOJ/P/dmcxYty56gjeNde2n9/Bch1q/BOfSW/3HaYKsa1jZP/LCifjoxT1pDPr24YSdN4YeCesE/aHySzA0nIUBqosI7Wf/nGojPVzbymbff52GA5NahXT0XoDrNHaKUP9ZZJ2rzTSg9mWClBw+jHraoaaOWvzR4gDANX3GKBF6YejyYvALVq9RqjBQ0+DXz/Su5dZLNZLgaf9M7zvmPFpbVdobNmrUpXe43EPwZgTOVZnPLjRn2XCY7atz4aiLaX6UGWJSSp/VINBkMFA7z2OmxoNyC+BVC1mqBaYYd3eQ7PQgXUxVBJ8E6WWdsEwTb9SW8O7hddSP1X0kuDz5ry3bKSMx7gAAAc/AZ9Qakn/cC/1b3p5+s8aG6um6nV46uYhbLMo5nnKWWx5DpRUn+5zfl/3V3rmQ9mNx4opFyXRyp46Q+8sD1Xctqzu6KOl80rTS5+sJhbUvKupI78dljgnwJqtdknE05UVBfEg2GwxLJTZfuGFaQ+7t8SCVjSv/P56m6pI+02MQvr2ogI5kK/eeZ0XHKb3471LgA+d68BmheWyZSAJXtAXsQVJStg3Cf8T/M0R2GwMfc/XqUVAYGW/vT9dCcccTrkKpLOkGDMqFvQ6FjsK6qyNVLOY7R3ftg3mBpvf3KZ9+5AoU1Xhsn9Trw0CDl5LrtN8NXUCYchJF9x5CE1ffAAIH59ceaFMoHmSuQm8pAZj7cI5Chl3zIPBCQNCw8c3LIqapgBtHUQIO4D/KgTp8Omv9bwj3q0Ie9xxMMbpmzxtbB3Uaq41KLmd8Lp50++VJe/6B+J8eMqbvwqcXO0of2nFan2/21R/F+fvN28c5cDTQikrSoM0B+ZVSvQktGv0dryPppKhPdpd/uzIU7/WHwxTylH6gIgtZ3sButa3Xug4fE6QigIn4Qz7Wg19eZOd8UonLT9G3yKv/2EIfdRyB27puQ8nlZLyXM5HtfPx74FWCRUCE/fw8Sq6YZAC9DNSvIsmBFNaVOsJmVtiZexoVUQVw05QBNUS5R5LRDaqPmnwzDQ0n2UIrmZeMRT3B5+qno383bdaN0uPRxkd/D42TGh2YiDScLRp7CuzEyOu0MhY/UG6djnuSXpG/9IWIjeOHHCGI9jwNcEDZB1I5++3hnvYjv/MBzRROUIokYHzaV+0cebGlhV1zKQvRZFXbf5w9yLt55YTpCy/4jlcKtaMz9fxlwMoBIXYZe3hIoy2P1mEZDJX2Tu8sUP3X9ERPTpin0Ny2On4GO6t7Gd7w6glk8a8Z6s3U+mAEfFrIrSd0WAAAhOQMNx3HzagQrDG+rhxWuHCz2ks+vJH+MSpaGJS32Y3Eff4DuC8WDdeX9d1Wx0du5qW87G2XQ2XqVsio5nv4Vj6WrWiTUSsjr+U3ifxRN3vJvVftMRxu7a9kUFAZ7K30DhTeBHlKv3wpQpnauY/q7HNuuQS5psXQ3oaE0YkdEE0zraOAuuG5dFvH9fzBrdusjQIQ7EGJI5AmK7TQEH8LK1CyFLZimRbKYELePyPDWfg7sl+SHwjI5Dfi3F2M+/E0K2PDLtH01rp4R47/H2gGW/V4J/kY3DfZ+/736soxzHGdzujpX8cZax0dNqp145YuN3Uax87Ig8WHMK8K9IHII/DX/DfiL8QFnJiXnmZeZ773BJpDXru9j2g2HjPGQSu2VKAabMovNqhT5c81mdQS4cRw1Wit79PB8LcecanHnUmibLTU55u5ckwu+eFUd0U+bcpUw5Q8b/A33LNKypGcf6rFTn1Pld0aDaFKrFiIuzJgqVUJn72lNNdmQaZI46s2vvD+g/l58YiNHWVEwARhVTk9SFag2YgatHCQ35sTyDURIEKtSlo6vPRgFJ6Br1nKAfKEFWWR2qDgjVXLJEG/BI1HYOsyKujJ0et10RDhbSI58qmgJmVjdvFNKmwEG+kle9YLUsWh9F73t/WmI2P9tlvEDEc3g97PqF5w7GxPGA1Rb6XmKbioXQUa2ss9dP0COC3fi7LJImXgr3JWUztP62Vr3J04nU6QyLNb4XYhf5RucWI6ckb1hL6LhGTfozxwy5BlfPLbRxzH99R24xy07bficaOpjJg3Fgy9jeVB72DnZF7RMUtJfZb+MO5cHcU3/N1C80vaAE4GKgwNtnE5HKobtScT5ZiX2dj56ARJm14d2uRpjao/wkYpcu8DrSgFVYuXjnw+36TZedlOp6JpLvSFfKABluCmlgWdc1zj7CLkZr7jbN+94xwAxFUJBt0PwNQGRAXdJccaP5dZSb81CB7QYjl6ITxkTvkuZ0IMVY8Fd3oWXj+Hxw5BDf5ACAIbEvN3w9I+L8BfDfwzLRLFPZRiPsAC6FMyTsSxpvXGl18hF4zxj5qqw17De6iKJaAdsgRFqsb+CR40Gnv7+Ac+oVnsY3OSJwl2J2+4yGDCzH4E6rOr0OSX2QbDk4lbX5A8ogtUQJ6UEyzfAppBVaezhO7n9wxIgYBEOO2vVNKeJeZqTPi+elzEVy/iC5c+DkfJLJkEHszo/tQrrddvdvJrAThAtoyvfPrRh3+sWMl6DlQO8b75Yg5qwcdjMzHCQHPx7zxYaHuIIAAEsOH7azUmYRhS2GTtho4mzImqqCHvxvEwr2aUNWBkXo5Z/Z49TGe/ZFkagv0Q9qLCA2x70BlNrq2RzVkVRSWz4DfY/aJ9S72WtiCPtH+RveqRv38SxeUNpPBa3mEXHR8SWclILXqMVU8VjhoXHD9YmyCLr1ZqhjMZhSeTzWqZ5iBug1XrM5SJ+ysTIStbEZj0p+Hz6w/YWByqogGkQUInorDoNlzdjhXN/QCkGD64trpBT5pGMeLbQAADTlBm1NJqEFsmUwUT//w9b0ynO0tB//8P8ChzYLg+gzgXV4lAhe4Ves2cKYw1NNC36p6cg+DbFrZ0EUi8x2NBm8M/evuuEDrjmMu3O3tHjf0W0SlKtW7ZDU8/OOO2q1pCmMKEvIBP2KVLYS0duPmkG+GXnCAo25swQZ+8N5ZAFTkcoDwCKPKn4oQTiGgnSQiKSXRD1zojPaB7DpwmnOhyjLOAVd+IILUEyEtq4UwDdJYwK1sBvuBt3Fy4pL44LvnbAjqruiFyqrgzFWVwjhiZV+EiPZSGDqaD+0XtDodXvWEGirnt0ppwXdaQ9jzqm53rjWe7eySLBj16wZkpLvwLNmERO1EM6WhwOi7i5MvhP/xppXQtapYg8wz2EjEAXgpX+5XIQyP862NzkdakeKgup+eQLWobEoJh30+U/m1CnnsG7j8oLii65zevnpM8Wzactk6+54c8Ry8Hey1ALjuypcpkXzxKjbBVIgqGVXk3A9yeqfQihNzO+iHfnZBPT/uviDH1j9bu+6LuRqiGCtL2M+3R4b87dkwgbxY7TUARsxsDrEehZqQVqfXTH1qASeMUN8mEuhzMx7dXVDqsSJtUNdYwFUT/MKJEDqPLzwtBHIrQP7h5W61MTjslq1HNlnFGdvs9AcEdjy3i+otHQFzsDyXw3LvhEF76z9tjDx+OMe5xOMuedeeV2Osg9VoXrlFno/w0JlRXsK5eSA7PGFqGg1YkeAsE06dbO119yXiUKXcCRlahxucKZskBBT7zXGG1udS1+XpYn65B9G8F9tT1z9tA6oRV60lb5NgDQQH/vTGKf+rPciOkfrDk2zYibtRbF7ECaZL83c1U4Ou/FMJD99UKwTDW36Ooa99rZJVuNBpVRiuu5pXfPIEbYcYdca1175UCNO4Bpge+Ly9t1YTZSEl9ygnCmmfnvBVS2g5llfBVdDQscUhX3X0Zzo79nyex70dOM0oavKJ4HsdvTTYVxvxBZyiTH5sNHsjIKAOBM0ktayWFpPxvvTh+g6vUcZIu78iRqRuSP/oAAGGfhuyUeanbMWgnBwexSRGS3ERm06zYL8cX0OiyWXK+SqlBJ169yp5IkpD++MO30U93nbj7nmVG0t/VNd0HW8Jc7oZXQOMV3W3lowmvgNT93DlNAU3KV3/4N4MnTaJiybpo3G+JWrA/rCWTYiVzbiVkqqnGze/HtMI9VuFus+wDYO/zPKuLSDaipTVSmVMLx3oRFqUjQhBNySPdeB0GcKCPsqW7Eo8dtP9jlXlNxZ68nN5L5RDNNFJbsJsXA4qXAaBh+3buVNpygDDNJtc+gt+wh60G0bPaYnQ5IvDiByTbyXwUT/DGEkupSRL1u7nJFec0NCDU+XLGg0nzoiQZ+0tnRc6A0WxXZXmjQid6cYOpjYRQqRLPeqd8jiPnWqGfk/oKW2cTaSR7TWQhZD3WLevgQtVdgHOk7LThwrvrLu8vKST2q4N2JewnGbmwxMtJSx78ql8lM5OJCcv69E4+8YEGp1kq5rE9MWf9ab+xWN6h0PNMRQm38/4iF5HVC6l/fxx5dTxPifYW8gN8V6BOvqMWICqS6o3yP/50uTrUdhZEA/k6vSym31Mqx9Lt/Y4GKPEu3Gq22xWCHZv11ZP1z/V1QFbpJIgWTXVj5lO58vUW1xsNvdVq6FeSrzTQxh6LPtGHPFvCKLrAuTLjQoDxTr8eeqkEm1bKWeKbFfdmuwIgsPCUQCocsl9Zm5ZTLb55QdU692hlLH2q/L8eXGPyvhbM2JjcwSTT8DwZORmxVrjh0WAKnyOlwaUidPRY8a9lX+rJx3VDfl5b3gmFt35n8Urc7eRIMfasF3mv56urirJj9xdQrN5Aj9jFVkgWkOzwIKeIHj+RTlCFGNFTHh/p0fM0H1EoKAtxiqHPiVLm6sn4vIBkQkdnz590vaS0IrtX4F/uC6UWxmdbX8R7ywlUecbAGKdIiSyiGDvAiHLTxLGNllTRyPTwWz+dJvnptVmxsKFvALxgChnIeAhXJq1uFKcrQRnr9vNprrclamVAEue81aDiLDMDGmBBMtW2Kg+hk3TbPJMPhSnZvZsvEtacagsAKsDcEI5Wri49n9r6ByVdlPVFS/6yw9j+qE2qye7eenROLhkpnXm8r+afoke4BoE0Hc9TDMzy2oCUWf7hMMJ5NCqyC1YYk5S2DOACSTe711X7LqtFdGlItdkgf/iNXSCEhjVytKnm7LxCFd+a53TBZ/Um/fiAPEw+7QZxL82TKmijNOKCLKnO0cwCIdzyfofdPGmWT9LC/SyOl7xvge1wZlSHG32jT1dULimeoViTTp/kXzW/AJv3CJ7h7aS17RRCPrKYU/B870gODuBoqzrc2F79UCxjg5BUMKjI3W2QSIDdNpMDvzFVvTgoH1OmUnPv8wkrkBAih9t5sno/3iFnhnxfmO6al2S0zvzE2OZrKkf+ZsZh17B1tm4+NQ1QqhZyuDHr7DocXVE/F19kfjQhywMu/XmFgPpUfB/+wF7uLmhQ61TC26F9im9rVPmpWpFwvRJnNh1YUdIpU1LXiyrnXIreMtGdjhtMbv14fhTUbohrMTnCJ+z4HPCzP8U89d49XmYSVPRH9EFhT+Lp1W5dPyxO9P3gZQM6v6OjIR/nX+5XQWlISMLTqPT5YkPb6FPu75uHcOo8T/JpzXQgx1f8e6hXhSkEklaEfth53T3pJMGgkfqGHPecqMBfdddIv+vIcOH+kAZWeKeFu9+DIGgvNa+1n5+A8dWNtDPOcA8D7a1bQBzT8/EkabN25FIXZfvIi1dwmHYIsm0UX3MYTlJ43kzqj21HpFn+HvRkz4dJhs0wUhK9RtqUTN6PHmc8VkzNM/GdFZB7KTV49fSscGZaRN7KBUPeryKjmRozKzkBac7Qq+q4Z48XM7nsDtpVoz98m+8mBKoDi06gKM7TcjeBtexer7zSTXkb6mlruPLl/C+lpydVmwaF2/PhpFY076fZMPfFAR0Ild7pXhH/7cnQk76p3KojxrQ8eN6FGSb6xlMo7zP2tk3yH2DIVdurPIlLuYvw2nX9s4XtCIEJAMlJj5A51OsAVDDfNZWqEAvNpvvOwTDTabjbDmVlmLnVvK36VftlCsxXLVsrDorNeTGawqV/FSpWF8IPucHd2pE3mL82pYtub1v9TgdlnNaTqafMju0PDpTmYp93yG/yDTCFq0c9heJEso5itS05HkSJhoP3hAwZcs3es2jt6TGpCI0o2ikl4US8lxVA/mwpnaIA1ftGoqIrshI/WJfOANN9WH4cuIh4ZfWccWgtijSP2002kh+AMXcE9qhUgyo0ySMPLpPTxbCsgoq4O+vp2n8kYnFyMMK7FDMRWag2c7dYvpm+AESBoLuIE8+BJJvlsltJBU0ivBOcP3OGo5/ofu75nOoJSNWUJ4irg3aaWS70pIhGHbMfeAC8MSvMIFQEgcH9wAcKNS9yUJsGqbKvgq8H6C6HhdiHIv1xJidyt/ya/M2+qUpGTvVUP5p6sULfF7Hbj7r/aDSk7n8Aus182cRcR5ABYXU+9lweLwjZc6FdcuJEFfrH6OUuXQH7fmuC+GASOixMVgXWpkXuL9Dh0icOzfFl2OJFNyDMGNlBiGRZipAs19hcbPVPccttf2KtVUrQ/IDZDZJUeIwRfPLGwSeuDE55CUqXv2/EQkv/KRN2KlZnezWn2xttxEgeEDN7TGokQekxXpS75Pm3UVYktZxjQYseiSxXdSKq6jxnNVzL1cc/xNgFOvF8koaVj3PmoPWtFtEquOLgVTp/xbZAhAun7odSv28YiISHshn3qBrVjTFvMvcinWsOcBnKIZAsOlrSk2xvjE7hU7Wli74sAm2jAFdBpBSKZGbMxxJ7X0/eHOWIbmq7s26Eqn3ycfQnLOdwU9VGg20cDJGq9zWXqAd+313YX6yHKvl+PCGgSyZtXQaVVNpWpIhSSgzSECzF+EHi8nh5Eeh/S6k4y+xTRs/z91HZjdZRFtFpM+EcXHOKvCmioFz34Jr9O0snAB6mRpU6EFf+RQQBM3vEWlJq/41OI9EL0COC5O6JH5sAoRUGqm64MUzyaUBWlU4e9m8+Y+x8WmtIzMVG1DLyUyHXszkKwKS9gZw3rjZrAaXpWX/dhTzOB6f0H2gLD/qUr3Qds6qjrI/Q/W08PckB5gTP3g25IfxdzX7qCx8UYEZ8+7o1RJwpKihOISRbt4BojgBVzXb+a0QaeCTPdPnaKUB28648/ZdkERh+tcQGTR6xi8nfdpeQZpOCT3lYY+s584hl6z3dNAmT77iUMBpOYjTH7BrZWDTu/B1iSy1Co6fozjD2dnhapkXEq+n1L/LBjQrMcpdgoR3yP2MxrJWp2L2wHq3IYsVrBQCPw/e5k7MN+WkCKxttVmBb/IzysqX4qEq7fn43zlFLQTWGB9b2B2Du78tb4j2w/EMOVBKPcEaxNZqLVz+e1UlK5hMCYOIM5QBsrOkp5hyIS/CI6GX0uuhrbHTZqG6VlN+YrqNj6FZp2dltbK7AAAJAgGfcmpJ/4WvFe0NUhEobByVaO5Lb4OsqdzONTYma+2oO/uTYzjn5sqRikYuc8SMHrlVZ6QYc4yHuSn0MwMfOZc2NgnX15zy7djLPogf/db8/jrgCp7ntrW7IqX2AJ/stxm/e/PPmABMix/2V5wUxlqoa1H5zkfM9LUJ/lxPt5tK+nkfZZBPr8iIKyWzG5x50GCY4AjDcAWPns2DSfeMWpQagLRuujvxfI6zas12r58yJ2MKQkvX5+bN0UvV4LdmV/bYkF7jW+wyFLUF9bSCY0b4MmpI7W/rEzs6tfyQiHSoWqrOv29ocKc6tYl88TjFtMSy/tk5uGIoEMyiaeerJJZKur9T2GJTaY5hYz9YRfJK/jSHRThMCR5IqjUl93WVT7Q+pOEUrYa3xPspEKwPUJtMDLT//t0QB2eSz/90wleeNo/JI84uGZnwQ7AGquVWVvvSfcGtteA2A65pgb12ca6luDtbVmUxCrLNic+1wVTEw4g2TQITn+0Ue5SZ+7glfqPwcVAIknRtNn/irTcH5uVK5OgMC0JlKZ++4EeBdmoKo09+mIiwmD/UVTcrkhOE4cwgHW9LMVlILOO48y/rEgD+4nlJ6B4nR0S6GKsJ2HxOpwntqxmN6tWafmC4McjG33pi1HjXPI3dnvND61N09pF//dQtihglCw1GciIKalsrCjcTD2bDK/vvKmj4VSeGFmgzTfZ29RcRX+VJo0FMfMUr8NBICpW166NvshZf/ohY2WgEvXmeQAu1c25euDee/1z4MMff+LfvWZW6RqPsc5MxEj+pOtlCtZ8289oAxwBAuCbEHkiQEyRS6oI3g4Prua4QYwEKdqRuPeb61PpHgiDHK8+4jeons3MisY6+58mlZ1Y3xmgqZgK44p1uDuz3Md7U/YoiS2MkY6mdRB18rlG+EKJMav5VqDo1O8T9iU8/330WGe6q2cwindroJAnHvtAQYmO3y1TxRHa97vCxiNp+v8PLaRbBccd82pD2W4e/W6ceuEp7gem8OiMZU93nFbDFShedoEf80XT/+uW5RNs6VjG8/JkmRm2qqdDHnNunNJJFAHzn4fhmMzbPyzkTeSPK2K2QsjLuIHjQ28iwMbaYKB/Gz4NERigDwMmHnsLnjWE8Tsofh9ilEchNzsD+g1aJAUO2VTyJ6O4q9CzDgBAJO4NObSCCNM9E2ca/gZ6iciiHqyXbCjmVRq8q6IinrodhBqlPjxyxdktv0VjtfAMAhe0Uz1XrdC91CvCQgK0zp0l/TLAEBh1J0SxLPl8Z513IYXULKQMJdy+LaR7yhLUbUyiRubD+lMrem5K8NlIHNiLQ1cY1MQ7n+X8iPK1LcOW3BKT0U1oJEQaK+zuLpUlqxlGKikBRSAuONqS2Ekv3dK3o6YNoP2vUoRih6l6LB15v8JOp/il+VlFHWVCgUi1tXUKnam01EOvrD5hYHKJgAAoiUC3Mkb6BK0oAyKN+hTVGpulELR12U3sfaQ1ueiYsRE7hEbmfbAq1mxjQC1vdevUpRQaOpXQL9Uhu4tm3yEDGVporE0YYr7t3MPkYdX/kBRnvJ0AOH6lSQ1E5JQtUoLMyceGoTTnsbsYFxa6XIykTqMgh2EhvzgFvRYcnpmyLr1oplQqYiQ/olSaYJH/l//SX7mpV0v5/xPdlwem9qeL1e1Sm6Z0aJ/tQXd//Pao1uWfaKB0a15l8MMPu2RKdyoBOf5mirFMrIWmsjd3Wbxm6SVfBUTFFYKdR9//vKoWBKu+UXgUGxBmQEBmI/R1xBWHbA1vqHnX6YsOwwCqgnQTFnBPSEhjWKEXM+N/LixQzDVw8076BQLK7Y5TrJN1jfgziDHUaG4lsSFkF8S1VLwR18MHKZMZF16KAh9OZc0bOqZEbEm3OzJzlkJTRluc7VHpeRfI7EGmgPgC66Is7Ndfv3xkIAxPcIgRMVQr49/BNzzPF5rTCw8eOIZXz8PGZvyalLDZ7lbAb5gPQteYcywarqT5uplkcK+gin57UBd/LtEW/vXZsYWlJRFJuNfoD6/Dsb1+88FiBigvBQv1UVUnrc27u6iPSN5QuNjrrtADx+vEO2XdXYdFeMG8kOqKjq8O6f19pS800USIBC67RBhjC4uCgSJqPnPlCLQGdM/+C1DNQiif26IWIqPLlp+sKew4mv1+WHmAUA2haLQbb/dyqqmeiLdzDyck7KYrzKXEZ1Tj8yDbtD4yAtRw4u0oi4smrNxTFW/YGzL6nGrKcgyxeafzTUaf/A3EIWDfJA1Qxt0E1y9QboAZzMoEOh/NGOF4V+9CsKwJ0pAdfxp95HBQZCc070CYG1Qezmg8jii8FQBQed3tLLmaSrYUes5nZL5rquJKQMfckb8L3R0RIXuD/ybmCYCwSqj8q9XibdqlvWFIMwMA7i6BVIMznCCbAGHVRoL1pjjK4aDLxVWrpgFDZiUhRCbncIK2KbkIzhc6F/mLBRb6TI0kwV45bnPlTTsNCYBxpW7es6sJgZdlFHcSIT4I8Gevyh4sd0q29LAmXkhBGNXGlXSoukL2TFRhPad2DM35e6sdFrs43StRvakDb8/250MC0G3I1rEmdV2qGMS0IvWAITZFmwHCdYIFE6Av6Ey8WIurQ3E7YhVvK9yOSY6iyEPQJN/rHSiYSV4sfyZwfY4djI0NqZGlJhtq7QOHCPqQLzl83DP+N8nwQzxRTtXNP2nTTGn6r6UnDnswn6nJP+sochWr6SHNZjH50TgThfAhnNjsW8qOROHIBPo/qs4YM0mISZ1CRlvxbocHZXkWrgSesY/+YXeafdnFWX/qkwplx6SSpRKTWmAabz8vNE12JeOvKAH+zK2Lu0BVdtH7VfZ+Df7BpJdbH2mHlAFRWcRDdcK5xSChryP7zdzvJp9t6hScqeqjq9eXkPFAQrxQ+Iru713uoDxEW8vcsMqiRFYlYIJj9V8eBboR4I7luHdAGgl+i13cYmCHzZL1y45WFHMFS0vBQXib8DncJ2Gk035QbYDUCwDNyrwjL2gAR36PSPv3UFKV+9qT0cN1hfls05Dh4XrEXtJiwXtNGV1W8cRkSBXp/8YY/dJDDma2AAAAIK0GbdUnhClJlMFL//etZ5AZ7BcQ0q1tXbuZdJ+iA/wPdsxQb2wWsFw6QWVQJaXPq5AeIaOeaSkCnGer5CQnIcLJnaZPt2R4r0VXlfytMrOkwYwa+/vDogfZKyBgVXwoIUYS8dVkFS61BLmxO+5TWNLL7kmR08XpqjFYtQFe+Ls9wY1lUhppneWVRuHDFmrZKQqklw0yseG+onsRB2l3Mw5Xxc3NZNRhgRA86FfUqSJm4kqDP6eMwFsYkLPEBhf9uKw/mIVz/p+jHMGBBye2AIF/CQPtV7JkzDUC+miuF2C3OyVFgb86eN352kdo45SsfZqlphaT3pKzA7cQVRRPJDlhDJWPRF1iSa2pOWL/wW4nR8LeMivPbC8Fvxt92fyV7rGPImOcgG3jeyue9ANMVQkacYoj/Te6b4srmZ+Nyo/Bpc6xfZ/qBP6X4bZF729Kl2aAfQBNVNdE8y7JJtOcPWLgpgq3c7Q6UVNtXw8SwOxYftZYNOSm+TEiLs8OEIqDLNVBSk8AD6uEw+4qJk3lYsCR/nnhTeEuTvHDoBTWKJHTmt+Mkp9n+uNXdXau/hVQzuA0tOeLYcPf9rZsLoVTqhucjL0TfF6RTGwWsnI69G21Kp0J8na8Lv+ACiPrxfXEdYB6DWcFdHvcRpWaPlORLxKnpAQ2ure83YCpsyh4ldbm2eWMjvipxcElZelu92PvfEuP1tVgP1YARLyy0oXDGQr4zDBgNkN69LA/uMaRBGhh8mxtPMseQO0pRXa5R8A4WWdT1kKnlJ8wecpJWk54ByULRGo3ohhn96Eoessmsa6mi/Rr+hMAGICBVF2fJxd+GPVYPlD1aTSB8MEqOVBS5J18xATKf2V/5Slh8KS2emDbOu55AuGT7J+hVbUn6Oj89B0AgK+T2ezsJfZtVH+BU/BGHxeYe12H+olGi5bBn19f4SSNjg9SZ4RPY/TtpzShVGrWfypk8wrlYAGadLxHqGX83/p1GWQRL3ZwicIZjEBdrwkldmyf4WTTB1O/8Y4dcoGSKZB/z8nqkIjP6Hrqt6cNy36kst3ll80ljSvEJRb2pbSJzjRkvXAbBuUzzo68aAykZBtTLHF/8Sh5jsuqvf2wkJiMq1TFdXJYdVuRL9Elfdo+SBcZhTs9/Vm5p4P8GxD9gHt0sB7QcUmdc1GvYlF6x5H0kjtVHlglxvybeyyPOFDeLbMoyXWS6RLJAt4MKvGluhz8XLweF+X2IlW18ZYjPZJraRjTohUWaoRJ1RzVZ5xfoQaf+Di+mcMomi4yM8rvyOOmPlPtakBo5FerO0T77fcmCSxA/uPniZwuOKAMn7vpaXxtHGYWkJpVkBnYXvN/iCeQnLNhPaFZu4CrTjdvV9vGCvUnL7uSU1W3hTDXA8xcMzyOFw1c/nwY1ZShT9GKPEsx/xDa6OkkvHXD2/lRW70AVe1RX8vwiwI6NxVpkVuWCg+88vptY8yYnQXx8EzzWIZH8/wOt8uViKhxPGu8MiRqNyeglgkHy28LxqVTNo/zLRyrw/dSjhzHcfBRRdgYchyqUk0EGy7MyPgn2VKHJEPw9jfJ2zNCxj9/dzeXh0VS3a6zmO52wjigW3IyK0u+IwRoWzyqqYnuTuEAZNtPr2fjZuWm0MA2FjnVntFQ3Tglly9oFoZdzePpK1CtIOqzocT3TCmKI75BudlPaWgAPEPz+PGHy4ndqPG7Hj//zdpTrKnRPfEklkzXTXVNRmx0cJaPwvVBsWHAGUMJzMZbkTJwn0iyZtKTDJb0DvI4bhd9u81Hw65MHWHXLbtD1RWQQI2d3rjri9dSLtN/MRmz76v+F9A/0x6EDiJHt8aNHe1w9+8yn+u1lRK9qeT9PYYIgM9P8Icf9zO9ow20IsTBFU8tPNzXA7UEobPlSW+GlEdX2TA4suK77ztVNv9LW5lKdiLCytNn7rhlVboul6lyBZJ0LQfzgSByEVpzQAKaAAIChgrLvhLEWLPQWgzHP+QQYATDhVsMG4ETYh4pZxBahYMLU7nbdftqTTKM58fhSnaOUOnaz/y85f7uzOXdFqkmVG2DOIqx5iUWU1I56gdo6AfO4rfuUmEjj9dXiWV/dO6hwZ/kGa+sHRr1qmdyKUVyZRIh6aa62WtsWODNQX3YrpMtZIB2jcuWhFCqrhF5KsByPFH64hrl86Wq9PtHN5ijKyG/vAIytaHXQ7BFU1g+AdMnu1tnwnV7b7vAdw9hjJaS8enmXLsn8IIKgC4b02yWVEaj45kFUFRAqnisrUG8EEhg1j6cH0FTo0jSicy9xZhPm5z+TUcMqSwq+a4O4NLy6jRvY2zS+9YxshD2CO+CJ2aOJ2hWfCu9Q22y8wiqAY2yrhtc2FKp/EJNCoxq1gyGHSkIrJZTt69n1Pe0J6Yd2E+FZMb3cjVvkmYTmWxRwVbE5PUnu94tUolKL9pbrQ16cpxUOJpgRCqxjWhFD1arGVD4bNaLO4etxobpthLqvFS/kPmqUBEJtVAU8KgPTVyDxdl6cwTjreUYW3Kc5OSLxclKf3V/fegYLvZ5gwYzQ7AQ+QrwrD/pLyWD2NXAOq70BeRk5d2OPtr9i3xQr4WAllaFHE6ruzLNvq5notmdRtoawHDu7fDVMOszCH8FaYWjnrkw300gD6LYubqqSB48S5SgIp95KX3Cf6o0iFRvT7uvSJ1xOjIaMFFsNiw6dqQJecv8aOSzatknaMIHRFoCc8/rwKLXC7sRO6I7HRWjoMc38Q8M76CYdYJQxv/rkjARgGrRaCWG7V7jvokya4NSA2AP2m8hlaUy0sAAAB4gBn5RqSf+YMW0ZrxmYF5w5CdOyPtvVT0KywL5As3BtQkQzkzoVhWmQcmImwP3q4YqT+rvSaBa0K/uBT5jfshxq/ViZHjnsi1GrRQekCydr/zpbtbrarPlqYgta1teC8kXDJQJfthNxexo6jgVKa51QhIrapoV5PyYQm4PLEZjGbrUqEMPYhDP6eqvDimivmjRjyd9JphO7LkM7soaH7p8GUUr8H1ARvoVjOULQH8p8AOu6iEw/igcIHNKTQwlS/hwXoIqMfvmHdIHSzCwQ8uqrBJYN77Ax34rfISxvwTh5uAishNbuJ+ZC7zDnymCqvIrYh4QGokpdpgtTjuD2VBd9WCRBMjRLrnncasrFeXqki4so4RPN8ABqT5NzvJPub6oZOENQtJI8CcKA/OgkxVBUvCyixchOukp345jfnxXXEz61KxhhO9b9c/YzcQx99rvW16JpqqqFmJRjQ9tFgEHs5sVYG4JGHylkyQGDluFDnD4YG139aOIQJrAy+CdOretVyOCSToDhq7ZssZmUNJdUmVuNLk8bmcvAr8m7SeM0hyxlA4ZY7Qt/jpNgAylZ2Yw+kp+6vIVaLKffuHOS/ploJXLhopOqvpwDWsBbAs9TrzG9Q5GJYLLKU18Gpis5jgFBNZFK5dOC7GcPw/oYF/P/gkS80DADs4p/nSp6DbQZor6MaRvDUoCPZccZQyttPg1YskZ70hB+duTYePU5xUajKxow6uSzjj8axq/ODQBkRuI3G0+/RVLhwwoF06b9aVXFMtyhNBYw04FeQ6cxb/jA/N3Pod4Nf9pvHO2cYjLJboCzIVE1onT4k/rGy776iaLMl3L9k3TNYlJ4xfSuCP/vYKjxBO8+qioO9eEkWdnqmTXSBXhquI4cf/ha4sfKRjaZxr7NMAlK7pJMyvtPuIJ5HyZRqZlEBnuO55mrtU7vVWl97S+3hcCNeZ6c7uGmy8WH7w5YrqBvQleqHRNlCqIPcgqKpTkFSZIlGWogwvVzbbf0gH7sxIWxNy0/rbFuXimBt/HSeuW4HkcxVyHfNvXyzlff0xoPzE6BWI1pag164rZEbPi4Lh19jChRjSWHpuD+MyXk6EC+vCwJk45IdsFEGSr0Jk1MLiJmi34gjz35BllaobRdm9DginiJly1ImmdGIRVAoI1h551Ot+9aANw9h/oQdeA90Lz+pE6+BBa64yLUtrEJuF4aoBAuYvIpbVlecw4VSaYHTSuqxkJcVhz8sEdyI1ewEZsF93CRsmThNMFIDYv/6e4HtywLeD6HZcGSiiArAP9M9TaaxrVeLQeXBN2IXbygab/5AxhIneC6Y2wxUfo2ZDuHNIi82Ax+rk9vBdtaRNHz/NjclsLGpwhT3SZ1+rflVQnpgXBiYSUJt/Cdx3BzqYumE4uo0N9wkLSH9QUkL+HpRGr6OCFhwHB/PTdQl39Glr9Dwh7IMQsMOk70IrpHOHalaysTGEkqKM3P2Mxr2Gf8wvosi0mze2f4eVVwP4UM4fd7A7kioWTpGaKt+4Ozn2WOq5Vk3S1yXEUULnv8wEmilEw1HcZogSzcoZcXNg50TXWLFDEyQ9jJX36tWUPJCd/ueY5/9MgVPZvxJDKDEbt4OkGZQqY/ZeEpwBXeyS173BD8ivexEdWUqzXKQ1m3NUflQiDRusvsiBXcM9SHxJVeyMwcfwQMb9J5ZTGDzR61CKpW01a5TOlzmcchP4IrkoT4ngI/Y5OtMBfXvAOYq9UAv2dsi0AYlxc2uHBwsoFO62GtOxDQEKogtqkw2L8byRUlcZc2aJl5vzXKDQX98p6LMxyYf+xqAt41wIyCGnTiQJb5HGbKOw0mhFCkxo22kUvRTOXGpoIU1uPdHwOruzJkepPxo2Xl3SgHnmJIKkTJfgyhYcwTXCMtd1XZbtjeUDtR0TqRcWYLFjVOIS6F+EjE7l3eoZS+QAuZnztloV3Xpul6ORPd5QsAHk+MdI64O5GxwxvMoKFicKOKaKv337N9qmGo0NWMxn0aMQpoByxJqLSBtIJnU/SAOfMy8xsayA/6bccxNMEtxnXuOKiuXXFCDsac4ys9bpMCFlwIDchh981r/Qp3wRO08cAL/XnfLuqcf4KXfGHhR2uWcV3DhIg3QABVXTTWfHyA7Jli6UrjInTgbQMYUWNPJI1jKZB+7aoBdomSxvBfAHWHXyfqzlSBHlElmW5u1ofinuKWPeZ5v8YHGmMySyL4dBneuo2fczll2qlZAW0dKEFVeLSSSGX0wUzIXfjinGDzn85HNKzvLXGV23Hs/Sg+qDwCwnQWkd8knMpWAvf3LEKV22Z7HDdDUvnLmSac5m6G2tHYDrSnfGoKs1FuuNEQ9E8E0Bubz+EHqiyfvgnKjP//8EEQ1Rjlh3pMuztRUDHSiMjqz/GD40SLApK8opyyoejG3r1GF8Is+WADkaFRexwgVoqvzHgX3dG8TEcsQAfkQgDZfqZZu+TVibc/FpSdMGFFe6LtZj78XPUuN2eiWMSm5QzTzXu9yZ0Z5dQ85CQ/nv6KluWGe7HzTJuqQT4uqEdPqiSeYumogXVr7oek6Fk7tFdzC4yjAwAABM1Bm5ZJ4Q6JlMD/+h/n50jXrIQ0njmtErXFvAxTYbIdkbAR7qDP7OyT1sIQB8PZU9LTMdGClzkHRuump6mTPnQl3lx6oO11piwI0ERR4IBrE0FZemN5O8eL09HlmPn62zPWXKtD4eJDpBrW0APiWphzgWYtOCbSY8o3yuHx9lE53q/T7A1cP+ycRaZcVZnPvgPP0OdPnQex76ra1XK9Kl+I5V7tti2/C3U2hL9rFDXFWGNr+yVcz+5GCgjt7ShFfof8hqkwPBrZFWoRdK8d4zfMuxyhi3FkD1O9lut3fB1rkQe9j0hDlHx9xE9KmKyeCDpMmhN5ascBqYxiiCNFPt5fpazIPZH5TGtdyTipKMJESHk+60VQ/1v2lJD6/9/wIEYsVkc/A5eyswC1XwZN+oDvAhG1I2DeqvY6z1ethEStUbe6aVJpFuolAQ+NPIRsclUfm21TS3xo+EuSPjExi9mDphkmdCJtDGQ5B7CjPhiUaAAtjwsECx3+WzTyA0i4ebADr8Q5qUf5KhikAiMGJUunTFl7woq2p6hCqqRIAwdhy8BJCMPhYlJsR50sLTxBXR1FAFbVZN0dbV7Qd7ykkEhg8yjIObQkxNRmdpfJSBtyMLXLnKOTd9uWLw9hs0SaINXuz/id3DnQWMpbUhc4sc3j/hQH5+BiGxfXaoqiMCKGKkBjlRHwJoy4WzU/uwLWpIhSDEx0bsYNuFT5PYIPs6Yk0WMN/w79YdMfuzKTs3M5PKzyFOsnsdYWxdxxMX3vAuwcSJJKiFqmn5dtOq362y3sYBf0mer/MMvynECn+mH8B8MS+0E82l9QIycbVxVR+VZFldc3JtB1sS1RFSowYziNyYYzwO5Wn83SEyjiKoevE1a+0CKcDm8ONcoZAqJKAxCztZJHDCd91Q3zgnE73t9c1bwJwQA4ydTNyke3lPZU5ptTpWGxzKmB+oy6kHRjJUTyOiAW9+vJiSsfn/6x4RrC72tHBOHGWury/FDa+AVC0Asm2pCgcntmWZcsqprO2GFGEJXxUG4SWn3lEdVuMCsQk1E2L4UEv8qJh4xfrP3qkXmXB60nGLEksbHpoATkUcOcgIHKhbEtaLLWAjPggll3C9XG6trmhsPrT3asGl5uCs8DNvArADM5gsAv3xOmM5tbrHSjdwdRvBCYsHD9g017q68tR3TSnCe7c1l2xPhk8B+BS3OTtcNuIVy/hot34MttIoVcpLY4JHLfpemXLcanELA55NPnewAjb2Ow5fIE/UYOY1YuEemNZfm8xV+Y/1rvxql0qFRQT653YeqTkJtZJoS2fio8ipE/nT7ukMy+TxojV5ElS4zZdUaQGRc6fEyXzwZiewQr7YxwLyPl/hWGuNlNxQVaO6ePUmPJZuUJbQnytngZZhxtrqCK9H/7m9/fJ82Vo9wbnwAEBFgKkOzpZ8b3sTfqY/0/wtW/c5pGtI+gM+mfoMUSV0oqeJ2pxYAdZWe+DtbDqV2mOG9es4qExKVQUVHaYPcQB5JqYEIadl4+0oxdjJPorX8IPRyw7fnHDc0GJ6QMhDhmp22eZ8ni1IHKUTxV3HsdM+/xeXCBbHhI846BUsxnzpEleRZzhIzMWk9qGgojeB+5mp15SreA2DL0PdfZihB9Hctk4AAACpJliIIAP/7zm+BTPoVfzb/9xv+D62smCpiXfeAlfEgPftQhyf4G9lse+KZw1x/tQj3yN5G08yaeLa8XSSznQuQXciiHP7dBLmeL8DxpVLl8CQOfQHDnk5cI5qnAn5tYZ+FvxNSie2oxEjrsKldzuiZdlJrsIXsJqCrELNpyztK4AlVuOWGuXPop7E/qvju1YJC8u+WidkU9qCCw891PqEP3cjyV+cO5R4DNqFx5J5CoicPHbPStrRm5vRVbjM3f7K3t33oQcXlm/zTT0lRZQrMJmthhGkUArFKoVv47bER+ixtANaFeK3ffrSIo83HMOmyIW9QtosDrQz41/ab9e7cv14wPsc9EotvRPYpiCCcn9+XuT++szfSA8iHgrGPddQIR+VEtJHHr4i0hZwGMcMXS/UlWULLOESjQS6EBWuW9NTXr6xF2cSkI0X/CK1cXx0qoyE1qFncBy/adhzLACPrt4sTKsbQuaUDs3h7Io0IaSKsGLoO8e0rFVFnMmICXzBMIb/o/h//iI2WQWe81Vjx0jMQi5t4OtDidkTVXs/PbFWc6PgGjWx/EcHJMz3RghigP1Ene6x01TfzuEmoWPxFYjGDKOeFc/oMwDKtyDTCg0aUqrTMPseg9hukZmONZAc4Cq0k6s2GidNsX0/bdUB2sHP4963dlwYoTCz0LSbpt6Azc3v3alo3sAFUeZlT5IAIwFoZ2vwYDM+lVBYz4TGpjbdLuoOZpeIOc7qxMaaUWtb+n/U2HG8pMX5BB4h+jd00pRpmpDA3cWdBy3AdtfEVJJ54RifmCOIpNNHkoOiMJAuRiJW8v1MHKQxtPYzH2vG4EpuI0rhdWM432Z6cSR1nJTQHJk2tWUsFEKSGZggrFVcs0YXL9bwgq48JGlaAWtkdB/wrjrON+oVjD8tSglW9PS1jlehQwrh7lxKd1ff3uEwlyUp5Et53PoTCC8DdaRs3O9KKtp01IKuMZw4EPQB3pzHrT0AOGdMhpdCsjMAbEhcjRuWWcySR4xbZJLgA7fK04igwlCGzlhmH8BJE2qX9+aMJDMiLlCqkJtMTD8iiLiNKPEKrsp3MWmwYWQL8VXebiXe3vtYDWSGClJdNuEbqVr8r8lS20ltY5WnktFnYV4/T8iygs5UvNjGcmMH5AF4xGrlEEV7gqQgN1zvvQ2x32Hl6F55hCrvHccTXpr/U4UQi2atIkUUFZQ0bChBXApAOix8mRlID5GWlrCgQ+UbpRNir9cWdxPg3ZWp6RZlwWnKrnX4k9EMKmf4Cb3WXYi8C5GYB85RyEKWnmZ2eJSgmbbVfwU4Dd/4TF6MQCYHKyI/Y9bfpqQyYyoQZFSH2DvjgDQmDdKMFxORVgrOh0e7VQbQYKrd4gFgOjgWCsv8fLOG+aTtC7Tn2stvFmJUyEv57E3TNL2zpcjydq/I2mpioLDD0Yn2Ne9zy62fdHA23lnPQRLJvIAEv+Y8XSd12b8N33JTJgQjx7UI0gc/tYOX2UkqTEZp+2IpRqU3MAY8rtDtljj44pZiKhkhV8sYtcv5/lyMx9vA1kHq4Tyf4HNZB/sI7sdSgif9RtkTZ0KWJJp77P9PhDs0pLWdTlaqw6ChkGYvkJ9MPHwMuZ3xgeThCeUiv9Q0Qv1/zAu5xqJ9jxm07HmBnN3pu4iSRU/Zaia6B+oje3JYbDOKjqN8vb+tXXZoWQVu53ih44qQk+BYR9mhdrKSXGW8AGRz6xAwfRMj6QZNtt/vuXB6W88EJyOkbigT6AyNwbn33BxvalDOF0PdydH752YA3a6D7j57xI6HmNA9dPvsRlY+KjGhhVY1/OnHJsbtIgDxBLEw5H2u3bF+KzYBe+7yGJ1L1o+qVuwPo5bMCfKpaT7dtuXv3A/dFOZg6bDEDK+OOKz8o96gMTX6945BVHdn00nvaGpFIO5j175YvIsEwKvviyrheXkLEwU4MAa6qDwcZdHHD71+RMty0N8MJb04I8BgmniycSpaKjIhfkTeRC+mPfJs9gWMfHVTywXRG1tmXc2GaFo1yv3OStJG68eIvix510kgrz1jFMVxScR4rElQkExKv0WT4scrb7CvOWfu+iCTuCb9RetpuD02F0/nF1lU+1m1R3EbamvcucKYRTD6RR61WrZMvO1Dd+L5YN8R82AsfZ8PmtAYShjPGkGGmJewrWe+ktuJjfnC2uOOfg5619aQe/YUgORg6MSkowR94M4zteKR2ebgHQ4p+XkLpoXygsCaKK5K5S7wbKbAyucEXAEV4LWikn7DnZMZo0UWav2FcMVLhGYO4nElTFw4Ug0iNM32pzK4edthXd09e32uDkRq5FuayDag6mZU4YTpNLz3sCj/xZaebu3CUUrQeLRlMcs6RtE0LHAef7ae75hq/jLJOSnASQTwmt2SteSHU/cynTdU5uyg/aWhBI0ESrohP1LJHSFzkdLzMsn0o6Fv+psvlwhBkUKeoeILfINckuyCXan2s2RAn8oPv8/3WBb+CxSIbpFyw3KjclUzdXQxJglj1UguJCjckPAkqs+kpss7JB7JnUdXW501oWmKkZoSVBCXCZXmaM7+xVNBCZAJvPmms86n1GU6twP326C/3TIk1R4jJQ9skcmAe5xpfP07qikavhZSVi0nhuQpuqNZAPROlbs/Wth+pjizv5h8d7pxWPsozgLL7xgttMOSlUN6MScaeBwEUgh/GZNG9gZIrG5GW+PS2o3YTRXHxoAxkzeesGGLuGBi4NnHFoaVJBf4mJ5W+1j1cpazuukMET1/sr2jEEzh/xoEADzVtgJ2CFq9uMQRtFOUeDn2w84MHxo9stAY4bdHTxUCg5O1Tngzhl+wdB8jhwbd88oM3ta+6sWrQdN56l+WNPHGVwZiJR8r5kvbUjdd+kOOJSUZcP0bJqbZG21t3HazVgYLUAQlzCd8sq4CYXdwEZcKTvHfBOBrn0iIGCZ9tf8v7Ule+eWQB5pSkoM8SxGNsThpBdQx9EeXa8RjHhdouVOcAHicDMbx8zAJROoE1kkd51BgQsF1s3vmw2520//bPgDN5dA18yLos2kdEHBmXvyXwxLlY9NV3EYEtP8DVj0HOoRXkMr11TKowQo2/lGGainfQjBTTrRYxznEmfSePy+H+mLOMF94tvNIWHQKAf2UN7p5sm6iCqG/sdRlU/ZuDUSHVeEZvyZWUgQ3LpMGybywM7BYsIR3iyHhXZt0In7mWUi5B8G1PUmX1kgCUNt9t7iSOj8waPVlLk7VyXitf5WpZJWer4JpluHiSVn1mRxU6h45E1Gs7Sn97LGhWLDjhi25nQNgFtotx8d25tuMVEDfkDVvKN6d5B/jRomhHIXsNpuaBQlqEcq2D2Nk9U3CxkcfZsMeTWMgZ/mqfJvQ01ZK3aui3I+YMyfnnlNJrERn2KuYcs0EDOMdnJvA1UTyV1e3n5TEKBYZZDUQJkRs4tM+1M5VuramW6DRVbM9NnKkTIYhXN6lrSTEWxwnE8H5aHa2E9I/+BZN7573gTd3zpCuNZ72zly1v/8BoAxopylPCmwUMu6Ez5hgoBfjYuqFUQaBCuVSADlXfyfxDFN/XNgdAPNG/2g+eCor/gKj/bLlRzGMYX3rK65f/FUFr8FbsAAAqCQZohbH/w9ZlK0O9qktJorGxSuELkw72dfO+6Wf2bB5+AZfJucJoxyVePWyEKb2bUB6Za20MlNSHxQHIgLm55JihLgbrtUwnF34l9OrJ4r25F+dhI10R1xZzo0NqXQPpgSt0GkQhaeqJzenylZb5WctmRGHrdOmkRbm2EJlOTG03lS0VD2irqsplQ6Ddi+lnor5iBfNVNkvQfaTjQoDQjVB3LCw2NWIKEKxO2wFXpQwTRxb3ypKAs+MmJ3075kLzR/gjqCMlk5Kl7+l/4H93QakT2qXLdfdlRIpZAsz8G2tT5C3qGkQawtsZsl+mJd4yKPH/R39AGLNdkwjRAdo5QSyF5C6N8tQ6qI6yCgkQOOCpvresPDxUcG/F3mjbENR4EeEmR+Nj2sDWQdX/GMafNsbLsUVLrhZRqqPYIEtwwyvvpG4vbaj80napnXg4QOn0XFcAkjRAu8k9Fb9RcDo1b8c3I9rNGMUxddT/s63n759j2fzyTUh0tnrQS51r5DzTOtujpKyfab02DNSsX0a1GCbPyl+HND2CzUi9ylGJUK1IxyNe1HpnG1AqJ1VOc0D2HhSlJTdX5yXWmqyei+S5MVkdbG+trNJSWIpn8XIzYLEyedb6zbH0XNKQJZVzYCePb+2WCE/73MFSI837RK5rEsOuc0jXo8RqScJUJ1BXzm0t0/759SmWtVHGTLUOUAyS7cKaigJLzT8E43Cehql9dLH7aMrVkofjF1OIvkVLcelSaaMu/B0mnwgxTmlVjvjP/cNF1nQ6R8bjHcAAI/oaWKkZMTSNl5+B+la6VnZ6aYRLkBEzUU5C7U0fVpAClpiuRIhapYEYa+Hb/QTlpBLAuUp1R7ZvjBZMhtRLtVkJ48m1dK6NgN1MzhllgTPy/+guMBZwRjxkDTjIjAhCYhJ0OM6eoRhUAeaFnTkvPw4xOLrNWaINab8tXgOBwRP5iSl8jo+Cq1tYe6cltkQQOrNNckFKTGnstZ/KB1YzNqNjQgABKv1NQgxvMQKbdnWKANTQH3+ENIkl/vJ+YB3c9CsAdS76CTn25ig1/JpZHWAsF1Z/3Lpf5vgZmpygICMx00g8+QJoAiT0edeNQ2yhhemtxTXUfpJBPzcfIaC44EIzyd8keyndVcTJDc48KWFSjkVpb6CzrF6hrO18yK6Ql4MtjmktAVE9sgMIDFmFGQV2IVYhNqqZ7RzHYWPRvl5qumbhmna76PcZybLaQHq4sp64pgacv4TCbVoJEgyv2ualwaI876vs5rUebO6CzybEaXHzCVH5EIzaZ/uqEZA6ZwwAEGBYcnmXLChzVK1gb884CZRGvhU7bpgcuvgXpV5OYL+BKNvVjA5qydAuFb34FXSQw6BnCC+sigIUdM26LLz9QGJwkg3uoztYXzhl8/X4p0FNfDrqdU3oPoX87pzQ4ct5dAlfVAi4Aqx38mV1/vXt0e1S+qf1611knzGaliDx5TW5IPJbLrX+mZk37ZS0JaXTqWV3jYiTqbX4Mb+nE+z9qw+Iwa+uDFtGxmc+6xEy+zlBxGhqiwurkFMwSApjn5XmxIZrMiWgUphz5psBxdvSbEyO3d0Qr4DVaswcdZuh5/tnj5VxEI5wWfNM1vp3HOq1HTJb+5HizBrxX78GzEpI8G2xD0zLMvbOKxHGaif9DkWa9uxG5VDyPWdLI3eR8IIcCcfsBQSkirt+0yxh1VAXhgbjF6nUPio2oXMchfhVQI9TKXF99+rCYsenM5m7t/Xq+5Ihu5Te8ZYq2w2N5Dhj1axwotlJl2VsUAM5PEmWHon6Y5JeowZ2a035Fhw3sc0hDsX3wR74ZJw/sA1LS21Vw+FodqjtHrwRe/QlvayGo8Th2GKaa0DoVvZIsE2HjM4T0bZ9n6nPFFyzRMPPWKfldSGuHwEM5i9ntmR13Xv0ZuDkrzFbE0Kw60rAdTE/fk6rIGfv698jkvAxUA0gRgQ6SfQz+unzsR+U4DSLDHwWw/rKoQt3l5e1E5sgDZ0VEuS0uW/8/2xpmjZtzBgKJEUsOOjWiyJdSBn5emHXzcfNceMKWmTpKnG6XsqPVHs0PUqG5vb0uhbVmoZnwM6VuGGNuF4BToJ9O/i3ywXknAs9CKu9fegrkfyDaF/vWS75RBfg0uYOJQEA0Fi4lb3bQSyriBdTyulgqxeU82JLmOr5AMk6iQtr9Ng2CFDIRd2taYmWxmLlZXRThcpW4hsMQtEokBTsWBA41iVE60HKGZ8gQCq6P181j01iqNJP852kA8MJmxfUCGYoQwZnipzLBlH9nGXrbu3UlPE9KPOnGzEaeY4O6WBM8bTFvUfaDahA2GQdCjiHgkjDv02Qv+WXzNjpgdZsilsJRFQdvgS9/9MFPtm1Uc8GJx+NhYMtS94Tjj0x3bo4gVihgiD3YLnfSeUNkILpgNazTazGZ8JQ6vAOBMth5If+zJncdHKC47yHZDMMm29U1GQq1juoYzaGnRg0hrrkucl+A9nWl8J+Iuv65F6gSdzwlG3dJ/46QyzfQXnZSKWrcQ5TqAg733LytjEMjS1MfBiAn3wAi9oKSERgPSwZ7msplKeA1keQTuO/gXozvIse9vKxg/vaYiT2rs5hJkJmZYKiPpH51lfgEM7tRUQbn6D3ZHfH+WG2PdQBGa+VjvDYcpwtxPkqZCDWRKTY/nz4ndIaIb8vkMJ6TWdSc1tUWyw0qjLwEMpj6IDQ0ASGRvkpgdaPt0+/8Fiv4qzunkG6JwV8urlU4cd0Hz1Nki2sxAE1VC1z+E0eINqUAWVEgo/9IO18B5XOtuMUQGyfi2JB96CYHjl6IaPZduBenQLXbRM0UjUm1OaEqG+BGacs/k5vxMlOf0wMqUE6Q1vhcni/4m0QvwE/us4IzXIRpuJgjosYlWIakhuGCZirLwiVCQMrrzdAI9tNcTMiCMEXlYishG71XNZ217274JA8BA2Kc/XQuzBTC6AgbSIFC4sOawQjA6AaNzyH/dZX9gtXFEmdjiK4+4Vf9CBmMNjFw2201tN+vquS4sEDjS9CxWebDPyT6qQ6mqb1egM48OOl8uAon9oM1MEbfws+GmEBBaDmomdLaQiqMdbq+2OSY1hF/FTqdP6o7Z/DrjT6sTbWzoUBUGqFL2aYYsXeJAcoDVVUCet5YqDJgnLyHvA8MP2fFK7f0r4ZT+lam7JX1i8EyNBlh/HDRKNSucaUy6bwS8y2s7Ct74L/gMP++twueWqX8fabUe8ERH/54RKjlg5VKnoYu+wCZyh0E3Q9BHt6gwJYb6ikpwkCO8cYnF7f6ltmKMVynM8k2bNkfDnUDcDwdFVNymkfvNVXzmp7z+UiXs0MDivR8SsktXqKPp/a4xMFe1x4N8TA4d/mw9gaGrO1M/qQrTf2mkjVL/DbEUvTs2gYR7aSFmDP5q9O4SIYJyW54oOjsaRi7TYTaWct8V/b070iQAvzHV0U8Ert3i9S/VCiVq/wVPaKLnhX/etfcGhTZTuteEYACRHrffplpuhgBa7mn3sVkC4lAwu/EMdFx4ZQAEKszmPSxeq1c79Dn6BBuzxCqPANi+e5ar2jOF56mHT19JEyyLPsrgC/c0KC7/1xSwUEAAA7qQZpFPCGTKYf/8P+/tc2XLEAzixhqkmLPmBYXiJF7w5t7aLYLiDFnzAsLxByKo3+c+/RPg5gFw+2xuNlK6KgTzsCQFsZ9HtShWh9+0rvKlk7grqUygp0nXn1AIbtFyWyWBJdrDnwZ1F4HsFOs7w1DQgtAKZYLpeMfMAjVNDl34AGWUjzPvNZWHbOLqdGjb34uOP5HT0y4odc+tCpB2UCfAaPialHn+mMeYDkoTdvM3AQhhbyUhBaeQatHi2hKVnPvSGQgvaAG7H9D6aZWW4xdjNiczyOvYdrPwynOGftZBIowS8bRJIbvDc/9PEwXuDm3RfqpJAU4i37SPGUTT7LBaggmasSpzV2lmcPpzdKLNcQ1Yq2kDPO/pWqPvbKynB//fZWjZFpL1MqN/B+H/pvd06lz5/yVvNHMPuqftv57R545cQx8YyT0K4nwiM+0AfoFIXWbLL0BmXToLdhP+80q9yUu51EpVfgSKpIJpUa3VrgjHMgxIi4HJhaVXS2cDYRPERXOVsAvso9zQnfp5HvYOxoy5cEXUIGLQy5pPmbnaYdtWzzIVCJtlTiZlSK4CiskDgjMpwySDmeLln+RNoFH4mYVSWxsGfnK+o2EILE8DPoU2QwTkpsj4BcPa1Q8p5vVLdDmclhtITTWRH5P4eYaZSgVl7Hu2rkcvW9R2B7DiZwLtXBd2MmmmHrAdru3te4xGeANm++xwwsqNkruuFjMR6ZIp1RP0WxqxS0pm+4exCORB2ZHKi4uiN9rDmGTQx3ZQRZN8G6zfq6EO84mXmChI7uSvDkFOCLJMwcCAAMIDfP+KGbLPSgeOH5Qj3+fasyoJuqHylLKAXSGVWLJSQ+ZvBCSUh695LlrfQzd819kHHh1e6POd1k7Ox3Rm452IzpfbOJ9neMc3KGBX1YlqkFMy52waaTzviCwlQi8fR8/56bX1oeNEklTRSRfvxBvrhoe5wTK7qMhLM6LTuv5yrt/6wI1C3hogrTKQnyT/wAJbDjIVIQKRoWBxuLevFw0g6QTok9N2xIUxpdIhcO5CvCGETXqOIRcxQnJN7vgOaAxnnE8Gb2I6rs9PEBkw+PZIy05Zzl4eeGmT24QKK91Iy5lTcCdNRP0zqu6pjWQyRPNNEz5wSGKKGMHMbXwEWthOF/h6lTWHSa1UV2Itl8WUIE3iKSxtN84SLQZevbk2sjeonu1T3TtfSrBeXzJbeb6b01uHRQiUuNCN979lrir6Tc3amnRyumDXkNafCfnLVCS4WpeB4VDNM7118Wr0MJOls6YWfX09SGH1b+Z/hALOfMt+tY/P2juf9f4sTEaLE0NZTljdIImNJAeM1KOA1zg4GR5aOIW5TG/g97dKIMV6TETPr/+16WZ+K/0BFh5AqX2RLPMZHlX2YBII1TFYGwxr8TOVqzovCW+8ulagKZero0sJ5mDxpOSK+I/hsUL6uXeLNbRrBQWRe/b4mH2vu9oXRn1XGnxRn7icBGFqPXlIjKn/+zEXQ0P+AU/x7Cof5F4+QTJG+7ckw9IcpLug7ffoq3Ras0yjdSTm+MQySYFY1k31VtZgXY2W7eApmoYs1DHivXX1h4tmRXxLiNLaYRnNvM3yp9g0V6Ln6Pr6Hl/k1D0UNdjnpDgiu06UWX57hlIqMTIWnA+e3xL8dl0VwC992blxm45neZj9BnFamYCNpEOSzNht8jEFJ5qlQxwZxkP8xpoGLwQBYdyiUaxHuwjOwOV/jgYNGRsyRfxsgM6nOvxPwQH9UynedfnRCGJyO1v+e5QQK9AUa8sJ+huizWBf4PrWwQp2/8oAC9uUBE/0xI/h2sFWt8+Q6EIMTQ+C95YLK8d5153NPt/NuJypP8rX/hmbCGb1fZURN9COUvcHOzIeP1ZLVe96Fs8xFtIymLWjxnFZEajM0No+ql/6YavlFxW/Ls/XL5LPPN4WU64+hUeePIty8SH7wyQ9za+o+ujiC5GG66guO38HUhFlUoghYIksgAZjgACcAq8EjN76bQdUiZIFG9sIuzzmOcABtDszyL05mHp17bXfFPhkFwZp+2HEStelq4yCGalOiHrBPSP/qaQDDKuWwPsDctrPHdSIPZoxEGnezRvOgN+3QzmE03cdkqD0SIiyYs3iiyTd+s8SXX2QJmXmB6DosYms6e2J4hNITY7Qa3FeAJdvDRJz33V/GUygGM0t30bu6opBLhpM4rZuU8WUGFQRJbEvtlJ0br8uoN8W/YynBmL2jEaWctXwjiEkZ1n/5lPp8u1saBH5IawwKPf+BjP5a7G5qh+p2XJ3bcjhqb/M2Xm2heNovwIoAZGrGx+xPeWPuIDs988qkWg/TqIBhakonDpNRd880LlsaHOfUUh1v9yJj9Kbuwx+I9DXYe62nxE7oAZPgZvvjXIJw8KYPkee9mEtE3gNKnbNScjVxjskqWvb/b3gfyeRHXJMwe/YTJPQI+oUmcPCudvkMhu/KDTGN+Qz6/SfydaGyDS7ecXNSbIO/66JZ8oPkhwsfVnN5Kop7omy3dykzsyM/qw3ip/XGJJk9sX8WfJE2ZXUqrvOpBGVPpyE+y5u2ZhKbvpqFvHEOuHZZBMcROG9ZOE099FZy+n0ckgqj/x5JZh8zAlBbl1Xdi8O1ZGss/xKtON4KuFLMd2lGAPgKjLK4Sl1tdpwvc+7rMa8XIwPPZCPz5h+jzvnCHL5jFNrVQ3ol1FxQPirEXkEzq5avhd0y4k7ZWKi925pS0n5W332cTuEz/+zVKJGJLluKcEJuSnvqw0/9vnBNKOqETQs5Cyw8i2Fg55B5gRjmX0MqZMBH/KjbWJwoa3uTcZKq5u7foPuqfHJ5iwSjlHkCSlkOejtRmxZge4CtzRBhdghg3KjvoR9WzLvxTmxExzJbb5A3K/x89MvKcakWxtoLpn5OQWWZDUxCSaYGSFcot3FQosgztkVCTNsy9Q2HVSgfpd8cINZa2oxGUABHbP9UY5y2KZ806vpHSRnkcRfHVnhdqQhrtYDdSZVuHWwZjpEfpnQAZa3HHVdproul1HHo1tWRgYrdbrowZIu6P7mIM/6Th85j+52w92f5G4w/ITUDnmHYHrcjFh3OsQgYtXIguoj/lzW+UQvlamI7NIR0Vuwf0C3l6ZJIM4qj68i3vbDrHTadwlYxktYzyleLuKfURNfaMfyuWUO53pb8G+2p+LzOCd0b23oUK4tNZ1Wk33MprBXzMrpkJUL2lb1ICIZbqMEvowUer3AoyWg9NNfac5KM70EnQ2XbNA7XOdjX5ivCnJgjJ1IC4NRJ6+vDV0zx3+JAeQNs6RGl4ybhwMJz6f9eSdlIq2a+gDe8lZAZVtebOfpWTz84bQDm9TBx4yTj6X6/NhEjH3db1rOMpsNRAxWex01kB49Er3+PSEurbh2eAzf/hAFJkUF3FqGvSvd4l2Wm0om8H3MScm1hmwMvW/SgVcdSXcGtQEQGnVJvn6KKZV7Lvz8hoDylKIdLkBJr4wH9+QSs0Y2I4hfKu3jcl8aC6h5FSYLlchPbIWHoejCoXlap/AYxx6rh/z/bmCjaEOUci/+81GyiurCUQDbLchEEbXYeV5iDgu30igU5LQ/F7JwUw4WzTkRhZDAfxdI/asqPPf4EyhC2InSbgaXtfqvEUJ7NFvsgP1/uG/f24KNztOQtZ+ilAV26jL4KzDWZrGP2XlxSVZHKtaxroCRjJPqi4AldedvieFxNkDEjCFm16bNedVyd9oayMASwHISY+5/eodMuqagOTr+DUdXdujgX0WczBeaRgXwsQoZEC+FbQD8LPOUCxZL+z778n3nRTWo0dUhyJKUHOajB3TA8iYI5Bmnr8d9+Ax+Jfc6FIKMhaKYzx+0OfN0VZQkk4TQJUyBux2sRGL2D71X+UKHy13UhlPxjMk0mRsw47t4ydwRoZ8GQ1G+zjH11offF+uLadF6++LAiL3+r1AgIEqWzCrQLB9GBcyVFNVidQKVt3w6Jjqbi/QEttbkDZ0VEPrsSWBw73f3eT9wn2XpM9kfvOiMR1Xct7tABX/J2aTPvaBxtlCWc3Cs7K/DUT1AlQ6vI3zMmbKJOaXPhqygkkN+/X5HIRkzbEmTaS+OvCPhTalDM1DAqyfe+4Ki24EDCoD4SJWhGiMhkWj8iyIXnlAnTh0n+2twKuGPfgZW6iypzIyJKIlNOMnzt9+t/LuZEs8y3y6gfAAuEzqQXtlPuL6JcBYQsSK0xO1YtY40D8nw7i+63t12qoA1KHgn9JKJ9Gijig0CAuDBr9djAMzlQRYvcRB1TeNsfprcFBB9cI0gBiHGnyEMJ+/tBkphCIjxUuz420UotsSYh25w4DMwoS02cNixVfc7X/1LvjxTw5+KDgDoEJbfGuRCOCdpKj4CCOhkSLusmdDaNVXlcEc5rv8byTC8Sk/Az3CUuScsoG2HDJUJrZ38+dG0mrzAfQBVYUpVLyxpdFaUGnqaiLomGFA06GiqTw7E36FtxPIB645HXwA6aptskq6d9HHu7cOqM0XtnKGyiHb5fH4MOlS5kaZdlIUQIU0ywBRgE5TCnKm/Fz/4EtShlZqai3nXkD8Bvf19m6uw2W3OjjLj/iLhoAOtotnH801spDpYrYAD5NtD8hHHbmNzDZ1IVRQNPF3R1fLTs0QJDbBsCi9MQtseBafJ7WzXygxWMrJEeWu5L9z7CV14JVN0YI1YeWIr9PmnaJHyPKGvs2/hAq8wPW0AKN8fMKStOjaENvSEoZRBjRW4XxbnKaQiheUOEy/p7wnsee3B2rjH+4QV8YTDwsdFSzJ1SxPDVeXdl6YloYS3NBQKKyJ9pisOznXSj+dBzu7uLmeO2n6bKPymEs5H6C5ZTqW/gd2scCB/SeSq68o51f0kIt8aYJLPQkbkT3TUqROCs8JD11TM7wDpWJUrM9s4tQTckaY40nkfN0fUbwOGoMLqcCsn2w10AGdyV+L4Nrqa4iu4WWyivYdSJ4Cjfc48PzMzszgJ77c61YuwOuZ/WGP2Dy5wNkEAeNtq4SFVtFMs7/t85awi7nc1hbjHPRvSusUPfggEdCfQqiVVSF887L2G74kOKOb/K/k22FymeQq6InnPFc/PbSZnlAeR0ads6AAAAzLQZ5jalPXhBhqylwXUMj2WmHek14AiaAQt6HourYVjbvruoYgBqbDemiwVYZ1DEANTYU4IdTAuhaLWiQ4RXCVU93ep9O6Mz9dH8ENPJ7B9y6HHU06Jk2ypCN0zJXzyqf0V/44HlRvAy+uQqz901tC13s7Ek+PcxOqe1BBpTx7BJJ+DWcsZFKl3jJRY4kiURJvFZXyFEu2/BDKSCcoPa65M2zQbdWWh7X1N4vkCvuusCaopQO/WWGyALaHM9ieTJFbJ27rlreHRcDx2vhxX5bterqzVbGO4kSIjimXHX0UaVA2QYnQ5OHQm+K+Npf9+ScIyLMWa41Vpn3gjHyHRa/FyUwGxx46USZ0Ggq2e/+/ChLYE9tA35UGSYounNfwnB5bmM7z1nbdvefSZi4Y6CtBJINbwHYFILg0astJCuAocsmJ42dNsBexhsYPFRcQhiYmLv80ba7EBqJNihaEw2LjYtz1aVumhArhu6PmIAfwsshhrQeRD3z67OKSkcaX//zOJ7Xe4MwL1tqneXvVqhoeczdNegu3gs4toIkOCtU1xDj0TZKGaZ3182o6CNkpj9uzEuYji1rBbrTSkuaz1AWHBpcB8NGKNbISvgGBqRCOBY00k0smMS3wKS4bX2j0uCjMolYZJQNnqvpccQYJWWa16Pky2i6fQMSptWY7F1uSexNQTHq6DtpX1AQlgTWIxEUvtSrhxug6aVrBse1AgyESgfrv6cFPT2mX1CWzfQ4zwVeKxvhPJbicts7oNBg6HSa21ew5IrUlnJTshSQnS2EzhiVwW3ILlfXmyNJ5Wx3UvoF6enm9j788R483gfsSmfPEn6hq93kzM7P9KO+l9MYVvZFZJ2STDpYUeWME7zf0vmgdzxztN/Hzk1MEZ1wS39loWsVqlzpcxFqAurBrrs5p5JRyQC3WMqQwZvIqTXOa6JiHlABPjOg5qWZCQ3lTgdvgU42kGmy+pCj2/kEneaSFpWTONvjjUAGMig0fS243Kr53g5qdsgIXhjho0GgtXWknTLfV8Ah+ZKD8l2Pe/yJIOp3t0IBzCtUTGhcocnjlKaU2JLVszN5MyiiyuUzrthJQVmVGPQIS+V37EHmE6JZf20YJmFbo0pX11wN1X0M/6VlMHzRcmCQhm6jiQbkRP2MltPw5CDNrjMib0ppl2d1UrQEOUhZC0YNf0vYwICLKm+geqceqaKz8y/CQ+dT+xQpY9rbvwIIq/Bkfi8ezwOWLRaR7ZLdcK0I2PNV2e5E6+sXpRX3qiWtzmtePFas/qKYHUVtN7XPIXcf2T8VnNPuIDytY5K+rHoR+Xr1toEiPAPaLVagroxOWW00Mg+VJDXfoIb6x/fg/L8G0xch4aGlJqlGjTqBbeBcyFKX95mkkIVH4Tb8SZrwJYOMfK5cxSGXSjMbevBRQAAIzOTMK59OuXCCL4h2Ze6RxE8WfK/3WKzDfAFjlnMDhtBRO13PEqdNj4fiku4KObbRDFsRlown9xDXEEG9bDxihez4kVwWyvGk99CfJpOjisVQULgryqvgj541TtxfKCWyVkI0af9qel335hy/E3gO7mpPQdQjVPADlo/RcdwB5nt/2GBhA5131K1AUPUwq46NCGHOhX2gGqe4+YWUGQx35nZ8ytav9D5Z5nagzy7uSR6wBBE4CDj03VPFhBtUDOiZ14zLewPED5Q9Ir48v4WEtStH8lEFNXuf8aJRuMgu+0V+TjWiju/WK0/3gk1/wWLN3/I4oOAB6Xv1nCk7AI5x8koCziAvQ+JxA9m0Z0aHIH9QLu5r9OJYQmTskXFl5Ybuxzzy3H0gzImxwuLxvs/OgHemK+b7IwCyS/46AodWmqDgTfPpo2AZrq/OXbueZfSFXkoluNVECmhffyUhSqfbhpQG0SdYnP/3343DvSwc32ikxBGBjdDm7vYoyZYHBrOKfYFD6K0QXqKJAvzUasLzkRyMbFPCIiXrEOS3aVRF/jL/Ne8zdS82w2Vu68NvjtRw6cMNvJzuKUd1Ato8MN1rF848GJo4eWdB4NaTjikdC/xkxhtaKdMuVtGFvz1TXdRFrOhwVSnl7+sAWBr+yF9PZd20vMVuctL6b9Ik4FFWvNFlmLMCEgp0SKMP6wdAe+9qCQ1iGScdlRAXkBEENslWMHVMvjGER2+ZySVrKE7TztUJapUGuxV6UZz4ki4eO8yqRFO31of5WubXGqX4+4R3IZIhwXYW5wtvfYzSLAyqC7DjRyeUKdpokVwMsJmyyY+JCGGHXSejruYf8bKVVbXUJ+8a4B83wBhghzJriRx4egUqfuNozXzmg3BRjX7sUJO8I2zxhfdu/0EmKw8vq+UdZ9WKXMr2LW62nXbvByjUQEy1og52ao8IPnfPvkcjQ5hsIWFJlcvvVriJtP+2XscIeeUQ8Ou9/wDKc6lBXaTQMNgZ8D3/GJojR3fDNzCjNijzEaJzexs7VZpbgzL9+vJ+R1wA8Snia8cRD+TeawxVIsp64JuI7Ovzsr2uugQlo1KMIClDbWReaoenwpyvRdQ93zsW0cUCEbkPrGIEL6fdFw+BWAXQqIT3INWOytYF0qnhwy0HHvE3Yh2TIpaHVVeE3uliG+bLGKRO4uMkJZszTQA0/cMzT0tVJtESITwMRo7Wxr2COUKjnStE/FhpYtjjnwr1i/SvvXiJoEmVbx7o2idEmpO93ykqsIgpvQ33Bfih7s4A/Wt8x8DQdFmCWgRCuyxOMsxVl6uhb/VXh3OnPTkSnCN9MKuhBs5tZgSwplwifDddkSSIgtyRcPIDkcB9DOjfs88KVvmk2dyjGVKfDag2+wP7EZjU5N2KJXPWL9zJ0BdKMX2wGt39cdHw7MFGHouQ2I6nryJDtSFjCxN4M5XdvFEKTaf5aZffs64E2IGPXj5yy4vA/hgQKzs33o5UwPHscp0AMhrTFwoxDMD5Yy9RhXTnTegJx6mg0anaWElSNjS142Gg2YD0wLt1ZuJE0AO/rctxUDm/RQygTq2LTS09f3r31+vQ94ikvgnj5nJ3+OtxNgDruVYmsgOccn/ag3X8X4Jm6Ml8TE7Hj2m6tMJf6XiC976q6S4PyhltDUjoI6e82YVDADOArBQnCF5nme1+OdLjPFfWx8EkbbkRxk088RYvFq+HIVbO69+Yh1h41EtbCV7kSqs160h2WzoD8UdIK1K55StKAVtaDpjxGdNBsnhzF976arqRkXtPkEB4Ck8jqzfTf1tN8AUOmOhHUHv4ndMjZti6gXWZvp7L+t11pVfRZriN3Lg0lyNLiH9Siq2DDiYu3PCbF26QWX3FUlnKjnwtQ+jGA7ojWyvA/0zCllwQIlhdJ+0IVDFcyyKOMzoxSJsRhjYpqFbcL3iJWOSEvEUpjpbr5xRdxUJDOShUG2N36DefX0buO8Omq8uEB9rMJ/p+wO82Tdv9aMjkKPa1mlacYu8yqHasQHa9/KbZ7LQZhf+73nfruW8Z2hj4Uu8pOMP9fbrge/4KSxix0/W+zZn2PFYbY6UiRqWAxOQXWalLa5+wtlq/T+HhLYoCsVdhwXKzJZ1Pbawh336Eyzg2YneiZMojIILlMWmPBoO7Qmf/+owVi56//VhwnccCoPqmvL8/mH/9DFwNuhFYbMsjsEBFTwP+NQsK/u2HwI+67CMox40so2Cam+eo7DUlrh5Y5wWHr/pesv6/ajSWv3s37hFPp5lvOQjsa5k1Bzia13sULhnTtWQLs/6CQ8M6YdCpAs75P7h2I8cu+ytSzdQ0Cs/qbCkl9CM6jSdZXRHa/3TKPoVIlJTQp29FT7+sI3oqaSw3DNXV6IH/YupnV9N0ZlO5Xh7lnpdLxX6Ib/7s7BNZwMrUNZpq+wG78U2tAoaRt5ycosaVyLNqlkKH4VUPdudBLLg8wts6tylAimJx/2ueWx0VB092BMiBHpnvhDVpSqcChN7c+4e4o+NiN0gAMbTavCrkdUj9Y+qeepXmGqxnKVpT48e/JHFUy7CHZ0K0BiuiPPS9ZJGco8eBrIY+yAk221tEoyI3XK2JEnG4Y5jM0CHvsWpcP7Il1id22mFU6UqiqCST1/YZ7QZiY90X6UUWD658xuvZEfaUg5AE7yKbByHPxxjWgvmwOSzHFrk9Ib98SnfPFxBFtMMaPmM31EW6BJqP09srx475FzP5nmmT7D7+FtoZbkB9jtccHJxY7BpQVKoOZXMzgrB8ICIjUIrl9NBFHCFbpsuvaNVKZMcpP0j+aDqFkQF3r7XS5E93//6ydIVvr/0PIJwxYmP8qMmgs7aaEXW0U4on5+hjowlTVcqwmjhnkAmLfiBdjFvLCMRSh19iqCiLCybtJ5gj6xjo1N+pUGC8aq6b0uDWQZdeK9aOsZOeKs6WlqQEfN8EAAAfZAZ6CdEn/gZM9cKSbEKzIXM4RGKDJtpJZ6w1lVZwnR018NJQrH7YvdAVFNglr+2ewMWuNx3YRIUbkQcE4+/OKaOI3tJJku3cg7/cSaDfC4cNBZIfIkXhlZg/3y1LmQtfDxaCZYOchVLFk9vsKzzkSkCFicNEAcMiWyM6ETkZZXSRy7h9CWZcdqI+N+Ab9lXvFZVipbtOma8DXkFAa/oRVI0j92zw0lu24du3LP71a9jeVq4KuDK5JiuKaIOsAsWDSJB1N1GLLi43i+qjkawLi38Y4t2b2J1x9KYlzvMfu4exuKboEdP51j2xEBeCwebKJYxFc+gwbFNRup9HL7v0KRj3AwGXeEpRozvbWauipB3Mc6nlSBKVTgANZ+kz2AL0BYPB0KfuvOdz3isoH0UKTck2QuNEqTTx55llOuogfy1Rt2EP9+ZHyMRR6hUvkf7RjHwHjwDfxMCWx+RiLniUo7sBft448fHCFx9bo3uUb4Y6kbTCPhM12f3Tc13l2DSm1chyXV3jGZsOO/6aGjpfY5fMU1bbalcV+rC+S/wWXaAtY+dWj57DWp6bLfFsHeyoVSfF6GYi1sOl7tN6cb5OG+azbmOfSwv+29oDtw99fdqQdOe3jqghK5zKBezHoiJCTmDttaS8nmMebJaw2uLBuJfAEOLRgfA2fS1+3Y39hmAjdLTZZnmYSzZiFprnriwI/Iq8fVj9gEw09zjOC9O5bk6ZkqHlejkoikghJHWnN9sa+UOxGQ3K7Blm7qWf0ezTTlDjukYA9N/mqIRC9BdP34NHzQa42K95/cMgm2msn/FZ5L93QC/pA8svePbrjnKlzgfNoUV2fO/SzC215OzWhloPjf8XOh3z+S/Cs1tLlkiMLiZr8K+IFwTokFrqPOv4M4YJHMUol9HR0A9tyAPij+CdTc9ewGLNaGewkA+P9+eqeAAdnyhaUm6fNBWoaGzkrEJYzBbFnHP+ewZW3xhkrH7BOS8ViYRMDDJ/x1+j3wHWeZFHR/3v63FibxjOaTs76GS50bpcZ5vutwvTm007NWfj6jgx2Qv4p59PIp0lEnxz4MsG3OPnraIPPOc6acypp045Ykjk+sIF860GBPi/diWHCU2gJLtp3lYMzkO2ArmiN8KELaXnrDU1SNVX4z8/MrILUSk3j2ZluAeh5WOaYDjs+dvFPBc2/0lrWqcrTrbURE7eHvWhO/+PdE9RVxHNGaajZLaJssPuvd0D9gEnHRp7iLYgrRn32pumpBbpJ62xJZus7UjUpMaC+3vV8E7oagjBkpPsBHO1erwaRGZzeF8fD4DJTR2hWPx7N7H/BLCPmtiirjCvGTaHsJe2uaZwS6pAHlhlP7kFFhoLbVeEpaEyIU/USIiR+QxEae3YB7ZWiqA/rsECOwAkKnV7ofgS0E16BRsNWBaY3w86io/ig/Ia3ITCfdJ5p1tMIkSpUjE0UijVHAAjeDodXkY9L9uYPLsCiibysizRRg4ydrzTr/J13dY0yJd/SemhMVDJdtv11sv+0xT7hEuF5yN0XgtIBhh67g5zRRzGsAEFzLstQPoKW27w/V+HsLeN9Uafv3tYI53bNM/iRRDJ+HT9eS4LFvzFMiDMcCTbMYFiazITFOyk6HtYvbp+twcIaAyhZ/X1luMRGr2MdthhX75oEdtv5MgJ4uwY95uzPSkbtSl6dquPAtN8GtIKCoLzeS469aR5OGo1zOBR+7ESDykklqeFdRlzoijrzfGgqk03LkQqctPXzWY4TVhyapsXHBcVkqkFrZORfk3a9e0Ppauqzs7xykuuC1KJttKlkYYrKwe4g1tdXkRpnWfcSrWDpJCSvjfKH0zQq4/MeJHjuq1xA2YmO/oHWKRKb5gQCp4f32sGtfD9KVBlTZTZ0ESgy+nFy8ftUkXBc23DJK9EGTvjtoRSXQBf+NaaFSgPqu2f7Smoene7ME6njzd5Z1v/YHrDzyFGlWPIfiJX5ZAnV/wrrEbb+C0HlW6c2MEHN+6CzZmXxeN/afJdXWYNUqW2nI1iVTx7cpEkrnxdDQAF9Wk8AJ7zeoORdjsnCf+KKRx2xmhj7B2F67qLtglayPdmMHJxiLDfsoxYZ+YAUUqTG99a6Y4ubyGx+HEw+qI3ewVlI0yf1HmNBTf7I1Ea9Fqx0fPZL8KosFm54RnZr59brWd2jtqHDIY25HsxgVaMyvHA7yqdLbhlDpPbWPpqGY/5rUFpf8rRggIXvhcxXtSI1klMfKHPOdDgcwu4KP2CFSv/KlFpxMSxnalGuliQ2d/XM8cBt7UL3f0Zo869SsjMvtILWQzglFjtJnyD8frLM2Vnk0svMKTYXT/X5LOXWOGSaw7iJqR66Ry0tzdalpz1y3yCm+SW76ixfTx3PSvjeU0TD4P7e64On481DLCuCOsn1VW5x5faDpA3mjSTTDS2xYAJ39z7t9+ANueQV0xee2IGAOkfh52AUhEfgM2N2oKMYoWby1yQbejfFQlkgcXVCVxX4hDfYKF72k3oSz2DiA1wz1VYg3i+TMP8IAvVSx512MZuwrsOCTikk9Cr5a36Xsndy3aPI654Wdn/NUCFv41boMrjeHBXm7Bp3z0IL0GMWOEWo8RtqT2b5k02ZZoztCpGIeWCcC1LiVhX+OatZseodQ3CZzK91mboyvcr6J62lezw1AiziUyv8v/Aar0wAAAklAZ6Eakn/c6cA1xgC3B/+DRuJXJrL2lfpFbko6ZEQ1TiXcfRZFLRYvo7B+r9+Alg2HefT20nrDU0jB2ZHazCzY9dHL5f0eUu08pO0k6rrfQ7OK1FG+Vd7ER4EAPBsRWhlFZhvAhEFxJg2AEyI123ViF58YuH5VNX83WGygtJ3TkeyON4J3/gcnjTfb80+BHXfNI4GwxtzlBh19Hj20JUeN6BK8I3Vb9ANG5xcta/kyfCaIflraaU0bsJa0dVDfRIA1iShQPcXFm5DE18fp1JzSVijJwepJDQCdL5c5jkLfW6SoRqIj1xhHwUKBZq00u47fK0YHubMFEgyUkLBUbo4lkgKowoEnY1zmUeoY7kscz3cJ4om1+vdBXFSwqNzMsIYC/r1CDh+O0Qxq8KggHFuAWrhSM4yVvR8xBi0V3pPM3J8XvAevxJn96F+gNEE7e9TbvzO/0OLY78vpnxh/744sBd0h7wr/OuNrWcU7uXWGLnba2uoZsjvFlnJGG2MVmo/7l373LxpZmngt9NEI70mHZXK/yQOo8KGPCKB6aLFXXRAXktqYe6DdOAfKXPkJ9WAY1pRSUsK22q9kLy0YYMN3SHNjIt7qhMbycjZyArAmYlkUywXmM+q7ACqhuuvOYjJ1jAeQfLLINfoc9B+oR8q8tjAvFGqPS25X0JpkpASBY46qW707RBNoslfbyHbaWFQtAkMqL40IRtFjJSCynQirMJwmUhVx2QyG+/ElZN27FzQmfJvdZwFd/m31RQGzPyxfgf6i0upmzPS8r6ZmBkfjWiF/ExPDtoDEwACgXtEKIGUFoD0Sd56KSju09Zgc1BHR3RIRmdQJedpu7z5g0Xl+g0UtamrxgWZy0gj+NAntsX5bxi1PRcHXJtvW3EIm+zOcXS1wZrFfN9Ebb2gP0HuoXkerC4N8eqd15vUoFft5pW/pABAMPyr/FIAj2ozuo4XgXze1csZnr/BgmjW35lZ04ttR0lciBrcNrKpkKJJlg31OC1Qw93k1Le+AuCvNmZFuEis5RtsM/3oLyZ21VRKxsfnpRbvOHQpKPVm+AOUYI4SIU4nzAzgpWwgMz2gzF8M5UmwD0I7Wq72EwVL4uury/irQuRV1GjG8mLXl3POgtMUumGubZac8QW8CM0jI8lJvtrFN1LnAwAEpLZ7btZCV91L+nlu3gU9OQX4JOmyn4i8ie7jh3h1fGNDcaBgDzEE8kDZ9a5GBlw+lMK36UAqEqtrIrzH7QSza8uT42d0Z3IXbBQgiPI21VNf4uerLI38X3dYnN3ztE/I6zX5NCQwpSKfyPoL22tW2KrHyHYOLlKDvzskrlUbuVzqzxQfe6BbC6pebn//atW+diAPlnUxk5L7/ZsaXPC+w2ox5zJ1i1ENPowSvsF1I+l0hh7VHVS8dnM4chI6jHvI+5Yr24bE8aZOSMGZ6H6ngLP4Zggjx6h7O187AFdW+EfBOK49IKwHRrJkCZlt2ZO+1xzEDUkO1BqvT1SwCWFO79Xql6pLR3FUHljjPjNqwCccj/KWP3HFM4xkYY1GwZwNu94tOzB95R7rCVscWYobqZ3oGTEYhIF9hZsu/Xvij/AIoENElA8jvUbjN86UtQ5Gdnsern3jsMnX0wJ1tSp5NvaRNAuiG24dxMjLxqf4WDrM4x07b9Uhfys1dIMmDIfjWzztdDaGeihqijAQsi0TjEuG5HeWdmvH5GXLn+J7eJJr5TvpxRrseMvgK3/PxyG01qh3c5OpfDYh22J5jagcLTsbQAKpWvBmLZ3/dIDpgCFjpDZ12w6ppym26QkEn5o0K6UvKNnYi/PUXxjHpAew6A7ZQQS5UDM4BPU+9mwQqqCYYWSIjw0EiAWMycVyJ/nAKpgqtIyhrG3XVdFeMiz/ES7oGmCoKFKY7/YynO8225/rb0npjee59jeKbDw03G4hV3X0AK2gOUjgi7umMz79wu8r5MTIhLKUip9cHEY/gIodoeehPVaIb78b2ei7d0o2ejf+3BWiRAGByaIK5S21WzhtggHpUdKfEjakqLkyLdwwTpt+JeKMXCtUhcKqr0CgAwqZoEuy3O8qGyV7TI5icsElxqn4n9OMYSzePBw25pQ1xcuKiCzroq1C+MAfMCGg9Ve5nZ1eGZ+FOdt5KpTt1PRP6MSLfOs2zgUKGBqt61k4mW7qE1+I+FCqe1x0iKZg3YGA0ePZ7hjl+KT+UgSFJt43dqgh0Z1m3S05KCgiU9SF7wotFbIq6aMa+DqSUtrsBMTuc74J/MedrpUDah3xprgWzxh/ibPCdvZLE2B8StrVuJMeiZQYdT88ZC2MG3SVXzDJGMGZe6VJyxnKD8UV0TnawhS+0m0eaN7W4g/xoutAQq0feJpVVTPNXr701ezAKViBQNDLTuHKtu4IcXTa4Ei5d+zMXQtb4Z2JroyedK20pJw+dbogaWNBFF96lsqvOntmJyfqGRWizNv7sf2b19Qb7qbCv2pEUcqHBrLbe5RJf5crAFx0xUpGh0C/80KBIwpuamlIc0pOEU1+R+CO54s6OW8RSYgvsVxaojYTZrB+ENSGTQCXKQPd+AUcVpOVW7AQW/ve+N+UtKDhhpzKRsE0d3c6nBNC49IuzG2d/kpkQQ98U/5jbOHNWNdXqZoanIIVBFtdOANDcylmWMMHQQBJ+dYxi+fzEA8u2TI++jszp3NJLaAQKG6ATnE0HWpd5hyYPQfVkFefiYaBF8aFRuxsvGtonZa2NWF8VYAatE/dlmiQAj5jr3ENr0kdriButlz99pkCuiYynR7oUdEj3qaWVAL3G2drNPRqdVxA57yFHm25HgnTo/TiIQCBoyBZ+HGFJevu1Bg9canwC+nLDv0ZtqUjsuOSUuP0AffpirONLhDiTp7TQQec5wZl9WK5eFxM1SHzSmxYyygzoKrKAMNmCWl6hJrLjAUcGeFypbc4w4oK5jo+k15pUQcdgEyUyFndoSzOFU8ucn7hMpZT+xo0JUXt/IQ0JD6gO62dd9plYPscjNMBHYgpfrtlL2zxRuk9pZ1bHd7LwRZFUdvwVwCVr7tl5SQ+iv+LExYmkPS+J02Q16mQif4oPwhBMToHta6BkaQIt2QUjiW78u9arlLlnrlHXRkr1bt39QAADIZBmolJqEFomUwP/+fr7/SwJlo9B//8Y/wKJfouOJltBT1HJMLc3xnsoGo09v+M9qwZOLF9QiKIeTb7Das7XKzbaT3acnCOBAUiBSpEOKfdgPO6efwwTa2KAzAloaV8vNbRgKSAXtRSJlmKRIs0SWx8i+p8O2M2mplAP63GldLQThpOeRM/4c0vnhpiWpvcie4Qgql2bpPEV5BzkVmndlQjZoTm2COEIdqr3+ph2ZgEK0VPYOo58pOAQjYYFzLEVtWjpoalj2HvaBVuHE/bLHe33/2dTZETJpKWQVyRhME5NbG8DyGeDAR8gXUqRHqvT1Fb9fYXkNaZrj3jk04Uo1uRK/f/uMklJ8k/sduNw8pGaVwXj89LjMOzdtsnPpsqugVUgMWEY1n4aqesHlF9zOpm8w0hCib1bd+c4j2MaQJbezgNeMpgSkuxlqh/wFcJqhkobAEzvjb6QqGh4F9b200Vuh7w7gBmXZCTK2/nRyyeBosrgGJvFunbK0FSR/r49Do/tomF+11MYwinFiY7ifLMHnk7T+PaMmIb7tTyDtSJa0jZLQ7TckgC07oA+KebINTqzDdFem4A2ERnjASlaOAty0X5RKvB518ju0BnD+w16+cDGP/lzAOkdRnner6ZDwWU2WQTWz2vfSwSKakr8R1NU62pqYcxxw3eQtDufqKZPL6kORksvSEti5eOLBHkfO0YKKRCyyS8W06KOMrW+CKLB9Yogwv7G8LL/ooWp/NVcFP/yG7cfeiVe3Fghs9Af1ykYFZTE4ZCs4cX2YRP1hJ0Xyj1u2I1hEfX0N6uS70h0l4SPOPY+yd46dY2EBjIO7EmmIjYeRjhqiGc43lDG2xj9jGv2l+5j5jnzUuVUzANFeiFM9ST+IR3C7TCdfs7yluBDyfpWwOWkuRLV52I+/y0nqYkWg4oe7qpm76Bubc8dUrEQgYGgXtMxNxdl3V8bKTshxEUYQagCZISnLUXgSEjF4WSOfaO0XUmMDat3L4RCKPId0S7BYyY0Avjsb74KyD8/R37EBXW9Fn7Sf75y9TBT4vJEZWd/QhiT4ymQ0htSuwOZ5lVYtD/+u2HGEsbJEg0CPIYCb06uzzATRC5fdkwAIpxkY9fOKuPH0FYQe29NsfgaznVeoQ6JNozjaGyWZrk8FhpX+tUS+81zqTV+fvVapAHF6lg0D36Cx8Uc4G8iTUCOF+rP5EcKFLCsj1kf//3UN1N5QBGcLIyOhY8c/pu36JREklCbRjBZpUY4JGTVX01QdYllYn+RXIW/2+GIEbhnmwkeUjYlY0YVCnZToTgD/54DpmqudSIkX7yAorf3n0kwJ+ZknOx3Ekp8Y2/jowR5LyCRYygzLvQtygeIxR9SOA+R5wIgLZAjPWE/T68cL//N4B/JuPUsao5qdE0KU27qgyRclax+hKNuar7mSQvN0SKwBnmSAZh7D2GqzJ8gv5GnlYf6k9Ky4Vh+yP9+vik5s1kFTcoJFXqrV1SpceYYIh4b8mJeiYeId3YWnqcIqdgs7BbXkn/qnvOKgliikgx2eEFa/hSUXrxjBYJnVLT5Xc09lfxxoSeuFZekaPf7P3USiSDExTVvl3XFWz/xegNxZka04X6fOSzqOMOQO/BPFbrsopO8/f3NGIMCqQQTOBC1ZV903f6WlQOpbet877tG3zaZQPq1iBIEi7A/UM1L76nqCifg0il/kKgPWX5Am84PbNlcfBO086BSFhHnjDeX9HWYKo6pVEPavwiR2X++dixWhK/5944td3ZIM+FOTyrau0gP+YIPKhoGsT31VsgVQgI9yVC0plnLcbF3zepYkxiIzy4PbX/n0RU/f/A/GnNTd6ZthPMpp03DPSFoLcYrPaWUkyZy79/eia0C/V8VFKrFaMhOLV1G8oKVWEO/ksc6UMo0gT+smECsHcdkdM4SX4ve5pQo9Zq+Q3fX1+cZQfgiSLwkSgplLLEShuA585DqV13zhw4Dxgk81YO7bnl2+as0BkpDrLcDUTXgoecF6DOopRZkFzRr8UhUh9SEgZKpC3mskIZDKzbXXEdw5gFCJX7PWXUCTv1tkaZj+3uT4c8yFVEDBAXBNM6wLoWJLmVidEG2EZ+ppJ+IHiUF5y49E3pOGw80iL5T6ANCTWDCR/ipaku4Fmh3zgPPNxFFsXnfmKsZkHHqRzItWFGotPMsf7WVsTJMrE+/j1wSUo1ZrHPQQ3v99MGe9rK4H5K/FmJll0GMiy/7YqcyJEedJUNxxeBYOJkPhGmuNP++pxckV52OWqO9ACJijoVAgY/MkS6PIRyv47pWfEzsAld2PToJy+LTG2cgev0ApMneWz6798wekN1HqMPUoClMZUbB3eUFdLs7KgMtvBO3Hrz9pMEvT3Cd37WXUp4i3eCDVWBsR8pA4v/yRUhNnlgCNrB9XVEijMIExZfqniefhqPmiRNB+ytMUowxXHtCbOp2hyh9jA0X4JoBQRbsYWfcQrE14XNppRMNT89Ok41S5SjA01AsL2lVm/y6+M7Z/puJYfb8mIKPEVtxSGW83jVRzEtwWUJ4xuZWxoHo81lb+opfETh5BnWY6zvQyJ2zrMjaz3xfgjk+isIiFI4JILqVtuIcVNhC0aqR/Gxdc3liubbFAQlLO+/DVH5ZeQqzwl3ImzvsnB9zmzoEFjVJoNsFgWrpqseXazbw9JhtsLgZHN9Gbl66FSBsQ8Boaly79EnhVSvXscDeG3N90s4bJQf6OXoNV9l72QUDqhH2/7vwRwH5GxssPtY5Bhv+5BU0tTNx0gRN/QFr1t1XfwMnscfjU1ZWMx7yIo08qsEcchoGjjX+MJ3+EXsML7yW4YSimUkubkQXn4TEgMhLJKTwJdkQXKCR/UleEUm+U9gGxrQkvr+ybBjGOUCGhfjUatQVWTE5itkjrkpez2UbZc3cBmNGQ0WMn/RZgFzLZYMJ0QlHNzKMHBwhqqBylTA4EoGWhGhe4zPXeAi8jvd9tof+i05fdEQkEovfbxxdnDvVySzIXozmug6mM5nUqe/WCthz7iiKtRppUxsw1zOEw6qnuLZyimu4kLjZxUqqxRIZ8J+RVqQLquhy8+wHxhjnndLskkwgl+jfdjgd+0CHScunJHTMShxUui+erydiOp9nR75/170GzEU8DaG29Fy7Ufbwd2uLENy5a0wYi8xlNkQIGoo3BTJZZj86VeJPvJz1DG3xAFlsgSmJb5UdKLQ1ckcDjgvQ0zZnxvhige0bbo1jbno5ENYRF18cqvP0jRH9pHI5esR0gkyL70yvIZb94WGzcR/XRNh9sllgyC/IwnRFsqyM7qkdJtSMZVw2lMbBfsf7VAk/InTrIpB58crrS2r6ZsVVlw6tULyHfbTqCinjLTyLKCQEQEGJ1/VxUSjx9ZlmouHwIdJlxscsSjpW3XQKLmyc6fzBCH3V5iNuqyJNJvQNOusSvv10WK659tX/eKyROwLAQnoB8mscexZE/fvKiZsoERohkFvgQq9BYyiUAGktqKWVtANHpiCrB+4RtPtc8zDI0gtGDltBTt7WZCHa2EMykfcNjErvKr7GyoLe5NGImQ/RGpodxg4sJwsX8VK+2JP5HAqch+C6LR9aT/cjqenz0lHMPgzxupjIvIQ6UmHQdtce9G75OTo1uCxp5b/yUpJMTzhiChFAPcZUqcCP28hGL7yw4h3nZJC8sp85tAXoY2ereEZDczIybNvjwF9JZ9iW/WWUT4etuL4vQHdFPhLVGlQ58QyQbVTt1xn0SGluU0jUZkJDOAgg70yzNXbF0RxVM9637DzJrMhXijH6GPPc96FcGe3Nkrlwu9DrrsjafYhtlOn0tCtANWJVI+mQxZ/bxULDbfS0lk6l5EW00aNheQX50pfmW+WU9qoIII/PDj9G9EuyB6RVQ9mMLJPJJFqrgrKH/M7ARvwmyLFW4LDHXE4o2ZqWoovK4rWNaNtjayEQsITwBGYKdE6ObXsInCSAPuQSCpaBu4FtwMcCGR84M8KXBiZIUe2ac3lgVhdjg1cq1fNNb9cgh12TDKPpMRHaE2p9AfNqVlB5qgo2kmcKqAmXgnFBCiajd+HsOWRUTJy82QlQt8XTyqo2AiocIbGL83zS91x3zcRxeldW8/wPYHttpi0nZI6AdWSwjV0x8Sr4OjKlVbClryXgZCXXlnnw0HDtLX11W96ZWe+y6ylLRiBzLqFVFc2RId9h1DbHphtBm6d2rG1ErF8wPIamE57+ye8td5Knklbio5yIrhynEHBWI2Xnyy3v8jeRaIoayy0jKmW6+O6jQAACORBnqdFES1/Zl6TaBppkG7XhSgSE/RHsIw7yAK54GEQIP7X9LAFgdhBB0Dkc2j72xxzlMgCmUXeNPpL9ObtnmonQlSuMEWaVuwc6/J96cZmLEcZxnASBYvR+k+M+N32Wn4vzw9wEpvHz8DBl4p15jvahb3nBn8P71mraibrY2hcVLGStZMhKL5bix1RcE2jlkKyjsnP15IZ/zvGJurpcFv+hI/EFYT7QOMJoE5TZm/MvU2Kkgx3/hNGr8ggGheLDHVFFGxN6NL4Sc1bTj66DnoqzKdURIIVOebXQq++CJNAwuxNbEwuhz3D7ASOtIEieF0GiN5SyK06AdOIUpUJlWx8teiZmBVwKda2aWeHJ3RWJxa2m7czohNPulgLFWEaCW4liRt6OlegIp5dtagQpbx09SCI4OYXTegnvM7mZo3NfzJrQp1hQkIW1CPd7Ect9y50KxttmRYAQ+s3YNQ6eEZZTky1OxtR+CJXJs1BSpSpDC2PeD4ogijXRZcuuN1i0uU/ra9qO/S4tmMp2ktUOhKqiH0Qb5ztmKVL8mzDlethTb6x4ZmgxvjJ5dp1IqPWxGJSFekts4BBB+JzNxzFR8AfhHGdnOVtWjSqAoS+aKvo6rdZr7GMsaS0apNA7Q3pGLzRr+gMvzNQRgpNg2IR063OaVLJqFs5ABBE/Rb9bUPcEkFWnlv8dBOh0c3AB5egDg0xtfOlfVF9syu4DhYWfWjzvJt8gKSl2S5uS9gIqojNH/G2sgScLRzZuqBisQ64U+YM3Lzv+m4mLzN7MDU6DwaGwhJhbHZaz8cBqBHVYLJjnhgc2RJ1qtZ2uJEcsAh6A1qalj+l0Fxv+BzAlasn3eoBxDSfgp+0E398vawVKIX7cGKLiCWyxEPDZ+OWE81dRPMMncAUvo9wHjlDTAwr76xqyBbRCFijj3BkfiKI55eMzEcU/3hqFuNWCpEVizBDOzx+wxMVSzj3LYMINeFLMw5S7kOrAC7AHMoAM9+eQoBsEmnt56/Q2xnsuqFGqjFlvuibnHuWAZoHdM/51A5Gc7IXPk6eSzrueEh1dMkkg8Sj5TqExOWLdZxGHKtmoX54vf2A3yZX7Q9dz81OKYgYkZs2NMTg98K/R8NWeLGM/xHxU9gT5TMxBtgTz8D/n+kNMUPobbikOVHnVC5ht+v02+B0csO5ySoqjfaNxm18hIocfIIFN/lrg9brKIMguC6APZYv0pBOXEfd1lhadWcX//J756T5xAoiDCLwPYvZhn3NvRp9X7tlhwLNsGbfRFsqC97Oxo/xbu+2GkQ4sXup/UDUhqMA31A66Yp7RoO0xMfo9u23Vv21G/Vm9cDA+ZFC3PQO1tnDNUYj1Ur1d9thE4fmOY9qJotxnUh/afcSofPEyRgDz+VDWpG//yFNqYyDsgF6eGTEvS2iILzB5wnGme/l40y8eLg6tTG9Rbb24lXm/HtZGui36a2W9XxPRYaTK8+e1yxr31/5B1ZzRJ5/xfPNPjg9/ZzbZrgACBDJ+9HvRhSM7b+XuK7FByJdF342N3VJPZC8kR9kwBIgvFp+xf7Ry2gH9GYk90jaMIXzXKH/CYrxMNNkQNhwd1I+7VVp9Prj917RLKWEt2pwauz6UdAUjTmrmIv2C6PppcEt/n6rhI8H5yfV0ytgikmmxoXYzUulJqZm7WbrD7ZHHCHkeT7FI2Qw8N0xMZjrGvjlDlDm260Gytt82si2QTEBi6UOUvvx0rVGJjXotNzasp918YA0+Rrx3clXEsyztFSSMSQLrIm0KkhomOb82yhUOqNMa4Z7iNNHaSBbAFbQjm04VcalGS32gbP4jATUbHUaHh4glw7O8soGE0bv+q9DeAAi1soyoGu5xY1Zk+aq0f676/QyRy0+u/q8uqXCb96tVGyUVZF3u5mBniVJoT5BBmD1X5yJHO970ddKRdyWjxtIKvvyGtLclJZZz9h9KEFHy5Ap5OhQtHQ54Whh7thpRcofzoTtaf2WiYaNi1macqTnZbxL2DCtZaXmdcBze+JNerbdrONz/3mhZ/g96gRqdLm3Gy2IbSBDHqV3/aHqHaD6iTyYkwg6u/Iwkf9OdyM46r9mY0Q3lWG7LeX/PcL6PYNiv2j0VnOH35+RlAre4X/G/kCrgcsbJYHGDiEkCojru6EFLixMBPE8CoWrZuQI002RCATd/WPDhntpq6eDXcp+R4Jcms6gS+GKxIZ7oxadVaUhKT/mxht3RBEFr0E/pwt7GR675dSJkoeiFuzMIa7+FniJ9nEjN/5FreJMoe5+1UVDk1WdcyuwNdKpIL6dPyZM5FsooxV4SB1X73HYrnmrZ56Nyen2ganVYQOi6TuMe1jjsxzoLpb7ilrV+DC3vpHGO+YAaM4F5MDlgumk1vufZT+myg4sK9M8rqfEi9aPuRcFKMPuaMvXwzvYHf4oaBWXy/1zcQKJ7zD3eyPyht3x0yUd8LxUoY5AUXkOFw51br9GsYP5smfBukUBPlZ3La3a+oy24/j9zosJMWOMtxshHuj4VnamW8uLcnwdDWgb2ClD5augDiGJiKcsuD9m/ajqxoWR6ENF2mCNeWi2xnWaXLuE4LEifpcjSVQgDmuFwfuzrbA3a4LXTzrYVutW4g8j2ozjikhU5s0rHOZqZ2MmfdwcGvFFfEl56hzYqOdlm1KUcKRQwsE/1i1QyLWwnomLhVmQpVxn8wxcLV5fOp4xFYyIx9KUbDxztTNIBtzgNTWMbMydENiBRy02K9eDrpt3EopfzxKv86Mja6P11T+fawf57yyXHjAW8b2kgd0gVzZWBQGYSk0IbOd3RfOfPpZ/7ffPVusWCgx7fboSfte20e8d16YHFx/oSXVIihOt4zDQ2VWzwmNKFIrEhEmvO31E7bX20XENoIvKhBRjB2BCRmz9z9Y20mchXE9O7M1SmxxtjDjRolPJvlEExNcyFuU/BEjLf97jIxc1OeMxDc4gwnayNjI7KwKE2yUo6Huzz3AsGhPxDuj82L5EnHyG5amwbmc1UXERf1Xr2hOJAN0huYNpSHcgaQAAB1EBnsZ0Sf9suoKHaR3p2Hqgn5wMs3MrcyPCqPJNc+prgBjsUI0rwcGKTOieVUVPOLPU+tYKc4DvjgD2di6eR96wCwkQwEhpx3vT2baMB1QsHjGaF2GkVVHik0Oq9MxbCGPwOGUaDdOKBCjn7MSzaErDSw3FoSPRC5dgulvOsgEg7GxcZYhAILRDKz9N6afHf1PQ+izUb6jkLqoMzSVTuzN3XwyZi0lYwBHnsMwxDsnpi0v10tvCuyw73LsyWCLH1HOUKr//Zrd8niAklgnnPURuk86xJBSEycS2RFgo3f8+zSP9WCtGau7RWnJEuvfjRCFmKtvtPhbz2IjOnQc5y8qTrHTaL/N4TQSA4AAn5ZMZCCH/UiCiKU2fDlfEvVw/yrXj60VwJ6tZIiQUrLxWomUKVCA1NtSIcqj5Kdv0WMVmKmZlIhlW5SjCQJFUHOXr2zf8QNKI9sJRLhRwvA5dQmgtDicT96ArfS+zLvhxJ1PUKXn4FcAK4x8Dqtyg/imgUsW/p7efzOgOqWpRvl8QAqCbdJXqGV+VOPA9TDg3KxQqJuM3mPIvkkKKNTZC5/4vaHpAevGwYMHe6h6A7N/Y6iGz6Q+HmvKcZhZydOdJwcCN2NPZKy5X2WvbbDTVqVHxI8w+iyVWDM+GSs+KcSivW1qycdufobU3ffNiTgoJX68Re4BFvh/fsJAGX8zsR5+CfsgLWCdyyB6gRffaoYoreSxV6/wAa+oApqvXeRGO/ZAnA58Tx1e7lJKmUU3KcrzZ2UTCru1PKmWtrnGWkHkcT461IP/wRlB9nehA0Le8LpgOvD4pIQHP3VGLLNT34N/ITYGlfQ55ZXO6H4WHiymCpWCOkW507GF/j5T7uJbG8P7Ag70RduYnqsQUjGh+om/l1IzabJVHL/A9mI5k76jnYfERQ7dDFQAiTqk0QkZSm/rB04nd7X7sGqsHZHyx49EXDu8PLbWeiz1hrZchdqS7alLAXhYn4zbw4nj4Fz9MXezcYKq4yg9VEpewpjvn7TCBbMs81Be+g7BptYQzVMxb7464o3VN9dxBPhtcT/ZOHx/mCIaVzdU/4K78Hq1oWx9SI94dtg40HU478q57n79bDmLK3xvCRAfwtJ5vQIoh3EzsQTAOiGBIK7zjpz1ORP8w05rj0OZrmSxyjti5GJpsAPWO3FcGhe3iGeYpn0fwEe7YGhvHkAcSbAIvgcHnn4g+vn2oDecXB4w0Pp//ACsJcjsNGgCghKSRXf95umjXbTmUkD7fmHyuYxNgg+pw0J/tn84EB2mE+rrhBbrj4Yl4Qq3fwUp/MsbQ7cLo8tLMHdzic4YYhc4v0XtGUej6p+t66LEEfvdMj0E1yEqbdOwG40K0jYuEp1sMK84AKYLQy9pTsJgJIUgpI/TW7MU4CDJsZPODUCbgoLeue1o8wdoqulelb5r7UmsZ9e9WVLM0hePGw6BiCHK7Oc2TWula86ADIal74hlceLHj83pdso1/Q7miCocT6qjzSKLL28wJFt8cgFqBqntzJtb8HoD5DUCQTEOf6B8ehllCsVR1NCZuObXmRIgaah5SmDWpuRT7pOxO1vqyhqV6TcmUZ7zmkY7KykshCG3cOZ7BZvDTsLoIYOaO5s2wRzzIXH4UZMRREDShdXVcOc6sG0MhPofxX9QkB/TEiUrJQRSacNleVB/ql6d2ea0GcPrWCAdg9LTNQad5WF6xL//t2EQFJ8QMq4X8auHNpRwXPNeBZ0UB/jJHFFH//tLfdWzEAPI/5QEx2QGyISDlAK1gMrQyb+N3EeMBdYFfkbLL+iGqr+G//V85SJyVl/ivj5M4qq4fCEsD2P+gula8B/lPVKbzTvSec4/MsLI0HoQrS6PstU/MEQqdruVPXoWQhc5IzO9VUvFPs04EvXgnldivPM7/VC7aqlpnTK19DqbNJzNP2Hw/ABCck7iFgpqxaZGTqTl3VW/RG1gY8YXJyjzGrI4QgEqaoEG1Y0e1aB6s/knPyu9UROs77nN86mAFMdQZslTNxR5GywEVJot2Wq7kqtZ9hlVeb3kAoqFrqGdwyUSSg5M3bE4Vs3l0ctXKTeH39k4dNqJ8I79B4BEmVxmdwY4G8x6hYf3989PCwTbpOeMGEotRnAX9OnvLFNO+i7hWHzfdYYXn4nB1d0bAGsTJjrqLa4xd9RA61sP0CxXoNFpJyRa9H75SdlM6G6/c7eEW77LScQGIk8c8b9/bHqoystcY9dJjNJvWHsnWM1MADBGwJpQlD+N08BT9ZQ/ai+D9Ey9lh1pBt+lVhED5ZJ+QdqrLgGJTY3vMqy21fM9zfvPDdtykCdmq6/drjq9ndasNI9JggWzFm7Cv0lkh0Hpjxur+6TEOklneKQN0Yun1jh9+F2fJtgXGXiYMz8P/dINY+z5DuQLH/dgpZ4Ib0owhlHWvfDgTHfmLKcdyJ4uDenoyOR+XOBumgY85fkwe3SVWBTRcfGKIoylyfrFg6iLY2KW7L6qyc/Sn5M1gAAAGRwGeyGpJ/2AY6PAFqfMMdTHES86z/z6Lzqut5wEaePZO/CGwxW6RY0r/LleaoMYdd9TRIqugSsBSzw2+ZmyDIEtoYnvYHRY8GMB3/InOVd9SEM6Xant1Chklr1k1KroSgk1AztaASjJYdDsjEby9VB0iU1AfHKbioDOfqt2jsarzYeA7kvmNu7UBzaxWeBNnxJzrb3D74N9wce3BBA/mTfl6EmrAHktCar+SlRXKG6By6kfv3TYBGqfkxaFgSUBYEeA1ViIvacr6myu991uTfdeUct94+zF7I1zv73vfKAGBOP/5ZOo+7QQfo7sAKeR+VWmbfYUaxHMtRJdBYTDylluY99D7uZRVbDtjZxDaeyTl5mNLGMpV7vPFdvurkjXmCytC5krnsFjqRXvtvOZzml94u82qlmiS2AXKlOVBgu3s2hVBnguS1HOwgFWG0Hg6Jc2owZ2h2pmB4wW7oztAecuSlECfdW7gq4U7yXjn2NM/GkK93tU2yMGmf91pZ6uFhyOSloSXp0eRlQnZMYFge2by7VXsniC3ybSinkRcVgt2p9or8W2GEoAgrVMbn4v7f3UUOobPYzdxMKCtLRqKbn3Qik5D/u9COvJmFoNPDH1906Lm+rjgICf2JESEVpIRNUMz0mvOLscDqq4KGAlS7B4xQ4vPzZ9xYZyAcM/1BigHpNyCifix1G9aGkjdrPMYu6NH9UCylH52VvAuwyf5Tm9p+qh+iOXe2uBqKsL6sgGeNT8CGvqNvrw8TWkBDn111kqvL+Z8GOJESEnSbHyv2CO45MhoqJsYea+hwYhhWE/HCWcqgot87kmbQ2cnnpabDS9aGufVZ+qmt58mDrOsQfc+cwEy3mr5rqldCAIymqSpM95SzpVGMWTRM8C2CkOxfx9h1iE7wS5NDGz3ycNpAxf0svKqRfOGMisxRz+9XqaRmxI7+AElNrD40JpJy0G7KLeb9ggFZC1uObIXwZsYc5adB/x5meAU35RWgFOQdQkPunXgVal/lu6rRk1EoFAeFvZKZwR4JM59Xn/trTbWY8bOAOXNhFwaLUpWUOMgnYcG03S2RdMSkmgK64rwmH4RJM9vCw5mKGmVk7xT+3VHdSJQfdNRo6ZMq643kdLCr63EWS6Bci2YLRFTygQ9bp0vyRWX5P7P1wHbf3a8apwS2y78/Fd2SP9qQh/xBc1gxUqmQEibJSQouX+32trnZYRnYwJ9/kdIRD4IX7sS7D+XlrDHECZ6XeeTkHb6cfcBkhkcd2BWWevj4bxbuaFG4qkubEQfXi/QXCfJuDL//hIMgQAm8QR88i8YxPiq8O3nbuwLlgwDN2NNW5xJtpL2LWxJEOpYLNzQGN8ZYSsTj/+j06sQuF/MQaX7i2k/wcwVi/o1JxVXZXoip96fTm9mkAw+lCtvuefDmTBytwJ1kaPlIC5qbwslCVB7F5Gl6A9P5+HHl9sZeZdrikUkkYnVCK1Np6DkaW2E57LzcihKJO7VZty9HMCLOlot101xY1uTus4a4hhrnckxQATZUB49S8nzBhHp1T5t3W2Rtr+G29PiDNEyQRmgwuDUwXLjCUtOb3Y1C2d4sOt/AKClVV/PM5NrOSiJ6P/H8MOQN222gY/rqvSCBW90d2ntAbPXhmTWNHxmePASBjiJRxuIL/SqP/WnYbsx4FTRGfDFNAUTA8n/UfQTDcJy/0JZC0Q/G9BT64TmII6imC5K9kq9euoO2UOr/tiXc/N2JfRDDXIAZf+ycJe08hukfQaSqqR3zJJ2ptw9fKl5jizhImcy4SncvEH7cJvml8co/d2TgmXhTa1+xEB/lB3XP+iBoQFwqUib1WhQHF/N+QZGiN33zs89rpH1qoiI1jKOe3Ut4CLreoR4FxdSVpEqkvXTVTU2BNQdRd5b7ILNGkgGPYFNWJjKLIiwlovGoqEWIrCl6/kkPz5oXfaP7SYrQwL/9gv9QfoUpNFkwFgJE0c9wu/0XubrRp3fJBbUTwIpKeF2/twUZk/SWFZcxoehr8coxLet7HCXlkckUXjQt4/h5zcX0GPtVG3oA9YYtQg7B8IeG98W4Fl8ALg59sZrOBhnyYKSGKDdlKUFnh9WgA8O2a/Ugk7mYiwUPpyQOTXXYqDOL32OubAnpUUPUU21BNSBAAAMz0GazUmoQWyZTA//5h/XsptIYEwVvXDajV9A9QA0XkPfCXinNGAsQsC4RbIDRkFCf3Ph0+fp1zFYWdp+kgdck1AYqu4l5r2wNpwVyJgC2hzKRyJcufJEFZDIAO3P0IGAzPpjD6hi+fCKUiQp0fT/UhKNCtHowf3/wRn69nlCDf1CxQRYmwD7/KHmswlP9WFEFsFyf5+QdYSzsldBoSEezPTv/ybYcIYhZxb0Ei8xdOWxnn7wLWzd9se95uvTi2OdDlonwKuxRnFGOHiN5TixHllI8SYRbsfecmc6w+aHIqZAinSl6Gi4M/EPEYls66IuidrHdz2KNND/4Q19zBr6BWpufNhW1rzjCnjwfYP6Fw3hNF6wtyweMC0zxYOg+UGidJUuug6gVsYEsw0vPI8NKmLY4y3mtc5Cw5CMfr3BqZpOa/Bl3lSLX2txNw0JgCmbJjfR0ikWTL6etH3hZwdWY/QKQdJCmBPPXyIUbyYtvw+1P8AWswCO56ssuLxkWmW0F6mmL4kE4vdL9cDMHS7dB7meWwBHDt1CEbbkCe/R2TXgcNn9TV3zO9EKmoHK45s3wm1fTClLJI9a4+O8Cm3HCN3OI5WznYZx8mdT6DuV59uj2E4sYuVy1AbkuLmmWAE7oO+nybN7nJ8CGeoZfzBb5QmZL47tPZa07dLgj5l02aprqzB1vDfiQflZh/FthFHiuFDeBdn8IwNHNHk1hlrQH2dA0DpI5f1kIBRy0AIllPyxGOZmTfaFF6+oI5TDKGbkwS4svoXtf2kLvceyEYQJJjMxEGh/6yS6hnHMO2jqzN6DBv+gLbipPEK0soJVXsaH68dqREHKrIGE0vYtNwadiUm+gCyb0H72RQasHvDH1Yoyqtk4eQwC95lizORby8D3+B7MLpQ9CoyfY7z/r8RqTePBNBVoxuZIEp2NnnroIq5o0fcWcnHHwXfhfPdG/YAzuJ8AEG17wCYFICFL0tR1gCBMIUCvZMnxtoZ8qYQTJk1rw5JdXd+nfiaayresIAPmbUiG9pgmdKn9lVvWFK/g4wltO/Ber6Vjh+6uFh3cbI+WFrolaSq6yW8HIdy/5fxII01+TVxSV7V4XXnLpuaCMn1H60r1OREJi3PmLgS2izg5H8tm2ZTx7YmpPbn7f2ygt1vDTsovc8FgmehnjB0NADmGdZJIgO+WuEdmhl4dkO9b0/OO9TUoB2Yygt3dmaQB9lYHs6KVdxifP4DZzWfBQhi1x1k6g/m5PjHUzJ6yKHty5E5cnsKQrD25wUIu3aycgW3xxY2BPpoZGg5Jx88PSe5j6jESmpYJwNdgwNHglTTiNrKmkRyG+WcyvqeXjrWMPIki9WTrjDe2Lp7S1PalCIDiZl89VZNdZ9VB17nlWHucoMKcJWdQjovFTrpGTURJluieXPvR9alW7AEE/Jv5qIu/1srPjiIk0rHqfc9gAaPg0QnbaX4DkHVuv5oLJCcDDtTWsAtE3WG+trB+i8oaulyyCS5RvofP2XTMPr7OQ+Pc7KvDb1m2oyTi2knd+sQHINk/YDZVO0TZ/6k+bO667UgTlvaPXLoOvftGnnisjD/qbXIzRhX54UPkgIbQZd3W+eJtaulMBz24/4RmQ6393bUpEx5pSegLTTcLq5+7Ha96rdwjtemj/hcCAnUJPNSEedplQpFvABUGagQF8ppoOoG+6pC9bVs3BJ55BYAO6RfyLLWIWK3dfAODzdQe9wJf7sbygRtOGA1PLuFF74+QtZwTWYHhxR8w8rZmNaA1sXhPEc7QBvtc1eKxnlADZzgjeGDTceq89ZIbZuoDv5xQ3+eUQKKqZC2uljK+OARlajVfAUmvAMKjQ0NAU00EJkSLIZoBAzEtuonsJByCbHNJIzl5v9N8lglBQ+WZFZj8dXJa/YsamCEm1IBFMjrdb96cvG0to8uyYLdxolNxotxQCe/KkjxDWEvbeyOTgWpYSAZlO6A2WYeFtRC/I8V+zGaOs+fSfMZnSQrdA4hr5KWd01tCT3N9UlKlhgRHWhyk7VfzeRt4N6NLXimC7aCnTu9nda2GKpOE3Be1oC3FGd9UDLWKFhuFcVf482+L78VP/DCWzmXwWoqZSzhRLRm+Zv6JpbSl8miWGkn2MltPwOvYMalI2TRDM7IUpzD5tpfgXJvnPllNoSEob2vEqeOudX0dNs8Pp63zZ5zHV7e0J6WwIqIsZtkCwFFU3jnl4ajnfN5H32YjkBTz3gl+ZHWQqjQh76Gp81geDSvXYBFz8QynXK5QM8RbOesbAtF4Mzc26yqaLit6Yfv4/kDk1er8t5dKUAoZX62FsLz+Kj2/ftUOPEqj+MUKgWjdAuHZdmBGnN3cKXV1jRD4G5Uwp42S4lcBFMNTH2HPM9Va50PAhTWJfG5dZ/6qZT8Ncle1jOAIsTCHVpbja7re1nHryJ6pdi3HEXthvM6XwJQiCU2iXvZ1JZ7ZXbvJbDi583g5rupk+bxS81ZJToF8Je7YL/Trx+RupNq/FjD0RqMdpWxPBQLEs/FfkPr6HJDqkDxCyzDyYlRRoHnCvJHKJILYsMGQQW8YezUyeoSyNT+NNgy37zq47X7d9h3UxKaEBY8MRMTQzEUFQ4Q9Ivk4SMsAqo/Uir8v7nNKe7wgXKVnTODZ474ngcQZBi+0HZqWiKlbeAk+C9LlyyICYNg3EIG446tJzLDkfCdJhrt8LUkzqRspR5GNaf72NcRp0OPjDylZBNCaCOO4hahBHxoLxaZpr+YaEM+6WZPW9U5oVTFeZTX7RM8yGBWcgFRWFscBzmaNyMIZE7EC/vBvvLtwXCpdKcbmjEA4X41NwETzQeh3bE4hRfaIMfmXndfNZzn9uKOgordHunIpYLXgOLrH4gL6qiEYhT89sa4Smii9am8/YyBIkinL1OiOyuqOb3IK6/2DZHao8M2X1S0FYOfjqZouBvc8vE71gA4CMYNTyKaLfUSBD+oxl2Uanrx1BJ32ACmwaslKjGkND9/HNoedxQasj2HnUY+44DLT1LtfyE1UfmmnsvqNXznC9f3PjY/wXlpEfB6AvUL4JtH54mWjmZgYMyD0WMUQszCSMuLMkKohBcllAyS41aAU1dTyhetm+YbdiA+P03j+1hYu4n84kUzkSxjCqp0Ce3eeCdFl2sUGD2kTZDiVfOaSQfcJUUrnrDfrOrGhCjeVrORd6N0D4sKbYPW2+yg7m1PhVHNfrDOEPAUwooV8rCLqlZuAXEzM0WCFntsZf3gPfI82AcMNWY7axvvil87butCEispnOzVRfJUgNyOBbTZBTR+b73QCfk1D1PEjWIKX6L+oH3g5tFiH345r4YdhI2rdtiNKO72TIxCrUgjEb+CupWO0WsZjVxex5jS5Mftrn3S97iTlrFal+WwCNYusnHWt6XZC1HjFrFEcvv44Nv0rbbC1anx97BRg1xsjSJznjCJyYiWE0W9XsE82hmlR1OzwxOMN0R7tcRBgKkKyV42BW06gmFlaBM+RxAf7D3IcS1/Dr60w/YMkTZYYQ9IYgtsu/41VO9+Txet7vJkBeUG8aFNyiuPanPoXtmfvVM7uqsCK3+S4AwhSVdDd6/S8OI2Nwbtf7jGXI37qHmg3z3klB09W3SybPU7dHfhsN5C153FZ+ZK6MJTpsClBZHHID1n5J+Qy2hhF7XhIL2/O1DOLAPm1v/Vqadf+mO3r4ie3u3t4cB1UX/x1DgCuX2JB/ABjbqQe4F3Qj/GfT5ssf0tcD3lGIEVlA8F/DC2WQC/cwpwy6E/18hp/td1v+4sbOFkn5od/ePoV41bcJvXJgAov8ceT3/Thh/5jwr8xViSb0Jf1vzD3Bj15dwOjWaOk3xBu/1QP5R02431ptkBNpJwmk2zt8ZbsOGJ6AjXWZ30A7vMgJVdggGLvlxhjskVi/ql9J/M+WIcvMg0k+c2KDxQVhJ5YNLxRqn2ZcvcteVw6GtKVsFWDSPSGPjhTsInkXvG/1cxxI9MbeTRDxWil/HvzmHHlVvuAIHnDSAFrHYZyKtDk3cViKU6Tpk+XgkanVUNzyqgK56Fe2poRGpTUjw23Q5zvVTJb6mTeAFdTAPSXZ42b4JucVa644+wxhjoPUHsHD/ZYOhWVEJY2xhSl++mYnYwgYUFhgLPyeL0cY7OCgsQhxyFRoWFFYFCVNXm8qi+q1NGsg4lRx8WXQ3NQ40STzR666q8l+NDMpoZtqXTduoYD1m4jo1mY2tuQVPmJ+LNYjCcZU74pbbM2dJhNtBbUKar7/GZRkEkuphbhjB3b5jupVE3xh6ZGEDj9HNKO+qkwWMHpymCO11OasD/Pf7szU9tYVYFdwUOyv7JWSO390Vgp1tCaxVenaSL1Rb/7kc2pk44Z1u8L4FaN3GYrIAAABpBBnutFFS1/WY74mzDvhyohaA/BYVp910NpVTK9SXEicOo2wsL+eLcYj2fYZW3rehlihEzm/wdqfTcDpvRTJw33z1CD3+/vHa1CT/qEjkmbgI45AAbhtwjd7NtIOea4AYA8AtykozD9BVOFDl4fN/3JKyuhMeGWLgqeoo5e/jlDOEHzQ6xLZcQ6qDw2wd6bM40vhF+gAgGyFAb3GiW5upYOMfDSw4HGK6xqJoabQnk3GAEHvf27DG5AQ3BrsVP1k8oT25GLmNyyEp7yfNuMzbavWFB3XEitiUb8zBWaGPuCjouS+JvLaTZ0ufthkeWki+FYUqsdkDZVrkWqf8PXs+VLmkss47/6tSpxYu0d88agd2Gu3ZvsnbGYtgXIgyOJq92xHuESKp3S5M6GXW+YSEiRrLzFN5BXY6wlKp3dMHFaBt2wN2KQBqGRl2UCIk7gk5vRxd4snSV0mCfJTUBuDKk2zgvY/iZK2xUSMwp2kTob+IW8wz85ymLD7IgTvmWkiQ6UjAmb/A0ARAWtftIiE6zk6XZozUYnKeLS/7f8SHRUi24pCvcMvoZQCMAbU2sWSF8WgkBFb3U1NcQqdO2V1dchRjYvLzi/2BkWlEQArHpXNfbnpbF8ShPwR66u0ixgunRSXMRLuxmUSqQDImJGgf04jx9pCH/MP+HsGTRevyxGkb5gWG46jpmnwpbAF7spDcFFPuDmYzVW9x/Fv1MNQMoTcpls+s1GRrIap5YX2M4IEXhuxf9N2iWrotQAubR9vpsSgPUu/cg9usQaxdumsoqgEzSL9B80zZzjug8vioZUdBFcGSrjjE2XZH1UZ5YhDzSlmQu/jgehXgeeWVp+bgRUm12tc33tP5LaWGsg6Y2QnrcBwdHmDySbk7HTo/aVRpY3sphW8YWXsvslgulzyzK3T3jP5dq6Z9rPfQpxnRRzPoZIPX2JbjfvehDbf1iTUGrQ0HKsSmQ78Q1f7iPXbw4VQnCo8LurJ4vBQhgKvyML/lAqjzB20XNCvH8OOkKWSx/C+xqjPLg81JBoez4e0mpYFSdwLgGPsLg66fatdCU+ao8rfIgRhKn7qVocCJiMrtewR9meoB52fKdfwFxVrGk04k9n8SzoJwpma4rPbAFbndKIheML7dDiFWIUbSbVDEn+Y/sF7EmDggSTPfP9UBXy7MRZnN9guL+5iy8mRKBtVrZm9UacElZCe0orLfXldXsjp64ft2v9XGdqAPOtYdhb++TBVkdykcRJTdDKfPHBauVztwSn3TZcB9m4iqCKf5OG7bDOjklGroiKweMZwBZ9GS1CGwlXM6qz4uVGEcfuIqHKmBx/1Go/rgTHJ0iiwijFG6cbSBZp914xxVdYb4DKUCYhXGR1nt888I45L8eH2rGCzPPWACMzjZDcQQWSrL6OFKn6sCy9Bsl6A45tqwcB5aIFhOEq9i34dT0fv9cr2elokDAQu/3XexHX0Rt+iHvzkpSYV6olm6RXde5Gv9J5uGXTIz9jL8kNJP1tZ9oYJMy9gSgWu59CBwv6HV1/Rxje+0bZz4i5CbJLxjzZ1AzXhdQRiYxONoHl5Cewfwk3A6yllWXSHQUiYM2JrZprKIffKvg6aLJ9fUwg0r8sFAHqKGDo388wLYWR96AynwF0/868oJmvLTUKVAWYpoMw3AMHEg4LpjODK6e8MTABaE4oKuGhiG9wIHrtkOZBQs77PCDBtViYcM/tfzq5zE5WhVucC1hXXeA43gOCwA3rX8Xi47tfkRv+RkWtnWZD+IOSKfzWt9xA6L0XgGfHk3sRGk3jdedMS/d/dVrVeDPOX7eMB9jaL5UiMfDAIvDWOTWMlTGAnJl/83wJxEIDmj36348zo/yETrqG3eQI1DV+ANCMARWMzXvIwuYiFqERj5gKQWGNogA2AdeI4eN2rMA7rxp2+yCHX637JuUOakMZrGVEGfDOc/0Tnl3R9H+WUToDZu3ZhMX8xog7FjzFR02umosfAXH1fR2cq+0QLjWfPsaPscOcTO+2773aDy5a8WSm/K4i/PrQGUPcuqctgyeDa0w6cxHYDOBfPCn4iimF3UBdMgyBatrJRYHdfkaVfVRTB1N74Xyd2fY/2WF4F82Uy9oFnPA2+7rLhlyZ7A4uW/FfdSS/EpPY2QffUP9Z6un35BqnbTnF8tdoXercDcp8lzTo4HGf++jBX1eChhEMQQVwk0tClapAcFYeArIG79zqUiOgnhllFKTkoclkBvfPEzkAAANyAZ8KdEn/XE1pj1wPneV8bgFOX651uXZjDqzPsmsSMrHVFeBBMxPOfF/iG33QHjhPfkapI7RPIjOICZHfzhCx9JRFFEjdXFHgecH4AIH4y9wfDHyiKoiVQ9AdH/m5w8i+DGaf08mdWkczFsPfmxDVKS7GQvzK+xMcdZqxHEwkwOCzFGoYJRd7wqrwzeu8g52+fpPaeljzYghI8PZp1aKz2DTwvuFLMvDwENhj0H92fcZZEK8yaWu3QbqmkmgUozJdioGDuvPsAFfvwac3rfszZKPClTF23XAVytjxHhsoNnKNyufEjxhc40U3BrfEQuB4fkwup94/IQtud/IGefSstPDaWXlc2a7eTjXy555rTCnwv+KyAjOx2iJuFTqbtsZ8VFSDDSJOmblg+fOrdo3SK1RHpHkEQLHhAAIYy1Wjp0A/AQmZjWToNDrIYsTuOhXahyeQw1Bun8PWA0oY4fAVZvmPA4Jn3OD12bfxxCNuDhMFGr9aFG422Tz+XtBHTCn9jPAU2p5OOKMdpuYJs3wO7OyLMRuLO2Krb/B9U+SaGrKlSkBqz3Co8AEHi5hgGiYIoG7uDe8zd72MJvd+axl4+IEaA519tM5iVSfTLsR2Hx9SR+jqaqlx84BDpj5T5lgR32yBr0+3ABfj4VdhjgCEFLxsTZkPTHeRdR9EYsEd9aR9yLTB5+pgNFElFGgEsBa24zDLGZbvl25hj6Mb+X/p1f3G+ZSq6BGEmxaHrIszKlNo9+gh+EPiC/y6gbXI/5f5W3etWFlWNjVbK03K9FnkZZ8ongMboRz2GqF3e7TAfF+ztXoA2lFcS7ILyWZZ4lSb6OeUT0KFS1zYbovJ47TzqlzL4rsgpc/79HSyZrWWUt5xstc1LFCY9S/4puKxgTmvGkg7E2aZhW/meMeAVlPyYiaUsdKTQLkE5BAh5yRRjRjt29+Vfof5+fl0MzfemFgeX4Y+Yj8QlGKhAmKz3dxzcocE9LQtWw7Nwq9Vu8dRtAkI4aYh/jQRxckRGCFobgQSLPYifD5ocRZDS61twsA6NWuarLys8lPAq23HIDEDX2Iwrko9sAN6z/uxJbMqMSeus5ECtxPvFr0EYUQzDS2lTxFnpHwGkgfcX1S3TT06IWqnZLDuHA7xMAMHafBZurfJH34A/5cN25wNYIdCONJ1RUwQAAADuwGfDGpJ/1r2AldpPPmX0+dx9eYV8TWTAujE5J702hfcBJgGc5hiOVeRfxvzUCAq6Xz9VtPp1kunP3OjAZpMZcWpTPgwYFm3Amf2UIBjEuVVSU7DCZyI4TSjm8IvmPj+/VUSelq6II8U9a5kadQpXYrU62puaDhUwObR0uUQu5reeGozmWJowPF3OvJj2787pxzTNu5XGeenpaYEFgPqAhMXJEHBPYVT97AFs/AFAqYN3cvVTrnhQAPmUQRLykhD50hRyTLJHKwG6J9vVNl0t+/AxBJGMTQF6EJ+d3RKJg4HUnIP3ehqLrEM/iYltw3mBJ7s2bBKux2/neQVsybg0RfKPL8zxPPgl0GAM7FpdWt5CapqZm7LpqztAngJWhOER46rCoZtMAB0ubPWjysT0OUMUAurO+XM844XgJZnJ9sPW7bn0q0qM0Z2YWXpYbh37khUw46YkzHJPUa6M8EzJcyY3GIMiiHjbhZKXyzn6nqLzM5LuaFBQFobvmQOQpJBHvUesvODBQLhKtjlHCei/dnpEQhX0Vu0mtdDM66xfLsD/Gab3JLYqTveuXaGglk8mYR92p3cUo0b3eevSfOkHewnjEHwu1/sCgPzlCxqvQXDuTjFgw3W8nbrGcjP5oRdJ650UFVLlwbzSRYfC5bRkUu6QPNyfI0vt4sQy+h05KhZ+ASrMbZKRQcHTdJgGv50+T9eGgS4P74pB40uNPQ3tt/KVRsYUfHfCAIb44DHgYwh8j0EB5lNEAtpQnSqxriHJhsoJWgIDwYYk3uFG4IXkQHAirLB8/vrxO1QA1lZPJRpX/UDH06L4E4oJAyceA5++AIpj0cstA/f3KFZ9X6h1kL5iPPkI7t4cEV8w9/L+lUvKFtJDq5o+AegP1XZN1omeHi3mpmceszwG4gQe+MXjgcaJ2G4txOBGPWNwsVSRd0ZVDEQu2MqA7Hw6wsgC5AZl5PU0zNdHj1XiSNt9Foca7exRXUdwgj+jKVgeHsBQjU+m3W5nC6qVoLTXr+6l+duoH+4m8SNJp9NJd4dROh2uVGtYvVBRWkReWG0ePs/eW0IBFOfWpYgT3e9uUYPiwX2Ramx/EliCoHmqEZ5kR/Pnq6XRyL2KsXQvZiW4GfyMJRw/CFUMME8fp0gPJY7K9KUVCRsY983ui/NTDc/f6f+7eWtrq0vlSHLMGEaNzGy4guZLd2LNbanXq64HTx+Ow6aYqM2UFr37DOXDyCC5/31BzK0e1aJIHys0OtzXiWD+aGXlamDhK6Sq1JauVcAAA7GQZsRSahBbJlMD//MTAR5iHLiGipzl0NSO7zQ09SD+bCFI5cL/JucJoxh/H4u2cWSxloyBHGU7GDkCJKk57jc4BHbP/8jjEowzUsy+0GLunNiaJzWr5PSmYpoLbOa96UwF9922RCc43IvtXV0KRGnn3U4MPVjecAa73G4yXZ+xxzpDEHdBnzVhynyKMVX+IgGLKM6XB6dOggFDmkJquB7SBhzQuQTBwdH83BzvIqKwvMypgzB9cJ9DCV/6WJ554MEjpRatqscKrPV7/ohcnFQ+6kV1m33NCVy6mZ/0qViyTm5Kq+ojyM31yog1pJ1pS+NP2htH7H1vIjRgHGGBw8Ww+PC60IYzTp47fAFyrJCvEfcWfTLCZxVia8667ZcnbCZ9aa+NB8fHo/wEmiUNJ0qd8mTjixmJt6sG0k9fmgxFDNgyEjb+eCNfJT5jjHmmOKfJ3Wgz6xlEKcaDk3uOoiQTqMSIEHFGFnrU/338aWZBHYEA7EA8fsxiNh7Mzs8QNmXzt/5xcB+dDDmoTnE/zQ7st3yG6kgGWF//NLpq9Pk+ClVbc7nrO2v0rtXcQcDOwjLxQC5EIZcKefIMND3Bl5WwOn280Fby90i+ASCvpTn0cztjQRROWrlc5cELrc8OV2wxSbD7p0YTZvY9/Nx8ObLtcQWPbIr3KS8ltdeqI6N+HWvuOuSdQC/vB4F+tVwqSTtRN5cWHWJsh7M19mEz+DRj718TC05+HIDRc+v3/0pyPnXGYRZZizJR7/I+5HCsbBzBuEAwxVWCLuyGW6exLBcKhjIeOwq6VNCr2dJMyiR+sc4ZHIPr/Pvpy8MmiWR9Hww9oNy9qe/40a7hvWOtbUsZsPlazmaqF8YnfCa0Kji0gJxYsDnZVKnvRnXv/n8iEjK1IGlSI5XfejxFaZ8VGOkkLWGllaCkyp4Cq8u3QuNo92XabHbpE3AjrbJjqYFN+FIOaDJcvpmGVKrXqWfgcbrO0i/LdCUKavqnAiCCoW+IN2XCr6izaRM4nSc3uvtrKn4Oo8sVIgZb0tcwo+7Yhrce9Rxq2fSOkiNeezmEg2x3wG1dW94WPtZS8MRFp259i4EXgcDG2I0gkqs//MvO/azBw3nbBi5qC7BkScSEAhWLkP3NFTq9HoltW6LhT4grTj36rDv2c7mUHwbbPOs2bPoTljRdFCKEei1gMHBSSaFfTM1LAROd832V4qhTD9R6JjsowwnbHabbVhaWa1/EPblwTIoFMscoVI/mRG/JsmyXgAPpc0PFadZVdv071tXwBgjYUUyzbdLw7xM1WnT1TjPfwEufE1uTlR3M51XQUnY+JjwQ8ZyFVboSQuWuPPTDhB/CxoyQo57FFUvQ1bSn5RXhZ/Ab4rgAKsqjde3xh28em9TwUSS+/8x7oXD+MMnhYiQlnp4ZrjbZoK0a6VcV5Nblbrnl02uE6fGs01GB3MfsCkpNcUqLapbMXOr+5ojjP/GbovB1PPpNYzNayVUUGZdJVZscGZ3kpOHz/Th7p6UbNzSI6pXeXKLyNQfBZcBC7BwIifNs1BSGY4Lq/mzEF5+0/v0+4FAEvy121dQnxuxfWeNqei+edaxC5RnFp/lbBDyAvWzC7ySEDjFuif6agVLfw7SW3hn1+nXxoERpAf7mMblQDWySPsF0/OM2mJls2GQ1OLSXf+ivQhdM2t8HsFDbLRT70GQugloZO3OqtoJwwzzner5kQMn1EDfzJU/V/GzMxpASpU6/DdLsK1Xb/JyKMC1cz8GbOv3jLXFWoaAJefISvbe3K8rcCkMR3ZgLsxvQ3W/A/Y1tuf2vpo6WmWOxONknw+vrmSWrBesWMAEhDNyUoegaiJlaSUIrJRp9g8xvC169UOwSrXdRNEc7ROYnNZQM7AcGTua4aMfNEB+MnyF5QqWnj5z/32+CICVHjiGwaaBnb9C7mBd6KsyMRvSf3RCa4k8dVHxBcBATxtAfHOFETHEr4TPIf0ORr4fMAHJBMB44ueJWw7fJtyLTZOgUr7I2JWefZKA06m5sj3VyeFOGYmqD4vJynNIobqpYCatDBRn3QF+gneSQ4b8VG+atyCd/jQ6YIooRp07gbm8VEDdBpQLC9GXXRFf7qC1myVnYjKBtiDocsCIgEMnDDN70koH5Ns64HsLNkiOi+2Hu7lopCCcBLLlgUESmLGRcG/5wSYVqqpSHnpv1PeCFEYr/km2Pr76yj/SJc0X74Wg67TFsTgBATduRP87QVBaw8mfCEDGtNSFtN20xeQsCN9r7bHjM/MaiyocEnrfHqbWfnfDHn1cYrAgooKGl9/C5YS6MfC+NE88PLqBrCuva3qepmCh74aB8iN6yjwl12uUlhOoJuhOzThMag+QkgpS8BF0A0Gsy5zFneZD1pRt2wmLibGvUu6S3pniNu9cHCLoMTKB5M+4VbkWELbpKGEsWrk/J/5nGbK5K+pOfBzlXeTWXY1MZsLE/vMgoLwalg040dXZTIhegwNk3LvMC93brCAMBUyByWBUZMMVDwEQcgpXfRK4LnXj+DEEX515yTsP2juUpUtrYxzh+2Bxxo3zHHypUlsi2lncup7OooFbAjhvW1ARrF/QIj+Rd+zd5XNjONbOhj9S5aBurSo1EfvdHH16zvWWYXDuClMzYUZMajlC7OPr5NptZwplSVINXNgaKKvy8lO08SChgZh/uBszAGqKB1ot8XIWQlvH36TgzZd6hu2ug+7GX4WFySCLhTd1w+GZ6g8QE1MMOMObjy09SAux4Lnn+dFRROrBDu7HwSi/J+LaMPQbSldqee+hE1jLwSasH7DY5nTtcAEyMySnCnd1O3nbv0ZzV3c33RdBp2dc5fCmF80gFIph7bVxM7JqIITv3JnM8bYzp8j549ujYNUw5kOOnONv6/FsFwIDtNf6DQHL5XTPD/Oz/mGQdFxPsNCjNkzn+UZ4o+Hjc4E3Xno8Lms8LuP2B5vYlYAT9eWZIIMrcUhyEmotrcg/btJSJIeOId4E+ADdTmkb5rkIC0ZKV8vftk/0YC6qjoqeNEyOmtzsulRuEk3Z3JKDAfiQUCaDUlzCeG10b+MA9+xMP/f4+pRDN2mdRRzrRUZTteHRr4Rlq20hd9+2/+N2JmEWTGxrGtTFtN9GkVXqUdMM/OtmROd5+gRn0boX01UB0XXxE48C5cBgg1nsMOzXKID4LgXjydrunS+F6PjL2/0IaeOeY9beGFmjCARB+Y3y4K54Msm42yeqSU3d40ZEBYFeWnKh2D84kSFCnYnoKrKVfFbxZoUi2uMpn3jARZ3HqGPI1uZlia6lHFc5F1rVCP5KJCPntgFDha9N5MFwSAxzikU52IPjsaRUbZ8qZDme5HKcnpA+y3JPNP7CYIL6I24F1rXRDXcPlpstYqAeoB9A4O49mWnH54YEQVLmHtieRv9oMc6fCtlUQGkm5DxYTBBOit+M2Xt4m4VN6v1IuPPqMyNsNEgvdLsPNdYegKAQyt31ozHxrj+1HbCHO3iMdLLk2c7gTkTCQwvRhbZ/itfHO0V7aYiJFtxJvWRoXkciTYeaiz5bHS23dRfeFDhgcFVabahO8dAKOfP0NeFg3hz9tbE2oG3wq2ZBqmfP/bhdrHZAk4XYesPMUpXN0ieUnd/IaF8gX5+9wZcRg5s7Vy29uVqAULpQy4uPeRyWMQWhqFGAWZiYsxcHbDxbRQvzx0jnexFxi+7HDBBO2ertNAEN2nDvPCmQognbj8iWD+bFMAhGISCJ4IqOYt/CRd+mBJ5qiABJN42lTdJ5J2xcsukiH4/qGuAcLHfQK4H0hHDjeVpH6HHRdeyKWeJe4uTl31NOsDNYBE/l58LeFJT1AV9PP2L4UHIk4DyGt1ufElHgBU6WgS8S/yTpYKgcylWoFFOSPukSkg5cXg6d5H7AO3XJKvL7tpOlgRXhGpbgl+h+oqaj3dHF2+UbUfvmKvBU+VNhDLIZ+alofRRlm/g8SGW5NLyUoCRnTKs6JL8r6mbci3hhASZsuim+SF8fPZQbQhH8Zrl1A1EgzEGWtmwcDrlryfgdbGlly30Cuds9amK/A4E3a/lD3bn1v7/Of8WpZz4GUEn9cEdwyYBCPXQM8376POLDW2FYxMqNfFWeX8F7zswB7rzEDbVsiodupymdAPJpiHFaIfaBxSmelm+k2JwTmJCWV6Ww8s1V2zpLTPVYjMsIiZLOcrHYBSGj2NB/UMnyRi/eGtiaxhQN9GQDg+xluQP5AKySMpD3YxzlaSVlvLD4Kvq3ONpM9w3Srxek4nLauM5koC5y82zeaso7REmP1jYhSYqRf1oDdPSSThSLn8tQjfKwxzfqEK9xXpIFVPg0V62nwOS2ibBk9rhaqjE4/Rci8oFIjJmoIjLXQuBS2+2pNMdJBACxThtTSN8FgOM/TG74YhxKz1lNhf+Gqhr0B/lflFyhM80ZPp0BljjyL98OLXZEjE8sXC0sr94pMHV4cRKh7EtmZOWXyCEMj0vBXOoZUTYtGNWASwkAL6HxYJy3PibLHft0Sb6yZt/BSt/xxTcK+BSbIoR9gWjclJ1EIStbBuBcZ6W7xF+SPEIwsul/cHOuNJSm11LmuP6h29l3mcA073LZ7hVKmO6WrYkDbTiVPj7TdywNx17rLq3WieC6gycvnvVNoUPO47nEypxF4rZLg6UaBASbVLcmT1ugo6fd9uuz/Pc7zkiF2CNRouCjw1ldA8Tp/bMbparGBRxBT+OjxeuvICDjEhfPuujwn18xKsFASQQ3Zq5s4dDqEuepSzPZBo1zRIAf0mUcXBaSEqATCn9a4CG7VBAAKVjkF01um+MQWEDkJc7CkkROT01q1QX1sHK5JquRrUOxjPtkh2/w+d1Kinv9LbL6xDImNLEGNWsYd856aTfUkWAeFwp/vkpX9TsL+Feu9aBUYWuHSuXOlZDN/khl5vkJ2AexpxhGry5Nrb/vrl1YWZ3N6uxuAyTDqzwxYI57M85S3afnRGjTn9/qyhsLb8HQuza7hYwiM4w3grJxMlWPpDTufNJatg5FUDwDYXsVkkdMA4NVwyCx1ol2DN0AAAmKQZ8vRRUtf9UGLoWwfdM4E19jEYm1CPLdS4pEsy4ATPcDepgXsHbt1tO0FWA8wZdpubPkDZnI1yMpW9lDlZju2IuHXu+aiWR+9CIGwSxA0KsJorTRw7cR87BSvAGD2KRCpP27SNFvYC81zjRqsBqFn0Do5EpmQI1PRH7svM1H2cSryMMaw2ENoVvpoZhUMNY8Gs3cNJZFpEEbnxipDeir/pmgH5+RMLF/sJBZfCrTSv7huY95Q9VMjw41mIZvTGgeUUef5tPD6TgjduXkPgKYUjJx5ZRj5lkGA+YnUV/zHcuxpYzxcqeEMFddWSjKMDJvjQAMUpzRkQAdiXdhf2+KPQJxP5q5xhkcdBJQduZURCRsQMCWjJnCGuL1cmct87j7S5M/sYAR58Uv+VqAiY1HxT3faPSB6ZWiCZbboLFSMslvbA+hvK/hKCLP6EuHG9+6MsK+aseXTuALP/Neuqwnx9Ufagir5eagmvzpkN0R01cn9M5BEK3AkreYJooVAAFHh43mC7tXmntPD3ST5W83fORiRv2bAlJsfoopqbL/cKINYkHrR//4Re2gdNlEbbzMkP38OEmZXq91z446lNctuh6lA1/Y1IjiQlbCS/wTRUhnHBsNyPsWWTatGimntOxTU8j0zmHrit5Ky6TclhzdkFBfTYtkjycTu5bRHg2+8n4ox8MLKnnO3u/Yp2OlK1TUxfh0qkPBUlIDbq9utQdnadQfy9G1msrK37LQG5EAlpNmTKcDGL6Z5MPrCCvlzP8FBU6rkJVwgBz6DBsCfro6mWf3gI26D8/ydqiXrfOnISIXeEudnQ4OsGnpGlnmj2pd3D1EyETDHy7QjmNggJVTnokY6YsJzqK9zcxgsInBfx3cXeWuQR+ePUvJtR4gYoEKu6BQB8bTzWU7ba7XlDur+md1M/VvsTLeeVddqXwLGdsuaf17eJi6LYVu8SQbxdMR/l7E7cVb+XkiEnfHa6S7XLfQ6QPDqDvVYzBZDYzSD7o+6Mg+0E0HuIXGTPcjoS7PcY+9OwhU24FmuqOrG2x6QOVZo23B3mmClOyjLP1ZHPDisRqN5UHAKwczpDNsXqpxf7kyIam/Of09zgco5btSLYJS5FtZPR9HDkiQQ9D/Q3f3uqJLhoadUtYsBwJkSA4YCQuSjGcQnaGLP78Mx1mg8Lge39fGx8dTTToh+UJ8cxeRjCDJZYjjxsAm2VUIo88oo1JtDLktX+R8XRDt2ItQVJaH2hFPaF7O+a/+MeGhYgWs7uA3AH6WvqEOP1YF6+F1CpNQqFIiissBjUo4DCiE06nc3cdNXGvhO+M3jfG2c5MMLwFsH6ss9+XI+eIWzLZuPIGUO8xRz1OMzSVcv+eeFuwGJcVTwCeQEzfNJRJwVvIMwZN4O5LSnw3rIyqFPqbl+Fc0kAA/oUz5Z4/bVh/utPoMEnfbgQqf1ILsaVOBSdBQOQvAD5M42QQ7letemMG7z2eWz3X8dF94r74JrIcG7VjiH/PFo7Bma/CpCT9B6V1m4bTwCeN3F39VL5N02fj2664fOrDv3wAs897to/ZiG5114MuchZ+K5aJiFehShxcMiUWTR4tP6GQfMGHdY6gGkRQQ2JEHus6fAzP5OgT2UewVNjFqdRHF7hCMVnZGiCRZZXEboe2cY39jXe2D3m4aEutCW6OQIE/K+IY4b1xV6rSht20Hek6XvrNO3H+GiA7zJOQoF3xjNqN/ySmi1IzcsgtW9+kKHfyqZa0+Ur2SoFT5+2cm6hLUGJsrLOD3AyEL6osr/QlSlf3Bq+kKyjB22x4nZVhFn62+HTxWzi6jck4BT6Jb33pgnYl4gZcTnwEKZgYL2QO9Pb8KjsS09MLFF6gQx1aNDZ0o9h7Jh3iplc96LqMQ9duf28L9v2vGUc8i80EEkE/LdPeMHvg04veSPufSpIyfbKJuOqWE+wcVbuLACHboNltXyISWZve+nM7m5FbE729Ti2iHXPGtQPoEXzwskdTqceojKKePw1jeGMC0X4BwOQfAcxCSxkx+PFwrCt97TAgy25I88UDGDW3df180Tt8VCzA42jKduefA4oCifJyKwcTAaDRObXbc7n0ub3JOIt4vvGjANDSYooHr0Xqg+ASmgWZ6Ur9HAqwuwLVNObkgnv7mcHhjKjxILaYyRQlR/uNjstxfEKE0aJpIoOXcdlrsd+TRlFWFAbqnyrZK9nPDPKNEtv6w0A2XpHLnK4Hmr1qt4OqSoCH6lTDXVI15f7j+VJWd9hiFAv6Gs4vDGhmBy+agYs3v0x/PBB+ZGf+ALlu+GmMOKXAKiCak8YmbymQP1yElzUcFb8OZzkCKRH543ITrVsAXPVDAt5nFy0XsLKkRsSEKnRnNmC85xdCu6txn83A5Lqkh+1IvWRmSIvbeKYfszzTp/EznBOtKJmI4KKvZLEOjViM0OMU5bx8rBqJ7dBjQwtCis483N7KmXa0yqflkfVLuaRYBjCzijx/cv/8M+AKqNJdYkQmetRJT5iih5jChA4U3hKJ3+ESk1fsO37dET2yTt3KMXSFtU13KMBArdILILL/ZJbertVyixcmZlmofiFfGiflSpb+7zbFSfj1MjxACQOKPCIHX45yIDQoUMusvoNOGQiiFJkMzarHXNtD3vcoFJELLVCKjFRSV+akVRftQjhLs2SO1SYWwdr8hg2ecV+GvyHfBoEOjtP+w775Ku97F6wRJKKivBU06WIfOeh8iHOfIyWN3b0tm6fqrfKlYoA6lq8nzYm/uBP0xn1rvRpnazoqAx8t9DHFLNfSeYpUhj1eAOm8P5uW0FssQtE7C6hu7jxzshB47aTvbAsiQx1vDiR3x8Qmr4gRB/CBu5rN16FbnePmG37afxvBbzSpB77PbOlhgi9pTJfpJw017g4JCC+b9akqSDf1tEJLoRAdnPJxXo4OKLC1ORfyWx80o589gezvCcudkGs1JKBgByRyjECGuzM62BZG9Aw1LLkIrES8nieOGKtDK/9Xcz6ZW5vtNwmKdC6We/HLorSDDk2unv5QnQLGWTTBGzmK4cLfgyxgf9dFbBECcp9fCxO0fCpWwHvEkvE8bx/RUEuV+L+Z5Pcz8XSGnn/9R5+MIN4aEnqc4HPSYztdqvgbYSR7IngmimPiO4/qm/4jkZ6h9FCSSk7T3AHdZ1NJpt+Kvw/5suMyoaaoTiIMeMWFCk+okUsgcBjgwTwkJa05fLNuPfkSEty09dujOQpk9f1Z7TI3iPtqQyrpy90a5Rmou8VnBAAAFqQGfTnRJ/2V5pmw9e22ToBvILHcnqGE1W5fh6LBAfdeG0LhplApq05DweLAQqj7JVfRNPYRWHk2zVVhbgMEz2K5du9utwSZwzyJFEzGukxsdBjMEsDqrkyZyH6iDiNY1DOHOdHLNQfdzMKmLMKS9m/wvNoipz9AaDs0FcvVq0YaAI1e8Y1V2vlJ/IT5tYxJy0+dza+0jPPA7hOusAMRcZj2VSDgIr5tnkMFDhsoWcbTs27fd1dOK5Te2r03Tup7JfSiYuf3gyagORbtPt97+e7F/NwPCzAtg/Bk2gIx2bDDF+TEYGSr4aAgx9C4nrogynJqCz3ocjwLGyiR4wAy8ocej3pATrPI6iYjvhvbT4abLQtir8eanjm5d4emBjZ1tLYCmU9DAV5WQy6xz7M5HGRUScO5OvzoE6HqtDGcK0DQyvwq4l3BBwzBWRoCNiD425Zn24IbQefQCxMLC9wDQUqiV8GALf1iONRTYFhGos3HqfqFKdoAgvAw1sy81PLE5zOQF0ORMIoozwe0Eiq7CytjBl7Ao7TLAWSBNNhH2Pg2FA7HR+1odMcwnpAr2jmtz6CNc3Z1gSUxCKg87DS6AgkP4eMkryujTqkSyJCKqDCx4lR5HDgGJLmnt/8t8exosVkSjbiFuYhtSbFBGTDaaGBnOWRRpGjTp/rB9l0nxd4haTRA1W4QqR4jGnl3nAUgmJMENrsFcJbKT9jiJoCHvfV5i0l5+5tFh5U+nByCv4Df4qNyM3rOYoQixv1qr6tb+9GhSOrcycVgT0mPQ5CSSQgDqEYBTrqNOhdxYxbhZYjtar3MsCExynKH0On3nl7DsBAR5Hn3oqAda1i0NINFQPTA4SjcP7qq86+DOUbmDph2QwAmS7fmIZFzJ+DN3OezDn2TvAfry8xkOlP4Z17Ft1KltdEUqWKFJUwpVwMcu9r3exx+db2beudPFmVz8cx/bHCCB5BheIZ6Zrm15TD03+2sOqNG35KPGMlv9GRHDlA6EvtfJRCb0RgDkqUoZ1316b4+Z+jCs0/Lm8ftrPcTev0VbziIu8GAO06M1DtATExjmmO7crBNAE+2gyyJw00CufiApqKvXCd7CiiqTur2b+EX/Fo/iRzvJQ/HvNketvktlMkShlmcAWpEOfe+M+k8g+pcEUFeh/zD6Nr4Z4zyYp82dqTWUo8fs23OkD8vH+rR+2MTAg8jUw1KR/tuO2CGRGZd93a4fC7bPn9j9AZJOkAlHA2a5DoI1T1I8IbcE0sg5ulkTfE73jJ/g80+mX676ASGCZWcnPipYBwEjfQ8Xyr2jPq2KI9i3CiZBQk/g3wSiMhyZDJqDfrIiONpasdcCV9IjdP4r1ZjgdqcbHHbxZLJ/6FHOG6Ap0TiA1a75bfKJg9t4OMl8hNs1H3QaRP8EzHSd5OlTAWvDOMNvV+zS2URGdFu2gUCHdjp/ilVri5Gb0AKIdD1z7QB150+bpS0Gmr0Rv9sgg4l4QjUerkDyzkBTW2r8Z7NayjyuZpgw5lpV2zyxn1cCxIfK2tftKmcnymdvUDYvCX428Km+hMNswz64j/ovXITwiQdZTbkShR8l8PM6CE6eWwQeEZtLHPcfgNvU5p3BX9OU22KSi3Rr9rr4lbl+a3FwmN7HHh7VPOKVl9vJA3Jtm1CUg/cpr5jg8nvr/JOV2AtH/CgiUP/IlR6IwsXChOZpkhTe+hXRbr6oGKIzOUueUUpqcijRo8YOPHz4Px0VtNJw0trF8nJNXPk2UnRQcAzsAbxERdjY0p0bmZRuDQ8i/+QO2n21JuM7JUmp/BtWtwnQ/qdJXlE31lC+25DSF4CbtKEzVYIH/iXjDknC9cniARREtprlXKuLop/ngSZDuDveW6zoFM3DPEQqKN5PLIYk0ZjthRNN1aA7VpSumHybarW/hA+0lNOlpaL9xctHFJvRgQAABhMBn1BqSf/JCc2jDkFQWzAPRTaJMPil+tR4p+QEKrI6Jn4HzkPkeUqO+jXMUl2/igl+EpDegpsdbiTH2MU8cynFBrgUPHqrtG070HmEUgd/7ZywnUUgfLJbv12MtKF0Xq9MMuds2c3dp0p0b3Bj4iWe6Bbx4FEouiZdJsXTKHFB8uD4BD0+oFukkJtEYsTkF1CIj3CMSNlPaC9CHeGFCchCdrCfWTyn0DF44zrM2VE0vqHdiYuYT20sMnqSsycCbubGQzdfvyHZrCW/+FwnQ10CzURO0U0G8qod9soQVwNftfUg/SuvNviRRqXEdgD4VeG5X95IYVHrdGbV5TE3bRbJOaZDqwaVexzHKwOjctRdRDH3ZycbCTfaVfS0W76kYKOcQYIzf399UB895zenQyMLxhXdb4cFQMwPWeybzUHtwqWq2RATanShm33K4cJ4U/imOGai2wlLejxNm+gwZ+z5jyUmjK4fZ925F94HvOZ5Gv4IJF76MicQjcQ16oz4rIFcOxR509x3iqFNtYYTbtVC4pw1iAgBff5zJoz75GQsnKaqyDeaNnH3UIaRYAEe0PoL3a5SwjSroliakC1muIpBFGLR7gf4iOhSCMLyQH6EKE572zov0LhatmBvnFhN+R2Xz0j8b1BXB1jQE1SH0zv/dXKKKaVPqRsJiRiDGLqL0mZIO3kuHwb4ismStYCpaYyTfvAzyLMDxWZvUue+82/0fFNZhmvpAEEbcNuQjycq/7IB1wyuZJxz9LgBeNbQGeWe+eDy4DgkQMi51o39Y5uVR7j56TP81YPrr1xSIAF2de6YDAdM0sid0P7pArXsHKALn8aDdOAQMl5xnsdnZvoagMAPdNCiSN9ZAwR+6xq9Yz1TkC5JvaQtQ3uUMDEPnwIWngvlU+Wbdh61CloLFeuGV/s7R6t35PTfCYyZCvwj9uKDwAzsmJOc/q59s9qhB3H1oVY14x2SRz1/LH7XSvbR5SNDRKuCvSSov2HNnUKIFsM1e7vqQjBD3UA0QLofhUC7cSRa3MnP3fQfUNjoOxQlHaJKxBmhnL/zi9E8LBCO5RvfUIM19uGcyyimLV+QYiBmql+miKqkPcKT8slH34WPXht7GUJ76dNuuxuuNWDpTEvqqpANi7SbNaCKvogFPIBWOsNmk8BlVVHFimaQRWamXdCgIx0uxRTNT9Un8gq7fR7vWWqGbgB9OJ2SMLaszAdGieoGGH+IcLnlz7sYh8MWC5v91D01srFfCUy3khzQ50LwQXcFVf97QHgq8W5QyulWlqpgHuyLeynm0AWFhmR9ob62QAK3CamYpeGztLfC1RdtNQYlQxYg4ohEjGBjcUwfdRmQM0SCKSkBbSQaxJHMZwHitC5txYAGdJdW3qtTJ5jz1wHIPxED4/RXtDOfL8/SGgxTu0IVpM3ThR+2QF+jjxfRCLZD6EK4GDz2TYA1DPjAxll2dJ6iMIAejELz/IvXZSmC/Xgp5WiVRvhvcaAM+n7mNsGsIGvZVuhrFOlP6wTeTAFKUY+PeO+/tpNbt6nF4aVFZ6YNXJ6EpTr4XDE6yCeQ448sqL13brWcnXua2RhIAl1jGUiSnGet89qwgISrEsBwjYw3gr7BmDfiNIE9GquUPjs2rq2YtdJsU5/Jd21cHzImxXHrFgOAI1dhdqdhvaSoCSDndEkj6V1wGeUraFv3/11TgYDmCuPoxxnZRoX586AT+Q/qr2BI4ELjePUg2CRCUdf7XyLrcT+qV3pSIldGMDMW8pR45YekiRs3cXer3HvO4IcH3R01+5ypExWOhaxdRcLYe1y7PuA1VhKofZuawHpo/W6YNe9ZRwFbrfqqcG5P+0D1iXSz4CwPD1thqwvUNEiWNXl8Boxl8YphAsFFdJZb0+TJygE5lsdbJybnyVwOfpRpq+RWQu7qpK/b2TbV85tE4O8qdBOTr26TFK8aJUZ73/HH6Gusw4ompggOt8o47vJ0Uv/Px/T9vSem7cg5ivC4IjyoxEg9Cxwu8BpTAkU5hS7eV3aZ0Nw3qLVyBk8SJSrdn57fzVEYKJr6K653sGdJy+jJ+g+9lUWEL3i4AAALmUGbVUmoQWyZTA//uwhQHK0BCwJqPQqWg3kpjqwcCG3CaprCfuyzyxcR24ajoaWYt/HbZjrLt1uNmj6ulFeLQgYjFPNP3WMo6a19czzia8+uVF7fl0sIE4Mz2zUFi8lDPjKHEltbhTMAeXcFxuLK56HMBmCn8wIdqs1i+KH5mbGi2SSIV2tGmmIgk5hTgcPu+SuT793nE8Ii7aok+JeEjTksiAfkuBmn9dOCMVW7vgnj49WpKZhQOwpATXrOeS3uoy7htmysUOVWCefofcmtWZ57Fl7OhNr6Tkj+gnvf5sSQP2CEp+nKIEmMtR1/f9VTNlmN8T345SMDiKdpJYl7QAQFgRL6qF6wvWy8RBfSH9NhZ2+TJ8zd2rQAVEKBpo9gQL8huHIix1s+/2K3FaGKmLgOHli52GbSDsQaBSNBcI94uwKWmQ7ArefTB1n+t6WpD5NGVBiaHbsYYfLL7oWnhu2F0hQI7hMUK6Znysv55pjgmzDRLTKNpYnDpgkAENAY+vRTMP1cPo/a3+vPZ0hXRt+JdenAM70yT7fzJ4iPKcN6V5qLhLQ5Dj41nKQSSnLchBir4/8rWZ4h5O02mxCPiG102EUWhcajuddPsIze/vNQ3sz5FtNDKeuefclO/HrhwX5m7hZSGsuUq0RzGpxhFhgEKS/kJjiA0BJH4JX1nhf3wrk56oFiYWqdZ/uAKkiNJfpLAhLuFKPJrVnKdHqUXLC/T9gUQQmeDDa7EgilfuW8FCPNz3Cdjwj45v1NoKLqBc7mssZRWJlhc7rTJHx0c2coBZDjHHC6fvg37s5UnPfovcXwNJ359WI9Y6mCxXY9QWmb/hF5lAdAQZxvPXkXVjwUFHxFwUzAZbEYyEHza93e+CsguUuDmBpn8wyzHlKrAaMnU8gttofr/hQqhWh416XCPBinm/HmyHDAvR7IgIx0opGii93JSvxrbf16JfCfd5HLrjasfyV9cjxCGbL+bD0lPOv2589mAXWMIuHGli+PN1Msin0ganGScuzo2WGU+QelZowh8JS6o41M73lIsQ5WG4vk269x94Y5a5u76YKfDJnO7F2dn9scKJRk9VHPp//IXLyccnMUFH14L2e+SX7DDnJy26MfSLT/+eA2o9NLaJCqIng8ia3WzWqMgzSaaEHaGIITIqyGHE6sYq1H0ru0/ssXgiogQmy+/+E2JjydB2TuRMS9cSzN1JltNLhqgbJWG3nVCQWd79aLsKzeSgQINLxCY6L8EZFjXhBei4zlQ7M0dQbirqqX8KUUo9bi8FtSY705hgh29xB2HF0wi+BEyWMcQiMSEYa8nN2bkDqwa/oq9mN8P0LEbJES3SaCDaE8FUv1v4zDH4srddKadRN7IM5wTeKKy+JrAzAtfAdQVEd1WkYzNRVXl55M/2OwiTA/uNPY0jGrsUi1cX+GsswZ+mv88UBafN3DkYm7y8ObLyxnBGR8yC2kpqYppTDUFBXJs0+4vTMYxQt8f0dMZE9ccDrcs471yR4435ydhTu1vy6CCeh/dUHNT5QlnRmMlEIepSmqgLtBcIjPpOazOrnPkW3vO/y4icDQ+4hPV9ua8TU8uxHa9C3F65HNmjTYIOkOrnlQr6a2NzH8BcNSP7v8wm2xWaFMYYuBlaSnUHfpP5P3PLheIyhNh1QaQ+i6QX9927q99s0rbHsU0HcKrjnU3apv1LrYnWZDRXHFtHkbtQbpq5ytpSL/wdQXiaeop23VNXIw2T6mS9R++EA7A/SQO+0WeZeMpD5/cgTcX4WkFR8AYV5+EQLnUMVzaX5zVwDy7EBnGkRkhqdZSWEOrxqoQj1Z3zealUloBDdWZAgyCclndpq27PRZHb5jHFKAK2yzGLVyBf5XJFbm8GAuhEdCkkzksxn5/JNJkgW7uFDknjroM128/BYKcXA+uBNyNLF23tMDw+xyQ9wcKs7XMaMJIryHCoOBySBLQTT8yK5BXgEJmcKBidgppwHT+mPuOr0HwGTxgziwId2CmUlmv9lOVNypo2PuZi489x6n5gatTP1sALsRtBQ2qJvTIh0boYsVguswD8/HMmeoE+X65VFjREP/Cgcq7LJhPzrCubGCiG41yPThdesEyGFzWbA1iZ0Y/u71yJslja7eMROZW8hurLJoGfkAmlRmJL3iI+Kag6OIOdVEAa5PZuPIlrFrqSpncuNpd/PKLblZ3AwM0WqAVLYJKhPIQsw4b6M9tfs1TG3Ou7i14aF52AYMWF6xDC0/T+Q1Bsft9d79sW7kGp2J8oRNlp05svoRMp0tLdBw4ZSSWga2ePGPTSgYoaJiZzeMUkgWIWKrctee0gcHsLKU5W8RC/rtB3hq6QQklQzF5a51MMyrEGG5WrcTCK/Ms7HqzwxlZWsMaJbR2LbtRVpmD29+jn5d263Vc1hGnxJL3NvuXPXjQuXFSqrplehtdMDBgXB173Qfezpp4HFAQBHqp0+zDdYthR1QdjwYsr12mrkIxLZ0Vcr//MFL5mVcLAN2cAKqfAsSn17e0bd32g3p6nKwULv9mBQWQFG8mD1DIxhLJqmJ37Lv/+Z0jrKtAsQPojvoitwYD+wRIbitfXnMC8W+852SJfvtEBL3vWZj/HIWHRZXkuDojx4+m8Iou5FcKD9lVEQ0kc/KMndHtpYxMUq7i0nxQfM0LCOsZ4UkSOXIogUfir0kz9+EaFNBN6gyEnbXxcYyu1dU9TrWZNrakzuk08hPG50T6XoQMx0YbmDD9q0OLS7Ojsk8MP6yt6Er9TlwFjXWgrYttsxtSUL9f8120EiOq2c7oJ2t4/A8sRVnagWNd6tJ0RF7J1uzsnNrKkePY97k9ZNZ4aFgwCpXFM/2dDOejoIZcQjs6WQEiOQ/iI8RDFfU4kmKHOqXia/zevMngPwjnCtLlpdtyh6hVDP3Em66yVHrO3Ax8HniIbfNikZJu4X6bwIgrzH+yEgDcSdfhF9eCGgnW/nUIlkPlGMdK0aeT7mpBk+dns8qOduAFA2AfPFdvk3LUUHYzsvbTugisrJolleAEzJxwklM5cJeHwzi9R7WGw+dzHnuoUplTaTO2IbOzvUxTDKIuMdDyOAl4PowStGyZ05R3T30HBBi8SJkWYk98z1aw0PVHb54mPg/TSoAWUYiH7Z96FpXMoO7XhIILDpthpJ3Vq1FHvQjDsaC24WcSLaxWbW9N7vGL04uy3mH+p/LmWO/VVxyESZlwYcSHuNc4dzCMi2hFAoT/MUTc9p+f/S9tNgyOHQZtG7IF6Eg1Cryr3a1RATIkOHNgo90v4FML2XSBH0JpK783mDnomlernCPADHQrRzpogjw1932tS61s7QUEyjXbomsSgxTU02gBos3iwLabX+1RaHYzLleOHFMhRjIgTst14U/af+EdRSNYoiMc9cbZC1v4iPQhuZ6ni0zgRx3SH2ptCsWA4lyKTKeDbd2XchDKcGhFypfY5sSPtLSCBHQFAGwhmPzJBt/8QB+P4apEQkv85WVyEV2XnKVV/kw3Fce78RBbiykUwbNSMxfbeglx6Ny+t0Hg6bywoOArP+WBFwFyfO0Y0XtyYrCDUKy/YC01UCWP8ZsQntlKUKmvDXNInfunLrFX5kRIFNZ9ywqhH20HXISwNf+xVDNxIw+d5raRlgU4BE2g3R6SCL/SLQRHdZgUf5cTBCqPJuJIviYj6Ee66RQZedHnrNMJ1lQBCw2swmLFQPThxSyhWD50YEKhZXCTcc6UPoN7KM2apA+v0jmpDaVTsCzG4DSsl6y2O+57+xe1V+YaMeJzkeW/qPVX3gT844qreQJOr2XVAh6lKV3wgpp0LHsGzqHh136jy85ebYkpw5i1PcEqzthT9QFvTJ6RryHJAra3OLxA4994lmp0tcIB4Bwd+MUXXs8ZLqyT4OP2r5lrckyyTmAxCzRhbx57NmrMZy1KPUN9hP38Gl7i6qj7srqNIRRdnqVGS1q3ijZhQX8AAAJMEGfc0UVLX/P5CWUuC6hkegELdpoFLTNzmLfnzleyzbyKTjHO0M8xfrtcDzeSeu75tduwhQZoocQ/sAUwIXG9xFSLSaDzvEHLquMbT36/Trln50f7Q2GFg9g/DhdN2zsVEwMhp5pXFf/cYIJ40EpKqYpoNoZfAMWBiLAeBP2CRetxbzE7eRzLOmJpMI1CjkjBg7Se/zUHPxNN0qg6evcZqKsp8AKOAR1SdqtWmNbPY7n12NTliF6ogqXNtCTgiSoRKnNuRw3T5V2Zu3EjlD+9Ysc/ssPXtVS12jz8KpE71JPg49375MObr60/CL62V59Jax7I4/C8tXWyaHdaZZhGC/YddWNy9EIrlHn9gP++bF4ug5n49g5heRNpU16V52PbQNIpvdFCAhHeGjFJ60tcm6L2q3G7yNZ4UsK2C7iBDVb+T87orLCjKHejOPVevyjycaSyfH2J6ggBcP6oM3pkccDO/+2HErSzP8Dn86xoAoWhHC0gVVCrjP9oDIBFt6W1Yl8Xi8vXNpWeXf12iNhR2CT/4WnqK8QPHCeVnZxFXS9PYVHeKEN4gFannS3HyCMcRCzGN1GJFxm/HQIEiQqO0x35O1E6+VUEMrIy/VKRLng7sFlGkdHlvXAnxDsD4w8zIkvsofLNsSD1OHrfosM4RYI+j8hefNX311V77MNGX8XehG+BRQV+vf9NFql9Xu3qmMC2JBkTB/iTJKywke8qJboPRg2jMwxDZVzY9siGPxUD/xUGc/oVmTMJWpG60F+HU9mVbJC0M+pbCgNHAQocHzqDDFBQUZ3piZw1DNKya7rx7g+9jHpD46lGYoIrWdyihtXtX76Tm04ABWOQWv1ecs4kO051rb5Ho1RWkCafg++dP2eEJ1su8u9TXvG6trc80QrbH1ZXEi66o8oxUa4y8ojYYqyTpp4mrxbhVpFewRFetGhpP7JUzv+ZQgQYRQsXJWfkNSYC54Xv2VwGeZEy9z//FauLKHCmDjN2NXAozx+KRbJD0vX65+B12VNKflqm31TuL8zrzz8aOwocLW6h29sLQDMQatjlUor64bM0q/e7KPW7E7rnWEASY6+fcK5IWjPL7g0QSmhABe6kn726WLp2fopTso+FkEKfzKHtt+Ef4jJ7e63kfidBc2gsq1f+zcrog3D/O9gBukHYvlWkPLN+n2sTrZ3Zz92ptNMgQU1IUgoojEiCKmUFFekZeBgS7r871iR7KZ42bRh4Wa5BGP2SaRK6VokGnGfcPXDIBfvsUc14QaOHZtrByCAkJWTZ5ZnNxk4bPAQDmaXtIJhuo7NEaL6RcaUMA+8rKpEB5hlM5Z0D78LzzgxrrVrGTcmw/XwrTZU4Y7zJgcPAK/Dz1a3y483eg/zTRZbK0MVgpyKdNCIeeaTcySrkqaLrunWECT4N1f83A4GO43dRfgFcenkQIKFV5vprjcQHuZU1pOEjPbUNGaUFw5eVLW4YSZ9EwS3+WSDWjxBRKWQbfF4pEPJfww6dmduTT1wziMhWj9eJ9gt2G89C/nJs8ptiR5dvmEdi5/PHwqg6whDNs/pNlRwSIpo2W1ARazhW/dMf/j5TCcCIkPFHUi4MdchHrwEjFOqQftFHewFOhUzqB4mX1d2c4MFMsLB9sEWZnADx8l0yJRci9HC/yMKoisW3qxZO+1sJ2or6nrSkFoxxpySZOoIh6+NXKPZFCUIzneJG3LeUzkGaGWY4M8peRPJ+S1diHtKogZvvQjPzmDPrg+21zgap5LPkFVblyBEgsorpS8xuE7b1m0g6PHURv0Fb+08iFeojy8GRezzkeawipu2aiNddAmuEuCfzbWk1MvuozVghsDtK9RHl3f4CcY6dCAwHYU0hN3KW7NlyuOBVTJI57XO4SQZoFeN9YnaLW4kUyDcLpdqQZLyYI7Jq53cb+9WHtnyKvaKZYYWSxXZHeE+jjsFteGXYSevOSel7VGletnfZSSNMl+GOI9ewArUe3PV0oQUgRJTeTvH+yK712WqKIhv/xU2hrlkS+M8iyW1spBSngI8o2YAwSTAjjYhNKaxoYjuYwpGnAbpEa80X+SvrKz4HmgrwpWUbHcq7oec6PTf4Fm2LXScVwe7LGsWfyjwi+k/3yMJWb84p6YDAP+aIAETxzO9n7sJUyo4E4PV7rLY85pyIG0nVbqNjjuqnyGF9rMJXTJJwZUeg0HzZRWNfdo6Ltnzh8Ep69mDMR3aDrq6nCzObGkDdBrJm5w2y1IPKKrvCR0dULVktw6nXcU5rf+lmbYIut334DLBKkV1W4nXON9RvyixUPAnD3ztcVrYaWKqU0SRy2zPkvAAS3E8+Gui3bPHXF/2OttoPP5keve0waJ5jv+3rHdw3EL3XSPFbbcOTinzowfxZGzsY/7NXpN0xjlHX32na1x7+9gn6CXbxVY8+GsN9xOU4ry+BX45ym/R83EE8igNNWpxu8lam/ZLfKu/K6Obx0Bw0BPNyLpfOgEBCEutUXHexBvhHACYL0XXBvuotADOQJnzewpOxksL2kIpl5U9YwWaV30O2eAgFxf+KC5grkd9FcXSSqCtQQDK5kNnLp2lUn7xcXbrVgZbbB3W5c3j/Np7pgiKiRUz5+n+8p7bVKKaXuIvjZxPtYBB+kIlD2tDSRCueKMQ+xqqf8JCY9lk/xMp3T13ZXnVIWJEQFTTgnTeX3JgFoLjvTNVy8SShhqJQ5mlW0Jek4iPy23upeUIdF/CIi2ef/TBARF9VMg6nqEJj7/qX1ZxfJBj00YjzsbsbZLDgIFXyeLBqpT8vxdwOpzlaqZ3Tn3snEpRhAYRoqqBmD84EXuuEyHybKwOq7OvTlFrDJdxekUMAettbY9stMUxIyzRbeRxI6rAv/u7GxCyyhfCUYCEI6cTix/1Itso03Wpl9DHK428T8gkEBC+GHXn6mYWZyx3XGGEak9SL8bncC0oQC/Ezam6oQS1BDl96FaeanvOOreF/RVm+Im/JQ2kmKdcdk0opt/71Y+IBUh46u+vXgkKDqopQohT+P4BH2kj6u39McAHnz+rMolwSzirq4cpJjlJTnMdmA0sdkn9tLuYxK2mSBqg812+W3bGPv0mMQivJhyhH2/GlNjCGowXfofb8bfjjHlQ425vtEPFmUwtwPkPMQAAB6MBn5J0Sf/YumW1c+a2yM4byK9HI6u6jWtyCvDfB15mdMvUjUvpJHE8rb1ufdlm7v9otJ9ecvEJJ6xiWWTRMJwZCYmJG+zxI254tzbnnWUY+lEu3SixynRO17zz64jWWp6si9yXOdh8/fzJq/hiSH0mQ+xN89YFdEKDwm7sNvmK5DyNbkhkmlTc7T48Lb12f4t5BmMG8Qv6XVt9rOktwi+SR+Ih5tDQKAqZRWwtTdGD09S05yK3SR7Zz1qa37VXEKHoRfqEQwH/nuDFlzjxgh0uuR26dFttOYmKdKsBsC6YzMHMMGHkV3DJJi7IdBcUSDGHAjae+OHhkHC3kOPkYnPhQeWyT7SaBfrP+e+Cafy3kpj6t1hP1wIh3dXkdWXtBuEISQP+ijvtS8ajXmrOciMDjLvIthdgv42RNGO+odXkNk6W9TV1KVOICf5Tch56kgAtsGP75Sea4YG4TNfyuexpdYhj5tClZ6WyqLOVIpD4fr5/XOo/rkprLwg5vaqaTHwJUexWN/u4IYOaIdb+kZhSMQeKARa9LlqgAO9ZHdYF3N8pLJaUzEbzWk4f8v0LXqiM+RmQZmiQ7R2JGrj64zbFimdfpR8PlybfHWh+b7pYf4n6pvAl/J1hjsImylNagbxRzTzz44LPHX2lm+3iojJvAtyaMPsop/WwFEHwnsovMrdBBI33+AXHJ1MMF3Ba++MTZ+lga7cZbbENxcaZlsmm7nAFzwjTeLwv9vtok4MJxW4BSYMiWkJ6uF5kNinOLd+P41gPv5u5QwCd/SrnSCYIy9n29Viv+3QKVDWGETtYg6GrHQktPfmDqtiYxj1AeXG2IaZOEgpN9B154liHKOhUxi35A2hwKLCrd7PMUR5957AtqhxilrHILndbknQbTdmJ7lnkhRg8TBkxyPJaBiSSdkz/rhx8W0piRT33Oh8kMkKAEi9lGz736y9xFkppKKdzCE/LvOiiIzWI3aABjSQ2tL8dDmGMdmtS/FMA7P07E5IASF3LDKqa155NW3f84KoDXA09QTFJ0giy1Polnk8ptQJqEz3pFnJMiu54ZRTKomMXs1U4eo0ghE7c1mZvL9r9HnGAUqRh3TZq9YbJptxUQEHhJnG4vq/hnA6ezT2mJvMcBcVq3NIly6He2XtPnT/Wp7UTfii4rTV56wXms33aWyXT4gS9ED0u5Vr4BwkW+ajZWGCD5Ld6pkwhHiyZTzjiEAh9PUtnIQnipUmgPSz8FC14+f0vkI38HvwIsgV1rWRCxSMfMYyMUdl/ZL/5TGTuBMeX13f0CeGTEnFmRZxKWXn22lGL8EnIuxOR+j2Du1/aqqgQBJPCvaq49XTlxNOVLCZHHjyrIEyDVTf5s/uqLqVO+41TQwQnIyX8qqyTF0Ks3eRwfIm+Gsv+iyo+ytJcSB+Mg8GPAq1qMn259KYc+NEYmMxsE+zaqE2GimgAvrN0jzFfas1rR89MZoNFQHXeR2DfmKu1gheJlU57PRw7JKs1tC5fmypf8pBkDH607ZJvcMYrgDt34o5H/FpyMZ7+8V/lThFn3LM0cEFnQBfy+UFgXpz1WYwgd6noxNgCUAYjgNunOMTb1YH3C6dD7lrOuSg+45lHHT/ZaLKUfkruhfqjSOoILmLba7JXpd+1BvTeGQAuE3qTCkNfd/R8vgZrvFRjAFN6RVDY12B9gXE+tguHi+SrRFpQnyoeSf1t7s7P8Ad3T+9ziGeebfElAQrEH8X/eSU10cuBd3NlW8a6OhYqBLPUCNmJtTh//I3msb6uSNXsIAAw2wKGcufC7nQLw627qBXX9SyBqhk8D6XBagSFTxw96hRy6ndnPbkjBpI9Q9xQSdwCRYeYp1zOz7cCfrbF1t25HTETbDhl+39whepz8Fg+wPEbKffrwoIFCFIAi575o3+uUH1EyWJeBlgyO/OphOIOO54Incd7Zzf8cAQi37Rit3iuwphQAY7U2q41IoWtfOi+bgttp4Oe0PLVTD+h2Hak7YMscl3TF0QzqhQKHhLR/xGDKpDqtrzb4GoI8f7zd5khEHuEZF+sPpi0JNRp3v2ybO1NiE2syT2Bp19DHMtH/0/+zKaLszBeJ6LDY70AQHirDyp7hFoSOJFimb39IpBp2s+vFUAyGPCJsUQrw+oSP9wknVvOBH8dzc7Vrv9gmXtMEfKDfrTjYeuGxBMfB2swYuJj5G/QMhoYDW25ZnRrJT1bFdKRU4obC82ZFgJjiFVZq95BDPJEn5wHVC/ZWiL9axk91MlKjTArhKWc2cVqzb4wZ/O269qYDLYnbJz94y2gOdamARD8Fv1fZQgyjOXnJ0L3ylXEIlcHBCgzUdDh9DhAW1U3tYKlYXSG/DqzJlJ05xASTNoghYbWpIezD7V/Om997WVxC3f+dywYw+DEkLgIc50LPr0DMkjtSjpC4wZx/DXdJlvrFdQJw9q4Ea3/75+mqussuDhAlFcnX6Yw9/5sJj9bCa14DRUztKq0siEBub+fzvHTAs2y0jpIIUdCn9AKyT0BNgISLBR2Yn66fvR1TtJQppMmfobrcVTE3HvfW5HIa8nlgt8NiohRqG362lzT+z/fYCoNFDxdBGr5KEm7avSnIc+WORTyDgAABnsBn5RqSf+rChyz5/K36dpF+xlFmPo4eXGdXLev1SbDfmLDKNdMcKQEi/2/JpsWmwDP59eiTj8Z2s/qY9KhH6RGwfjRUYfG/ODnGffTy+q52vLK+eyuQqdXytRNRrbywsSNLmYu/EoiD/SZDE273nIY4wFo/vOl+FFYKxwgzHp6p/4v++/cZe386JlEHUDwBiW8xSEFixyZVvrk4tIZvbYdb4d8dW3QjwJGhRKVtmz9fZjbGfZ0vjl2ChzNtrJVWwHErEkEQ6fMx/DoAK4EWWSIzsgeJoK1aHek7bI8dWE4PT+jaZEQHzfqwiyRMoDLLokS4HLeQwowW/h4Lge9BnI2FxOsIBcwvtUe92/v5nYWKIH3/nu4mf4l8LCW7YkQqRd7dcZtg3gHAjFSfJRKNIqhDaODaNqltA7t2m3uFkLvXpXVhOHu1MQNvEijfP4zHaGJbZ6unQpqwPUTpa9DRqpsU+OtoTS/XjpRUQg2K5dDlMgo9oerZu7IqkYFxs2YywYC8fCfUHqbc96C8uVHh6XAR/MNMnApY2oXIGJhTcsx1FRO0QSp337mL1UefFniUkqPPTo4/nsqYnNmH0//22E9jxU5oAmbhb9jJ7fKaKV9j2kmIYn0r8jKkVqUyKrWpVmjQ8b/pUyA6s91bhVtMeUoCMLQDWQuEMVycjQ/RF41nqG4OYTD+eH7u2d+lAjTbZc1fbQ5Nkhqau/NQ/KMZ8l9ES0+oU67VkOLYbXce2LPk0t7l3X4JBV+CkPVbXvMMnmhT24LLoBYy+wng2wwsyMh8N9z4kgxfzByB+U+WnNoJnIhWYjgRq8mDyzyVH0WcrJ94XS2CDJ3YMeBDLBPswnSzWx1BpW7QGMLPuZXwAAv5YF//SBEH014+H9igTBNjF7muPrO/mXuzsLaWK7sHXiD7GCKHok7QdOULBp4Wet6WlxYOBz3bFK2g9VewBHXsDhX24PNChA5c/2mI/ei47x5fn0ADR+BzZC6AoYs6mSRKdfSVrXgDY9q9cW0z+SDfyzWpaKRdJliivCsdnOG51iJxaNZ38bwgb7xyN0TDk7O++j+EUjWuFlWr9m0yes8FOb2v0gdn7UcTBUWCNPz5i62jD3LpU0R9zfRjd73DXtV0QSnHkqwT/ggchrtSAlESavLHkeRirM2qSb7wxaDV9RacJOzMxISUIljskxe7MxfbgQVQLYR8pNE3aWumdzshVzGCaGEUNCteINLtYI4CwaDAfYki/HYpn1SrHDAoKhbSCfe0QsE5KyTU+YwgHjWwM2VE/RYlgruZUzP5vrw+x3xMPn/bq0zPPg0fKGaceujvIZNeCUrjP7yTvCGG4Vnd8uNnTykBflnclO1brfPtoE+r2qm5spMXZUUoVh3lgX+VB+e6YfKH1Q041oM7dhQJr8NHe2wjAMdACnepy7T4+wBmBuB3Ht7tZvOj3pqYZVCVldQTnMt66nlVIvG4Q+EM0UJvUlr8FHVJE2FhcINJTdkf1+holPncqLcgqcs/7mjIvKkl73Jj3IaW96UtUrNV8iX59+1afanqYps+HWlJ9jApbCl+N4dpuCRXpXnQh9WPAiiOOohylJ6brnVY9BHSk1i6KX2mF1GColCrotYnyexDrYqy9E6vNMI71b3uRlTjhk0oMaHTdZ1I7aCHry0BsJeec6+UcQsTrFpHTQquHX/wFA9Orzqphqd3OeJKbyoScg77RUOwxVufp0C4ztI9SKMiTDSoGoe99kDKLwEBDuSAqGrTbhJKdNYyMA4gaw0kjDwlmNjUk9GHKGehuhd2W65pIKI1GVXb2GnDjTzJ6LYR/gDJJRgJULd4WWF4JIogddMTv82NJkpBTJgBGCROuXa9KsyEcPk8Vt/IBPD2zBAa7xyPtLQ7hAVVuqfsQavroO26SAoi0BOFFCOnHj8YlP3FQjo3VNWnpKLRRa8gT/KA1RlYhhTrcqwAuxq7CoznIcR2dT2yZTO4noGAIJ4O8fppHTMhZtnYDwwDogGtsP46hpqu0XlTJ6hWK1wxwnCpNO4112QlfwX2OZOsggN32psYi2dSejIqSTb+vQMzi+IZf8KeWva2cI8GyrDzgS59tA/5losVtpjXSUZ5Aj09TVUT+vHXDJVy5jRkCkWhNXZADsXuVw1rA0vasICjxZjcSg/l95frWEGZ6+O+SC+65LJuoot0yzf93u08Lkoa+eXQp9cawyG7evGMTIAAAUbbW9vdgAAAGxtdmhkAAAAAAAAAAAAAAAAAAAD6AAAC7gAAQAAAQAAAAAAAAAAAAAAAAEAAAAAAAAAAAAAAAAAAAABAAAAAAAAAAAAAAAAAABAAAAAAAAAAAAAAAAAAAAAAAAAAAAAAAAAAAAAAAAAAgAABEV0cmFrAAAAXHRraGQAAAADAAAAAAAAAAAAAAABAAAAAAAAC7gAAAAAAAAAAAAAAAAAAAAAAAEAAAAAAAAAAAAAAAAAAAABAAAAAAAAAAAAAAAAAABAAAAAARMAAADnAAAAAAAkZWR0cwAAABxlbHN0AAAAAAAAAAEAAAu4AAAIAAABAAAAAAO9bWRpYQAAACBtZGhkAAAAAAAAAAAAAAAAAAA8AAAAtABVxAAAAAAALWhkbHIAAAAAAAAAAHZpZGUAAAAAAAAAAAAAAABWaWRlb0hhbmRsZXIAAAADaG1pbmYAAAAUdm1oZAAAAAEAAAAAAAAAAAAAACRkaW5mAAAAHGRyZWYAAAAAAAAAAQAAAAx1cmwgAAAAAQAAAyhzdGJsAAAAmHN0c2QAAAAAAAAAAQAAAIhhdmMxAAAAAAAAAAEAAAAAAAAAAAAAAAAAAAAAARMA5wBIAAAASAAAAAAAAAABAAAAAAAAAAAAAAAAAAAAAAAAAAAAAAAAAAAAAAAAAAAAGP//AAAAMmF2Y0MB9AAM/+EAGmf0AAyRmygkP8dFQgAAAwACAAADADweKFMsAQAFaOvhsRIAAAAYc3R0cwAAAAAAAAABAAAALQAABAAAAAAYc3RzcwAAAAAAAAACAAAAAQAAABgAAAFgY3R0cwAAAAAAAAAqAAAAAgAACAAAAAABAAAUAAAAAAEAAAgAAAAAAQAAAAAAAAABAAAEAAAAAAEAABQAAAAAAQAACAAAAAABAAAAAAAAAAEAAAQAAAAAAQAAFAAAAAABAAAIAAAAAAEAAAAAAAAAAQAABAAAAAABAAAUAAAAAAEAAAgAAAAAAQAAAAAAAAABAAAEAAAAAAEAAAwAAAAAAQAABAAAAAABAAAMAAAAAAEAAAQAAAAAAwAACAAAAAABAAAUAAAAAAEAAAgAAAAAAQAAAAAAAAABAAAEAAAAAAEAABQAAAAAAQAACAAAAAABAAAAAAAAAAEAAAQAAAAAAQAAFAAAAAABAAAIAAAAAAEAAAAAAAAAAQAABAAAAAABAAAUAAAAAAEAAAgAAAAAAQAAAAAAAAABAAAEAAAAAAEAABQAAAAAAQAACAAAAAABAAAAAAAAAAEAAAQAAAAAHHN0c2MAAAAAAAAAAQAAAAEAAAAtAAAAAQAAAMhzdHN6AAAAAAAAAAAAAAAtAAARnAAACVQAABAxAAAK8wAACLMAAAcQAAAM2AAAB34AAAWMAAAFNgAADCsAAAZ4AAAEUAAABCIAAA7lAAAJigAABiMAAAdDAAANPQAACQYAAAgvAAAHjAAABNEAAAqWAAAKhgAADu4AAAzPAAAH3QAACSkAAAyKAAAI6AAAB1UAAAZLAAAM0wAABpQAAAN2AAADvwAADsoAAAmOAAAFrQAABhcAAAudAAAJNAAAB6cAAAZ/AAAAFHN0Y28AAAAAAAAAAQAAADAAAABidWR0YQAAAFptZXRhAAAAAAAAACFoZGxyAAAAAAAAAABtZGlyYXBwbAAAAAAAAAAAAAAAAC1pbHN0AAAAJal0b28AAAAdZGF0YQAAAAEAAAAATGF2ZjU4LjI5LjEwMA==\" type=\"video/mp4\"/>\n",
       "      This browser does not support the video tag.\n",
       "      </video></td></tr></table>"
      ],
      "text/plain": [
       "<IPython.core.display.HTML object>"
      ]
     },
     "metadata": {},
     "output_type": "display_data"
    }
   ],
   "source": [
    "\n",
    "for i, dist in enumerate(dists):\n",
    "    plt.imshow(dist, origin='lower')\n",
    "    plt.axis('off')\n",
    "    plt.savefig(f'/tmp/{i}.png', bbox_inches='tight')\n",
    "    plt.close()\n",
    "\n",
    "frames = []\n",
    "for i in range(len(dists)):\n",
    "    img = Image.open(f'/tmp/{i}.png')\n",
    "    frame = np.asarray(img)\n",
    "    frames.append(frame[:, :, :3])\n",
    "frames = np.stack(frames)\n",
    "media.show_video(frames, fps=15)"
   ]
  },
  {
   "cell_type": "code",
   "execution_count": 194,
   "metadata": {},
   "outputs": [],
   "source": []
  },
  {
   "cell_type": "code",
   "execution_count": 142,
   "metadata": {},
   "outputs": [
    {
     "data": {
      "text/plain": [
       "torch.Size([50, 60, 3])"
      ]
     },
     "execution_count": 142,
     "metadata": {},
     "output_type": "execute_result"
    }
   ],
   "source": [
    "camera.pixel_rays().size()"
   ]
  },
  {
   "cell_type": "markdown",
   "metadata": {
    "pycharm": {
     "name": "#%% md\n"
    }
   },
   "source": [
    "### Optional extensions\n",
    "\n",
    "1. Allow for triangles to have RGB values and render a colored image.\n",
    "2. We've been using a single ray to sample the scene and determine the color of a pixel. This can result in the image having pixelated boundaries. Really, a pixel is a 2d square subsection of the overall image and should consist of the average ray color over this subsection: \n",
    "\n",
    "<img src=\"../../.images/ray_tracing_extension.png\" width=\"400\" />\n",
    "\n",
    "\n",
    "Allow for randomly sampling some number of rays for each pixel. Alternatively, subsample some number of rays per pixel in a grid.\n",
    "\n",
    "\n",
    "3. Instead of uniformly illuminating each triangle, allow for specifying a few point light source and use the [Phong reflection model (BRDF)](https://en.wikipedia.org/wiki/Phong_reflection_model) for illumination (ignore shadows). Note that this is conceptually more complex and requires thinking about concepts we haven't covered here!"
   ]
  },
  {
   "cell_type": "code",
   "execution_count": null,
   "metadata": {},
   "outputs": [],
   "source": []
  }
 ],
 "metadata": {
  "colab": {
   "name": "w1d1-Vectorized_Triangle_Mesh_Raytracing.ipynb",
   "provenance": []
  },
  "kernelspec": {
   "display_name": "Python 3 (ipykernel)",
   "language": "python",
   "name": "python3"
  },
  "language_info": {
   "codemirror_mode": {
    "name": "ipython",
    "version": 3
   },
   "file_extension": ".py",
   "mimetype": "text/x-python",
   "name": "python",
   "nbconvert_exporter": "python",
   "pygments_lexer": "ipython3",
   "version": "3.9.13"
  },
  "widgets": {
   "application/vnd.jupyter.widget-state+json": {
    "13367c1e56214d8da030d678dad65b76": {
     "model_module": "@jupyter-widgets/controls",
     "model_module_version": "1.5.0",
     "model_name": "SliderStyleModel",
     "state": {
      "_model_module": "@jupyter-widgets/controls",
      "_model_module_version": "1.5.0",
      "_model_name": "SliderStyleModel",
      "_view_count": null,
      "_view_module": "@jupyter-widgets/base",
      "_view_module_version": "1.2.0",
      "_view_name": "StyleView",
      "description_width": "",
      "handle_color": null
     }
    },
    "139321ff654e428bbd1b1e8b7796ff79": {
     "model_module": "@jupyter-widgets/controls",
     "model_module_version": "1.5.0",
     "model_name": "SliderStyleModel",
     "state": {
      "_model_module": "@jupyter-widgets/controls",
      "_model_module_version": "1.5.0",
      "_model_name": "SliderStyleModel",
      "_view_count": null,
      "_view_module": "@jupyter-widgets/base",
      "_view_module_version": "1.2.0",
      "_view_name": "StyleView",
      "description_width": "",
      "handle_color": null
     }
    },
    "14bbbd03fa524f03822f6691dcd4f2b3": {
     "model_module": "@jupyter-widgets/base",
     "model_module_version": "1.2.0",
     "model_name": "LayoutModel",
     "state": {
      "_model_module": "@jupyter-widgets/base",
      "_model_module_version": "1.2.0",
      "_model_name": "LayoutModel",
      "_view_count": null,
      "_view_module": "@jupyter-widgets/base",
      "_view_module_version": "1.2.0",
      "_view_name": "LayoutView",
      "align_content": null,
      "align_items": null,
      "align_self": null,
      "border": null,
      "bottom": null,
      "display": null,
      "flex": null,
      "flex_flow": null,
      "grid_area": null,
      "grid_auto_columns": null,
      "grid_auto_flow": null,
      "grid_auto_rows": null,
      "grid_column": null,
      "grid_gap": null,
      "grid_row": null,
      "grid_template_areas": null,
      "grid_template_columns": null,
      "grid_template_rows": null,
      "height": null,
      "justify_content": null,
      "justify_items": null,
      "left": null,
      "margin": null,
      "max_height": null,
      "max_width": null,
      "min_height": null,
      "min_width": null,
      "object_fit": null,
      "object_position": null,
      "order": null,
      "overflow": null,
      "overflow_x": null,
      "overflow_y": null,
      "padding": null,
      "right": null,
      "top": null,
      "visibility": null,
      "width": null
     }
    },
    "1af49b03019040f08def559c89a56d6d": {
     "model_module": "@jupyter-widgets/controls",
     "model_module_version": "1.5.0",
     "model_name": "SliderStyleModel",
     "state": {
      "_model_module": "@jupyter-widgets/controls",
      "_model_module_version": "1.5.0",
      "_model_name": "SliderStyleModel",
      "_view_count": null,
      "_view_module": "@jupyter-widgets/base",
      "_view_module_version": "1.2.0",
      "_view_name": "StyleView",
      "description_width": "",
      "handle_color": null
     }
    },
    "26c0bd673e414b0895f444edb4298fe1": {
     "model_module": "@jupyter-widgets/controls",
     "model_module_version": "1.5.0",
     "model_name": "VBoxModel",
     "state": {
      "_dom_classes": [
       "widget-interact"
      ],
      "_model_module": "@jupyter-widgets/controls",
      "_model_module_version": "1.5.0",
      "_model_name": "VBoxModel",
      "_view_count": null,
      "_view_module": "@jupyter-widgets/controls",
      "_view_module_version": "1.5.0",
      "_view_name": "VBoxView",
      "box_style": "",
      "children": [
       "IPY_MODEL_a9c8e243c1af43f6abaf53f993b17895",
       "IPY_MODEL_388ef05fb9454299bc7a28ef9dc0362d",
       "IPY_MODEL_6e711a41b4ed423e98809810085d5a48"
      ],
      "layout": "IPY_MODEL_d4ae62ec4f174d88b11ef2ba15979db5"
     }
    },
    "313ea93631664c49bd6b24b2bde060a8": {
     "model_module": "@jupyter-widgets/controls",
     "model_module_version": "1.5.0",
     "model_name": "FloatSliderModel",
     "state": {
      "_dom_classes": [],
      "_model_module": "@jupyter-widgets/controls",
      "_model_module_version": "1.5.0",
      "_model_name": "FloatSliderModel",
      "_view_count": null,
      "_view_module": "@jupyter-widgets/controls",
      "_view_module_version": "1.5.0",
      "_view_name": "FloatSliderView",
      "continuous_update": true,
      "description": "v",
      "description_tooltip": null,
      "disabled": false,
      "layout": "IPY_MODEL_91ec1b66751247c2a3137258ffbc915d",
      "max": 2,
      "min": -1,
      "orientation": "horizontal",
      "readout": true,
      "readout_format": ".2f",
      "step": 0.1,
      "style": "IPY_MODEL_13367c1e56214d8da030d678dad65b76",
      "value": 0.5
     }
    },
    "388ef05fb9454299bc7a28ef9dc0362d": {
     "model_module": "@jupyter-widgets/controls",
     "model_module_version": "1.5.0",
     "model_name": "IntSliderModel",
     "state": {
      "_dom_classes": [],
      "_model_module": "@jupyter-widgets/controls",
      "_model_module_version": "1.5.0",
      "_model_name": "IntSliderModel",
      "_view_count": null,
      "_view_module": "@jupyter-widgets/controls",
      "_view_module_version": "1.5.0",
      "_view_name": "IntSliderView",
      "continuous_update": true,
      "description": "seed",
      "description_tooltip": null,
      "disabled": false,
      "layout": "IPY_MODEL_3e47bd09924e447fb15c26b78503086f",
      "max": 10,
      "min": 0,
      "orientation": "horizontal",
      "readout": true,
      "readout_format": "d",
      "step": 1,
      "style": "IPY_MODEL_9af2af3a6a464ab4883be2f869b05cee",
      "value": 5
     }
    },
    "3e47bd09924e447fb15c26b78503086f": {
     "model_module": "@jupyter-widgets/base",
     "model_module_version": "1.2.0",
     "model_name": "LayoutModel",
     "state": {
      "_model_module": "@jupyter-widgets/base",
      "_model_module_version": "1.2.0",
      "_model_name": "LayoutModel",
      "_view_count": null,
      "_view_module": "@jupyter-widgets/base",
      "_view_module_version": "1.2.0",
      "_view_name": "LayoutView",
      "align_content": null,
      "align_items": null,
      "align_self": null,
      "border": null,
      "bottom": null,
      "display": null,
      "flex": null,
      "flex_flow": null,
      "grid_area": null,
      "grid_auto_columns": null,
      "grid_auto_flow": null,
      "grid_auto_rows": null,
      "grid_column": null,
      "grid_gap": null,
      "grid_row": null,
      "grid_template_areas": null,
      "grid_template_columns": null,
      "grid_template_rows": null,
      "height": null,
      "justify_content": null,
      "justify_items": null,
      "left": null,
      "margin": null,
      "max_height": null,
      "max_width": null,
      "min_height": null,
      "min_width": null,
      "object_fit": null,
      "object_position": null,
      "order": null,
      "overflow": null,
      "overflow_x": null,
      "overflow_y": null,
      "padding": null,
      "right": null,
      "top": null,
      "visibility": null,
      "width": null
     }
    },
    "45473181d7aa4f2eb4d345447a15ce2d": {
     "model_module": "@jupyter-widgets/controls",
     "model_module_version": "1.5.0",
     "model_name": "VBoxModel",
     "state": {
      "_dom_classes": [
       "widget-interact"
      ],
      "_model_module": "@jupyter-widgets/controls",
      "_model_module_version": "1.5.0",
      "_model_name": "VBoxModel",
      "_view_count": null,
      "_view_module": "@jupyter-widgets/controls",
      "_view_module_version": "1.5.0",
      "_view_name": "VBoxView",
      "box_style": "",
      "children": [
       "IPY_MODEL_9b678cc13068422f9fec58a7a1373f87",
       "IPY_MODEL_313ea93631664c49bd6b24b2bde060a8",
       "IPY_MODEL_7c9b97928cbf48db93accfa02dcd46b3",
       "IPY_MODEL_f3c253cfa803478d88400377b7d08643"
      ],
      "layout": "IPY_MODEL_723f0d9002e4469aa8b4d9ff2876afd6"
     }
    },
    "4ccf0ea370d4499ba54b1f6edc27d9b0": {
     "model_module": "@jupyter-widgets/base",
     "model_module_version": "1.2.0",
     "model_name": "LayoutModel",
     "state": {
      "_model_module": "@jupyter-widgets/base",
      "_model_module_version": "1.2.0",
      "_model_name": "LayoutModel",
      "_view_count": null,
      "_view_module": "@jupyter-widgets/base",
      "_view_module_version": "1.2.0",
      "_view_name": "LayoutView",
      "align_content": null,
      "align_items": null,
      "align_self": null,
      "border": null,
      "bottom": null,
      "display": null,
      "flex": null,
      "flex_flow": null,
      "grid_area": null,
      "grid_auto_columns": null,
      "grid_auto_flow": null,
      "grid_auto_rows": null,
      "grid_column": null,
      "grid_gap": null,
      "grid_row": null,
      "grid_template_areas": null,
      "grid_template_columns": null,
      "grid_template_rows": null,
      "height": null,
      "justify_content": null,
      "justify_items": null,
      "left": null,
      "margin": null,
      "max_height": null,
      "max_width": null,
      "min_height": null,
      "min_width": null,
      "object_fit": null,
      "object_position": null,
      "order": null,
      "overflow": null,
      "overflow_x": null,
      "overflow_y": null,
      "padding": null,
      "right": null,
      "top": null,
      "visibility": null,
      "width": null
     }
    },
    "4efccee3c8f64234bb7e795e0592b51c": {
     "model_module": "@jupyter-widgets/base",
     "model_module_version": "1.2.0",
     "model_name": "LayoutModel",
     "state": {
      "_model_module": "@jupyter-widgets/base",
      "_model_module_version": "1.2.0",
      "_model_name": "LayoutModel",
      "_view_count": null,
      "_view_module": "@jupyter-widgets/base",
      "_view_module_version": "1.2.0",
      "_view_name": "LayoutView",
      "align_content": null,
      "align_items": null,
      "align_self": null,
      "border": null,
      "bottom": null,
      "display": null,
      "flex": null,
      "flex_flow": null,
      "grid_area": null,
      "grid_auto_columns": null,
      "grid_auto_flow": null,
      "grid_auto_rows": null,
      "grid_column": null,
      "grid_gap": null,
      "grid_row": null,
      "grid_template_areas": null,
      "grid_template_columns": null,
      "grid_template_rows": null,
      "height": null,
      "justify_content": null,
      "justify_items": null,
      "left": null,
      "margin": null,
      "max_height": null,
      "max_width": null,
      "min_height": null,
      "min_width": null,
      "object_fit": null,
      "object_position": null,
      "order": null,
      "overflow": null,
      "overflow_x": null,
      "overflow_y": null,
      "padding": null,
      "right": null,
      "top": null,
      "visibility": null,
      "width": null
     }
    },
    "5f17463600024991b1061318ffb273eb": {
     "model_module": "@jupyter-widgets/base",
     "model_module_version": "1.2.0",
     "model_name": "LayoutModel",
     "state": {
      "_model_module": "@jupyter-widgets/base",
      "_model_module_version": "1.2.0",
      "_model_name": "LayoutModel",
      "_view_count": null,
      "_view_module": "@jupyter-widgets/base",
      "_view_module_version": "1.2.0",
      "_view_name": "LayoutView",
      "align_content": null,
      "align_items": null,
      "align_self": null,
      "border": null,
      "bottom": null,
      "display": null,
      "flex": null,
      "flex_flow": null,
      "grid_area": null,
      "grid_auto_columns": null,
      "grid_auto_flow": null,
      "grid_auto_rows": null,
      "grid_column": null,
      "grid_gap": null,
      "grid_row": null,
      "grid_template_areas": null,
      "grid_template_columns": null,
      "grid_template_rows": null,
      "height": null,
      "justify_content": null,
      "justify_items": null,
      "left": null,
      "margin": null,
      "max_height": null,
      "max_width": null,
      "min_height": null,
      "min_width": null,
      "object_fit": null,
      "object_position": null,
      "order": null,
      "overflow": null,
      "overflow_x": null,
      "overflow_y": null,
      "padding": null,
      "right": null,
      "top": null,
      "visibility": null,
      "width": null
     }
    },
    "6e711a41b4ed423e98809810085d5a48": {
     "model_module": "@jupyter-widgets/output",
     "model_module_version": "1.0.0",
     "model_name": "OutputModel",
     "state": {
      "_dom_classes": [],
      "_model_module": "@jupyter-widgets/output",
      "_model_module_version": "1.0.0",
      "_model_name": "OutputModel",
      "_view_count": null,
      "_view_module": "@jupyter-widgets/output",
      "_view_module_version": "1.0.0",
      "_view_name": "OutputView",
      "layout": "IPY_MODEL_4efccee3c8f64234bb7e795e0592b51c",
      "msg_id": "",
      "outputs": [
       {
        "data": {
         "image/png": "iVBORw0KGgoAAAANSUhEUgAAAXIAAAD4CAYAAADxeG0DAAAABHNCSVQICAgIfAhkiAAAAAlwSFlzAAALEgAACxIB0t1+/AAAADh0RVh0U29mdHdhcmUAbWF0cGxvdGxpYiB2ZXJzaW9uMy4yLjIsIGh0dHA6Ly9tYXRwbG90bGliLm9yZy+WH4yJAAAgAElEQVR4nO3dd3QV5d7F8e8vCSUgTcAGSBELCZ1QFakCSlMQRaRJCRC81wIqvvZyvRYseCF0EKSJSEelSZeWUJOgUmwgSlAE6SXP+0fivQhBAjnJ5Jzsz1pnJZmZM7OfNcfNOJmZmHMOERHxX0FeBxARkfRRkYuI+DkVuYiIn1ORi4j4ORW5iIifC/Fio0WKFHGlSpXyYtMiIn4rNjZ2v3Ou6LnTPSnyUqVKERMT48WmRUT8lpl9n9p0nVoREfFzKnIRET+nIhcR8XPpLnIzK2FmS8wswczizewRXwQTEZG08cUvO08D/ZxzG8wsHxBrZgudcwk+WLeIiFxEuo/InXN7nXMbUr7/A9gGFEvvekVEJG18eo7czEoBVYC1qcyLNLMYM4tJTEz05WZFRLI1nxW5mV0BfAI86pw7dO5859wI51yEcy6iaNHzrmdPk2XfLeO9Ne9xJulMOtOKiAQOnxS5meUgucQnOuem+2KdqZkaP5XH5j/GbWNvIyFRp+BFRMA3V60YMBrY5px7J/2RLmzwXYOZcM8Etv+6nSrDq/DKslc4eeZkRm5SRCTL88UR+a1AJ6ChmW1Ked3lg/Wex8x4sOKDJPRNoE25Njy/9Hmqj6xOzE+63V9Esi9fXLWy0jlnzrmKzrnKKa9PfRHuQq7KexWT205mVvtZ7D+6n5qjavLkwic5eupoRm5WRCRL8us7O1vd3Ir4qHi6V+nOW1++RaVhlVj23TKvY4mIZCq/LnKAgrkLMqLlCBZ3XkySS6L+uPr0mduHQyfOu3BGRCQg+X2R/6lh6YZs6b2Fx2s9zogNIwiPDmfeN/O8jiUikuECpsgB8ubMy9tN3+bLbl9SIFcBWkxuQcfpHdl/dL/X0UREMkxAFfmfahavyYZeG3ih3gtMjZ9KuSHlmBI3Beec19FERHwuIIscIGdwTl6s/yKxkbGULliaBz55gNZTWrPn0B6vo4mI+FTAFvmfKlxdgdXdVzPwjoEs2rWIsOgwRsaO1NG5iASMgC9ygOCgYPrV6ceWPluoem1VIudG0mh8I3b+ttPraCIi6ZYtivxPZa8sy+LOixnRYgSxe2OpMLQC76x+Rw/hEhG/lq2KHCDIguhZrScJUQk0LtOYfgv6UWdMHeL2xXkdTUTksmS7Iv9TsfzFmNV+FpPbTmbXgV1UHV6VF5e+qIdwiYjfybZFDskP4Wpfvj3b+m6jXXg7Xlr2ElWHV2XdnnVeRxMRSbNsXeR/KpKnCBPbTGTOA3P4/fjv1B5dm37z++khXCLiF1TkZ2lxUwvio+LpWbUn76x5hwpDK7Dk2yVexxIR+Vsq8nMUyF2AYS2GsaTLEoIsiIbjGxI5J5KDxw96HU1EJFUq8guoX6o+m3tv5ok6TzB642jCosOY/fVsr2OJiJxHRf438uTIw5t3vMnaHmspHFqY1lNa035ae/Yd2ed1NBGR/1KRp0HEdRHERMbwcv2Xmb5tOmFDwpi4ZaJu8xeRLEFFnkY5g3PyXL3n2NhrI2WvLEvHGR1pObklPx780etoIpLNqcgvUfhV4azqtop3m77Lku+WEB4dzrCYYSS5JK+jiUg2pSK/DMFBwTxa61G29tlKjWI16DOvDw3HNWT7r9u9jiYi2ZCKPB3KFCrDwk4LGd1qNJt+3kTFYRV5a9VbnE467XU0EclGVOTpZGZ0q9KNhL4JNL2hKU8uepJao2qx+efNXkcTkWxCRe4j1+W7jhn3z2DqvVP58dCPRIyM4LkvnuPE6RNeRxORAKci9yEzo114OxKiEnig/AO8uuJVqgyvwuofV3sdTUQCmIo8AxTOU5jx94zn0w6fcvjkYW4dcyuPfv4oR04e8TqaiAQgFXkGuvPGO4mPiieqehSD1g6i/NDyLNq1yOtYIhJgVOQZLF+ufAy+azDLuy4nR1AO7vjwDrrP6s6BYwe8jiYiAUJFnknqlqzL5t6bGXDrAMZtHkdYdBgzts3wOpaIBAAVeSYKzRHKvxv/m7U91nJ13qtpM7UN9318H78c/sXraCLix3xS5GY2xsz2mZn+gnEaVLuuGut7rudfDf/FrK9nUW5IOcZvHq+HcInIZfHVEfkHQDMfrStbyBGcg/+r+39s7r2ZckXL0WVmF+6adBc/HPzB62gi4md8UuTOueXAb75YV3ZzS5FbWPHQCt5v9j4rvl9BeHQ4Q9YN0UO4RCTNMu0cuZlFmlmMmcUkJiZm1mb9QpAF8Y+a/yAuKo7axWvz8GcPU++Deny9/2uvo4mIH8i0InfOjXDORTjnIooWLZpZm/UrpQqWYn7H+YxtPZa4fXFUGlaJ11e+zqkzp7yOJiJZmK5ayWLMjK6Vu7Kt7zaa39Scpxc/Tc1RNdm4d6PX0UQki1KRZ1HXXHENn9z3CdPaTeOnP36i+sjqPLP4GY6fPu51NBHJYnx1+eFkYDVws5ntNrPuvlivQNuwtiT0TaBTpU68tvI1Kg+rzKofVnkdS0SyEF9dtfKAc+5a51wO51xx59xoX6xXkl0ZeiVjW49lfsf5HD99nLpj6/LPz/7J4ZOHvY4mIlmATq34kSY3NCEuKo6HazzM4HWDCY8OZ/6O+V7HEhGPqcj9zBU5r+D9O99nxUMrCA0JpdnEZnSd2ZXfjqVcxu8crF0L7dpB3rwQFJT89b77YN265PkiElDMi9vCIyIiXExMTKZvN9AcP32cV5e/yusrX6dIniJE3zGINq/PhNmz4fhxSDrrpqKgIAgNhZYtYfx4yJHDu+AiclnMLNY5F3HudB2R+7HcIbl5teGrxETGcN0V13K8Y3uOT/8Yjh79a4lD8s9HjsCsWdC5s47MRQKIijwAVL6mMusqDebeHTnIffLM3y987BjMmQPr12dOOBHJcCryABHy7iByXqzE/3TsGLz9dsYGEpFMoyIPFPPmnX865UKSkpKXF5GAoCIPFMeOZezyIpJlqcgDRWhoxi4vIlmWijxQNG+efIlhGpwx+K1RnQwOJCKZRUUeKPr1S/NR9okQaH71YgYsGsCxUzrFIuLvVOSBokaN5Jt9LlbmoaEE392G8OZdeWPVG1QeXpkV36/InIwikiFU5IHCLPmOzdat/3dr/tmCgiBPHmjdmlwTpzCq9WgWdlrIyTMnuf2D2+k7ry+HThzyJruIpIuKPJDkyAGTJsEXX0Dbtn991sq998LSpTB58n9vz29cpjFxfeJ4tOajDI0ZSvno8ny2/TNvxyAil0zPWhEAVv+4mh5zepCQmECnip14t+m7FM5T2OtYInIWPWtF/lbtErXZELmB525/jslxkyk3pBxT46fixT/0InJpVOTyX7lCcvFyg5eJjYzl+gLXc/+0+7nno3v46Y+fvI4mIn9DRS7nqXh1Rdb0WMObjd9k/s75hA0JY/SG0To6F8miVOSSqpCgEJ649Qm29N5CpWsq0WNODxp/2JhdB3Z5HU1EzqEil791Y+EbWdJlCcOaD2P9nvVUGFqB99a8x5mkND5pUUQynIpcLirIgugV0YuEvgk0KNWAx+Y/xq1jbiV+X7zX0UQEFblcguL5izPngTlMbDORHb/toMrwKryy7BVOnjnpdTSRbE1FLpfEzOhQoQPb+m6jbVhbnl/6PBEjIli/R39xSMQrKnK5LEXzFmVy28nMaj+LX4/9Sq3RtXhiwRMcPXXU62gi2Y6KXNKl1c2tSIhKoHuV7gxcPZBKwyqx9LulXscSyVZU5JJuBXIXYETLESzuvJgkl0SDcQ3oPbc3B48f9DqaSLagIhefaVi6IVv7bKVf7X6M3DCS8Ohw5n2jvw0qktFU5OJTeXLkYWCTgazuvppCoYVoMbkFD05/kMQjiV5HEwlYKnLJEDWK1SA2MpYX673Ix/EfExYdxuStk3Wbv0gG8EmRm1kzM/vazHaY2QBfrFP8X87gnLxQ/wU29NpAmUJl6DC9A62mtGL3od1eRxMJKOkucjMLBoYAdwJhwANmFpbe9UrgKH9Veb7s9iVvN3mbxbsWEx4dzojYESS5JK+jiQQEXxyR1wB2OOd2OedOAlOA1j5YrwSQ4KBgHq/9OFv7bKXatdXoNbcXjcY3YsdvO7yOJuL3fFHkxYAfz/p5d8o0kfPccOUNLO68mJEtR7Jh7wYqDq3I21++rYdwiaRDpv2y08wizSzGzGISE3UFQ3ZmZvSo2oOEqAQal2lM/4X9qT26NnH74ryOJuKXfFHke4ASZ/1cPGXaXzjnRjjnIpxzEUWLFvXBZsXfFctfjFntZzGl7RS++/07qg6vyotLX+TE6RNeRxPxK74o8vXAjWZW2sxyAu2B2T5Yr2QDZsb95e8noW8C94Xfx0vLXqLaiGqs3b3W62gifiPdRe6cOw08DMwHtgFTnXN6ULVckiJ5ijChzQTmPjCXgycOUnt0bR6f/zhHTh7xOppIlmde3KARERHhYmJiMn274h8OnTjEgEUDGBozlDKFyjCy5Ugalm7odSwRz5lZrHMu4tzpurNTspz8ufIT3TyapV2WEmRBNBrfiJ6ze/L78d+9jiaSJanIJcuqV6oeW3pv4ck6TzJm0xjCo8OZ/bV+/SJyLhW5ZGmhOUJ54443WNtjLYVDC9N6SmvaT2vPviP7vI4mkmWoyMUvRFwXQUxkDK80eIUZX82g3JByTNgyQQ/hEkFFLn4kZ3BOnr39WTb22shNhW+i04xOtJjcgh8P/njxN4sEMBW5+J2womGsfGgl7zV9j6XfLSU8Opyh64fqIVySbanIxS8FBwXzSK1HiOsTR83iNYn6NIoG4xqw/dftXkcTyXQqcvFrpQuVZkHHBYxuNZrNP2+m4rCKvLnqTU4nnfY6mkimUZGL3zMzulXpRkLfBJqVbcZTi56i5qiabP55s9fRRDKFilwCxnX5rmP6fdP5uN3H7D60m4iRETz3xXN6CJcEPBW5BBQz496we0mISqBDhQ68uuJVqgyvwuofV3sdTSTDqMglIBXOU5hxd4/jswc/48ipI9w65lYe/fxRDp887HU0EZ9TkUtAa1a2GXF94oiqHsWgtYOoMLQCC3cu/N8CzsHatdCuHUcLXMk/Wz3BsQKF4L77YN265PkiWZyKXAJevlz5GHzXYJZ3XU7O4Jw0mdCE7rO6c+DQPujQARo2hOnT2VDoemaH1WdDoZLwySfJ0zt0gFOnvB6CyN9SkUu2UbdkXTb33syAWwcwbtMHLK1XktMzZ8DRo5CUxMqSlcE5VpasBElJcOQIzJoFnTvryFyyNBW5ZCu5Q3Lz78b/Ji5iDE0TThJy/H9XtCy5oTqY8cUNNf73hmPHYM4cWL/eg7QiaRPidQARLwz8/CiLHvvrI3Fznk4+hfLtlcUo9dTcv8xr/GEso2rUQCQr0hG5ZEtPznyPYgf3kevU/47IT4bk+MtXgFynTlDs4C88OWtQpmcUSSsVuWRLN+3ZzsLRfWi8Yy2hJ4+nukzoyePcsX0tC0dHcdMePcNFsi4VuWRPoaHkOXWCIbPf5LGVE8h96q9lnvvUcR5bOYHBc94kz6kTEBrqUVCRi1ORS/bUvDkEJX/8fyh4LWcsCEtKIvep41hSEmcsiB8KXgNAkhlJd93lZVqRv6Uil+ypXz8IDWVf3kJMqdQUMK77I5FBcwZy3R/7AWNKpWbsy1uQYyGOLmU2s3HvRq9Ti6RKRS7ZU40a0LIl79/ekdPBITT9ZjULR0fRdPsaFo7uQ5PtqzkdHML7dTvy2x23sbDw71QfWZ3/W/x/HD+d+jl1Ea+oyCV7MoPx4zlWpixvLhrK4HkDk8+FQ/K587kDeXNhNMduuJESM79g28Nf0blSZ/698t9UHlaZVT+s8ngAIv9jXvzx2oiICBcTE5Pp2xU5j3PJN/sMHAiffpp8A1BoaPI59P79oXr1vyy+YOcCIudE8sPBH+hbvS+vNXqNfLnyeRReshszi3XORZw3XUUucmkOnzzMM4uf4T/r/kOJAiUY0WIETcs29TqWZAMXKnKdWhG5RFfkvIJBdw5iZbeV5MmRh2YTm9FlZhd+O/ab19Ekm1KRi1ymOiXqsLHXRp6p+wyTtk6i3JByTEuY5nUsyYZU5CLpkDskN682fJX1PddTPH9x2n3cjrZT27L3j71eR5NsREUu4gOVr6nM2h5reb3R68z7Zh5h0WGM3TgWL34HJdlPuorczNqZWbyZJZnZeSfgRbKTkKAQnrrtKbb02UKFqyrQbXY3mk5oyrcHvvU6mgS49B6RxwFtgOU+yCISEG4qfBNLuy4l+q5oVu9eTfmh5Xl/7fucSTrjdTQJUOkqcufcNufc174KIxIogiyIPtX7EB8VT72S9Xjk80eoO7Yu2xK3eR1NAlCmnSM3s0gzizGzmMTExMzarIinri9wPfM6zOPDez7k61+/pvLwyvxr+b84dUZ/B1R856JFbmaLzCwulVfrS9mQc26Ecy7CORdRtGjRy08s4mfMjI4VO7Kt7zbuvuVunl3yLBEjI4j9KdbraBIgLlrkzrnGzrnyqbxmZUZAkUBxVd6r+Ojej5hx/wwSjyRSc1RNBiwawLFTx7yOJn5Olx+KZLK7b7mbhL4JdK3clTdWvUGlYZVY/r2uF5DLl97LD+8xs91AbWCemc33TSyRwFYwd0FGtRrFok6LOJ10mnof1CNqXhSHThzyOpr4ofRetTLDOVfcOZfLOXe1c05PDhK5BI3KNGJrn608VusxhsUMo3x0eT7d/qnXscTP6NSKiMfy5szLO03f4cvuX5IvVz6aT2pOpxmd2H90v9fRxE+oyEWyiFrFa7EhcgPP3/48U+KmEDYkjKnxU3Wbv1yUilwkC8kVkouXGrxEbGQsJQuW5P5p93PPR/fw0x8/eR1NsjAVuUgWVPHqiqzuvpq37niL+TvnEzYkjFEbRunoXFKlIhfJokKCQuhfpz9b+2yl8jWV6TmnJ40/bMyuA7u8jiZZjIpcJIsre2VZvujyBcNbDGf9nvWUjy7Pu6vf1UO45L9U5CJ+IMiCiKwWSULfBBqWbsjjCx7n1jG3Er8v3utokgWoyEX8SPH8xZnzwBwmtZnEzgM7qTK8Ci8ve5mTZ056HU08pCIX8TNmxgMVHiAhKoF7w+7lhaUvUG1ENdbvWe91NPGIilzETxXNW5RJbScxu/1sDhw7QK3Rtei/oD9HTx31OppkMhW5iJ9reXNL4qPi6Vm1J2+vfpuKQyuy9LulXseSTKQiFwkABXIXYFiLYXzR+QsAGoxrQK85vTh4/KDHySQzqMhFAkiD0g3Y0mcL/Wv3Z9TGUYRHhzP3m7lex5IMpiIXCTB5cuThrSZvsbr7agqFFqLl5JZ0+KQDiUf0JxYDlYpcJEDVKFaD2MhYXqr/EtMSphEWHcbkrZN1m38AUpGLBLCcwTl5vt7zbOy1kRsK3UCH6R1oNaUVuw/t9jqa+JCKXCQbCL8qnFXdVvFOk3dYvGsxYUPCGB4znCSX5HU08QEVuUg2ERwUzGO1HyMuKo7qxarTe15vGo1vxI7fdngdTdJJRS6SzZQpVIZFnRYxsuVINuzdQIWhFRj45UBOJ532OppcJhW5SDZkZvSo2oOEqASa3NCEJxY+QZ3Rddj6y1avo8llUJGLZGPF8hdj5v0z+ejej/ju9++oOqIqLyx5gROnT3gdTS6BilwkmzMz7gu/j219t9G+fHteXv4yVUdUZc3uNV5HkzRSkYsIAIXzFObDez5kXod5HDpxiDqj6/D4/Mc5cvKI19HkIlTkIvIXd914F/FR8fSO6M27a96lwtAKLN612OtY8jdU5CJynvy58hPdPJplXZcREhRC4w8b03N2T34//rvX0SQVKnIRuaDbS97O5t6bebLOk4zZNIawIWHM+mqW17HkHCpyEflboTlCeeOON1jbYy1F8xbl7o/u5v5p9/PL4V+8jiYpVOQikiYR10UQ0zOGVxu8ysyvZhIWHcaELRP0EK4sQEUuImmWIzgHz9z+DJt6beLmwjfTaUYnmk9qzg8Hf/A6WramIheRS1auaDlWPLSCQc0Gsez7ZYRHhzN0/VA9hMsj6SpyM3vLzL4ysy1mNsPMCvoqmIhkbcFBwfyz5j+J6xNHreK1iPo0ivof1OebX7/xOlq2k94j8oVAeedcReAb4On0RxIRf1K6UGkWdFzAmFZj2LpvK5WGVeLNVW/qIVyZKF1F7pxb4Jz7c2+tAYqnP5KI+Bsz46EqD5EQlcCdZe/kqUVPUXNUTTb/vNnraNmCL8+RdwM+u9BMM4s0sxgzi0lM1N8OFAlE1+a7lun3T2dau2nsObSHiJERPPvFsxw/fdzraAHNLnbpkJktAq5JZdYzzrlZKcs8A0QAbVwarkWKiIhwMTExlxFXRPzFb8d+4/H5jzNu8zhuKXILo1uNpk6JOl7H8mtmFuucizh3+kWPyJ1zjZ1z5VN5/VniXYEWwINpKXERyR6uDL2SD+7+gM8f/Jyjp45y25jbeOSzRzh88rDX0QJOeq9aaQY8CbRyzh31TSQRCSRNyzYlrk8cfav35f1171NhaAUW7lzodayAkt5z5IOBfMBCM9tkZsN8kElEAky+XPn4z13/YcVDK8gVnIsmE5rQbVY3Dhw74HW0gJDeq1bKOudKOOcqp7x6+yqYiASe266/jU29N/H0bU8zfvN4wqLDmL5tutex/J7u7BSRTJU7JDevNXqN9T3Xc80V19B2alvunXovPx/+2etofktFLiKeqHJtFdb1WMdrDV9j7jdzCRsSxrhN4/QQrsugIhcRz+QIzsHTdZ9mU+9NhBUNo+usrtw58U6+//17r6P5FRW5iHjuliK3sPyh5Qy+czCrflxFeHQ4g9cN1kO40khFLiJZQpAF0bdGX+L6xHHb9bfxj8/+we1jb+er/V95HS3LU5GLSJZSsmBJPnvwM8bdPY6ExAQqDavEayte49SZU15Hy7JU5CKS5ZgZnSt1ZlvfbbS6uRXPfPEMNUbVYOPejV5Hy5JU5CKSZV19xdV83O5jPrnvE34+/DPVR1bn6UVP6yFc51CRi0iW16ZcGxKiEuhcqTOvr3qdSsMqsfKHlV7HyjJU5CLiFwqFFmJM6zEs6LiAk2dOUndsXR7+9GH+OPGH19E8pyIXEb9yxw13sLXPVh6p+QjR66MpP7Q8n+/43OtYnlKRi4jfuSLnFbzX7D1WdVtF3hx5uXPinXSZ2YVfj/7qdTRPqMhFxG/VLlGbjb028mzdZ5m0dRJh0WFMS5iW7W7zV5GLiF/LFZKLVxq+QkzPGErkL0G7j9vRdmpb9v6x1+tomUZFLiIBodI1lVjTYw1vNH6Dz3Z8Rlh0GGM3js0WR+cqchEJGCFBITx565Ns7r2ZildXpNvsbjSZ0IRvD3zrdbQMpSIXkYBzU+GbWNJlCUObD2Xt7rWUH1qeQWsGcSbpjNfRMoSKXEQCUpAF0TuiN/FR8dQrWY9H5z9K3bF1SUhM8Dqaz6nIRSSglShQgnkd5jHhngl88+s3VBlehVeXvxpQD+FSkYtIwDMzHqz4IAl9E7jnlnt4bslzRIyMIPanWK+j+YSKXESyjavyXsWUe6cw8/6Z7D+6nxqjavDUwqc4duqY19HSRUUuItlO61taEx8VT/cq3XnzyzepNKwSy75b5nWsy6YiF5FsqWDugoxoOYLFnRdzxp2h/rj69Jnbh0MnDnkd7ZKpyEUkW2tYuiFbem/h8VqPM2LDCMKjw/l0+6dex7okKnIRyfby5szL203f5stuX5I/V36aT2pOx+kd2X90v9fR0kRFLiKSombxmmyI3MAL9V7go/iPCBsSxkdxH2X52/xV5CIiZ8kVkosX67/IhsgNlCpYivaftOfuj+5mz6E9Xke7IBW5iEgqKlxdgdXdVzPwjoEs3LmQsOgwRsaOzJJH5ypyEZELCA4Kpl+dfmzps4Wq11Ylcm4kjcY3YudvO72O9hcqchGRiyh7ZVkWd17M8BbDid0bS4WhFXhn9TtZ5iFc6SpyM3vFzLaY2SYzW2Bm1/kqmIhIVhJkQURWiyQ+Kp5GZRrRb0E/6oypQ9y+OK+jpfuI/C3nXEXnXGVgLvC8DzKJiGRZxfMXZ3b72UxuO5ldB3ZRdXhVXlr6EifPnPQsU7qK3Dl39i1QeYGs91sAEREfMzPal2/Ptr7baBfejheXvUi1EdVYt2edJ3nSfY7czP5lZj8CD/I3R+RmFmlmMWYWk5iYmN7Nioh4rkieIkxsM5E5D8zhwLED1B5dm/4L+nP01NFMzWEXu5TGzBYB16Qy6xnn3KyzlnsayO2ce+FiG42IiHAxMTGXmlVEJMs6ePwgTy16iuGxwylTqAyjWo6iQekGPt2GmcU65yLOnX7RI3LnXGPnXPlUXrPOWXQi0NZXgUVE/EmB3AUY1mIYS7oswTAajm9Irzm9OHj8YIZvO71Xrdx41o+tga/SF0dExL/VL1WfLX220L92f0ZtHEVYdBhzvp6TodtM7zny180szsy2AE2AR3yQSUTEr+XJkYe3mrzFmu5rKBxamFZTWtHhkw4kHsmY3w9e9Bx5RtA5chHJLk6eOckbK9/gleWvkD9XfqbdN436pepf1rou+xy5iIhcvpzBOXmu3nNs7LWRatdVo+yVZX2+jRCfr1FERM4TflU48zvOz5B164hcRMTPqchFRPycilxExM+pyEVE/JyKXETEz6nIRUT8nIpcRMTPqchFRPycJ7fom1ki8H2mb9g3igD7vQ7hYxqT/wjEcWlMaVfSOVf03ImeFLk/M7OY1J514M80Jv8RiOPSmNJPp1ZERPycilxExM+pyC/dCK8DZACNyX8E4rg0pnTSOXIRET+nI3IRET+nIhcR8XMq8nOY2ZVmttDMtqd8LXSB5a43swVmts3MEsysVMr00ma21sx2mNlHZpYzM/NfyCWM64yZbUp5zT5r+gdm9u1Z8ypnXvrU+WBMWW5fpXVMKcvmN7PdZjb4rGlLzezrs8Z7VeYk/3s+GFUFE5AAAAPTSURBVFc1M9uasq/eNzPLnOQXlpYxmVlJM9uQsi/izaz3WfN8tq9U5OcbACx2zt0ILE75OTXjgbecc+WAGsC+lOlvAO8658oCB4DuGZw3rdI6rmPOucopr1bnzHvirHmbMjRt2qR3TFlxX6V1TACvAMtTmf7gWePdl8p8L6R3XEOBnsCNKa9mGRHyEqVlTHuB2s65ykBNYICZXXfWfJ/sKxX5+VoD41K+Hwfcfe4CZhYGhDjnFgI45w47546mHCU0BKb93fs9ctFx+aHLHlMW3ldpGpOZVQOuBhZkUq70uuxxmdm1QH7n3BqXfHXG+Au9P5NddEzOuZPOuRMpP+YigzpXRX6+q51ze1O+/5nkD9W5bgJ+N7PpZrbRzN4ys2CgMPC7c+50ynK7gWIZHzlN0jIugNxmFmNma8zs3A/mv8xsi5m9a2a5Mi5qmqVnTFl1X110TGYWBLwN9L/AOsam/K/6c1nhFESK9IyrGMn7509+s68AzKyEmW0BfgTecM79dNZsn+yrbPnHl81sEXBNKrOeOfsH55wzs9SuzwwB6gJVgB+Aj4CuwCzfJr00PhgXJD/LYY+ZlQG+MLOtzrmdwNMkf1hzknyN7FPAy75Ln7qMGhNw0MdR08wHY4oCPnXO7U7lv/0HU8aaD/gE6ETyEWyGy+BxecIXnz/n3I9AxZRTKjPNbJpz7hd8uK+yZZE75xpfaJ6Z/WJm1zrn9qb8L11q5612A5ucc7tS3jMTqAWMAQqaWUjKkV5xYI/vR5A6H4wL59yelK+7zGwpyf9Y7TzryOOEmY3lwkeDPpWBY/oEj/aVD8ZUG6hrZlHAFUBOMzvsnBtw1lj/MLNJJP/+JlOKPKPGBQwief/8yZ/21dnr+snM4kg+CJzmy32lUyvnmw10Sfm+C6kfZa8nuQT+fApZQyAh5fzdEuDei7zfCxcdl5kV+vOUiZkVAW4FElJ+vjblq5F8LjAuEzJfzGWPKQvvq4uOyTn3oHPueudcKZL/QR3vnBtgZiEpY8TMcgAtyBr7CdIxrpSDiENmVivl89c5tfd7IC2fv+JmFpryfSHgNuBrn+8r55xeZ71IPne6GNgOLAKuTJkeAYw6a7k7gC3AVuADIGfK9DLAOmAH8DGQy+sxpXVcQJ2U8WxO+dr9rPd/kTItDpgAXBEAY8py+yqtn7+zlu8KDE75Pi8Qm/K5jCf5SDbY6zGld1xnLRcH7AQGk3JXelYf01k9sTnla2RG7Cvdoi8i4ud0akVExM+pyEVE/JyKXETEz6nIRUT8nIpcRMTPqchFRPycilxExM/9P2BqBMTvj7/eAAAAAElFTkSuQmCC\n",
         "text/plain": "<Figure size 432x288 with 1 Axes>"
        },
        "metadata": {
         "needs_background": "light"
        },
        "output_type": "display_data"
       }
      ]
     }
    },
    "723f0d9002e4469aa8b4d9ff2876afd6": {
     "model_module": "@jupyter-widgets/base",
     "model_module_version": "1.2.0",
     "model_name": "LayoutModel",
     "state": {
      "_model_module": "@jupyter-widgets/base",
      "_model_module_version": "1.2.0",
      "_model_name": "LayoutModel",
      "_view_count": null,
      "_view_module": "@jupyter-widgets/base",
      "_view_module_version": "1.2.0",
      "_view_name": "LayoutView",
      "align_content": null,
      "align_items": null,
      "align_self": null,
      "border": null,
      "bottom": null,
      "display": null,
      "flex": null,
      "flex_flow": null,
      "grid_area": null,
      "grid_auto_columns": null,
      "grid_auto_flow": null,
      "grid_auto_rows": null,
      "grid_column": null,
      "grid_gap": null,
      "grid_row": null,
      "grid_template_areas": null,
      "grid_template_columns": null,
      "grid_template_rows": null,
      "height": null,
      "justify_content": null,
      "justify_items": null,
      "left": null,
      "margin": null,
      "max_height": null,
      "max_width": null,
      "min_height": null,
      "min_width": null,
      "object_fit": null,
      "object_position": null,
      "order": null,
      "overflow": null,
      "overflow_x": null,
      "overflow_y": null,
      "padding": null,
      "right": null,
      "top": null,
      "visibility": null,
      "width": null
     }
    },
    "7c853b82c1d547e591e215c190186416": {
     "model_module": "@jupyter-widgets/controls",
     "model_module_version": "1.5.0",
     "model_name": "SliderStyleModel",
     "state": {
      "_model_module": "@jupyter-widgets/controls",
      "_model_module_version": "1.5.0",
      "_model_name": "SliderStyleModel",
      "_view_count": null,
      "_view_module": "@jupyter-widgets/base",
      "_view_module_version": "1.2.0",
      "_view_name": "StyleView",
      "description_width": "",
      "handle_color": null
     }
    },
    "7c9b97928cbf48db93accfa02dcd46b3": {
     "model_module": "@jupyter-widgets/controls",
     "model_module_version": "1.5.0",
     "model_name": "IntSliderModel",
     "state": {
      "_dom_classes": [],
      "_model_module": "@jupyter-widgets/controls",
      "_model_module_version": "1.5.0",
      "_model_name": "IntSliderModel",
      "_view_count": null,
      "_view_module": "@jupyter-widgets/controls",
      "_view_module_version": "1.5.0",
      "_view_name": "IntSliderView",
      "continuous_update": true,
      "description": "seed",
      "description_tooltip": null,
      "disabled": false,
      "layout": "IPY_MODEL_b6da1ec793b64fa6a677c63775d74bfd",
      "max": 10,
      "min": 0,
      "orientation": "horizontal",
      "readout": true,
      "readout_format": "d",
      "step": 1,
      "style": "IPY_MODEL_1af49b03019040f08def559c89a56d6d",
      "value": 5
     }
    },
    "91ec1b66751247c2a3137258ffbc915d": {
     "model_module": "@jupyter-widgets/base",
     "model_module_version": "1.2.0",
     "model_name": "LayoutModel",
     "state": {
      "_model_module": "@jupyter-widgets/base",
      "_model_module_version": "1.2.0",
      "_model_name": "LayoutModel",
      "_view_count": null,
      "_view_module": "@jupyter-widgets/base",
      "_view_module_version": "1.2.0",
      "_view_name": "LayoutView",
      "align_content": null,
      "align_items": null,
      "align_self": null,
      "border": null,
      "bottom": null,
      "display": null,
      "flex": null,
      "flex_flow": null,
      "grid_area": null,
      "grid_auto_columns": null,
      "grid_auto_flow": null,
      "grid_auto_rows": null,
      "grid_column": null,
      "grid_gap": null,
      "grid_row": null,
      "grid_template_areas": null,
      "grid_template_columns": null,
      "grid_template_rows": null,
      "height": null,
      "justify_content": null,
      "justify_items": null,
      "left": null,
      "margin": null,
      "max_height": null,
      "max_width": null,
      "min_height": null,
      "min_width": null,
      "object_fit": null,
      "object_position": null,
      "order": null,
      "overflow": null,
      "overflow_x": null,
      "overflow_y": null,
      "padding": null,
      "right": null,
      "top": null,
      "visibility": null,
      "width": null
     }
    },
    "9af2af3a6a464ab4883be2f869b05cee": {
     "model_module": "@jupyter-widgets/controls",
     "model_module_version": "1.5.0",
     "model_name": "SliderStyleModel",
     "state": {
      "_model_module": "@jupyter-widgets/controls",
      "_model_module_version": "1.5.0",
      "_model_name": "SliderStyleModel",
      "_view_count": null,
      "_view_module": "@jupyter-widgets/base",
      "_view_module_version": "1.2.0",
      "_view_name": "StyleView",
      "description_width": "",
      "handle_color": null
     }
    },
    "9b678cc13068422f9fec58a7a1373f87": {
     "model_module": "@jupyter-widgets/controls",
     "model_module_version": "1.5.0",
     "model_name": "FloatSliderModel",
     "state": {
      "_dom_classes": [],
      "_model_module": "@jupyter-widgets/controls",
      "_model_module_version": "1.5.0",
      "_model_name": "FloatSliderModel",
      "_view_count": null,
      "_view_module": "@jupyter-widgets/controls",
      "_view_module_version": "1.5.0",
      "_view_name": "FloatSliderView",
      "continuous_update": true,
      "description": "u",
      "description_tooltip": null,
      "disabled": false,
      "layout": "IPY_MODEL_4ccf0ea370d4499ba54b1f6edc27d9b0",
      "max": 2,
      "min": -1,
      "orientation": "horizontal",
      "readout": true,
      "readout_format": ".2f",
      "step": 0.1,
      "style": "IPY_MODEL_7c853b82c1d547e591e215c190186416",
      "value": 0.5
     }
    },
    "a9c8e243c1af43f6abaf53f993b17895": {
     "model_module": "@jupyter-widgets/controls",
     "model_module_version": "1.5.0",
     "model_name": "FloatSliderModel",
     "state": {
      "_dom_classes": [],
      "_model_module": "@jupyter-widgets/controls",
      "_model_module_version": "1.5.0",
      "_model_name": "FloatSliderModel",
      "_view_count": null,
      "_view_module": "@jupyter-widgets/controls",
      "_view_module_version": "1.5.0",
      "_view_name": "FloatSliderView",
      "continuous_update": true,
      "description": "s",
      "description_tooltip": null,
      "disabled": false,
      "layout": "IPY_MODEL_14bbbd03fa524f03822f6691dcd4f2b3",
      "max": 2,
      "min": -2,
      "orientation": "horizontal",
      "readout": true,
      "readout_format": ".2f",
      "step": 0.1,
      "style": "IPY_MODEL_139321ff654e428bbd1b1e8b7796ff79",
      "value": 0
     }
    },
    "b6da1ec793b64fa6a677c63775d74bfd": {
     "model_module": "@jupyter-widgets/base",
     "model_module_version": "1.2.0",
     "model_name": "LayoutModel",
     "state": {
      "_model_module": "@jupyter-widgets/base",
      "_model_module_version": "1.2.0",
      "_model_name": "LayoutModel",
      "_view_count": null,
      "_view_module": "@jupyter-widgets/base",
      "_view_module_version": "1.2.0",
      "_view_name": "LayoutView",
      "align_content": null,
      "align_items": null,
      "align_self": null,
      "border": null,
      "bottom": null,
      "display": null,
      "flex": null,
      "flex_flow": null,
      "grid_area": null,
      "grid_auto_columns": null,
      "grid_auto_flow": null,
      "grid_auto_rows": null,
      "grid_column": null,
      "grid_gap": null,
      "grid_row": null,
      "grid_template_areas": null,
      "grid_template_columns": null,
      "grid_template_rows": null,
      "height": null,
      "justify_content": null,
      "justify_items": null,
      "left": null,
      "margin": null,
      "max_height": null,
      "max_width": null,
      "min_height": null,
      "min_width": null,
      "object_fit": null,
      "object_position": null,
      "order": null,
      "overflow": null,
      "overflow_x": null,
      "overflow_y": null,
      "padding": null,
      "right": null,
      "top": null,
      "visibility": null,
      "width": null
     }
    },
    "d4ae62ec4f174d88b11ef2ba15979db5": {
     "model_module": "@jupyter-widgets/base",
     "model_module_version": "1.2.0",
     "model_name": "LayoutModel",
     "state": {
      "_model_module": "@jupyter-widgets/base",
      "_model_module_version": "1.2.0",
      "_model_name": "LayoutModel",
      "_view_count": null,
      "_view_module": "@jupyter-widgets/base",
      "_view_module_version": "1.2.0",
      "_view_name": "LayoutView",
      "align_content": null,
      "align_items": null,
      "align_self": null,
      "border": null,
      "bottom": null,
      "display": null,
      "flex": null,
      "flex_flow": null,
      "grid_area": null,
      "grid_auto_columns": null,
      "grid_auto_flow": null,
      "grid_auto_rows": null,
      "grid_column": null,
      "grid_gap": null,
      "grid_row": null,
      "grid_template_areas": null,
      "grid_template_columns": null,
      "grid_template_rows": null,
      "height": null,
      "justify_content": null,
      "justify_items": null,
      "left": null,
      "margin": null,
      "max_height": null,
      "max_width": null,
      "min_height": null,
      "min_width": null,
      "object_fit": null,
      "object_position": null,
      "order": null,
      "overflow": null,
      "overflow_x": null,
      "overflow_y": null,
      "padding": null,
      "right": null,
      "top": null,
      "visibility": null,
      "width": null
     }
    },
    "f3c253cfa803478d88400377b7d08643": {
     "model_module": "@jupyter-widgets/output",
     "model_module_version": "1.0.0",
     "model_name": "OutputModel",
     "state": {
      "_dom_classes": [],
      "_model_module": "@jupyter-widgets/output",
      "_model_module_version": "1.0.0",
      "_model_name": "OutputModel",
      "_view_count": null,
      "_view_module": "@jupyter-widgets/output",
      "_view_module_version": "1.0.0",
      "_view_name": "OutputView",
      "layout": "IPY_MODEL_5f17463600024991b1061318ffb273eb",
      "msg_id": "",
      "outputs": [
       {
        "data": {
         "image/png": "iVBORw0KGgoAAAANSUhEUgAAAXwAAAD4CAYAAADvsV2wAAAABHNCSVQICAgIfAhkiAAAAAlwSFlzAAALEgAACxIB0t1+/AAAADh0RVh0U29mdHdhcmUAbWF0cGxvdGxpYiB2ZXJzaW9uMy4yLjIsIGh0dHA6Ly9tYXRwbG90bGliLm9yZy+WH4yJAAAgAElEQVR4nO3dd3hUddr/8fedkEDovXekJLqIEpCiFGlCkDYRXXUVr1UU5Yer4uIuK7i4oqIsdrA+Lo+PbTNAwFCkiIIIIaIiMITeQgu9JCFlvr8/ZowBEkqmnCn367rmysycb+bcmeR8cubMme8txhiUUkqFvgirC1BKKeUfGvhKKRUmNPCVUipMaOArpVSY0MBXSqkwUcbqAkpSs2ZN07RpU6vLUEqpoPLjjz8eMcbUKm5ZwAZ+06ZNSUtLs7oMpZQKKiKyu6RlekhHKaXChMeBLyKNROQbEdkkIhtF5PFixoiIvCEi20RkvYjc6Ol6lVJKXR1v7OHnA08ZY+KATsBjIhJ3wZj+QEv3ZSQw3QvrVUqp0GAMrFkDd9wBFSpARITr6/DhkJrqWu4FHge+MeaAMWad+/ppwAE0uGDYYGCmcVkNVBWRep6uWymlgl5eHtx9N9x6K8yaBVlZroDPygK73XX/3Xe7xnnIq8fwRaQpcAOw5oJFDYC9RW7v4+J/CojISBFJE5G0zMxMb5amlFKBxxi47z6YO9cV8E7n+cudTjh7FpKTXeM83NP3WuCLSEXADvzFGHOqNI9hjHnPGBNvjImvVavYs4qUUip0pKbCvHmusL+U7GzXuLVrPVqdVwJfRKJwhf3/GWNmFTMkA2hU5HZD931KKRW+pk51hfmVyM52jfeAN87SEeBDwGGM+XcJw+YC97nP1ukEnDTGHPB03UopFdRSUs47jHMsBh6/DUYMLmas0+ka7wFvfPCqK/An4FcR+dl939+BxgDGmBnAfGAAsA3IAh7wwnqVUiq4ZWdzqALMaQNJcbC0GZgIqHgOPpoLERcesr/SVwMl8DjwjTErAbnMGAM85um6lFIqFGScymCWYxb2B4QVDQ3OCKhwzhX2/bdC0hfFhD1ATIxH6w3YqRWUUiqU7DqxC/smO0mOJFbvWw1AXO3KPJp2ikUtYHs1mLoInvihhD3oiAhISPCoBg18pZTykS1Ht5C0KQm7w866A+sAaFe3Hf/q+S9scTYyUpcw3Pw/DLDwE+iz4xIPVq4cPPWUR/Vo4CullJcYY9hweAN2hx27w86GwxsA6NigI1N6T2FY7DBaVG+BMYbX17zO2LSxtImoQvLHObQ4cK7kB46JgUGDoEMHj+rTwFdKKQ8YY1h3YB12h52kTUlsPbYVQbi58c281u81hsUOo1GV389Kz8nP4eGvHmbmLzMZ0mYIMxM+pNLOx1zn2Wdnn//hq4gI1579oEEwcybIJd8uvSwNfKWUukpO42TNvjWFe/K7TuwiUiLp0bQHT3R6gqGxQ6lbse5F35dxKoOhXwxl7f61PNf9OZ7t/iwREgGffur6UNWrr8L8+a7gj4lxHbMfO9bjPfvfaOArpdQVKHAWsHLPSpI2JTF782wyTmcQFRFF7+a9ebbbswxqPYia5WuW+P2r9q7C9qWNM7lnmH3nbIa0GfL7QhHo2BG+/NKnP4MGvlJKlSCvII/lu5aTtCmJOelzOHz2MOXKlKNfi368FPcSA1sNpGq5qpd9nA/WfcCjKY/SuEpjlvxpCdfWvtYP1V9MA18ppYo4l3+OxTsWY3fYSd6czPGc41SIqkBCqwRssTYGtBxAxeiKV/RYeQV5/GXhX3gn7R36tujLZ7bPqB5T3cc/Qck08JVSYS8rL4uF2xZid9j5astXnDp3isplKzOo9SBssTb6tehHTNTVfejp8NnD3PHfO/hu93eM7TyWF3u/SJkIayNXA18pFZZOnztNytYU7A4787fOJysvi+ox1UmMTcQWZ6NXs16ULVO2VI/904GfGPLFEA6fPcwnQz/hnrb3eLn60tHAV0qFjePZx5m3ZR5Jm5L4evvXnCs4R50Kdbiv7X0kxiXSvWl3j/fCP/v1M/4898/UKF+DlQ+spH399l6q3nMa+EqpkJZ5NpM5m+dgd9hZunMp+c58GlZuyCPxj2CLtdGlURciIyI9Xk+Bs4C/L/07U1ZN4ebGN5N0RxJ1Ktbxwk/gPRr4SqmQs//0fmY7ZmN32Pl297c4jZPm1ZrzRKcnsMXa6NCgg+v8dy85nn2cu2fdzcJtC3mk/SO83v91oiOjvfb43qKBr5QKCbtP7HbNQOmws2rvKgyGNjXb8Leb/4Yt1ka7uu0QDz+pWhxHpoPBnw9m14ldvDvwXUa2H+n1dXiLBr5SKmhtO7atcAbKtP1pALSt05bnejxHYlwicbXifLr+eenzuGfWPcRExbDs/mXc3Phmn67PUxr4SqmgsilzU2HIrz+0HoD4+vG82OtFbLE2WtZo6fManMbJ5BWTmfDNBG6sdyOz75x93nw5gUoDXykV0Iwx/HLol8Jphjcf2QxA10Zd+XfffzMsdhhNqjbxWz1ncs8wYs4I7A4797a9l/cGvnfV5+hbRQNfKRVwjDGkZqQWTk624/gOIiSC7k26M7rDaIbGDqV+pfp+r2vH8R0M+XwIGzM38mqfV3my85M+eV/AVzTwlVIBocBZwKq9q7A77MxyzGLvqb2UiShDr2a9eKbrMwxpM4RaFWpZVt/SHUsZnjQcYwwL71lInxZ9LKultDTwlVKWyXfm8+2ubwtD/tDZQ5SNLEvfFn15vufzDGo9iGox1SytsbBZyddjaVOzDcl3JdOiegtLayotDXyllF/lFuSydMdSkjYlkZyezNHso5SPKk//a/qTGJdIQssEKpWtZHWZQDHNSobMDJjaSkMDXynlc9l52Szavgi7w8689HmcPHeSStGVuL317dhibdx2zW2UjypvdZnnKbFZSRDTwFdK+cSZ3DPM3zofu8NOypYUzuadpVq5agyNHYot1kbv5r0pV6ac1WUW65LNSoKYBr5SymtO5pxk3pZ52B12Fm5bSE5+DrXK1+KeP9yDLc5Gz6Y9iYqMsrrMSwqUZiW+oIGvlPLI0ayjJKcnY3fYWbx9MXnOPOpXqs+DNzxIYlwiNze+2SuTk/laoDUr8QUNfKXUVTt45iBzNs8haVMSy3ctp8AU0KRKE8bcNAZbrI2bGt4UVMe7A7FZiS+E3k+klPKJvSf3Fk5OtnLPSgyGltVb8teuf8UWa+PGejcG1YeQfhOozUp8QQNfKVWiHcd3YN/k+rTrmow1AFxX+zomdJ+ALdbGdbWvC8qQ/00gNyvxBQ18pdR5Nh/ZXBjyPx38CYAb693IC7e+gC3WRuuarS2u0HPB0KzEF7wS+CLyETAQOGyMua6Y5T2AZGCn+65ZxphJ3li3Usozxhh+Pfxr4QyUmzI3AdCpYSde6fMKtlgbzao1s7hK7wmWZiW+4K09/I+Bt4CZlxizwhgz0EvrU0p5wBjDjwd+LJyBctuxbQhCtybdeOO2NxgaO5SGlRtaXabXFW1WMiNhBg/HP2x1SX7llcA3xnwnIk298VhKKd9wGier960maVMSsxyz2H1yN5ESya3NbmVs57EMaTMkpA9rBFuzEl/w5zH8ziLyC7AfGGuM2ejHdSsVlvKd+azYvQK7w87szbPZf3o/0ZHR9Gneh4ndJzKo9SBqlK9hdZk+FazNSnzBX4G/DmhijDkjIgOAOcBFbWlEZCQwEqBx48Z+Kk2p0JJXkMeyncuwO+zM2TyHzKxMypUpR/9r+mOLtTGw1UCqlKtidZl+EczNSnzBL4FvjDlV5Pp8EXlHRGoaY45cMO494D2A+Ph444/alAoFOfk5LN6+GLvDTnJ6MidyTlAxuiIJLRNIjEuk/zX9qRBdweoy/SrYm5X4gl8CX0TqAoeMMUZEOgIRwFF/rFupUHU29ywLty0kyZHEV1u+4kzuGaqUrcKg1oNIjEukb4u+ATs5ma+FQrMSX/DWaZmfAT2AmiKyD5gIRAEYY2YAicAoEckHsoG7jDG6B6/UVTp17hRfbfkKu8POgq0LyM7Ppmb5mtx17V3Y4mzc2uzWsDnFsDih1KzEF7x1ls4fL7P8LVynbSqlrtKx7GPMTZ+L3WHn6+1fk1uQS92KdXmg3QPY4mx0a9ItJOd9uVqh1qzEF/SvRKkAdPjsYeZsnoPdYWfZzmXkO/NpVLkRj8Y/SmJcIp0bdQ6qycl8LRSblfiCBr5SASLjVAazN8/G7rDz3e7vcBonLaq14KnOT2GLtRFfPz7s33QsTqg2K/EFDXylLLTrxC5mOWaRtCmJH/b9AEBszVjG3zIeW6yNtnXaashfQig3K/EFDXyl/GzL0S2Fk5P9eOBHANrVbcfzPZ/HFmsjtlasxRUGvnBoVuILGvhKXaWs3HyemfUrLw9rS0z05Ts5GWPYmLmxMOR/PfwrAB0bdOTl3i9ji7XpmSRXIVyalfiCPktKXaV1u08w9+f93BnfiK7X1Cx2jDGGnw7+VDgD5ZajWxCEro278lq/1xgWOyxsP97viXBqVuILGvhKXaWV2zJdX7ceOS/wncZJakZq4Z78zhM7iZRIujftzl9u+gtD2gyhXqV6VpUd9MKtWYkvaOArdZW+2ewK/GWbDzO2X0u+3/t94QyUGacziIqIonfz3oy/ZTyD2wymZvniXwWoKxOuzUp8QQL1A6/x8fEmLS3N6jJUmHvwP2tZ4jh83n1RkUJegUGkAGPOP4bfpkEunz/Uk6rlqvqzzJAVzs1KSktEfjTGxBe3TPfwlbqEv97WBseBUxw5k8u5fCcAeQWunaSiYV+2TAQ1K5bljeHdqFpOP93pDeHerMQXNPCVKkF2XjYbjy2hcYs57FzfiDLcQAQXT0YWExVJr9jaTElsS/lo3aS8YW76XO6ddW9YNyvxBf3rVKqI0+dOM3/rfOwOOylbU8jKy6J6THWGxA+hckFnFvwUQU6es3B8uagInujTkpHd9LRKb3AaJy989wITlk+gfb32Yd2sxBc08FXYO5FzonByskXbFnGu4Bx1KtThvrb3YYuz0b1Jd6Iio/jH7F8pcO5FgLJREZzLc1LgNOw5lm31jxAStFmJ72ngq7B0JOtI4eRkS3csJc+ZR8PKDXm4/cPY4mx0bdSVyIjfj9EfPpXD52v3IgL1q8Yw4fY4Js3byOHT5/g8dQ9jel1D7UrhOfe8N2izEv/QwFdh48DpA4WTk32761sKTAHNqjbj8ZseJzEukQ4NOpQ4w+IbS7eS7zQMbFuv8Fj9LS1r8nTSelLWH+CNpdv415Dr/PwThQZtVuI/GvgqpO05uYdZjlnYHXa+3/M9BkPrGq0Z13UciXGJtKvb7or2JLPznEyxtWV4h9+PJ5ePLsPbd99I95Z7WbNTG7hdLW1W4n96Hr4KOduPbcfusJO0KYm1+9cC8IfafyAxLhFbrI24WnF6uMBi2qzEd/Q8fBXyHJmOwpD/5dAvAMTXj+fFXi9ii7XRskZLiytUv9FmJdbRwFdByRjD+kPrSdqUhN1hx3HEAUCXRl2Y2ncqw2KH0bRqU2uLVBfRZiXW0sBXQcMYw9r9awsnJ9t+fDsREkG3Jt14tMOjDG0zlAaVG1hdpiqBNiuxnga+CmhO42TV3lXYN9mZtXkWe07uoUxEGW5tdivjuo5jcJvB1K5Q2+oy1SVos5LAoYGvAk6+M5/vdn9H0qYkZm+ezcEzB4mOjKZfi35M6jGJ21vfroERJLRZSWDRZ14FhNyCXJbtXEbSpiSS05M5knWEmDIxDGg5AFusjYRWCVQuW9nqMtVV0GYlgUcDX1kmOy+br7d/jd1hZ276XE6eO0ml6EoMbDUQW6yN2665jQrRFawuU5WCNisJTBr4yq/O5p49b3KyM7lnqFauGkPaDCExLpHezXtTroxOURCstFlJYNPAVz53MuckX235CrvDzoJtC8jJz6FW+Vrcfd3d2OJs9Gzak6jIKKvLVB7SZiWBTwNf+cTRrKOFM1Au3rGY3IJc6leqz4M3PIgtzsYtjW85b3IyFdy0WUlw0MBXXnPozCHmbJ5DkiOJb3Z+Q4EpoEmVJozuMBpbnI1ODTvpJypDkDYrCR4a+Moj+07tK5ycbMXuFRgMLau35OkuT2OLs9G+XnudtyZEabOS4KOBr67azuM7sTtcn3ZdvW81ANfWupZnuz1LYlwi19W+TkM+xGmzkuDklcAXkY+AgcBhY8xFk4KLa+t/HRgAZAEjjDHrvLFu5R/pR9ILQ37dAdev7oa6N/DCrS9gi7XRumZriytU/qLNSoKXt/bwPwbeAmaWsLw/0NJ9uQmY7v6qApQxhg2HNxTOQLkxcyMAnRp24pU+rzAsdhjNqzW3uErlb9qsJLh5JfCNMd+JSNNLDBkMzDSuyfdXi0hVEalnjDngjfUr7zDGsO7AusIZKLce24og3NLkFl6/7XWGxQ6jYeWGVpepLKDNSkKDv47hNwD2Frm9z33feYEvIiOBkQCNGzf2U2nhzWmcrNm3hqRNSczaPItdJ3YRKZH0bNaTJzs/yZA2Q6hbsa7VZSoLabOS0BFQb9oaY94D3gNXxyuLywlZBc4CVuxZUTgD5f7T+4mKiKJPiz5M6DaBQa0HUaN8DavLVAFAm5WEFn8FfgZQ9Hythu77lJ/kFeTxza5vsG+yMyd9DofPHqZcmXLcds1tJMYmMrDVQKqUq2J1mSqAaLOS0OOvwJ8LjBaRz3G9WXtSj9/73rn8cyzesRi7w07y5mSO5xynYnRFElomYIu10b9lfypGV7S6TBWAtFlJaPLWaZmfAT2AmiKyD5gIRAEYY2YA83GdkrkN12mZD3hjvepiWXlZLNi6ALvDzldbvuJ07mmqlK3CoNaDsMXa6Nuir54vrUqkzUpCm7fO0vnjZZYb4DFvrEtd7NS5U6RsSSmcnCwrL4saMTUYfu1wEuMSubXZrTqJlbosbVYS+vS3GaSOZx8vnJzs6+1fc67gHHUr1mXE9SOwxdno1qSbbqzqimmzkvCgiRBEMs9mMmfzHOwOO0t3LiXfmU+jyo0YFT8KW5yNzg076wyU6qpps5LwoYEf4Paf3s9sx2ySHEl8t/s7nMZJi2oteLLTk9jibHSo30E/1q5KRZuVhB8N/AC0+8RuZjlmkeRI4oe9P2AwxNaM5e83/x1bnI3r61yvIa88os1KwpMGfoDYenRr4eRkafvTALi+zvX8s8c/scXZiKsVZ3GFKlRos5LwpYFvEWMMmzI3FYb8+kPrAehQvwMv936ZYbHDuKb6NRZXqUKNNisJbxr4fmSM4eeDPxfOQJl+NB1B6Nq4K9P6TWNY7DAaV9E5hJT3abMSBRr4PmeMITUjtXBPfsfxHURIBD2a9mDMTWMY2mYo9SrVs7pMFcK0WYn6jQa+DxQ4C1i1d1XhDJT7Tu0jKiKKXs178beb/8bg1oOpVaGW1WWqMKDNSlRRGvheku/MZ/mu5dg32Zm9eTaHzh6ibGRZ+l3TjxdufYHbW91OtZhqVpepwkjRZiUL7llA3xZ9rS5JWUwD3wO5Bbks2bEE+yY7yenJHM0+Svmo8oWTkw1oOUDnDVd+p81KVEk08K9Sdl42i7Yvwu6wMy99HifPnaRy2crc3up2bLE2+l3Tj/JR5a0uU4UpbVaiLkUD/wqcyT3D/K3zsTvspGxJ4WzeWarHVGdY7DBssTZ6N+9N2TJlrS5ThTltVqIuRwO/BCdyTjAvfR52h51F2xeRk59D7Qq1ubftvSTGJdK9SXeiIqOsLlMpQJuVqCsTOoFvDKSmwquvwvz5kJ0NMTGQkABjx0KHDnCZsxOOZB0heXMydoedJTuWkOfMo0GlBjx040MkxiXStVFXnZxMBRxtVqKuVGgEfl4e3HcfzJ0LOTngdLruz8oCu931D+D222HmTIg6f6/84JmDzHbMxu6ws3zXcgpMAU2rNuXxmx7HFmejY4OO+rJYBSRtVqKuVvAHvjG/h31W1sXLnU44exaSk13jPv2Uvaf2McsxC7vDzso9KzEYWtdozbiu47DF2bih7g16rrIKaNqsRJVG8P+FpKbCvHnFh30RO8plYz9oJ+n1P5B6ciMAf6j9ByZ2n0hiXCJxteI05FVQ0GYlqrSCP/CnTnUdry/G5ppgj4WkOPi5HkAe7Q/uZ3LCZGxxNlrVaOXXUpXylDYrUZ4I/sBPSfn9mD2wqwrcnQiZ5WFbDdd9nffC1EUwzAFN83Lhpb9ZVKxSpaPNSpQ3BH/gX7B3nx0FPzSE6tnwxnxXyDc4XWRARPGvBpQKVNqsRHlL8J9+EnP+rH+xR+DFJXCsvCvozwv7YsYrFcgcmQ5u+uAmluxYwoyEGUwfOF3DXpVa8Ad+QgJEnP9jjP0B2h6Ex2+DM0W3jYgI13ilgsDc9Lnc9MFNnDx3km/u/0Y7UymPBX/gP/XURXvtZZwwPQX2VYFJ3YssKFfONV6pAOY0Tp7/9nkGfz6YVjVakfZQmnamUl4R/IHfsaPrQ1UXhH6XvfDndTCtE2yojWv5oEGuT9wqFaDO5J5h+H+HM2H5BO5tey8rHlihnamU1wR/4Iu4PkE7eDBUqHDe4Z2XlkDlc/Do7RGYwYNc4/RcexWgdhzfQZcPuzB782xe7fMqM4fM1M5UyquCP/DBNV3Cp5/CsmVgsxUGf02pwMsn4lnRyMn/PjPgomkVlAoUS3YsocP7Hdh3ah8L7lnAU12e0g8CKq8TY4zVNRQrPj7epKWlefw4TuOk60dd2X5sO+mj07XrlAooxhheW/0aYxePJbZmrDYrUR4TkR+NMfHFLQuNPfxLiJAIpidM52j2UcYvG291OUoVysnPYUTyCJ78+kkGtR7ED3/+QcNe+VTIBz5Au7rtGNNxDDPSZpCakWp1OUqRcSqDbv/TjZm/zOS57s9hH27XzlTK57wS+CJym4iki8g2EXmmmOUjRCRTRH52Xx70xnqvxj97/pO6FesyKmUUBc4Cf69eqUKr9q4i/v14HEcczL5zNhN7TNQpuJVfePxXJiKRwNtAfyAO+KOIxBUz9AtjTDv35QNP13u1KpetzLR+01h3YB0z0mb4e/VKAa5mJT0+7kGFqAqs/vNq7Uyl/MobuxUdgW3GmB3GmFzgc2CwFx7X64ZfO5zezXszftl4Dp45aHU5KozkFeTxWMpjPDTvIXo260nqQ6namUr5nTcCvwGwt8jtfe77LmQTkfUikiQixX6SRERGikiaiKRlZmZ6obSLHp+3B7xNdn42Ty9+2uuPr1RxDp89TO//7c07ae8wtvNYUu5O0c5UyhL+OnA4D2hqjGkLLAb+U9wgY8x7xph4Y0x8rVq1fFJIqxqt+GuXv/LJ+k9Yvmu5T9ah1G9+OvATHd7vQGpGKp8M/YRX+r6inamUZbwR+BlA0T32hu77ChljjhpjzrlvfgBY2rXh77f8nWZVm/FoyqPkFuRaWYoKYZ/9+hldP+qK0zhZ+cBK7UylLOeNwF8LtBSRZiISDdwFzC06QETqFbk5CHB4Yb2lFhMVw5v938RxxMG0H6ZZWYoKQQXOAsYtHsfds+6mff32pD2Upp2pVEDwOPCNMfnAaGARriD/0hizUUQmicgg97AxIrJRRH4BxgAjPF2vpxJaJTC0zVAmfTeJ3Sd2W12OChHHs48z8LOBTFk1hUfaP8LS+5ZqZyoVMEJ+aoVL2XNyD7Fvx9KneR/m3DXHp+tSoc+R6WDw54PZeWInb/V/S+evV5YI66kVLqVxlcZM7D6R5PRk5qXPs7ocFcS0WYkKBmEd+AB/6fQX4mrFMWbhGLLysqwuRwUZbVaigknYB350ZDTvDHiHXSd2MXnFZKvLUUFEm5WoYBP2gQ/QvWl3/tT2T0z5fgrpR9KtLkcFAW1WooKRBr7bK31eoXxUeR6b/xiB+ka2CgzarEQFKw18tzoV6zC512SW7lzKFxu/sLocFYCMMUz7YRr9PulHvYr1WPvQWvq26Gt1WUpdMQ38Ih5u/zDx9eN5YtETnMw5aXU5KoBosxIVCjTwi4iMiGR6wnQOnTnExOUTrS5HBQhtVqJChQb+BeLrxzMqfhRvpr7JTwd+srocZTFtVqJCif7lFuNft/6LmuVrMiplFE7jtLocZRFtVqJCjQZ+MarFVOPVPq+yJmMNH6770OpylJ9psxIVqjTwS3Bv23vp1qQb45aMI/Os95uxqMCkzUpUKNPAL4GI8M6Adzide5pnllzUl12FIG1WokKdBv4lXFv7Wp7s9CQf/fwR3+/53upylA9psxIVDjTwL+PZ7s/SqHIjRqWMIt+Zb3U5ysu0WYkKJxr4l1ExuiKv3/Y6vx7+lTfXvGl1OcqLtFmJCjca+FdgSJshJLRMYMLyCWScyrj8N6iA58h0cNMHN7FkxxJmJMxg+sDpREdGW12WUj6lgX8FRIQ3+r9BvjOfJxY9YXU5ykParESFKw38K9S8WnPG3zKe/276L4u2LbK6HFUK2qxEhTsN/KvwdJenaVm9JaMXjCYnP8fqctRV0GYlSmngX5WyZcry9oC32XZsG1O+n2J1OeoKabMSpVw08K9SnxZ9uPPaO5m8YjLbj223uhx1Gb81K9l7aq82K1FhTwO/FP7d799ER0YzesFo7Y4VoLRZiVIX08AvhfqV6jOp5yQWblvI7M2zrS5HXaC4ZiXXVL/G6rKUspwGfimN7jia6+tcz+MLH+dM7hmry1Fu2qxEqZJp4JdSmYgyTE+Yzr5T+5j07SSry1FosxKlLke3Bg90btSZB294kGmrp7Hh8Aarywlr2qxEqcvTwPfQS71fokrZKoxKGaVv4FpAm5UodeU08D1Uo3wNXu79Miv3rGTmLzOtLiesaLMSpa6OBr4XPHDDA3Ru2JmnFz/NsexjVpcTFrRZiVJXzyuBLyK3iUi6iGwTkYvaQ4lIWRH5wr18jYg09cZ6A0WERDA9YTpHs48yful4q8sJedqsRKnS8TjwRSQSeBvoD8QBfxSRuAuG/Rk4boy5BpgGvOzpegPN9XWvZ0zHMbz747ukZqRaXU5I0mYlSnnGG3v4HYFtxpgdxphc4HNg8AVjBgP/cV9PAnpJCH6+/Z89/0m9SvUYlTKKAmeB1aQqS9QAAAxSSURBVOWEFG1WopTnvBH4DYC9RW7vc99X7BhjTD5wEqhx4QOJyEgRSRORtMzMTC+U5l+Vy1ZmWr9prDuwjhlpM6wuJ2RosxKlvCOg3rQ1xrxnjIk3xsTXqlXL6nJK5Y64O+jTvA/jl43n4JmDVpcT9LRZiVLe443AzwCKTize0H1fsWNEpAxQBTjqhXUHHBHhrQFvkZ2fzdOLn7a6nKClzUqU8j5vBP5aoKWINBORaOAuYO4FY+YC97uvJwLLTAh/SqlVjVaM6zqOT9Z/wjc7v7G6nKCjzUqU8g2PA999TH40sAhwAF8aYzaKyCQRGeQe9iFQQ0S2AU8CF526GWr+dvPfaFa1GY/Of5Tcglyrywka2qxEKd+RQN3Rjo+PN2lpaVaX4ZH5W+eT8GkCL/Z6kWduDvn/cR5bsmMJdybdidM4+SLxC52/XqlSEJEfjTHxxS0LqDdtQ82AlgMY2mYok76dxO4Tu60uJ2BpsxKl/EMD38deu+01RITHFz5udSkBSZuVKOU/Gvg+1rhKYyZ2n0hyejLz0udZXU5A0WYlSvmXBr4fPNHpCeJqxTFm4Riy8rKsLicgrNq7ivbvtddmJUr5kW5hfhAVGcX0hOnsOrGLySsmW12O5d7/8X16fNyDitEVtVmJUn6kge8n3Zp0477r72PK91NIP5JudTmW+K1ZycivRmqzEqUsoIHvR1N6T6FCdAUenf9o2HXH0mYlSllPA9+P6lSsw+RbJ7Ns5zI+3/C51eX4jTYrUSowaOD72cj2I4mvH8+TXz/JyZyTVpfjc9qsRKnAoYHvZ5ERkUxPmM6hM4eY8M0Eq8vxGW1WolTg0cC3QHz9eEbFj+KttW/x04GfrC7H67RZiVKBSQPfIi/0eoGa5WsyKmUUTuO0uhyv0WYlSgUuDXyLVC1Xlal9p7ImYw0frvvQ6nK8QpuVKBXYNPAtdM8f7qF7k+6MWzKOzLPB19LxN9qsRKngoIFvIRHhnYR3OJ17mmeWBOf0ydqsRKngoYFvsbhacTzV+Sk++vkjvt/zvdXlXBVtVqJUcNHADwDPdnuWRpUb8UjKI+QV5FldzhVZsmMJHd7vwN5Te1lwzwKe6vIUImJ1WUqpS9DADwAVoivwRv832HB4A2+mvml1OZekzUqUCl4a+AFicOvBJLRMYOLyiew7tc/qcoqlzUqUCm4a+AFCRHij/xvkO/N5ctGTVpdzEW1WolTw08APIM2rNecft/yD/276L4u2LbK6nELarESp0KBbbYAZ22UsrWq0YvSC0eTk51hdjjYrUSqEaOAHmLJlyvL2gLfZdmwbU76fYlkd2qxEqdCjgR+AejfvzV3X3cXkFZPZfmy739evzUqUCk0a+AFqat+pREdGM3rBaL92x9JmJUqFLg38AFW/Un2e7/k8C7ctZJZjll/Wqc1KlAptGvgB7LGOj3F9net5fOHjnD532mfr0WYlSoUHDfwAViaiDNMTppNxOoNJ307yyTq0WYlS4UMDP8B1btSZB294kGmrp7Hh8AavPrY2K1EqvGjgB4GXer9E1XJVGZUyymtv4GqzEqXCj0eBLyLVRWSxiGx1f61WwrgCEfnZfZnryTrDUY3yNZjSZwor96xk5i8zPXosbVaiVPjydA//GWCpMaYlsNR9uzjZxph27ssgD9cZlka0G0GXRl14evHTHMs+VqrH0GYlSoU3TwN/MPAf9/X/APq5ex+JkAimJ0znWPYxxi8df9Xfr81KlFKeBn4dY8wB9/WDQEmnd5QTkTQRWS0iJf5TEJGR7nFpmZnB2+PVV9rWacuYm8bw7o/vkpqResXfp81KlFIAcrk3AUVkCVC3mEXjgf8YY6oWGXvcGHPRcXwRaWCMyRCR5sAyoJcx5pJzBsTHx5u0tLQr+RnCyqlzp4h9O5Y6Feqw9qG1REZEljjWGMNrq19j7OKxxNaMZc5dc3T+eqVCnIj8aIyJL27ZZffwjTG9jTHXFXNJBg6JSD33SuoBh0t4jAz31x3AcuCGUv4sYa9y2cpM6zeNnw7+xPSkcXDHHVChAkREuL4OHw6pqeTkZWuzEqXUeS67h3/JbxZ5BThqjHlJRJ4Bqhtj/nrBmGpAljHmnIjUBH4ABhtjNl3qsXUPv2QmN5d+/2jMmjKHSH9LqHu6yO8wIoKMWmUZOiKGtTHHeK77czzb/Vmdv16pMOHRHv5lvAT0EZGtQG/3bUQkXkQ+cI+JBdJE5BfgG+Cly4W9ugRjkPvv561PT5ITCWP7nP8Pe1UDJ+3/lI0j4hiz993MxO4TNOyVUoCHe/i+pHv4JVizBnr1grNnmdgDJvWAZR9Dz13w/o3wWAI0PgnJn8G1WRVg2TLo2NHSkpVS/uPLPXzlb1OnQnY2AM+shObHYFQCPJIAIwdBz52Q+j5cm4lr3NSp1tarlAoYGvjBJiUFnE4AYvLh1UWQXgve7QBjv4eUT6F6tnus0+kar5RSgHa2CDbZ2efdHJIOrY5Aj13wyuLLj1dKhS8N/GATEwNZWYU3BUh/6zLjlVIKPaQTfBISXOfcX4mICNd4pZRCAz/4PPXUle+1lyvnGq+UUmjgB5+OHeH22y8f+jExMGgQdOjgn7qUUgFPAz/YiMDMmTB48O9TKhQVEQHly7uWz5zpGq+UUmjgB6eoKPj0U9eHqmy28+fSSUyE5cvhs89c45RSyk3P0glWIq7DO19+aXUlSqkgoXv4SikVJjTwlVIqTATs5Gkikgns9tHD1wSO+OixvUnr9C6t07uCpU4Inlq9UWcTY0yt4hYEbOD7koiklTSbXCDROr1L6/SuYKkTgqdWX9eph3SUUipMaOArpVSYCNfAf8/qAq6Q1uldWqd3BUudEDy1+rTOsDyGr5RS4Shc9/CVUirsaOArpVSYCMnAF5HqIrJYRLa6v1YrYVyBiPzsvswtcv/HIrKzyLJ2AVxrMxFZIyLbROQLEYm2sk732Moisk9E3ipy33IRSS/yM9QO0Drbi8iv7ufzDRHfzD53JXWKSBMRWed+vjaKyCNFlgXM83mZOgPp+WwnIj+4a1wvIncWWRZQ2/xlai39Nm+MCbkLMAV4xn39GeDlEsadKeH+j4HEIKn1S+Au9/UZwCgr63Qvfx34FHiryH3LgfhAeT4vUWcq0AlXM7EFQH+r6gSigbLu6xWBXUD9QHs+L1NnID2frYCW7uv1gQNAVfftgNrmL1Nrqbd5n/9wVlyAdKCe+3o9IL2EcYEQ+KWu1b0RHQHKuG93BhZZXGd74HNgBNYEfqnrdI/fXGTMH4F3rayzyPgawB78H/ilrjOQn0/3uF+KhGrAbfPF1erpNh+Sh3SAOsaYA+7rB4E6JYwrJyJpIrJaRIZcsOwF90upaSJS1nelelRrDeCEMSbffXsf0MCqOkUkApgKjC3hMf7H/XL5WV+9tPewzga4nsPfWPp8AohIIxFZD+zFtSe4v8jigHg+L1FnwD2fvxGRjrhemWwvcnegbfPARbV6tM0H7fTIIrIEqFvMovFFbxhjjIiUdO5pE2NMhog0B5aJyK/GmO3A33D9IqJxnRc7DpgUaLUCJ0tbk4/qfBSYb4zZV0z+3OOuvxJgB/4EzAzAOr3GG793Y8xeoK2I1AfmiEiSMeYQgfV8FltnaWrxdZ3ux6kH/C9wvzHG6b47ELf5i2r1+O/VHy9h/H2hdC+ZPqaYl3RAD+CrQKyVADukA/wfrpfzu9x1nQJeKmbcCIoc7gmUOgn8QxAflfA3aunzWVKdgfh8ApWBdcU9j0XGBMQ2X1ytnm7zoXpIZy5wv/v6/UDyhQNEpNpvL9tEpCbQFdjkvl3P/VWAIcCGQKzVuH7j3+DauEr8fn/VaYy5xxjT2BjTFNfhkpnGmGdEpIy7bkQkChiI757TUtdpXC+zT4lIJ/fv/r7ivt9fdYpIQxGJcV+vBtwMpAfa81lSnQH4fEYDs3H9vpMuWBZo23yxtXq8zfvqv5iVF1zHuZYCW4ElQHX3/fHAB+7rXYBfcb0Z8ivw5yLfv8x93wbgE6BiANfaHNeZENuA/+I+W8KKOi8YP4Lf3wytAPwIrAc24jo7JjLQ6iwybgOu46Vv4f40ukW/9z7u5+wX99eRgfh8llRnAD6f9wJ5wM9FLu3cywJtm79UraXe5nVqBaWUChOhekhHKaXUBTTwlVIqTGjgK6VUmNDAV0qpMKGBr5RSYUIDXymlwoQGvlJKhYn/D/nQoR/ur7b6AAAAAElFTkSuQmCC\n",
         "text/plain": "<Figure size 432x288 with 1 Axes>"
        },
        "metadata": {
         "needs_background": "light"
        },
        "output_type": "display_data"
       }
      ]
     }
    }
   }
  }
 },
 "nbformat": 4,
 "nbformat_minor": 4
}
